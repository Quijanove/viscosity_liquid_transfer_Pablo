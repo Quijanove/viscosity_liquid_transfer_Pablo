{
 "cells": [
  {
   "cell_type": "code",
   "execution_count": null,
   "metadata": {},
   "outputs": [],
   "source": [
    "# Importing python packages\n",
    "import matplotlib.pyplot as plt\n",
    "import pandas as pd\n",
    "import numpy as np\n",
    "import os \n",
    "\n",
    "SMALL_SIZE = 12\n",
    "MEDIUM_SIZE = 14\n",
    "BIGGER_SIZE = 16\n",
    "\n",
    "# controls default text sizes\n",
    "plt.rc('lines',markersize=8)\n",
    "plt.rc('font', size=SMALL_SIZE)          # controls default text sizes\n",
    "plt.rc('axes', titlesize=SMALL_SIZE)     # fontsize of the axes title\n",
    "plt.rc('axes', labelsize=MEDIUM_SIZE)    # fontsize of the x and y labels\n",
    "plt.rc('xtick', labelsize=SMALL_SIZE)    # fontsize of the tick labels\n",
    "plt.rc('ytick', labelsize=SMALL_SIZE)    # fontsize of the tick labels\n",
    "plt.rc('legend', fontsize=SMALL_SIZE)    # legend fontsize\n",
    "plt.rc('figure', titlesize=BIGGER_SIZE)  # fontsize of the figure title"
   ]
  },
  {
   "cell_type": "code",
   "execution_count": null,
   "metadata": {},
   "outputs": [],
   "source": [
    "# Importing files\n",
    "REPO = 'viscosity_liquid_transfer_Pablo'\n",
    "folder = os.getcwd().split(REPO)[0]+REPO+r'\\Opentrons_experiments\\\\BOTorch_optimization\\\\VS_code_csv\\\\'\n",
    "std = '204'\n"
   ]
  },
  {
   "cell_type": "code",
   "execution_count": null,
   "metadata": {},
   "outputs": [],
   "source": [
    "#Load data frame\n",
    "folder1 = os.getcwd().split(REPO)[0]+REPO+r'\\Opentrons_experiments\\\\Std_calibrations\\\\'\n",
    "df_man = pd.read_csv(folder1+r'\\Viscosity_std_'+std+'.csv')\n",
    "\n",
    "df_man=df_man.drop_duplicates(subset=[\"volume\",\"aspiration_rate\",\"dispense_rate\",\"blow_out_rate\",\"delay_aspirate\",\"delay_dispense\",\"delay_blow_out\",\"touch_tip_aspirate\",\"touch_tip_dispense\"], keep='first')\n",
    "df_man['time_for_1000']=0\n",
    "for i in range(len(df_man)):\n",
    "    if (df_man['blow_out_rate'].iloc[i])<=0:\n",
    "        df_man['time_for_1000'].iloc[i] = 1000/df_man[\"aspiration_rate\"].iloc[i] + 1000/df_man[\"dispense_rate\"].iloc[i] + df_man[\"delay_aspirate\"].iloc[i] + df_man[\"delay_dispense\"].iloc[i] + df_man[\"delay_blow_out\"].iloc[i]\n",
    "    else:\n",
    "        df_man['time_for_1000'].iloc[i] = 1000/df_man[\"aspiration_rate\"].iloc[i] + 1000/df_man[\"dispense_rate\"].iloc[i] + 150/df_man[\"blow_out_rate\"].iloc[i] + df_man[\"delay_aspirate\"].iloc[i] + df_man[\"delay_dispense\"].iloc[i] + df_man[\"delay_blow_out\"].iloc[i]\n",
    "df_man.reset_index(drop=True)\n",
    "\n",
    "df_man['iteration']= None\n",
    "counter= 1\n",
    "for row in df_man.drop_duplicates([\"aspiration_rate\",\"dispense_rate\",\"blow_out_rate\",\"delay_aspirate\",\"delay_dispense\",\"delay_blow_out\",\"touch_tip_aspirate\",\"touch_tip_dispense\"]).iterrows():\n",
    "    df_repeat = df_man.loc[:,[\"aspiration_rate\",\"dispense_rate\",\"blow_out_rate\",\"delay_aspirate\",\"delay_dispense\",\"delay_blow_out\",\"touch_tip_aspirate\",\"touch_tip_dispense\"]]== row[1].loc[[\"aspiration_rate\",\"dispense_rate\",\"blow_out_rate\",\"delay_aspirate\",\"delay_dispense\",\"delay_blow_out\",\"touch_tip_aspirate\",\"touch_tip_dispense\"]]\n",
    "    index = df_repeat.where(df_repeat.sum(axis=1)==8).dropna().index\n",
    "    df_man.loc[index,'iteration']=counter\n",
    "    counter+=1\n",
    "df_man = df_man.sort_values('iteration')\n",
    "df_man\n",
    "\n",
    "#Calcualte means\n",
    "df_duplicates = df_man.where(df_man.duplicated('iteration',keep=False)==True).dropna(how='all')\n",
    "df_incomplete = df_man.where(df_man.duplicated('iteration',keep=False)==False).dropna(how='all')\n",
    "df_mean = pd.DataFrame(columns= df_man.columns)\n",
    "\n",
    "for index,values in df_duplicates.drop_duplicates(['aspiration_rate','dispense_rate']).iterrows():\n",
    "    if len(df_duplicates.loc[index:index+2]) == 3:\n",
    "        mean_error =df_duplicates.loc[index:index+2,'%error'].mean()\n",
    "        df_duplicates.loc[index,'%error'] = mean_error\n",
    "        df_duplicates.loc[index, 'volume'] ='mean'+str([300, 500, 1000])\n",
    "        df_mean = pd.concat([df_mean,df_man.loc[index:index+2],df_duplicates.loc[[index]]])\n",
    "    else:\n",
    "        df_incomplete = pd.concat([df_incomplete,df_duplicates.loc[index:index+2]]).drop_duplicates()\n",
    "df_mean = pd.concat([df_mean,df_incomplete])\n",
    "df_mean = df_mean.sort_values('iteration')\n",
    "#df_man = df_mean.reset_index(drop=True)   \n",
    "\"\"\"\n",
    "#Calculate iteration \n",
    "counter =1 \n",
    "for row in df_man.drop_duplicates(['aspiration_rate','dispense_rate']).iterrows():\n",
    "    df_repeat = df_man.loc[:,['aspiration_rate','dispense_rate']]== row[1].loc[['aspiration_rate','dispense_rate']]\n",
    "    index = df_repeat.where(df_repeat.sum(axis=1)==2).dropna().index\n",
    "    df_man.loc[index,'iteration']=counter\n",
    "    counter+=1\n",
    "\"\"\""
   ]
  },
  {
   "cell_type": "code",
   "execution_count": null,
   "metadata": {},
   "outputs": [],
   "source": [
    "df_man"
   ]
  },
  {
   "cell_type": "code",
   "execution_count": null,
   "metadata": {},
   "outputs": [],
   "source": [
    "df_mean"
   ]
  },
  {
   "cell_type": "code",
   "execution_count": null,
   "metadata": {},
   "outputs": [],
   "source": [
    "#Load dataframe\n",
    "df_exp2 = pd.read_csv(folder+r'\\Viscosity_std_'+std+'_3_vol_opt.csv')\n",
    "\n",
    "#Calculate iterations\n",
    "counter =int(1) \n",
    "for i in range(0,len(df_exp2)+1,3):\n",
    "    if len(df_exp2.loc[i:i+2,'volume'].drop_duplicates())==1:\n",
    "        df_exp2.loc[i,'iteration']=int(counter)\n",
    "        counter+=1    \n",
    "        df_exp2.loc[i+1,'iteration']=int(counter)\n",
    "        counter+=1  \n",
    "        df_exp2.loc[i+2,'iteration']=int(counter)\n",
    "        counter+=1          \n",
    "    else:\n",
    "        df_exp2.loc[i:i+2,'iteration']=int(counter)\n",
    "        counter+=1\n",
    "\n"
   ]
  },
  {
   "cell_type": "code",
   "execution_count": null,
   "metadata": {},
   "outputs": [],
   "source": [
    "df_exp2"
   ]
  },
  {
   "cell_type": "code",
   "execution_count": null,
   "metadata": {},
   "outputs": [],
   "source": [
    "#Load data frame\n",
    "df_exp3 = pd.read_csv(folder+r'\\Viscosity_std_'+std+'_exp3_withacq.csv')\n",
    "\n",
    "#Calculate iteration number\n",
    "counter =1 \n",
    "for row in df_exp3.drop_duplicates(['aspiration_rate','dispense_rate']).iterrows():\n",
    "    df_repeat = df_exp3.loc[:,['aspiration_rate','dispense_rate']]== row[1].loc[['aspiration_rate','dispense_rate']]\n",
    "    index = df_repeat.where(df_repeat.sum(axis=1)==2).dropna().index\n",
    "    df_exp3.loc[index,'iteration']=int(counter)\n",
    "    counter+=1\n",
    "\n",
    "#Edit volumes to be all the same \n",
    "volumes = ['1000.0','500.0','300.0']\n",
    "for volume in volumes:\n",
    "    index = df_exp3.where(df_exp3.volume==volume).dropna(how='all').index\n",
    "    df_exp3.loc[index,'volume'] = volume[:-2]\n",
    "\n",
    "#Recalculate mean\n",
    "for i in range(3,len(df_exp3),4):\n",
    "    df_exp3.loc[i,'%error'] = df_exp3.loc[i-3:i,'%error'].mean()\n",
    "\n",
    "\n"
   ]
  },
  {
   "cell_type": "code",
   "execution_count": null,
   "metadata": {},
   "outputs": [],
   "source": [
    "df_exp3"
   ]
  },
  {
   "cell_type": "markdown",
   "metadata": {},
   "source": [
    "#### Plot for exp2 and manual calibration"
   ]
  },
  {
   "cell_type": "code",
   "execution_count": null,
   "metadata": {},
   "outputs": [],
   "source": [
    "#Makes a figure with manual and ML calibrations, one per volume\n",
    "\n",
    "for volume in [1000,500,300]:\n",
    "    df_exp2_plot = df_exp2.where(df_exp2.volume==volume).dropna(how='all').copy()\n",
    "    df_man_plot = df_man.where(df_man.volume==volume).dropna(how='all').copy()\n",
    "    #Making subplots (2 rows, 1 column)\n",
    "    fig,axs = plt.subplots(1,2)\n",
    "\n",
    "    # Plotting graph 1: Iteration against error\n",
    "    if volume == 1000:\n",
    "        color = 'red'\n",
    "    elif volume== 500:\n",
    "        color = 'green'\n",
    "    elif volume ==300:\n",
    "        color = 'black'    \n",
    "    \n",
    "    if len(df_man) != 0:\n",
    "        axs.flatten()[0].scatter(df_man_plot['iteration'],df_man_plot['%error'], marker= 'o', label = str(volume)+u' \\u03bcL', c = color)\n",
    "        axs.flatten()[0].plot(df_man_plot['iteration'],df_man_plot['%error'], label = 'Human Driven', c = 'cornflowerblue')\n",
    "   \n",
    "    if len(df_exp2) != 0:\n",
    "        axs.flatten()[0].scatter(df_exp2_plot['iteration'],df_exp2_plot['%error'], marker= 'o', c = color)\n",
    "        axs.flatten()[0].plot(df_exp2_plot['iteration'],df_exp2_plot['%error'], label = 'ML Driven', c = 'orangered')\n",
    "    \n",
    "    \n",
    "    axs.flatten()[0].axhline(y=0, ls = '--', color = 'black', linewidth=0.5)\n",
    "    axs.flatten()[0].axhline(y=2.5, ls = '--', color = 'black', linewidth=0.5)\n",
    "    axs.flatten()[0].axhline(y=-2.5, ls = '--', color = 'black', linewidth=0.5)\n",
    "    axs.flatten()[0].set_xlabel('Iteration')\n",
    "    axs.flatten()[0].set_ylabel('Error [%]')\n",
    "\n",
    "\n",
    "\n",
    "    axs.flatten()[1].scatter(df_exp2_plot['iteration'],df_exp2_plot['time_asp_1000'], marker= 'o', c = color)\n",
    "    axs.flatten()[1].plot(df_exp2_plot['iteration'],df_exp2_plot['time_asp_1000'],  c = 'orangered')\n",
    "\n",
    "    axs.flatten()[1].scatter(df_man_plot['iteration'],df_man_plot['time_for_1000'], marker= 'o', c = color)\n",
    "    axs.flatten()[1].plot(df_man_plot['iteration'],df_man_plot['time_for_1000'], c = 'cornflowerblue')\n",
    "\n",
    "\n",
    "    axs.flatten()[1].set_xlabel('Iteration')\n",
    "    axs.flatten()[1].set_ylabel('Time for 1000ul (s)')\n",
    "\n",
    "    fig.set_size_inches(15, 4)\n",
    "    fig.suptitle('Viscosity_std_'+std+'_'+'_exp2_CCF_initialisation')\n",
    "    fig.legend(bbox_to_anchor=(0., 1.02, 1., .102), loc='lower left',ncol=5, mode=\"expand\", borderaxespad=0.)\n",
    "    fig.tight_layout()\n",
    "\n",
    "    REPO = 'viscosity_liquid_transfer_Pablo'\n",
    "    #folder = os.getcwd().split(REPO)[0]+REPO+r'\\Sartorious_experiments\\Finalised_Data'\n",
    "    # fig.savefig(folder+r'/'+'Viscosity_std_'+std+'_exp2_line.png')"
   ]
  },
  {
   "cell_type": "code",
   "execution_count": null,
   "metadata": {
    "scrolled": false
   },
   "outputs": [],
   "source": [
    "#Making subplots (2 rows, 2 column)\n",
    "fig,axs = plt.subplots(1,2)\n",
    "\n",
    "# Dropping NAN rows\n",
    "df_man_1000 = df_man.where(df_man.volume==1000).dropna(how='all')\n",
    "df_man_500 = df_man.where(df_man.volume==500).dropna(how='all')\n",
    "df_man_300 = df_man.where(df_man.volume==300).dropna(how='all')\n",
    "df_man_100 = df_man.where(df_man.volume==100).dropna(how='all')\n",
    "\n",
    "\n",
    "df_exp3_1000 = df_exp3.where(df_exp3.volume=='1000').dropna(how='all')\n",
    "df_exp3_500 = df_exp3.where(df_exp3.volume=='500').dropna(how='all')\n",
    "df_exp3_300 = df_exp3.where(df_exp3.volume=='300').dropna(how='all')\n",
    "df_exp3_100 = df_exp3.where(df_exp3.volume=='100').dropna(how='all')\n",
    "df_exp3_mean = df_exp3.where(df_exp3.volume=='mean[300, 500, 1000]').dropna(how='all')\n",
    "\n",
    "#find min error\n",
    "\n",
    "df_exp3_mean_min_iteration = df_exp3_mean[['iteration','%error']].abs().sort_values('%error').iloc[0:3,0].copy()\n",
    "df_exp3_mean_min_iteration_df = pd.DataFrame(data=df_exp3_mean_min_iteration)\n",
    "\n",
    "test_mean_df = pd.DataFrame()\n",
    "test_300_df = pd.DataFrame()\n",
    "test_500_df = pd.DataFrame()\n",
    "test_1000_df = pd.DataFrame()\n",
    "for i in df_exp3_mean_min_iteration_df['iteration']:\n",
    "    test_mean_df= pd.concat([test_mean_df, df_exp3_mean[df_exp3_mean['iteration']==int(i)]])\n",
    "    test_300_df= pd.concat([test_300_df, df_exp3_300[df_exp3_300['iteration']==int(i)]])\n",
    "    test_500_df= pd.concat([test_500_df, df_exp3_500[df_exp3_500['iteration']==int(i)]])\n",
    "    test_1000_df= pd.concat([test_1000_df, df_exp3_1000[df_exp3_1000['iteration']==int(i)]])\n",
    "\n",
    "# Plotting graph 1: Iteration against error\n",
    "if len(df_man) != 0:\n",
    "    axs.flatten()[0].plot(df_man['iteration'],df_man['%error'],marker= 'o', label = 'Human Driven mean', c = 'cornflowerblue')\n",
    "\n",
    "\n",
    "if len(df_exp3_mean) != 0:\n",
    "    axs.flatten()[0].plot(df_exp3_mean['iteration'],df_exp3_mean['%error'],marker= 'o', label='ML Driven mean',c = 'orangered')\n",
    "\n",
    "\n",
    "for i in range(len(axs.flatten())-1):\n",
    "    axs.flatten()[i].axhline(y=0, ls = '--', color = 'black', linewidth=0.5)\n",
    "    axs.flatten()[i].axhline(y=2.5, ls = '--', color = 'black', linewidth=0.5)\n",
    "    axs.flatten()[i].axhline(y=-2.5, ls = '--', color = 'black', linewidth=0.5)\n",
    "    axs.flatten()[i].set_xlabel('Iteration')\n",
    "    axs.flatten()[i].set_ylabel('Error [%]')\n",
    "\n",
    "\n",
    "\n",
    "if len(df_exp3_mean) != 0:\n",
    "    axs.flatten()[1].plot(df_exp3_mean['iteration'],df_exp3_mean['time_asp_1000'], marker ='o', c = 'orangered')\n",
    "\n",
    "axs.flatten()[0].plot(test_300_df['iteration'],test_300_df['%error'], marker= 'x', c = 'black', linestyle='None')\n",
    "axs.flatten()[0].plot(test_500_df['iteration'],test_500_df['%error'], marker= 'x', c = 'green', linestyle='None')\n",
    "axs.flatten()[0].plot(test_1000_df['iteration'],test_1000_df['%error'], marker= 'x', c = 'red', linestyle='None')\n",
    "axs.flatten()[1].plot(df_man['iteration'],df_man['time_for_1000'], marker= 'o', c = 'cornflowerblue')\n",
    "axs.flatten()[1].set_xlabel('Iteration')\n",
    "axs.flatten()[1].set_ylabel('Time for 1000ul (s)')\n",
    "\n",
    "\n",
    "fig.set_size_inches(15, 4)\n",
    "fig.suptitle('Viscosity standard '+str(std)+ 'cp batch volume optimization')\n",
    "fig.legend( loc='upper right',ncol=1, borderaxespad=0.)\n",
    "fig.tight_layout()\n",
    "\n",
    "REPO = 'viscosity_liquid_transfer_Pablo'\n",
    "#folder = os.getcwd().split(REPO)[0]+REPO+r'\\Sartorious_experiments\\Finalised_Data'\n",
    "# fig.savefig(folder+r'/'+'Viscosity_std_'+std+'_exp2_line.png')\n",
    "\n",
    "\n",
    "\n"
   ]
  },
  {
   "cell_type": "code",
   "execution_count": null,
   "metadata": {},
   "outputs": [],
   "source": [
    "df_exp3_500.where(df_exp3_500['iteration']==df_exp3_mean_min_iteration)"
   ]
  },
  {
   "cell_type": "code",
   "execution_count": null,
   "metadata": {},
   "outputs": [],
   "source": [
    "df_exp3_mean"
   ]
  },
  {
   "cell_type": "code",
   "execution_count": null,
   "metadata": {},
   "outputs": [],
   "source": [
    "df_exp3_mean_min_iteration = df_exp3_mean[['iteration','%error']].abs().sort_values('%error').iloc[0:3,0].copy()\n",
    "df_exp3_mean_min_iteration_df = pd.DataFrame(data=df_exp3_mean_min_iteration)\n",
    "df_exp3_mean_min_iteration_df"
   ]
  },
  {
   "cell_type": "code",
   "execution_count": null,
   "metadata": {},
   "outputs": [],
   "source": [
    "df_man_mean_min_iteration = df_man[['iteration','%error']].abs().sort_values('%error').iloc[0:3,0].copy()\n",
    "df_man_mean_min_iteration_df = pd.DataFrame(data=df_man_mean_min_iteration)\n",
    "df_man_mean_min_iteration_df"
   ]
  },
  {
   "cell_type": "code",
   "execution_count": null,
   "metadata": {},
   "outputs": [],
   "source": [
    "df_exp3_mean"
   ]
  },
  {
   "cell_type": "code",
   "execution_count": null,
   "metadata": {},
   "outputs": [],
   "source": [
    "df_man"
   ]
  },
  {
   "cell_type": "code",
   "execution_count": null,
   "metadata": {},
   "outputs": [],
   "source": [
    "test_mean_df = pd.DataFrame()\n",
    "test_300_df = pd.DataFrame()\n",
    "test_500_df = pd.DataFrame()\n",
    "test_1000_df = pd.DataFrame()\n",
    "for i in df_exp3_mean_min_iteration_df['iteration']:\n",
    "    test_mean_df= pd.concat([test_mean_df, df_exp3_mean[df_exp3_mean['iteration']==int(i)]])\n",
    "    test_300_df= pd.concat([test_300_df, df_exp3_300[df_exp3_300['iteration']==int(i)]])\n",
    "    test_500_df= pd.concat([test_500_df, df_exp3_500[df_exp3_500['iteration']==int(i)]])\n",
    "    test_1000_df= pd.concat([test_1000_df, df_exp3_1000[df_exp3_1000['iteration']==int(i)]])\n",
    "test_1000_df"
   ]
  },
  {
   "cell_type": "code",
   "execution_count": null,
   "metadata": {},
   "outputs": [],
   "source": [
    "t=np.arange(0, 5, 0.2)\n",
    "\n",
    "plt.plot(t**2, \"g*\")\n",
    "plt.plot(t, \"r--\")\n",
    "\n",
    "\n",
    "plt.xlabel(\"Time\")\n",
    "plt.suptitle(\"Superimposing both graphs in one\")\n",
    "plt.show()"
   ]
  },
  {
   "cell_type": "code",
   "execution_count": null,
   "metadata": {},
   "outputs": [],
   "source": []
  }
 ],
 "metadata": {
  "kernelspec": {
   "display_name": "Python 3 (ipykernel)",
   "language": "python",
   "name": "python3"
  },
  "language_info": {
   "codemirror_mode": {
    "name": "ipython",
    "version": 3
   },
   "file_extension": ".py",
   "mimetype": "text/x-python",
   "name": "python",
   "nbconvert_exporter": "python",
   "pygments_lexer": "ipython3",
   "version": "3.8.16"
  }
 },
 "nbformat": 4,
 "nbformat_minor": 2
}
