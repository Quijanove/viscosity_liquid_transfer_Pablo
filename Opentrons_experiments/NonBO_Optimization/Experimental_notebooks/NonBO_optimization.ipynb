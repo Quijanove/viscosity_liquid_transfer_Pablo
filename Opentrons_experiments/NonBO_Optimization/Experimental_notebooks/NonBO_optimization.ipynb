{
 "cells": [
  {
   "cell_type": "code",
   "execution_count": 11,
   "metadata": {},
   "outputs": [],
   "source": [
    "#%% General Imports\n",
    "import pandas as pd\n",
    "import numpy as np\n",
    "from scipy.optimize import curve_fit\n",
    "import os\n",
    "from matplotlib import pyplot as plt\n",
    "\n",
    "#sklearn imports\n",
    "import sklearn.linear_model as linear_model\n",
    "from sklearn.preprocessing import StandardScaler\n",
    "\n",
    "#pyomo\n",
    "from pyomo.environ import *\n"
   ]
  },
  {
   "cell_type": "code",
   "execution_count": 12,
   "metadata": {},
   "outputs": [],
   "source": [
    "REPO = 'viscosity_liquid_transfer_Pablo'\n",
    "parent_path = os.getcwd().split(REPO)[0]"
   ]
  },
  {
   "cell_type": "code",
   "execution_count": 32,
   "metadata": {},
   "outputs": [],
   "source": [
    "\n",
    "def fit_lin(df):\n",
    "    lin_model = linear_model.LinearRegression()\n",
    "    x = df.loc[:,['aspiration_rate','dispense_rate']]\n",
    "    y = df.loc[:,['%error']]\n",
    "    \n",
    "    lin_model.fit(x,y)\n",
    "\n",
    "    a,b = lin_model.coef_.tolist()[0]\n",
    "    c= lin_model.intercept_.tolist()[0]\n",
    "\n",
    "    return a,b,c\n",
    "\n",
    "def time_for_1000(m):\n",
    "    \n",
    "    return 1000/m.x1 + 1000/m.x2 + 10\n"
   ]
  },
  {
   "cell_type": "code",
   "execution_count": 35,
   "metadata": {},
   "outputs": [
    {
     "data": {
      "text/plain": [
       "<pyomo.core.base.constraint._GeneralConstraintData at 0x2064647a9a0>"
      ]
     },
     "execution_count": 35,
     "metadata": {},
     "output_type": "execute_result"
    }
   ],
   "source": [
    "#data set\n",
    "df = pd.read_csv(parent_path+REPO+'\\\\Opentrons_experiments\\\\BOTorch_optimization\\\\CCF_initialization\\\\BOTorch_optimization_CCF_Viscosity_std_1275.csv')\n",
    "\n",
    "\n",
    "df_duplicates =df.where(df.duplicated(['aspiration_rate','dispense_rate'],keep=False)==True).dropna(how='all')\n",
    "df_incomplete = df.where(df.duplicated(['aspiration_rate','dispense_rate'],keep=False)==False).dropna(how='all')\n",
    "df_mean = pd.DataFrame(columns= df.columns)\n",
    "for index,values in df_duplicates.drop_duplicates(['aspiration_rate','dispense_rate']).iterrows():\n",
    "    if len(df_duplicates.loc[index:index+2]) == len([300,500,1000]):\n",
    "        mean_error =df_duplicates.loc[index:index+2,'%error'].mean()\n",
    "        df_duplicates.loc[index,'%error'] = mean_error\n",
    "        df_duplicates.loc[index, 'volume'] ='mean'+str([300,500,1000])\n",
    "        df_mean = pd.concat([df_mean,df.loc[index:index+2],df_duplicates.loc[[index]]])\n",
    "    else:\n",
    "        df_incomplete = pd.concat([df_incomplete,df_duplicates.loc[index:index+2]]).drop_duplicates()\n",
    "df_mean = pd.concat([df_mean,df_incomplete])\n",
    "df_mean = df_mean.reset_index(drop=True)  \n",
    "\n",
    "\n",
    "\n",
    "df = df_mean.where(df_mean['volume'] == 'mean[300, 500, 1000]').dropna(how='all')# Create a Pyomo model object\n",
    "model = ConcreteModel()\n",
    "\n",
    "# Define decision variables\n",
    "model.x1 = Var(initialize= 1, bounds = (0.1,100))\n",
    "model.x2 = Var(initialize= 1, bounds = (0.1,100))\n",
    "\n",
    "model.obj = Objective(rule= time_for_1000, sense=minimize)\n",
    "\n",
    "# Define constraints'\n",
    "a,b,c = fit_lin(df)\n",
    "model.constraints = ConstraintList()\n",
    "model.constraints.add(expr= a * model.x1 + b * model.x2 + c <= 2.5)\n",
    "model.constraints.add(expr= a * model.x1 + b * model.x2 + c >= -2.5)\n",
    "model.constraints.add(expr= model.obj >= 10)\n"
   ]
  },
  {
   "cell_type": "code",
   "execution_count": 36,
   "metadata": {},
   "outputs": [
    {
     "name": "stdout",
     "output_type": "stream",
     "text": [
      "Ipopt 3.11.1: \n",
      "\n",
      "******************************************************************************\n",
      "This program contains Ipopt, a library for large-scale nonlinear optimization.\n",
      " Ipopt is released as open source code under the Eclipse Public License (EPL).\n",
      "         For more information visit http://projects.coin-or.org/Ipopt\n",
      "******************************************************************************\n",
      "\n",
      "NOTE: You are using Ipopt by default with the MUMPS linear solver.\n",
      "      Other linear solvers might be more efficient (see Ipopt documentation).\n",
      "\n",
      "\n",
      "This is Ipopt version 3.11.1, running with linear solver mumps.\n",
      "\n",
      "Number of nonzeros in equality constraint Jacobian...:        0\n",
      "Number of nonzeros in inequality constraint Jacobian.:        6\n",
      "Number of nonzeros in Lagrangian Hessian.............:        2\n",
      "\n",
      "Total number of variables............................:        2\n",
      "                     variables with only lower bounds:        0\n",
      "                variables with lower and upper bounds:        2\n",
      "                     variables with only upper bounds:        0\n",
      "Total number of equality constraints.................:        0\n",
      "Total number of inequality constraints...............:        3\n",
      "        inequality constraints with only lower bounds:        2\n",
      "   inequality constraints with lower and upper bounds:        0\n",
      "        inequality constraints with only upper bounds:        1\n",
      "\n",
      "iter    objective    inf_pr   inf_du lg(mu)  ||d||  lg(rg) alpha_du alpha_pr  ls\n",
      "   0 2.0100000e+003 1.02e+001 3.11e-015  -1.0 0.00e+000    -  0.00e+000 0.00e+000   0\n",
      "   1 1.9986026e+003 1.01e+001 3.42e+000  -1.0 2.74e+002    -  9.39e-002 2.10e-002f  1\n",
      "   2 3.9041814e+002 0.00e+000 1.28e+001  -1.0 1.63e+002    -  2.23e-001 1.00e+000F  1\n",
      "   3 2.7914922e+002 0.00e+000 2.34e-001  -1.0 1.29e+001    -  8.80e-001 1.00e+000f  1\n",
      "   4 2.0061149e+002 0.00e+000 5.86e-001  -1.0 1.07e+001    -  1.65e-002 4.57e-001f  1\n",
      "   5 2.0005359e+002 0.00e+000 7.38e-001  -1.0 1.46e+001    -  1.56e-001 3.16e-002h  1\n",
      "   6 2.0109502e+002 0.00e+000 5.77e-002  -1.0 1.59e+001    -  4.27e-001 1.00e+000f  1\n",
      "   7 2.0101561e+002 0.00e+000 1.24e-004  -1.0 2.85e-002    -  1.00e+000 1.00e+000h  1\n",
      "   8 2.0010154e+002 0.00e+000 3.19e-005  -2.5 9.17e-002    -  1.00e+000 1.00e+000f  1\n",
      "   9 2.0004622e+002 0.00e+000 1.98e-007  -3.8 5.09e-003    -  1.00e+000 1.00e+000h  1\n",
      "iter    objective    inf_pr   inf_du lg(mu)  ||d||  lg(rg) alpha_du alpha_pr  ls\n",
      "  10 2.0004469e+002 0.00e+000 9.71e-011  -5.7 1.51e-004    -  1.00e+000 1.00e+000h  1\n",
      "  11 2.0004467e+002 0.00e+000 2.51e-014  -8.6 1.85e-006    -  1.00e+000 1.00e+000h  1\n",
      "\n",
      "Number of Iterations....: 11\n",
      "\n",
      "                                   (scaled)                 (unscaled)\n",
      "Objective...............:  2.0004466859969298e+001   2.0004466859969298e+002\n",
      "Dual infeasibility......:  2.5091040356528538e-014   2.5091040356528538e-013\n",
      "Constraint violation....:  0.0000000000000000e+000   0.0000000000000000e+000\n",
      "Complementarity.........:  2.5070031437840527e-009   2.5070031437840527e-008\n",
      "Overall NLP error.......:  2.5070031437840527e-009   2.5070031437840527e-008\n",
      "\n",
      "\n",
      "Number of objective function evaluations             = 13\n",
      "Number of objective gradient evaluations             = 12\n",
      "Number of equality constraint evaluations            = 0\n",
      "Number of inequality constraint evaluations          = 13\n",
      "Number of equality constraint Jacobian evaluations   = 0\n",
      "Number of inequality constraint Jacobian evaluations = 12\n",
      "Number of Lagrangian Hessian evaluations             = 11\n",
      "Total CPU secs in IPOPT (w/o function evaluations)   =      0.007\n",
      "Total CPU secs in NLP function evaluations           =      0.000\n",
      "\n",
      "EXIT: Optimal Solution Found.\n",
      "1 Set Declarations\n",
      "    constraints_index : Size=1, Index=None, Ordered=Insertion\n",
      "        Key  : Dimen : Domain : Size : Members\n",
      "        None :     1 :    Any :    3 : {1, 2, 3}\n",
      "\n",
      "2 Var Declarations\n",
      "    x1 : Size=1, Index=None\n",
      "        Key  : Lower : Value              : Upper : Fixed : Stale : Domain\n",
      "        None :   0.1 : 11.801527371592773 :   100 : False : False :  Reals\n",
      "    x2 : Size=1, Index=None\n",
      "        Key  : Lower : Value             : Upper : Fixed : Stale : Domain\n",
      "        None :   0.1 : 9.495785758651104 :   100 : False : False :  Reals\n",
      "\n",
      "1 Objective Declarations\n",
      "    obj : Size=1, Index=None, Active=True\n",
      "        Key  : Active : Sense    : Expression\n",
      "        None :   True : minimize : 1000/x1 + 1000/x2 + 10\n",
      "\n",
      "1 Constraint Declarations\n",
      "    constraints : Size=3, Index=constraints_index, Active=True\n",
      "        Key : Lower : Body                                                                : Upper : Active\n",
      "          1 :  -Inf : -0.6334314804196882*x1 - 0.9783950886538793*x2 + 14.266088937926007 :   2.5 :   True\n",
      "          2 :  -2.5 : -0.6334314804196882*x1 - 0.9783950886538793*x2 + 14.266088937926007 :  +Inf :   True\n",
      "          3 :  10.0 :                                                                 obj :  +Inf :   True\n",
      "\n",
      "5 Declarations: x1 x2 obj constraints_index constraints\n"
     ]
    }
   ],
   "source": [
    "solver = SolverFactory('ipopt')\n",
    "solver.solve(model, tee=True)\n",
    "model.pprint()"
   ]
  },
  {
   "cell_type": "code",
   "execution_count": 37,
   "metadata": {},
   "outputs": [
    {
     "data": {
      "text/plain": [
       "11.801527371592773"
      ]
     },
     "execution_count": 37,
     "metadata": {},
     "output_type": "execute_result"
    }
   ],
   "source": [
    "model.x1.value"
   ]
  },
  {
   "cell_type": "code",
   "execution_count": null,
   "metadata": {},
   "outputs": [],
   "source": []
  }
 ],
 "metadata": {
  "kernelspec": {
   "display_name": "base",
   "language": "python",
   "name": "python3"
  },
  "language_info": {
   "codemirror_mode": {
    "name": "ipython",
    "version": 3
   },
   "file_extension": ".py",
   "mimetype": "text/x-python",
   "name": "python",
   "nbconvert_exporter": "python",
   "pygments_lexer": "ipython3",
   "version": "3.9.7"
  },
  "orig_nbformat": 4
 },
 "nbformat": 4,
 "nbformat_minor": 2
}
