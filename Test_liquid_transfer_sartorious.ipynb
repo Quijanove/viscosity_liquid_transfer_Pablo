{
 "cells": [
  {
   "attachments": {},
   "cell_type": "markdown",
   "metadata": {},
   "source": [
    "# Test viscous liquid transfer\n",
    "\n",
    "The objective of this Jupyter notebook is to guide the user through the process of obtaining the liquid handling parameters that can accutately transfer volumes of viscous liquids using a rLine1000 automatic pipette. The process is based on a gravimetric method where the volume transfered with the autoamted pipette is compared with the expected mass for the transfer. The parameters are tuned to minimize the relative error calculated from the measured mass in comparison to the expected mass for each transfer. \n"
   ]
  },
  {
   "attachments": {},
   "cell_type": "markdown",
   "metadata": {},
   "source": [
    "## Initialization of automated plarform"
   ]
  },
  {
   "cell_type": "code",
   "execution_count": 1,
   "metadata": {},
   "outputs": [
    {
     "name": "stdout",
     "output_type": "stream",
     "text": [
      "Import: OK <controllably.misc.decorators>\n",
      "Import: OK <controllably.misc.helper>\n",
      "Import: OK <controllably.misc.factory>\n",
      "Import: OK <controllably.misc.layout>\n",
      "Import: OK <controllably.misc.logger>\n",
      "Import: OK <controllably.misc.misc_utils>\n",
      "\n",
      "\n",
      "Import: OK <controllably.Compound.compound_utils>\n",
      "Import: OK <controllably.Compound.LiquidMover.liquidmover_utils>\n",
      "\n",
      "\n",
      "Import: OK <controllably.Move.move_utils>\n",
      "Import: OK <controllably.Move.Jointed.jointed_utils>\n",
      "Import: OK <controllably.Move.Jointed.Dobot.dobot_utils>\n",
      "Import: OK <controllably.Move.Jointed.Dobot.m1pro_utils>\n",
      "Import: OK <controllably.Move.Jointed.Dobot.mg400_utils>\n",
      "ClearError()\n",
      "receive: ClearError()\n",
      "EnableRobot()\n",
      "receive: EnableRobot()\n",
      "User(0)\n",
      "receive: User(0)\n",
      "Tool(0)\n",
      "receive: Tool(0)\n",
      "SetArmOrientation(1,1,1,1)\n",
      "receive: SetArmOrientation(1,1,1,1)\n",
      "Infeasible coordinates! (0.0, 0.0, 200.0)\n",
      "Infeasible coordinates! (300.0, 1.1368683772161603e-13, 0.0)\n",
      "MovJ(300.000000,0.000000,200.000000,10.000000,0.000000,0.000000)\n",
      "Move time: 3.000s (1.000x)\n",
      "[3.00000000e+02 1.13686838e-13 2.00000000e+02], [10  0  0]\n",
      "Homed\n",
      "\n",
      "\n",
      "Import: OK <controllably.Transfer.Liquid.liquid_utils>\n",
      "Import: OK <controllably.Transfer.Liquid.syringe_lib>\n",
      "Import: OK <controllably.Transfer.Liquid.syringe_utils>\n",
      "Import: OK <controllably.Transfer.Liquid.Sartorius.sartorius_lib>\n",
      "Import: OK <controllably.Transfer.Liquid.Sartorius.sartorius_utils>\n",
      "Any attached pipette tip may drop during initialisation.\n",
      "Connection opened to COM8\n",
      "Model: BRL1000-1\n",
      "Model(name='BRL1000', capacity=1000, home_position=30, max_position=443, tip_eject_position=-40, resolution=2.5, preset_speeds=PresetSpeeds(s1=150, s2=265, s3=410, s4=650, s5=945, s6=1120))\n",
      "\n",
      "\n",
      "Import: OK <controllably.Measure.instrument_utils>\n",
      "Import: OK <controllably.Measure.program_utils>\n",
      "Import: OK <controllably.Measure.measure_utils>\n",
      "Import: OK <controllably.Measure.Physical.balance_utils>\n",
      "Could not connect to COM10\n",
      "\n",
      "\n",
      "Import: OK <controllably.View.image_utils>\n",
      "Import: OK <controllably.View.view_utils>\n",
      "Import: OK <controllably.View.Optical.optical_utils>\n",
      "Objects created: setup, balance, camera, mover, liquid\n"
     ]
    }
   ],
   "source": [
    "#Import relevant python packages\n",
    "import pandas as pd\n",
    "import time\n",
    "\n",
    "\n",
    "from pathlib import Path\n",
    "import sys\n",
    "REPOS = 'GitHub'\n",
    "ROOT = str(Path().absolute()).split(REPOS)[0]\n",
    "sys.path.append(f'{ROOT}{REPOS}')\n",
    "\n",
    "from polylectric.configs.SynthesisB1 import SETUP, LAYOUT_FILE\n",
    "\n",
    "from controllably import load_deck      # optional\n",
    "load_deck(SETUP.setup, LAYOUT_FILE)     # optional\n",
    "\n",
    "platform = SETUP\n",
    "platform.mover.verbose = False\n"
   ]
  },
  {
   "cell_type": "code",
   "execution_count": 2,
   "metadata": {},
   "outputs": [],
   "source": [
    "#Initialization of variables for platfomr objects\n",
    "pipette= platform.setup\n",
    "deck = platform.setup.deck\n",
    "balance = platform.balance\n",
    "balance_deck = deck.slots['1']\n",
    "source = deck.slots['2']\n",
    "tip_rack = deck.slots['3']\n",
    "bin = deck.slots['4']\n"
   ]
  },
  {
   "cell_type": "code",
   "execution_count": null,
   "metadata": {},
   "outputs": [],
   "source": [
    "#Stablish initial height of liquid on the source vial\n",
    "liquid_level = 17"
   ]
  },
  {
   "cell_type": "code",
   "execution_count": 3,
   "metadata": {},
   "outputs": [
    {
     "name": "stdout",
     "output_type": "stream",
     "text": [
      "Tip capacitance: 270\n",
      "SpeedFactor(20)\n",
      "receive: SpeedFactor(20)\n",
      "MovJ(300.000000,0.000000,200.000000,10.000000,0.000000,0.000000)\n",
      "Move time: 0.000s (0.200x)\n",
      "[3.00000000e+02 1.13686838e-13 2.00000000e+02], [10  0  0]\n",
      "SpeedFactor(100)\n",
      "receive: SpeedFactor(100)\n",
      "MovJ(198.894071,-3.942538,200.000000,10.000000,0.000000,0.000000)\n",
      "Move time: 1.011s (1.000x)\n",
      "[198.89407123  -3.94253829 200.        ], [10  0  0]\n",
      "SpeedFactor(20)\n",
      "receive: SpeedFactor(20)\n",
      "MovJ(198.894071,-3.942538,72.400000,10.000000,0.000000,0.000000)\n",
      "Move time: 6.380s (0.200x)\n",
      "[198.89407123  -3.94253829  72.4       ], [10  0  0]\n",
      "SpeedFactor(100)\n",
      "receive: SpeedFactor(100)\n",
      "SpeedFactor(1)\n",
      "receive: SpeedFactor(1)\n",
      "MovJ(198.894071,-3.942538,52.400000,10.000000,0.000000,0.000000)\n",
      "Move time: 20.000s (0.010x)\n",
      "[198.89407123  -3.94253829  52.4       ], [10  0  0]\n",
      "SpeedFactor(100)\n",
      "receive: SpeedFactor(100)\n",
      "SpeedFactor(20)\n",
      "receive: SpeedFactor(20)\n",
      "MovJ(198.894071,-3.942538,169.300000,10.000000,0.000000,0.000000)\n",
      "Move time: 5.845s (0.200x)\n",
      "[198.89407123  -3.94253829 169.3       ], [10  0  0]\n",
      "SpeedFactor(100)\n",
      "receive: SpeedFactor(100)\n",
      "Tip capacitance: 270\n"
     ]
    },
    {
     "data": {
      "text/plain": [
       "array([325.1 ,  80.65, 105.9 ])"
      ]
     },
     "execution_count": 3,
     "metadata": {},
     "output_type": "execute_result"
    }
   ],
   "source": [
    "#Initialize OT2 for pipetting\n",
    "\n",
    "pipette.attachTip()"
   ]
  },
  {
   "cell_type": "code",
   "execution_count": null,
   "metadata": {},
   "outputs": [],
   "source": [
    "pipette.aspirateAt()"
   ]
  },
  {
   "cell_type": "markdown",
   "metadata": {},
   "source": [
    "## Viscous liquid protocol: Coarse approximation of pipetting parameters\n",
    "\n",
    "The first step is to obtain approximate values of aspiration and dispense rates that can be used to initia;ize the ;iqiid transfer such as aspiration and dispense rates. "
   ]
  },
  {
   "cell_type": "code",
   "execution_count": null,
   "metadata": {},
   "outputs": [],
   "source": [
    "#This commands will aspirate 1000ul liquid at standard flow_rate.aspirate of pippette. A timer well be started just before aspiration starts\n",
    "pipette.mover.safeMoveTo(source.wells['A1'].from_bottom((0,0,liquid_level-15)))\n",
    "start = time.time()\n",
    "pipette.liquid.aspirate(1000, speed = 265)"
   ]
  },
  {
   "cell_type": "code",
   "execution_count": null,
   "metadata": {},
   "outputs": [],
   "source": [
    "#Run this cell when no further flow of liquid into the pipette tip is observed. Calculates an approximate flow rate for \n",
    "#aspiration\n",
    "finish = time.time()\n",
    "t_aspirate = finish-start\n",
    "flow_rate_aspirate = 1000/t_aspirate\n",
    "flow_rate_aspirate"
   ]
  },
  {
   "cell_type": "code",
   "execution_count": null,
   "metadata": {},
   "outputs": [],
   "source": [
    "#This commands will dispense 900 ul of liquid at a flow rate equal to the approximation for aspiration obtained above.\n",
    "#User should observe the behaviour of the dispense to make an educated guess of initial dispense rate to be implemented.\n",
    "pipette.mover.safeMoveTo(source.wells['A1'].top)\n",
    "pipette.liquid.aspirate(1000, rate = flow_rate_aspirate)\n"
   ]
  },
  {
   "cell_type": "code",
   "execution_count": null,
   "metadata": {},
   "outputs": [],
   "source": [
    "liquid_level = liquid_level - 2*1000/1000"
   ]
  },
  {
   "cell_type": "code",
   "execution_count": null,
   "metadata": {},
   "outputs": [],
   "source": [
    "#This command will clear out remaining liquid in the tip if the dispense was incomplete.\n",
    "# pipettes['p1000'].home_plunger()\n",
    "# protocol.delay(seconds=10)\n",
    "# pipettes['p1000'].blow_out(location = source.wells_by_name()['C4'].top())\n",
    "# pipettes['p1000'].touch_tip(location = source.wells_by_name()['C4'])\n",
    "\n",
    "# pipettes['p1000'].home_plunger()\n",
    "# protocol.delay(seconds=10)\n",
    "# pipettes['p1000'].blow_out(location = source.wells_by_name()['C4'].top())\n",
    "# pipettes['p1000'].touch_tip(location = source.wells_by_name()['C4'])\n",
    "\n",
    "# pipettes['p1000'].home_plunger()\n",
    "# protocol.delay(seconds=10)\n",
    "# pipettes['p1000'].blow_out(location = source.wells_by_name()['C4'].top())\n",
    "# pipettes['p1000'].touch_tip(location = source.wells_by_name()['C4'])\n",
    "# pipettes['p1000'].move_to(source.wells_by_name()['C4'].top())\n"
   ]
  },
  {
   "cell_type": "markdown",
   "metadata": {},
   "source": [
    "## Viscous liquid protocol: Gravimetric analysis for obtaining pipetting parameters to transfer a viscous liquid \n",
    "The following cells contain the code required to implemenet the gravimetric analysis of volume transfer of a specific viscousl iquid. User only needs to input the targetr volume, density of the liquid and mass of vials before and after a dispense."
   ]
  },
  {
   "cell_type": "markdown",
   "metadata": {},
   "source": [
    "First initialize or load a previous dataframe to record transfer parameters. Use only one of the next to cells. "
   ]
  },
  {
   "cell_type": "code",
   "execution_count": null,
   "metadata": {},
   "outputs": [],
   "source": [
    "#New dataframe\n",
    "df = pd.DataFrame(columns = ['liquid', 'pipette', 'volume', 'aspiration_rate', 'dispense_rate','blow_out', 'delay_aspirate', 'delay_dispense', 'delay_blow_out', 'density', 'time', 'm', '%error', 'Transfer_Observation', 'Comment'])\n",
    "df = df.astype({'liquid':str,'pipette':str,'blow_out':bool,'Transfer_Observation':str,'Comment':str})"
   ]
  },
  {
   "cell_type": "code",
   "execution_count": null,
   "metadata": {},
   "outputs": [],
   "source": [
    "#Load dataframe\n",
    "liquid_name = \"Viscosity_std_9884\"\n",
    "density = 0.8844\n",
    "pipette_name = 'rLine'\n"
   ]
  },
  {
   "cell_type": "markdown",
   "metadata": {},
   "source": [
    "Define liquid to be handeled and input initial aspiration and dispense rates"
   ]
  },
  {
   "cell_type": "code",
   "execution_count": null,
   "metadata": {},
   "outputs": [],
   "source": [
    "liquids_dict = {\n",
    "  \"Viscosity_std_9884\" :{\n",
    "        \"rLine1000\": {\n",
    "            \"aspiration_rate\": 2 , \n",
    "            \"dispense_rate\": 0.5, \n",
    "            \"blow_out\" : False, \n",
    "            \"delay_aspirate\" : 3, \n",
    "            \"delay_dispense\" : 0, \n",
    "            \"delay_blow_out\" : 3, \n",
    "            },\n",
    "    }\n",
    "\n",
    "}\n"
   ]
  },
  {
   "cell_type": "markdown",
   "metadata": {},
   "source": [
    "Transfer viscous liquds, input pippette name (pipette), desired volume (volume) to be dispensed in ul, liquid dictonary key string (liquid), density (density) and initial vial mass (mi). The code will register the liquid handling parameters used into the dataframe  "
   ]
  },
  {
   "cell_type": "code",
   "execution_count": null,
   "metadata": {},
   "outputs": [],
   "source": [
    "volume=1000\n",
    "\n",
    "pipette.mover.setSpeed(50)\n",
    "\n",
    "if pipette.liquid.isTipOn()== False:\n",
    "    pipette.attachTip()\n",
    "\n",
    "start = time.time()\n",
    "\n",
    "pipette.aspirateAt(volume= volume, coordinates= source.wells['A1'].from_bottom((0,0,liquid_level)), speed = liquids_dict[liquid_name][pipette_name]['aspiration_rate'])\n",
    "time.sleep(liquids_dict[liquid_name][pipette_name]['delay_aspirate'])\n",
    "\n",
    "pipette.mover.moveTo(source.wells['A1'].top)\n",
    "pipette.mover.setSpeed(25)\n",
    "pipette.mover.moveTo(source.wells['A1'].from_top((17,0,0)))\n",
    "pipette.mover.moveTo(source.wells['A1'].from_top((-17,0,0)))\n",
    "pipette.mover.moveTo(source.wells['A1'].from_top((0,17,0)))\n",
    "pipette.mover.moveTo(source.wells['A1'].from_top((0,-17,0)))\n",
    "pipette.mover.setSpeed(50)\n",
    "\n",
    "# pipette.touch_tip()\n",
    "balance.zero()\n",
    "balance.clearCache()\n",
    "balance.toggleRecord(True)\n",
    "time.sleep(10)\n",
    "\n",
    "\n",
    "pipette.dispenseAt(volume, balance_deck.wells['A1'].from_top((0,0,-5)), rate = liquids_dict[liquid_name][pipette_name]['dispense_rate'])\n",
    "time.sleep(liquids_dict[liquid_name][pipette_name]['delay_dispense'])\n",
    "\n",
    "\n",
    "if liquids_dict[liquid_name][pipette_name]['blow_out_rate'] == True:\n",
    "    pipette.liquid.blowout()\n",
    "    time.sleep.delay(seconds = liquids_dict[liquid_name][pipette_name]['delay_blow_out'])\n",
    "\n",
    "finish = time.time()\n",
    "time_m = finish - start\n",
    "\n",
    "pipette.mover.safeMoveTo(source.wells['A1'].top)\n",
    "time.sleep(10)\n",
    "balance.toggleRecord(False)\n",
    "\n",
    "\n",
    "df = df.append(liquids_dict[liquid_name][pipette], ignore_index = True)"
   ]
  },
  {
   "cell_type": "markdown",
   "metadata": {},
   "source": [
    "Input mass of vial after transfer (mf). Code will calculate the relative error of transfer"
   ]
  },
  {
   "cell_type": "code",
   "execution_count": null,
   "metadata": {},
   "outputs": [],
   "source": [
    "m = balance.buffer_df.loc[-10:,'Mass'].mean()\n",
    "error = (m-density*volume/1000)/(density/1000*volume)*100\n",
    "df.iloc[-1,-7] = time_m\n",
    "df.iloc[-1,2] = volume\n",
    "df.iloc[-1, 0] = liquid_name\n",
    "df.iloc[-1, 1] = pipette_name\n",
    "df.iloc[-1,-8] = density\n",
    "df.iloc[-1, -4] = m\n",
    "df.iloc[-1,-3]= error\n"
   ]
  },
  {
   "cell_type": "code",
   "execution_count": null,
   "metadata": {},
   "outputs": [],
   "source": [
    "#Update liquid level\n",
    "liquid_level = liquid_level - 2*volume/1000"
   ]
  },
  {
   "cell_type": "code",
   "execution_count": null,
   "metadata": {},
   "outputs": [],
   "source": [
    "#Observe error made\n",
    "df"
   ]
  },
  {
   "cell_type": "code",
   "execution_count": null,
   "metadata": {},
   "outputs": [],
   "source": [
    "#Assign category of observation of transfer such as Incomplete Dispense, Incomplete Aspiration, \n",
    "#Incomplete Aspiration and Dispense, Complete Transfer. \n",
    "#Comment if any unexpected exprimental mistakes or changes were performed that have to be taken into account.\n",
    "df.iloc[-1,-2]= 'Incomplete Dispense'\n",
    "df.iloc[-1,-1]= 'No comment'"
   ]
  },
  {
   "cell_type": "markdown",
   "metadata": {},
   "source": [
    "Save data, can be used at any time."
   ]
  },
  {
   "cell_type": "code",
   "execution_count": null,
   "metadata": {},
   "outputs": [],
   "source": [
    "df.to_csv(liquid_name+'.csv', index = False)"
   ]
  },
  {
   "cell_type": "markdown",
   "metadata": {},
   "source": [
    "## Auxiliary code"
   ]
  }
 ],
 "metadata": {
  "kernelspec": {
   "display_name": "Python 3 (ipykernel)",
   "language": "python",
   "name": "python3"
  },
  "language_info": {
   "codemirror_mode": {
    "name": "ipython",
    "version": 3
   },
   "file_extension": ".py",
   "mimetype": "text/x-python",
   "name": "python",
   "nbconvert_exporter": "python",
   "pygments_lexer": "ipython3",
   "version": "3.9.7"
  }
 },
 "nbformat": 4,
 "nbformat_minor": 2
}
