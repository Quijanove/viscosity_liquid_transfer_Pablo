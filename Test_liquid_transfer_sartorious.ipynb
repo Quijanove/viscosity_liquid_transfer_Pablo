{
 "cells": [
  {
   "attachments": {},
   "cell_type": "markdown",
   "metadata": {},
   "source": [
    "# Test viscous liquid transfer\n",
    "\n",
    "The objective of this Jupyter notebook is to guide the user through the process of obtaining the liquid handling parameters that can accutately transfer volumes of viscous liquids using a rLine1000 automatic pipette. The process is based on a gravimetric method where the volume transfered with the autoamted pipette is compared with the expected mass for the transfer. The parameters are tuned to minimize the relative error calculated from the measured mass in comparison to the expected mass for each transfer. \n"
   ]
  },
  {
   "attachments": {},
   "cell_type": "markdown",
   "metadata": {},
   "source": [
    "## Initialization of automated plarform"
   ]
  },
  {
   "cell_type": "code",
   "execution_count": 3,
   "metadata": {},
   "outputs": [
    {
     "name": "stdout",
     "output_type": "stream",
     "text": [
      "Import: OK <controllably.misc.decorators>\n",
      "Import: OK <controllably.misc.helper>\n",
      "Import: OK <controllably.misc.factory>\n",
      "Import: OK <controllably.misc.layout>\n",
      "Import: OK <controllably.misc.logger>\n",
      "Import: OK <controllably.misc.misc_utils>\n",
      "\n",
      "\n",
      "Import: OK <controllably.Compound.compound_utils>\n",
      "Import: OK <controllably.Compound.LiquidMover.liquidmover_utils>\n",
      "\n",
      "\n",
      "Import: OK <controllably.Move.move_utils>\n",
      "Import: OK <controllably.Move.Jointed.jointed_utils>\n",
      "Import: OK <controllably.Move.Jointed.Dobot.dobot_utils>\n",
      "Import: OK <controllably.Move.Jointed.Dobot.m1pro_utils>\n",
      "Import: OK <controllably.Move.Jointed.Dobot.mg400_utils>\n",
      "ClearError()\n",
      "receive: ClearError()\n",
      "EnableRobot()\n",
      "receive: EnableRobot()\n",
      "User(0)\n",
      "receive: User(0)\n",
      "Tool(0)\n",
      "receive: Tool(0)\n",
      "SetArmOrientation(1,1,1,1)\n",
      "receive: SetArmOrientation(1,1,1,1)\n",
      "Infeasible coordinates! (0.0, 0.0, 200.0)\n",
      "Infeasible coordinates! (300.0, 1.1368683772161603e-13, 0.0)\n",
      "MovJ(300.000000,0.000000,200.000000,10.000000,0.000000,0.000000)\n",
      "Move time: 3.000s (1.000x)\n",
      "[3.00000000e+02 1.13686838e-13 2.00000000e+02], [10  0  0]\n",
      "Homed\n",
      "\n",
      "\n",
      "Import: OK <controllably.Transfer.Liquid.liquid_utils>\n",
      "Import: OK <controllably.Transfer.Liquid.syringe_lib>\n",
      "Import: OK <controllably.Transfer.Liquid.syringe_utils>\n",
      "Import: OK <controllably.Transfer.Liquid.Sartorius.sartorius_lib>\n",
      "Import: OK <controllably.Transfer.Liquid.Sartorius.sartorius_utils>\n",
      "Any attached pipette tip may drop during initialisation.\n",
      "Connection opened to COM4\n",
      "Model: BRL1000-1\n",
      "Model(name='BRL1000', capacity=1000, home_position=30, max_position=443, tip_eject_position=-40, resolution=2.5, preset_speeds=PresetSpeeds(s1=150, s2=265, s3=410, s4=650, s5=945, s6=1120))\n",
      "\n",
      "\n",
      "Import: OK <controllably.Measure.instrument_utils>\n",
      "Import: OK <controllably.Measure.program_utils>\n",
      "Import: OK <controllably.Measure.measure_utils>\n",
      "Import: OK <controllably.Measure.Physical.balance_utils>\n",
      "Connection opened to COM5\n",
      "Listening...Zeroing... (5s)\n",
      "\n",
      "Stop listening...\n",
      "Zeroing complete.\n",
      "\n",
      "\n",
      "Import: OK <controllably.View.image_utils>\n",
      "Import: OK <controllably.View.view_utils>\n",
      "Import: OK <controllably.View.Optical.optical_utils>\n",
      "Objects created: setup, balance, camera, mover, liquid\n"
     ]
    }
   ],
   "source": [
    "#Import relevant python packages\n",
    "import pandas as pd\n",
    "import time\n",
    "from matplotlib import pyplot as plt\n",
    "from pathlib import Path\n",
    "import sys\n",
    "REPOS = 'GitHub'\n",
    "ROOT = str(Path().absolute()).split(REPOS)[0]\n",
    "sys.path.append(f'{ROOT}{REPOS}')\n",
    "\n",
    "from polylectric.configs.SynthesisB1 import SETUP, LAYOUT_FILE\n",
    "\n",
    "from controllably import load_deck      # optional\n",
    "load_deck(SETUP.setup, LAYOUT_FILE)     # optional\n",
    "\n",
    "platform = SETUP\n",
    "platform.mover.verbose = False\n"
   ]
  },
  {
   "cell_type": "code",
   "execution_count": 4,
   "metadata": {},
   "outputs": [
    {
     "name": "stdout",
     "output_type": "stream",
     "text": [
      "SpeedFactor(50)\n",
      "receive: SpeedFactor(50)\n",
      "Mass_balance_plastic_jar 1 Well Plate 15000 uL at Slot 1\n",
      "Polyelectric 6 Well Plate 15000 ÂµL at Slot 2\n",
      "Eppendorf Motion 96 Tip Rack 1000 ÂµL at Slot 3\n",
      "Polyetric_bin at Slot 4\n"
     ]
    }
   ],
   "source": [
    "#Initialization of variables for platfomr objects\n",
    "pipette= platform.setup\n",
    "deck = platform.setup.deck\n",
    "balance = platform.balance\n",
    "balance_deck = deck.slots['1']\n",
    "source = deck.slots['2']\n",
    "tip_rack = deck.slots['3']\n",
    "bin = deck.slots['4']\n",
    "pipette.mover.setSpeed(50)\n",
    "print(balance_deck)\n",
    "print(source)\n",
    "print(tip_rack)\n",
    "print(bin)\n",
    "\n",
    "\n"
   ]
  },
  {
   "cell_type": "code",
   "execution_count": 5,
   "metadata": {},
   "outputs": [
    {
     "name": "stdout",
     "output_type": "stream",
     "text": [
      "Listening...\n",
      "Zeroing... (5s)\n",
      "Stop listening...\n",
      "Zeroing complete.\n",
      "Listening...\n",
      "Time        2023-05-05 12:57:01.315100\n",
      "Value                           219480\n",
      "Factor                        6.862879\n",
      "Baseline                 201630.693467\n",
      "Mass                        2600.84804\n",
      "Name: 24, dtype: object\n",
      "Stop listening...\n"
     ]
    }
   ],
   "source": [
    "#Check if balance is connected\n",
    "balance.zero()\n",
    "balance.toggleRecord(True)\n",
    "time.sleep(5)\n",
    "print(balance.buffer_df.iloc[-1])\n",
    "balance.toggleRecord(False)"
   ]
  },
  {
   "cell_type": "code",
   "execution_count": 193,
   "metadata": {},
   "outputs": [],
   "source": [
    "#Stablish initial height of liquid on the source vial\n",
    "liquid_level = 10"
   ]
  },
  {
   "cell_type": "code",
   "execution_count": 254,
   "metadata": {},
   "outputs": [
    {
     "name": "stdout",
     "output_type": "stream",
     "text": [
      "Tip capacitance: 281\n",
      "B1\n",
      "Tip capacitance: 271\n",
      "SpeedFactor(20)\n",
      "receive: SpeedFactor(20)\n",
      "MovJ(232.616399,194.960923,200.000000,10.000000,0.000000,0.000000)\n",
      "Move time: 4.280s (0.200x)\n",
      "[232.61639907 194.96092349 200.        ], [10  0  0]\n",
      "SpeedFactor(50)\n",
      "receive: SpeedFactor(50)\n",
      "MovJ(207.893000,-4.081374,200.000000,10.000000,0.000000,0.000000)\n",
      "Move time: 3.981s (0.500x)\n",
      "[207.89300032  -4.08137366 200.        ], [10  0  0]\n",
      "SpeedFactor(20)\n",
      "receive: SpeedFactor(20)\n",
      "MovJ(207.893000,-4.081374,65.400000,10.000000,0.000000,0.000000)\n",
      "Move time: 6.730s (0.200x)\n",
      "[207.89300032  -4.08137366  65.4       ], [10  0  0]\n",
      "SpeedFactor(50)\n",
      "receive: SpeedFactor(50)\n",
      "SpeedFactor(1)\n",
      "receive: SpeedFactor(1)\n",
      "MovJ(207.893000,-4.081374,45.400000,10.000000,0.000000,0.000000)\n",
      "Move time: 20.000s (0.010x)\n",
      "[207.89300032  -4.08137366  45.4       ], [10  0  0]\n",
      "SpeedFactor(50)\n",
      "receive: SpeedFactor(50)\n",
      "SpeedFactor(20)\n",
      "receive: SpeedFactor(20)\n",
      "MovJ(207.893000,-4.081374,162.300000,10.000000,0.000000,0.000000)\n",
      "Move time: 5.845s (0.200x)\n",
      "[207.89300032  -4.08137366 162.3       ], [10  0  0]\n",
      "SpeedFactor(50)\n",
      "receive: SpeedFactor(50)\n",
      "Tip capacitance: 269\n",
      "SpeedFactor(100)\n",
      "receive: SpeedFactor(100)\n",
      "MovJ(207.893000,-4.081374,200.000000,10.000000,0.000000,0.000000)\n",
      "Move time: 0.377s (1.000x)\n",
      "[207.89300032  -4.08137366 200.        ], [10  0  0]\n",
      "SpeedFactor(50)\n",
      "receive: SpeedFactor(50)\n",
      "MovJ(300.000000,0.000000,200.000000,10.000000,0.000000,0.000000)\n",
      "Move time: 1.842s (0.500x)\n",
      "[3.00000000e+02 1.13686838e-13 2.00000000e+02], [10  0  0]\n",
      "SpeedFactor(100)\n",
      "receive: SpeedFactor(100)\n",
      "MovJ(300.000000,0.000000,200.000000,10.000000,0.000000,0.000000)\n",
      "Move time: 0.000s (1.000x)\n",
      "[3.00000000e+02 1.13686838e-13 2.00000000e+02], [10  0  0]\n",
      "SpeedFactor(50)\n",
      "receive: SpeedFactor(50)\n",
      "Homed\n"
     ]
    },
    {
     "data": {
      "text/plain": [
       "True"
      ]
     },
     "execution_count": 254,
     "metadata": {},
     "output_type": "execute_result"
    }
   ],
   "source": [
    "#Initialize OT2 for pipetting\n",
    "pipette.attachTip()\n",
    "pipette.mover.home()"
   ]
  },
  {
   "cell_type": "markdown",
   "metadata": {},
   "source": [
    "## Viscous liquid protocol: Coarse approximation of pipetting parameters\n",
    "\n",
    "The first step is to obtain approximate values of aspiration and dispense rates that can be used to initia;ize the ;iqiid transfer such as aspiration and dispense rates. "
   ]
  },
  {
   "cell_type": "code",
   "execution_count": 220,
   "metadata": {},
   "outputs": [
    {
     "name": "stdout",
     "output_type": "stream",
     "text": [
      "SpeedFactor(100)\n",
      "receive: SpeedFactor(100)\n",
      "MovJ(206.843094,-146.682146,200.000000,10.000000,0.000000,0.000000)\n",
      "Move time: 1.265s (1.000x)\n",
      "[ 206.84309407 -146.68214574  200.        ], [10  0  0]\n",
      "SpeedFactor(50)\n",
      "receive: SpeedFactor(50)\n",
      "MovJ(206.843094,-146.682146,200.000000,10.000000,0.000000,0.000000)\n",
      "Move time: 0.000s (0.500x)\n",
      "[ 206.84309407 -146.68214574  200.        ], [10  0  0]\n",
      "SpeedFactor(100)\n",
      "receive: SpeedFactor(100)\n",
      "MovJ(206.843094,-146.682146,54.753710,10.000000,0.000000,0.000000)\n",
      "Move time: 1.452s (1.000x)\n",
      "[ 206.84309407 -146.68214574   54.75370987], [10  0  0]\n",
      "SpeedFactor(50)\n",
      "receive: SpeedFactor(50)\n",
      "Aspirating 1000.0 uL...\n",
      "Aspiration time: 2.4395484999986365s\n"
     ]
    },
    {
     "data": {
      "text/plain": [
       "'ok'"
      ]
     },
     "execution_count": 220,
     "metadata": {},
     "output_type": "execute_result"
    }
   ],
   "source": [
    "#This commands will aspirate 1000ul liquid at standard flow_rate.aspirate of pippette. A timer well be started just before aspiration starts\n",
    "pipette.mover.setHandedness(False)\n",
    "pipette.mover.safeMoveTo(source.wells['A1'].from_bottom((0,0,liquid_level-3)))\n",
    "start = time.time()\n",
    "pipette.liquid.aspirate(1000)"
   ]
  },
  {
   "cell_type": "code",
   "execution_count": 221,
   "metadata": {},
   "outputs": [
    {
     "data": {
      "text/plain": [
       "35.46098895034846"
      ]
     },
     "execution_count": 221,
     "metadata": {},
     "output_type": "execute_result"
    }
   ],
   "source": [
    "#Run this cell when no further flow of liquid into the pipette tip is observed. Calculates an approximate flow rate for \n",
    "#aspiration\n",
    "finish = time.time()\n",
    "t_aspirate = finish-start\n",
    "flow_rate_aspirate = 1000/t_aspirate\n",
    "flow_rate_aspirate"
   ]
  },
  {
   "cell_type": "code",
   "execution_count": 222,
   "metadata": {},
   "outputs": [
    {
     "name": "stdout",
     "output_type": "stream",
     "text": [
      "SpeedFactor(100)\n",
      "receive: SpeedFactor(100)\n",
      "MovJ(206.843094,-146.682146,200.000000,10.000000,0.000000,0.000000)\n",
      "Move time: 1.452s (1.000x)\n",
      "[ 206.84309407 -146.68214574  200.        ], [10  0  0]\n",
      "SpeedFactor(50)\n",
      "receive: SpeedFactor(50)\n",
      "MovJ(206.843094,-146.682146,200.000000,10.000000,0.000000,0.000000)\n",
      "Move time: 0.000s (0.500x)\n",
      "[ 206.84309407 -146.68214574  200.        ], [10  0  0]\n",
      "SpeedFactor(100)\n",
      "receive: SpeedFactor(100)\n",
      "MovJ(206.843094,-146.682146,73.510000,10.000000,0.000000,0.000000)\n",
      "Move time: 1.265s (1.000x)\n",
      "[ 206.84309407 -146.68214574   73.51      ], [10  0  0]\n",
      "SpeedFactor(50)\n",
      "receive: SpeedFactor(50)\n",
      "Dispensing 1000.0 uL...\n",
      "Target: 1000.0 uL at 35.5 uL/s...\n",
      "Best parameters: SpeedParameters(preset=945, intervals=26, step_size=15, delay=1.0427235779348456)\n",
      "SpeedParameters(preset=945, intervals=26, step_size=15, delay=1.0427235779348456)\n",
      "Speed 5: 945 uL/s\n",
      "Dispense time: 28.181644900003448s\n"
     ]
    },
    {
     "data": {
      "text/plain": [
       "'ok'"
      ]
     },
     "execution_count": 222,
     "metadata": {},
     "output_type": "execute_result"
    }
   ],
   "source": [
    "#This commands will dispense 900 ul of liquid at a flow rate equal to the approximation for aspiration obtained above.\n",
    "#User should observe the behaviour of the dispense to make an educated guess of initial dispense rate to be implemented.\n",
    "pipette.mover.safeMoveTo(source.wells['A1'].top)\n",
    "pipette.liquid.dispense(1000, speed = round(flow_rate_aspirate,1))\n"
   ]
  },
  {
   "cell_type": "code",
   "execution_count": 210,
   "metadata": {},
   "outputs": [
    {
     "name": "stdout",
     "output_type": "stream",
     "text": [
      "SpeedFactor(20)\n",
      "receive: SpeedFactor(20)\n",
      "MovJ(206.843094,-146.682146,63.510000,10.000000,0.000000,0.000000)\n",
      "Move time: 0.500s (0.200x)\n",
      "[ 206.84309407 -146.68214574   63.51      ], [10  0  0]\n",
      "SpeedFactor(50)\n",
      "receive: SpeedFactor(50)\n",
      "SpeedFactor(20)\n",
      "receive: SpeedFactor(20)\n",
      "MovJ(207.104567,-129.734163,63.510000,10.000000,0.000000,0.000000)\n",
      "Move time: 0.847s (0.200x)\n",
      "[ 207.10456737 -129.73416262   63.51      ], [10  0  0]\n",
      "SpeedFactor(50)\n",
      "receive: SpeedFactor(50)\n",
      "SpeedFactor(20)\n",
      "receive: SpeedFactor(20)\n",
      "MovJ(206.581621,-163.630129,63.510000,10.000000,0.000000,0.000000)\n",
      "Move time: 1.695s (0.200x)\n",
      "[ 206.58162078 -163.63012886   63.51      ], [10  0  0]\n",
      "SpeedFactor(50)\n",
      "receive: SpeedFactor(50)\n",
      "SpeedFactor(20)\n",
      "receive: SpeedFactor(20)\n",
      "MovJ(206.843094,-146.682146,63.510000,10.000000,0.000000,0.000000)\n",
      "Move time: 0.847s (0.200x)\n",
      "[ 206.84309407 -146.68214574   63.51      ], [10  0  0]\n",
      "SpeedFactor(50)\n",
      "receive: SpeedFactor(50)\n",
      "SpeedFactor(20)\n",
      "receive: SpeedFactor(20)\n",
      "MovJ(189.895111,-146.420672,63.510000,10.000000,0.000000,0.000000)\n",
      "Move time: 0.847s (0.200x)\n",
      "[ 189.89511096 -146.42067245   63.51      ], [10  0  0]\n",
      "SpeedFactor(50)\n",
      "receive: SpeedFactor(50)\n",
      "SpeedFactor(20)\n",
      "receive: SpeedFactor(20)\n",
      "MovJ(223.791077,-146.943619,63.510000,10.000000,0.000000,0.000000)\n",
      "Move time: 1.695s (0.200x)\n",
      "[ 223.79107719 -146.94361903   63.51      ], [10  0  0]\n",
      "SpeedFactor(50)\n",
      "receive: SpeedFactor(50)\n",
      "SpeedFactor(20)\n",
      "receive: SpeedFactor(20)\n",
      "MovJ(206.843094,-146.682146,63.510000,10.000000,0.000000,0.000000)\n",
      "Move time: 0.847s (0.200x)\n",
      "[ 206.84309407 -146.68214574   63.51      ], [10  0  0]\n",
      "SpeedFactor(50)\n",
      "receive: SpeedFactor(50)\n",
      "MovJ(206.843094,-146.682146,73.510000,10.000000,0.000000,0.000000)\n",
      "Move time: 0.200s (0.500x)\n",
      "[ 206.84309407 -146.68214574   73.51      ], [10  0  0]\n",
      "SpeedFactor(20)\n",
      "receive: SpeedFactor(20)\n",
      "MovJ(206.843094,-146.682146,63.510000,10.000000,0.000000,0.000000)\n",
      "Move time: 0.500s (0.200x)\n",
      "[ 206.84309407 -146.68214574   63.51      ], [10  0  0]\n",
      "SpeedFactor(50)\n",
      "receive: SpeedFactor(50)\n",
      "SpeedFactor(20)\n",
      "receive: SpeedFactor(20)\n",
      "MovJ(207.104567,-129.734163,63.510000,10.000000,0.000000,0.000000)\n",
      "Move time: 0.847s (0.200x)\n",
      "[ 207.10456737 -129.73416262   63.51      ], [10  0  0]\n",
      "SpeedFactor(50)\n",
      "receive: SpeedFactor(50)\n",
      "SpeedFactor(20)\n",
      "receive: SpeedFactor(20)\n",
      "MovJ(206.581621,-163.630129,63.510000,10.000000,0.000000,0.000000)\n",
      "Move time: 1.695s (0.200x)\n",
      "[ 206.58162078 -163.63012886   63.51      ], [10  0  0]\n",
      "SpeedFactor(50)\n",
      "receive: SpeedFactor(50)\n",
      "SpeedFactor(20)\n",
      "receive: SpeedFactor(20)\n",
      "MovJ(206.843094,-146.682146,63.510000,10.000000,0.000000,0.000000)\n",
      "Move time: 0.847s (0.200x)\n",
      "[ 206.84309407 -146.68214574   63.51      ], [10  0  0]\n",
      "SpeedFactor(50)\n",
      "receive: SpeedFactor(50)\n",
      "SpeedFactor(20)\n",
      "receive: SpeedFactor(20)\n",
      "MovJ(189.895111,-146.420672,63.510000,10.000000,0.000000,0.000000)\n",
      "Move time: 0.847s (0.200x)\n",
      "[ 189.89511096 -146.42067245   63.51      ], [10  0  0]\n",
      "SpeedFactor(50)\n",
      "receive: SpeedFactor(50)\n",
      "SpeedFactor(20)\n",
      "receive: SpeedFactor(20)\n",
      "MovJ(223.791077,-146.943619,63.510000,10.000000,0.000000,0.000000)\n",
      "Move time: 1.695s (0.200x)\n",
      "[ 223.79107719 -146.94361903   63.51      ], [10  0  0]\n",
      "SpeedFactor(50)\n",
      "receive: SpeedFactor(50)\n",
      "SpeedFactor(20)\n",
      "receive: SpeedFactor(20)\n",
      "MovJ(206.843094,-146.682146,63.510000,10.000000,0.000000,0.000000)\n",
      "Move time: 0.847s (0.200x)\n",
      "[ 206.84309407 -146.68214574   63.51      ], [10  0  0]\n",
      "SpeedFactor(50)\n",
      "receive: SpeedFactor(50)\n",
      "MovJ(206.843094,-146.682146,73.510000,10.000000,0.000000,0.000000)\n",
      "Move time: 0.200s (0.500x)\n",
      "[ 206.84309407 -146.68214574   73.51      ], [10  0  0]\n",
      "SpeedFactor(20)\n",
      "receive: SpeedFactor(20)\n",
      "MovJ(206.843094,-146.682146,63.510000,10.000000,0.000000,0.000000)\n",
      "Move time: 0.500s (0.200x)\n",
      "[ 206.84309407 -146.68214574   63.51      ], [10  0  0]\n",
      "SpeedFactor(50)\n",
      "receive: SpeedFactor(50)\n",
      "SpeedFactor(20)\n",
      "receive: SpeedFactor(20)\n",
      "MovJ(207.104567,-129.734163,63.510000,10.000000,0.000000,0.000000)\n",
      "Move time: 0.847s (0.200x)\n",
      "[ 207.10456737 -129.73416262   63.51      ], [10  0  0]\n",
      "SpeedFactor(50)\n",
      "receive: SpeedFactor(50)\n",
      "SpeedFactor(20)\n",
      "receive: SpeedFactor(20)\n",
      "MovJ(206.581621,-163.630129,63.510000,10.000000,0.000000,0.000000)\n",
      "Move time: 1.695s (0.200x)\n",
      "[ 206.58162078 -163.63012886   63.51      ], [10  0  0]\n",
      "SpeedFactor(50)\n",
      "receive: SpeedFactor(50)\n",
      "SpeedFactor(20)\n",
      "receive: SpeedFactor(20)\n",
      "MovJ(206.843094,-146.682146,63.510000,10.000000,0.000000,0.000000)\n",
      "Move time: 0.847s (0.200x)\n",
      "[ 206.84309407 -146.68214574   63.51      ], [10  0  0]\n",
      "SpeedFactor(50)\n",
      "receive: SpeedFactor(50)\n",
      "SpeedFactor(20)\n",
      "receive: SpeedFactor(20)\n",
      "MovJ(189.895111,-146.420672,63.510000,10.000000,0.000000,0.000000)\n",
      "Move time: 0.847s (0.200x)\n",
      "[ 189.89511096 -146.42067245   63.51      ], [10  0  0]\n",
      "SpeedFactor(50)\n",
      "receive: SpeedFactor(50)\n",
      "SpeedFactor(20)\n",
      "receive: SpeedFactor(20)\n",
      "MovJ(223.791077,-146.943619,63.510000,10.000000,0.000000,0.000000)\n",
      "Move time: 1.695s (0.200x)\n",
      "[ 223.79107719 -146.94361903   63.51      ], [10  0  0]\n",
      "SpeedFactor(50)\n",
      "receive: SpeedFactor(50)\n",
      "SpeedFactor(20)\n",
      "receive: SpeedFactor(20)\n",
      "MovJ(206.843094,-146.682146,63.510000,10.000000,0.000000,0.000000)\n",
      "Move time: 0.847s (0.200x)\n",
      "[ 206.84309407 -146.68214574   63.51      ], [10  0  0]\n",
      "SpeedFactor(50)\n",
      "receive: SpeedFactor(50)\n",
      "MovJ(206.843094,-146.682146,73.510000,10.000000,0.000000,0.000000)\n",
      "Move time: 0.200s (0.500x)\n",
      "[ 206.84309407 -146.68214574   73.51      ], [10  0  0]\n"
     ]
    },
    {
     "data": {
      "text/plain": [
       "'ok'"
      ]
     },
     "execution_count": 210,
     "metadata": {},
     "output_type": "execute_result"
    }
   ],
   "source": [
    "#This command will clear out remaining liquid in the tip if the dispense was incomplete.\n",
    "\n",
    "pipette.liquid.blowout(home=False)\n",
    "time.sleep(5)\n",
    "pipette.touchTip(source.wells['A1'])\n",
    "pipette.liquid.home()\n",
    "\n",
    "pipette.liquid.blowout(home=False)\n",
    "time.sleep(5)\n",
    "pipette.touchTip(source.wells['A1'])\n",
    "pipette.liquid.home()\n",
    "\n",
    "pipette.liquid.blowout(home=False)\n",
    "time.sleep(5)\n",
    "pipette.touchTip(source.wells['A1'])\n",
    "pipette.liquid.home()\n"
   ]
  },
  {
   "cell_type": "markdown",
   "metadata": {},
   "source": [
    "## Viscous liquid protocol: Gravimetric analysis for obtaining pipetting parameters to transfer a viscous liquid \n",
    "The following cells contain the code required to implemenet the gravimetric analysis of volume transfer of a specific viscousl iquid. User only needs to input the targetr volume, density of the liquid and mass of vials before and after a dispense."
   ]
  },
  {
   "cell_type": "markdown",
   "metadata": {},
   "source": [
    "Define liquid to be handeled and input initial aspiration and dispense rates"
   ]
  },
  {
   "cell_type": "code",
   "execution_count": 239,
   "metadata": {},
   "outputs": [],
   "source": [
    "#Load dataframe\n",
    "liquid_name = \"Water\"\n",
    "density = 1.000\n",
    "pipette_name = 'rLine1000'\n"
   ]
  },
  {
   "cell_type": "markdown",
   "metadata": {},
   "source": [
    "First initialize or load a previous dataframe to record transfer parameters. Use only one of the next to cells. "
   ]
  },
  {
   "cell_type": "code",
   "execution_count": 240,
   "metadata": {},
   "outputs": [],
   "source": [
    "#New dataframe\n",
    "df = pd.DataFrame(columns = ['liquid', 'pipette', 'volume', 'aspiration_rate', 'dispense_rate','blow_out', 'delay_aspirate', 'delay_dispense', 'delay_blow_out', 'density', 'time', 'm', '%error', 'Transfer_Observation', 'Comment'])\n",
    "df = df.astype({'liquid':str,'pipette':str,'blow_out':bool,'Transfer_Observation':str,'Comment':str})"
   ]
  },
  {
   "cell_type": "code",
   "execution_count": 12,
   "metadata": {},
   "outputs": [],
   "source": [
    "#load dataframe if experiment was done halfway previously\n",
    "df = pd.read_csv(liquid_name+'.csv')"
   ]
  },
  {
   "cell_type": "code",
   "execution_count": 13,
   "metadata": {},
   "outputs": [],
   "source": [
    "liquids_dict = {\n",
    "  liquid_name :{\n",
    "        \"rLine1000\": {\n",
    "            \"aspiration_rate\": flow_rate_aspirate, \n",
    "            \"dispense_rate\": flow_rate_aspirate, \n",
    "            \"blow_out\" : False, \n",
    "            \"delay_aspirate\" : 5, \n",
    "            \"delay_dispense\" : 5, \n",
    "            \"delay_blow_out\" : 0, \n",
    "            },\n",
    "    }\n",
    "\n",
    "}\n"
   ]
  },
  {
   "cell_type": "markdown",
   "metadata": {},
   "source": [
    "Transfer viscous liquds, input pippette name (pipette), desired volume (volume) to be dispensed in ul, liquid dictonary key string (liquid), density (density) and initial vial mass (mi). The code will register the liquid handling parameters used into the dataframe  "
   ]
  },
  {
   "cell_type": "code",
   "execution_count": 295,
   "metadata": {},
   "outputs": [
    {
     "name": "stdout",
     "output_type": "stream",
     "text": [
      "Tip capacitance: 266\n",
      "Tip capacitance: 265\n",
      "C1\n"
     ]
    },
    {
     "ename": "KeyboardInterrupt",
     "evalue": "",
     "output_type": "error",
     "traceback": [
      "\u001b[1;31m---------------------------------------------------------------------------\u001b[0m",
      "\u001b[1;31mKeyboardInterrupt\u001b[0m                         Traceback (most recent call last)",
      "Cell \u001b[1;32mIn[295], line 8\u001b[0m\n\u001b[0;32m      5\u001b[0m pipette\u001b[39m.\u001b[39mmover\u001b[39m.\u001b[39msetSpeed(\u001b[39m50\u001b[39m)\n\u001b[0;32m      7\u001b[0m \u001b[39mif\u001b[39;00m pipette\u001b[39m.\u001b[39mliquid\u001b[39m.\u001b[39misTipOn()\u001b[39m==\u001b[39m \u001b[39mFalse\u001b[39;00m:\n\u001b[1;32m----> 8\u001b[0m     pipette\u001b[39m.\u001b[39;49mattachTip()\n\u001b[0;32m     10\u001b[0m \u001b[39m#Transfer start\u001b[39;00m\n\u001b[0;32m     11\u001b[0m start \u001b[39m=\u001b[39m time\u001b[39m.\u001b[39mtime()\n",
      "File \u001b[1;32m~\\AppData\\Roaming\\Python\\Python311\\site-packages\\controllably\\Compound\\LiquidMover\\liquidmover_utils.py:201\u001b[0m, in \u001b[0;36mLiquidMoverSetup.attachTip\u001b[1;34m(self, slot, start_tip, tip_length, channel)\u001b[0m\n\u001b[0;32m    199\u001b[0m \u001b[39mprint\u001b[39m(well\u001b[39m.\u001b[39mname)\n\u001b[0;32m    200\u001b[0m next_tip_location, tip_length \u001b[39m=\u001b[39m \u001b[39mself\u001b[39m\u001b[39m.\u001b[39mpositions[slot]\u001b[39m.\u001b[39mpop(\u001b[39m0\u001b[39m)\n\u001b[1;32m--> 201\u001b[0m \u001b[39mreturn\u001b[39;00m \u001b[39mself\u001b[39;49m\u001b[39m.\u001b[39;49mattachTipAt(next_tip_location, tip_length\u001b[39m=\u001b[39;49mtip_length, channel\u001b[39m=\u001b[39;49mchannel)\n",
      "File \u001b[1;32m~\\AppData\\Roaming\\Python\\Python311\\site-packages\\controllably\\Compound\\LiquidMover\\liquidmover_utils.py:225\u001b[0m, in \u001b[0;36mLiquidMoverSetup.attachTipAt\u001b[1;34m(self, coordinates, tip_length, channel)\u001b[0m\n\u001b[0;32m    223\u001b[0m \u001b[39mif\u001b[39;00m \u001b[39m'\u001b[39m\u001b[39meject\u001b[39m\u001b[39m'\u001b[39m \u001b[39mnot\u001b[39;00m \u001b[39min\u001b[39;00m \u001b[39mdir\u001b[39m(\u001b[39mself\u001b[39m\u001b[39m.\u001b[39mliquid):\n\u001b[0;32m    224\u001b[0m     \u001b[39mraise\u001b[39;00m \u001b[39mAttributeError\u001b[39;00m(\u001b[39m\"\u001b[39m\u001b[39m`attachTip` and `attachTipAt` methods not available.\u001b[39m\u001b[39m\"\u001b[39m)\n\u001b[1;32m--> 225\u001b[0m \u001b[39mif\u001b[39;00m \u001b[39mself\u001b[39;49m\u001b[39m.\u001b[39;49mliquid\u001b[39m.\u001b[39;49misTipOn():\n\u001b[0;32m    226\u001b[0m     \u001b[39mraise\u001b[39;00m \u001b[39mRuntimeError\u001b[39;00m(\u001b[39m\"\u001b[39m\u001b[39mPlease eject current tip before attaching new tip.\u001b[39m\u001b[39m\"\u001b[39m)\n\u001b[0;32m    228\u001b[0m tip_offset \u001b[39m=\u001b[39m np\u001b[39m.\u001b[39marray((\u001b[39m0\u001b[39m,\u001b[39m0\u001b[39m,\u001b[39m-\u001b[39mtip_length \u001b[39m+\u001b[39m \u001b[39mself\u001b[39m\u001b[39m.\u001b[39mliquid\u001b[39m.\u001b[39mtip_inset_mm))\n",
      "File \u001b[1;32m~\\AppData\\Roaming\\Python\\Python311\\site-packages\\controllably\\Transfer\\Liquid\\Sartorius\\sartorius_utils.py:547\u001b[0m, in \u001b[0;36mSartorius.isTipOn\u001b[1;34m(self)\u001b[0m\n\u001b[0;32m    540\u001b[0m \u001b[39mdef\u001b[39;00m \u001b[39misTipOn\u001b[39m(\u001b[39mself\u001b[39m) \u001b[39m-\u001b[39m\u001b[39m>\u001b[39m \u001b[39mbool\u001b[39m:\n\u001b[0;32m    541\u001b[0m \u001b[39m    \u001b[39m\u001b[39m\"\"\"\u001b[39;00m\n\u001b[0;32m    542\u001b[0m \u001b[39m    Checks and returns whether a pipette tip is attached\u001b[39;00m\n\u001b[0;32m    543\u001b[0m \u001b[39m    \u001b[39;00m\n\u001b[0;32m    544\u001b[0m \u001b[39m    Returns:\u001b[39;00m\n\u001b[0;32m    545\u001b[0m \u001b[39m        bool: whether a pipette tip in attached\u001b[39;00m\n\u001b[0;32m    546\u001b[0m \u001b[39m    \"\"\"\u001b[39;00m\n\u001b[1;32m--> 547\u001b[0m     \u001b[39mself\u001b[39;49m\u001b[39m.\u001b[39;49mgetCapacitance()\n\u001b[0;32m    548\u001b[0m     \u001b[39mprint\u001b[39m(\u001b[39mf\u001b[39m\u001b[39m'\u001b[39m\u001b[39mTip capacitance: \u001b[39m\u001b[39m{\u001b[39;00m\u001b[39mself\u001b[39m\u001b[39m.\u001b[39mcapacitance\u001b[39m}\u001b[39;00m\u001b[39m'\u001b[39m)\n\u001b[0;32m    549\u001b[0m     \u001b[39mif\u001b[39;00m \u001b[39mself\u001b[39m\u001b[39m.\u001b[39mflags[\u001b[39m'\u001b[39m\u001b[39mconductive_tips\u001b[39m\u001b[39m'\u001b[39m]:\n",
      "File \u001b[1;32m~\\AppData\\Roaming\\Python\\Python311\\site-packages\\controllably\\Transfer\\Liquid\\Sartorius\\sartorius_utils.py:443\u001b[0m, in \u001b[0;36mSartorius.getCapacitance\u001b[1;34m(self)\u001b[0m\n\u001b[0;32m    436\u001b[0m \u001b[39mdef\u001b[39;00m \u001b[39mgetCapacitance\u001b[39m(\u001b[39mself\u001b[39m) \u001b[39m-\u001b[39m\u001b[39m>\u001b[39m Union[\u001b[39mint\u001b[39m, \u001b[39mstr\u001b[39m]:\n\u001b[0;32m    437\u001b[0m \u001b[39m    \u001b[39m\u001b[39m\"\"\"\u001b[39;00m\n\u001b[0;32m    438\u001b[0m \u001b[39m    Get the capacitance as measured at the end of the pipette\u001b[39;00m\n\u001b[0;32m    439\u001b[0m \u001b[39m    \u001b[39;00m\n\u001b[0;32m    440\u001b[0m \u001b[39m    Returns:\u001b[39;00m\n\u001b[0;32m    441\u001b[0m \u001b[39m        Union[int, str]: capacitance value, or device response\u001b[39;00m\n\u001b[0;32m    442\u001b[0m \u001b[39m    \"\"\"\u001b[39;00m\n\u001b[1;32m--> 443\u001b[0m     response \u001b[39m=\u001b[39m \u001b[39mself\u001b[39;49m\u001b[39m.\u001b[39;49m_query(\u001b[39m'\u001b[39;49m\u001b[39mDN\u001b[39;49m\u001b[39m'\u001b[39;49m)\n\u001b[0;32m    444\u001b[0m     \u001b[39mtry\u001b[39;00m:\n\u001b[0;32m    445\u001b[0m         capacitance \u001b[39m=\u001b[39m \u001b[39mint\u001b[39m(response)\n",
      "File \u001b[1;32m~\\AppData\\Roaming\\Python\\Python311\\site-packages\\controllably\\Transfer\\Liquid\\Sartorius\\sartorius_utils.py:814\u001b[0m, in \u001b[0;36mSartorius._query\u001b[1;34m(self, command, timeout_s, resume_feedback, get_position)\u001b[0m\n\u001b[0;32m    812\u001b[0m     \u001b[39mif\u001b[39;00m time\u001b[39m.\u001b[39mperf_counter() \u001b[39m-\u001b[39m start_time \u001b[39m>\u001b[39m timeout_s:\n\u001b[0;32m    813\u001b[0m         \u001b[39mbreak\u001b[39;00m\n\u001b[1;32m--> 814\u001b[0m     response \u001b[39m=\u001b[39m \u001b[39mself\u001b[39;49m\u001b[39m.\u001b[39;49m_read()\n\u001b[0;32m    815\u001b[0m \u001b[39m# print(time.perf_counter() - start_time)\u001b[39;00m\n\u001b[0;32m    816\u001b[0m \u001b[39mif\u001b[39;00m command_code \u001b[39min\u001b[39;00m QUERIES:\n",
      "File \u001b[1;32m~\\AppData\\Roaming\\Python\\Python311\\site-packages\\controllably\\Transfer\\Liquid\\Sartorius\\sartorius_utils.py:834\u001b[0m, in \u001b[0;36mSartorius._read\u001b[1;34m(self)\u001b[0m\n\u001b[0;32m    832\u001b[0m response \u001b[39m=\u001b[39m \u001b[39m'\u001b[39m\u001b[39m'\u001b[39m\n\u001b[0;32m    833\u001b[0m \u001b[39mtry\u001b[39;00m:\n\u001b[1;32m--> 834\u001b[0m     response \u001b[39m=\u001b[39m \u001b[39mself\u001b[39;49m\u001b[39m.\u001b[39;49mdevice\u001b[39m.\u001b[39;49mreadline()\n\u001b[0;32m    835\u001b[0m     \u001b[39mif\u001b[39;00m \u001b[39mlen\u001b[39m(response) \u001b[39m==\u001b[39m \u001b[39m0\u001b[39m:\n\u001b[0;32m    836\u001b[0m         response \u001b[39m=\u001b[39m \u001b[39mself\u001b[39m\u001b[39m.\u001b[39mdevice\u001b[39m.\u001b[39mreadline()\n",
      "File \u001b[1;32m~\\AppData\\Roaming\\Python\\Python311\\site-packages\\serial\\serialwin32.py:288\u001b[0m, in \u001b[0;36mSerial.read\u001b[1;34m(self, size)\u001b[0m\n\u001b[0;32m    286\u001b[0m \u001b[39mif\u001b[39;00m \u001b[39mnot\u001b[39;00m read_ok \u001b[39mand\u001b[39;00m win32\u001b[39m.\u001b[39mGetLastError() \u001b[39mnot\u001b[39;00m \u001b[39min\u001b[39;00m (win32\u001b[39m.\u001b[39mERROR_SUCCESS, win32\u001b[39m.\u001b[39mERROR_IO_PENDING):\n\u001b[0;32m    287\u001b[0m     \u001b[39mraise\u001b[39;00m SerialException(\u001b[39m\"\u001b[39m\u001b[39mReadFile failed (\u001b[39m\u001b[39m{!r}\u001b[39;00m\u001b[39m)\u001b[39m\u001b[39m\"\u001b[39m\u001b[39m.\u001b[39mformat(ctypes\u001b[39m.\u001b[39mWinError()))\n\u001b[1;32m--> 288\u001b[0m result_ok \u001b[39m=\u001b[39m win32\u001b[39m.\u001b[39;49mGetOverlappedResult(\n\u001b[0;32m    289\u001b[0m     \u001b[39mself\u001b[39;49m\u001b[39m.\u001b[39;49m_port_handle,\n\u001b[0;32m    290\u001b[0m     ctypes\u001b[39m.\u001b[39;49mbyref(\u001b[39mself\u001b[39;49m\u001b[39m.\u001b[39;49m_overlapped_read),\n\u001b[0;32m    291\u001b[0m     ctypes\u001b[39m.\u001b[39;49mbyref(rc),\n\u001b[0;32m    292\u001b[0m     \u001b[39mTrue\u001b[39;49;00m)\n\u001b[0;32m    293\u001b[0m \u001b[39mif\u001b[39;00m \u001b[39mnot\u001b[39;00m result_ok:\n\u001b[0;32m    294\u001b[0m     \u001b[39mif\u001b[39;00m win32\u001b[39m.\u001b[39mGetLastError() \u001b[39m!=\u001b[39m win32\u001b[39m.\u001b[39mERROR_OPERATION_ABORTED:\n",
      "\u001b[1;31mKeyboardInterrupt\u001b[0m: "
     ]
    }
   ],
   "source": [
    "#Update target volume for transfer\n",
    "volume=1000\n",
    "\n",
    "#Check if new tip is required\n",
    "pipette.mover.setSpeed(50)\n",
    "\n",
    "if pipette.liquid.isTipOn()== False:\n",
    "    pipette.attachTip()\n",
    "\n",
    "#Transfer start\n",
    "start = time.time()\n",
    "\n",
    "#Aspirate step\n",
    "pipette.mover.safeMoveTo(source.wells['A1'].from_bottom((0,0,liquid_level-5)))\n",
    "pipette.liquid.aspirate(volume, speed=liquids_dict[liquid_name][pipette_name]['aspiration_rate'])\n",
    "time.sleep(liquids_dict[liquid_name][pipette_name]['delay_aspirate'])\n",
    "\n",
    "pipette.touchTip(source.wells['A1'])\n",
    "\n",
    "#Dispense step\n",
    "pipette.mover.safeMoveTo(balance_deck.wells['A1'].from_top((0,0,-5)))\n",
    "\n",
    "balance.tare()\n",
    "balance.clearCache()\n",
    "balance.toggleRecord(True)\n",
    "time.sleep(5)\n",
    "\n",
    "\n",
    "pipette.liquid.dispense(volume, speed=liquids_dict[liquid_name][pipette_name]['dispense_rate'])\n",
    "\n",
    "time.sleep(liquids_dict[liquid_name][pipette_name]['delay_dispense'])\n",
    "\n",
    "#Blowout step\n",
    "if liquids_dict[liquid_name][pipette_name]['blow_out'] == True:\n",
    "    pipette.liquid.blowout(home=False)\n",
    "    time.sleep(liquids_dict[liquid_name][pipette_name]['delay_blow_out'])\n",
    "\n",
    "#Transfer termination\n",
    "finish = time.time()\n",
    "time_m = finish - start\n",
    "\n",
    "pipette.mover.safeMoveTo(source.wells['A1'].top)\n",
    "time.sleep(5)\n",
    "balance.toggleRecord(False)\n",
    "if liquids_dict[liquid_name][pipette_name]['blow_out'] == True:\n",
    "    pipette.liquid.home()\n",
    "\n"
   ]
  },
  {
   "cell_type": "code",
   "execution_count": 212,
   "metadata": {},
   "outputs": [
    {
     "data": {
      "image/png": "[encoded data removed]",
      "text/plain": [
       "<Figure size 640x480 with 1 Axes>"
      ]
     },
     "metadata": {},
     "output_type": "display_data"
    }
   ],
   "source": [
    "fig,axs = plt.subplots()\n",
    "\n",
    "axs.plot(balance.buffer_df['Time'],balance.buffer_df['Mass'])\n",
    "\n",
    "axs.set_xlabel('Time')\n",
    "axs.set_ylabel('Mass')\n",
    "\n",
    "plt.show()"
   ]
  },
  {
   "cell_type": "code",
   "execution_count": 213,
   "metadata": {},
   "outputs": [],
   "source": [
    "#Record trasnfer values \n",
    "\n",
    "m = (balance.buffer_df.iloc[-10:,-1].mean()-balance.buffer_df.iloc[:10,-1].mean())/1000\n",
    "\n",
    "df = pd.concat([df,pd.DataFrame(liquids_dict[liquid_name][pipette_name],index=[0])],ignore_index=True)\n",
    "error = (m-density*volume/1000)/(density/1000*volume)*100\n",
    "df.iloc[-1,-5] = time_m\n",
    "df.iloc[-1,2] = volume\n",
    "df.iloc[-1, 0] = liquid_name\n",
    "df.iloc[-1, 1] = pipette_name\n",
    "df.iloc[-1,-6] = density\n",
    "df.iloc[-1, -4] = m\n",
    "df.iloc[-1,-3]= error\n"
   ]
  },
  {
   "cell_type": "code",
   "execution_count": 214,
   "metadata": {},
   "outputs": [],
   "source": [
    "#Update liquid level\n",
    "#liquid_level = liquid_level - 1*volume/1000\n",
    "liquid_level = liquid_level - 1.2*m/density"
   ]
  },
  {
   "cell_type": "code",
   "execution_count": 215,
   "metadata": {},
   "outputs": [
    {
     "data": {
      "text/plain": [
       "8.243709870179645"
      ]
     },
     "execution_count": 215,
     "metadata": {},
     "output_type": "execute_result"
    }
   ],
   "source": [
    "liquid_level"
   ]
  },
  {
   "cell_type": "code",
   "execution_count": 230,
   "metadata": {},
   "outputs": [
    {
     "data": {
      "text/html": [
       "<div>\n",
       "<style scoped>\n",
       "    .dataframe tbody tr th:only-of-type {\n",
       "        vertical-align: middle;\n",
       "    }\n",
       "\n",
       "    .dataframe tbody tr th {\n",
       "        vertical-align: top;\n",
       "    }\n",
       "\n",
       "    .dataframe thead th {\n",
       "        text-align: right;\n",
       "    }\n",
       "</style>\n",
       "<table border=\"1\" class=\"dataframe\">\n",
       "  <thead>\n",
       "    <tr style=\"text-align: right;\">\n",
       "      <th></th>\n",
       "      <th>liquid</th>\n",
       "      <th>pipette</th>\n",
       "      <th>volume</th>\n",
       "      <th>aspiration_rate</th>\n",
       "      <th>dispense_rate</th>\n",
       "      <th>blow_out</th>\n",
       "      <th>delay_aspirate</th>\n",
       "      <th>delay_dispense</th>\n",
       "      <th>delay_blow_out</th>\n",
       "      <th>density</th>\n",
       "      <th>time</th>\n",
       "      <th>m</th>\n",
       "      <th>%error</th>\n",
       "      <th>Transfer_Observation</th>\n",
       "      <th>Comment</th>\n",
       "    </tr>\n",
       "  </thead>\n",
       "  <tbody>\n",
       "    <tr>\n",
       "      <th>0</th>\n",
       "      <td>Viscosity_std_505</td>\n",
       "      <td>rLine1000</td>\n",
       "      <td>1000.0</td>\n",
       "      <td>80.887052</td>\n",
       "      <td>80.887052</td>\n",
       "      <td>False</td>\n",
       "      <td>5</td>\n",
       "      <td>5</td>\n",
       "      <td>0</td>\n",
       "      <td>0.8683</td>\n",
       "      <td>77.919450</td>\n",
       "      <td>0.715123</td>\n",
       "      <td>-17.641072</td>\n",
       "      <td>Incomplete aspiration and dispense</td>\n",
       "      <td>No comment</td>\n",
       "    </tr>\n",
       "    <tr>\n",
       "      <th>1</th>\n",
       "      <td>Viscosity_std_505</td>\n",
       "      <td>rLine1000</td>\n",
       "      <td>500.0</td>\n",
       "      <td>80.887052</td>\n",
       "      <td>80.887052</td>\n",
       "      <td>False</td>\n",
       "      <td>5</td>\n",
       "      <td>5</td>\n",
       "      <td>0</td>\n",
       "      <td>0.8683</td>\n",
       "      <td>65.322878</td>\n",
       "      <td>0.396219</td>\n",
       "      <td>-8.736950</td>\n",
       "      <td>Incomplete aspiration and dispense</td>\n",
       "      <td>Unsure abaout mass reading repeated</td>\n",
       "    </tr>\n",
       "    <tr>\n",
       "      <th>2</th>\n",
       "      <td>Viscosity_std_505</td>\n",
       "      <td>rLine1000</td>\n",
       "      <td>100.0</td>\n",
       "      <td>80.887052</td>\n",
       "      <td>80.887052</td>\n",
       "      <td>False</td>\n",
       "      <td>5</td>\n",
       "      <td>5</td>\n",
       "      <td>0</td>\n",
       "      <td>0.8683</td>\n",
       "      <td>56.181768</td>\n",
       "      <td>0.064871</td>\n",
       "      <td>-25.289957</td>\n",
       "      <td>Incomplete aspiration and dispense</td>\n",
       "      <td>No comment</td>\n",
       "    </tr>\n",
       "    <tr>\n",
       "      <th>3</th>\n",
       "      <td>Viscosity_std_505</td>\n",
       "      <td>rLine1000</td>\n",
       "      <td>500.0</td>\n",
       "      <td>80.887052</td>\n",
       "      <td>80.887052</td>\n",
       "      <td>False</td>\n",
       "      <td>5</td>\n",
       "      <td>5</td>\n",
       "      <td>0</td>\n",
       "      <td>0.8683</td>\n",
       "      <td>65.341112</td>\n",
       "      <td>0.367149</td>\n",
       "      <td>-15.432662</td>\n",
       "      <td>Incomplete aspiration and dispense</td>\n",
       "      <td>No comment</td>\n",
       "    </tr>\n",
       "    <tr>\n",
       "      <th>4</th>\n",
       "      <td>Viscosity_std_505</td>\n",
       "      <td>rLine1000</td>\n",
       "      <td>1000.0</td>\n",
       "      <td>80.887052</td>\n",
       "      <td>75.000000</td>\n",
       "      <td>False</td>\n",
       "      <td>5</td>\n",
       "      <td>5</td>\n",
       "      <td>0</td>\n",
       "      <td>0.8683</td>\n",
       "      <td>78.712592</td>\n",
       "      <td>0.744498</td>\n",
       "      <td>-14.257976</td>\n",
       "      <td>Incomplete aspiration and dispense</td>\n",
       "      <td>Mass read -70000 once</td>\n",
       "    </tr>\n",
       "    <tr>\n",
       "      <th>...</th>\n",
       "      <td>...</td>\n",
       "      <td>...</td>\n",
       "      <td>...</td>\n",
       "      <td>...</td>\n",
       "      <td>...</td>\n",
       "      <td>...</td>\n",
       "      <td>...</td>\n",
       "      <td>...</td>\n",
       "      <td>...</td>\n",
       "      <td>...</td>\n",
       "      <td>...</td>\n",
       "      <td>...</td>\n",
       "      <td>...</td>\n",
       "      <td>...</td>\n",
       "      <td>...</td>\n",
       "    </tr>\n",
       "    <tr>\n",
       "      <th>74</th>\n",
       "      <td>Viscosity_std_505</td>\n",
       "      <td>rLine1000</td>\n",
       "      <td>1000.0</td>\n",
       "      <td>63.000000</td>\n",
       "      <td>60.000000</td>\n",
       "      <td>False</td>\n",
       "      <td>10</td>\n",
       "      <td>8</td>\n",
       "      <td>0</td>\n",
       "      <td>0.8683</td>\n",
       "      <td>94.419233</td>\n",
       "      <td>0.853330</td>\n",
       "      <td>-1.724074</td>\n",
       "      <td>NaN</td>\n",
       "      <td>NaN</td>\n",
       "    </tr>\n",
       "    <tr>\n",
       "      <th>75</th>\n",
       "      <td>Viscosity_std_505</td>\n",
       "      <td>rLine1000</td>\n",
       "      <td>1000.0</td>\n",
       "      <td>63.000000</td>\n",
       "      <td>60.000000</td>\n",
       "      <td>False</td>\n",
       "      <td>10</td>\n",
       "      <td>8</td>\n",
       "      <td>0</td>\n",
       "      <td>0.8683</td>\n",
       "      <td>94.479330</td>\n",
       "      <td>0.853738</td>\n",
       "      <td>-1.677086</td>\n",
       "      <td>NaN</td>\n",
       "      <td>NaN</td>\n",
       "    </tr>\n",
       "    <tr>\n",
       "      <th>76</th>\n",
       "      <td>Viscosity_std_505</td>\n",
       "      <td>rLine1000</td>\n",
       "      <td>1000.0</td>\n",
       "      <td>63.000000</td>\n",
       "      <td>60.000000</td>\n",
       "      <td>True</td>\n",
       "      <td>10</td>\n",
       "      <td>8</td>\n",
       "      <td>5</td>\n",
       "      <td>0.8683</td>\n",
       "      <td>105.509734</td>\n",
       "      <td>0.754567</td>\n",
       "      <td>-13.098393</td>\n",
       "      <td>Under aspirate</td>\n",
       "      <td>Blowout before and after</td>\n",
       "    </tr>\n",
       "    <tr>\n",
       "      <th>77</th>\n",
       "      <td>Viscosity_std_505</td>\n",
       "      <td>rLine1000</td>\n",
       "      <td>500.0</td>\n",
       "      <td>63.000000</td>\n",
       "      <td>60.000000</td>\n",
       "      <td>True</td>\n",
       "      <td>10</td>\n",
       "      <td>8</td>\n",
       "      <td>5</td>\n",
       "      <td>0.8683</td>\n",
       "      <td>85.495511</td>\n",
       "      <td>0.413879</td>\n",
       "      <td>-4.669180</td>\n",
       "      <td>Under aspirate</td>\n",
       "      <td>Blowout before and after</td>\n",
       "    </tr>\n",
       "    <tr>\n",
       "      <th>78</th>\n",
       "      <td>Viscosity_std_505</td>\n",
       "      <td>rLine1000</td>\n",
       "      <td>100.0</td>\n",
       "      <td>63.000000</td>\n",
       "      <td>60.000000</td>\n",
       "      <td>True</td>\n",
       "      <td>10</td>\n",
       "      <td>8</td>\n",
       "      <td>5</td>\n",
       "      <td>0.8683</td>\n",
       "      <td>72.582325</td>\n",
       "      <td>0.102377</td>\n",
       "      <td>17.904933</td>\n",
       "      <td>Over dispense</td>\n",
       "      <td>Blowout before and after</td>\n",
       "    </tr>\n",
       "  </tbody>\n",
       "</table>\n",
       "<p>79 rows × 15 columns</p>\n",
       "</div>"
      ],
      "text/plain": [
       "               liquid    pipette  volume  aspiration_rate  dispense_rate  \\\n",
       "0   Viscosity_std_505  rLine1000  1000.0        80.887052      80.887052   \n",
       "1   Viscosity_std_505  rLine1000   500.0        80.887052      80.887052   \n",
       "2   Viscosity_std_505  rLine1000   100.0        80.887052      80.887052   \n",
       "3   Viscosity_std_505  rLine1000   500.0        80.887052      80.887052   \n",
       "4   Viscosity_std_505  rLine1000  1000.0        80.887052      75.000000   \n",
       "..                ...        ...     ...              ...            ...   \n",
       "74  Viscosity_std_505  rLine1000  1000.0        63.000000      60.000000   \n",
       "75  Viscosity_std_505  rLine1000  1000.0        63.000000      60.000000   \n",
       "76  Viscosity_std_505  rLine1000  1000.0        63.000000      60.000000   \n",
       "77  Viscosity_std_505  rLine1000   500.0        63.000000      60.000000   \n",
       "78  Viscosity_std_505  rLine1000   100.0        63.000000      60.000000   \n",
       "\n",
       "    blow_out  delay_aspirate  delay_dispense  delay_blow_out  density  \\\n",
       "0      False               5               5               0   0.8683   \n",
       "1      False               5               5               0   0.8683   \n",
       "2      False               5               5               0   0.8683   \n",
       "3      False               5               5               0   0.8683   \n",
       "4      False               5               5               0   0.8683   \n",
       "..       ...             ...             ...             ...      ...   \n",
       "74     False              10               8               0   0.8683   \n",
       "75     False              10               8               0   0.8683   \n",
       "76      True              10               8               5   0.8683   \n",
       "77      True              10               8               5   0.8683   \n",
       "78      True              10               8               5   0.8683   \n",
       "\n",
       "          time         m     %error                Transfer_Observation  \\\n",
       "0    77.919450  0.715123 -17.641072  Incomplete aspiration and dispense   \n",
       "1    65.322878  0.396219  -8.736950  Incomplete aspiration and dispense   \n",
       "2    56.181768  0.064871 -25.289957  Incomplete aspiration and dispense   \n",
       "3    65.341112  0.367149 -15.432662  Incomplete aspiration and dispense   \n",
       "4    78.712592  0.744498 -14.257976  Incomplete aspiration and dispense   \n",
       "..         ...       ...        ...                                 ...   \n",
       "74   94.419233  0.853330  -1.724074                                 NaN   \n",
       "75   94.479330  0.853738  -1.677086                                 NaN   \n",
       "76  105.509734  0.754567 -13.098393                      Under aspirate   \n",
       "77   85.495511  0.413879  -4.669180                      Under aspirate   \n",
       "78   72.582325  0.102377  17.904933                       Over dispense   \n",
       "\n",
       "                                Comment  \n",
       "0                            No comment  \n",
       "1   Unsure abaout mass reading repeated  \n",
       "2                            No comment  \n",
       "3                            No comment  \n",
       "4                 Mass read -70000 once  \n",
       "..                                  ...  \n",
       "74                                  NaN  \n",
       "75                                  NaN  \n",
       "76             Blowout before and after  \n",
       "77             Blowout before and after  \n",
       "78             Blowout before and after  \n",
       "\n",
       "[79 rows x 15 columns]"
      ]
     },
     "execution_count": 230,
     "metadata": {},
     "output_type": "execute_result"
    }
   ],
   "source": [
    "#Observe error made\n",
    "df "
   ]
  },
  {
   "cell_type": "code",
   "execution_count": 226,
   "metadata": {},
   "outputs": [
    {
     "name": "stdout",
     "output_type": "stream",
     "text": [
      "Tip capacitance: 265\n",
      "SetArmOrientation(1,1,1,1)\n",
      "receive: SetArmOrientation(1,1,1,1)\n",
      "MovJ(320.000000,-240.000000,73.510000,10.000000,0.000000,0.000000)\n",
      "Move time: 2.263s (0.500x)\n",
      "[ 320.   -240.     73.51], [10  0  0]\n",
      "SpeedFactor(20)\n",
      "receive: SpeedFactor(20)\n",
      "MovJ(320.000000,-240.000000,200.000000,10.000000,0.000000,0.000000)\n",
      "Move time: 6.325s (0.200x)\n",
      "[ 320. -240.  200.], [10  0  0]\n",
      "SpeedFactor(50)\n",
      "receive: SpeedFactor(50)\n",
      "MovJ(232.616399,194.960923,200.000000,10.000000,0.000000,0.000000)\n",
      "Move time: 8.699s (0.500x)\n",
      "[232.61639907 194.96092349 200.        ], [10  0  0]\n",
      "SpeedFactor(20)\n",
      "receive: SpeedFactor(20)\n",
      "MovJ(232.616399,194.960923,114.400000,10.000000,0.000000,0.000000)\n",
      "Move time: 4.280s (0.200x)\n",
      "[232.61639907 194.96092349 114.4       ], [10  0  0]\n",
      "SpeedFactor(50)\n",
      "receive: SpeedFactor(50)\n"
     ]
    },
    {
     "data": {
      "text/plain": [
       "array([524.5,  50. ,  70. ])"
      ]
     },
     "execution_count": 226,
     "metadata": {},
     "output_type": "execute_result"
    }
   ],
   "source": [
    "pipette.ejectTipAt(bin.wells['A1'].top)"
   ]
  },
  {
   "cell_type": "code",
   "execution_count": 189,
   "metadata": {},
   "outputs": [
    {
     "data": {
      "text/plain": [
       "1.1531255231520707"
      ]
     },
     "execution_count": 189,
     "metadata": {},
     "output_type": "execute_result"
    }
   ],
   "source": [
    "5.5/(df.iloc[-5:]['m']/density).sum()"
   ]
  },
  {
   "cell_type": "code",
   "execution_count": 237,
   "metadata": {},
   "outputs": [],
   "source": [
    "#Assign category of observation of transfer such as Incomplete Dispense, Incomplete Aspiration, \n",
    "#Incomplete Aspiration and Dispense, Complete Transfer. \n",
    "#Comment if any unexpected exprimental mistakes or changes were performed that have to be taken into account.\n",
    "df.iloc[-1,-2]= 'Complete Transfer'\n",
    "df.iloc[-1,-1]= 'Within Error'"
   ]
  },
  {
   "attachments": {},
   "cell_type": "markdown",
   "metadata": {},
   "source": [
    "Update dictionary with new parameters until transfer error is within a -2.5-2.5% range "
   ]
  },
  {
   "cell_type": "code",
   "execution_count": 223,
   "metadata": {},
   "outputs": [],
   "source": [
    "liquids_dict = {\n",
    "  liquid_name :{\n",
    "        \"rLine1000\": {\n",
    "            \"aspiration_rate\": 63, \n",
    "            \"dispense_rate\": 60, \n",
    "            \"blow_out\" : False, \n",
    "            \"delay_aspirate\" : 10, \n",
    "            \"delay_dispense\" : 10, \n",
    "            \"delay_blow_out\" : 0, \n",
    "            },\n",
    "    }\n",
    "\n",
    "}\n"
   ]
  },
  {
   "cell_type": "markdown",
   "metadata": {},
   "source": [
    "Save data, can be used at any time."
   ]
  },
  {
   "cell_type": "code",
   "execution_count": 238,
   "metadata": {},
   "outputs": [],
   "source": [
    "df.to_csv(liquid_name+'.csv', index = False)"
   ]
  },
  {
   "cell_type": "markdown",
   "metadata": {},
   "source": [
    "## Auxiliary code"
   ]
  },
  {
   "cell_type": "code",
   "execution_count": null,
   "metadata": {},
   "outputs": [],
   "source": [
    "mover = platform.setup.mover\n",
    "from controllably.Control.GUI import MoverPanel\n",
    "gui = MoverPanel(mover=mover, axes=['X','Y','Z','a'])\n",
    "gui.runGUI()\n"
   ]
  },
  {
   "cell_type": "code",
   "execution_count": 246,
   "metadata": {},
   "outputs": [
    {
     "name": "stdout",
     "output_type": "stream",
     "text": [
      "SpeedFactor(100)\n",
      "receive: SpeedFactor(100)\n",
      "MovJ(206.843094,-146.682146,200.000000,10.000000,0.000000,0.000000)\n",
      "Move time: 1.265s (1.000x)\n",
      "[ 206.84309407 -146.68214574  200.        ], [10  0  0]\n",
      "SpeedFactor(50)\n",
      "receive: SpeedFactor(50)\n",
      "MovJ(300.000000,0.000000,200.000000,10.000000,0.000000,0.000000)\n",
      "Move time: 2.934s (0.500x)\n",
      "[3.00000000e+02 1.13686838e-13 2.00000000e+02], [10  0  0]\n",
      "SpeedFactor(100)\n",
      "receive: SpeedFactor(100)\n",
      "MovJ(300.000000,0.000000,200.000000,10.000000,0.000000,0.000000)\n",
      "Move time: 0.000s (1.000x)\n",
      "[3.00000000e+02 1.13686838e-13 2.00000000e+02], [10  0  0]\n",
      "SpeedFactor(50)\n",
      "receive: SpeedFactor(50)\n",
      "Homed\n"
     ]
    },
    {
     "data": {
      "text/plain": [
       "True"
      ]
     },
     "execution_count": 246,
     "metadata": {},
     "output_type": "execute_result"
    }
   ],
   "source": [
    "pipette.mover.home()"
   ]
  },
  {
   "cell_type": "code",
   "execution_count": null,
   "metadata": {},
   "outputs": [],
   "source": [
    "#This command will clear out remaining liquid in the tip if the dispense was incomplete.\n",
    "\n",
    "pipette.liquid.blowout(home=False)\n",
    "time.sleep(5)\n",
    "pipette.touchTip(source.wells['A1'])\n",
    "pipette.liquid.home()\n",
    "\n",
    "pipette.liquid.blowout(home=False)\n",
    "time.sleep(5)\n",
    "pipette.touchTip(source.wells['A1'])\n",
    "pipette.liquid.home()\n",
    "\n",
    "pipette.liquid.blowout(home=False)\n",
    "time.sleep(5)\n",
    "pipette.touchTip(source.wells['A1'])\n",
    "pipette.liquid.home()\n"
   ]
  },
  {
   "cell_type": "code",
   "execution_count": 112,
   "metadata": {},
   "outputs": [
    {
     "name": "stdout",
     "output_type": "stream",
     "text": [
      "COM4: USB Serial Port (COM4) [USB VID:PID=0403:6001 SER=FT4X2KJZA]\n",
      "COM5: USB-SERIAL CH340 (COM5) [USB VID:PID=1A86:7523 SER= LOCATION=1-4.4]\n"
     ]
    }
   ],
   "source": [
    "#Check for COM ports currently connected in case there are communcation issues\n",
    "import serial.tools.list_ports\n",
    "\n",
    "ports = serial.tools.list_ports.comports()\n",
    "for port, desc, hwid in sorted(ports):\n",
    "    print(\"{}: {} [{}]\".format(port, desc, hwid))"
   ]
  },
  {
   "cell_type": "code",
   "execution_count": 90,
   "metadata": {},
   "outputs": [],
   "source": [
    "m1 = int(balance.getMass())/balance.calibration_factor"
   ]
  },
  {
   "cell_type": "code",
   "execution_count": 91,
   "metadata": {},
   "outputs": [],
   "source": [
    "m2 = int(balance.getMass())/balance.calibration_factor"
   ]
  },
  {
   "cell_type": "code",
   "execution_count": 94,
   "metadata": {},
   "outputs": [
    {
     "name": "stdout",
     "output_type": "stream",
     "text": [
      "Help on method getMass in module controllably.Measure.Physical.balance_utils:\n",
      "\n",
      "getMass() -> str method of controllably.Measure.Physical.balance_utils.MassBalance instance\n",
      "    Get the mass of the sample by measuring the force response\n",
      "    \n",
      "    Returns:\n",
      "        str: device response\n",
      "\n"
     ]
    }
   ],
   "source": [
    "help(balance.getMass)"
   ]
  },
  {
   "cell_type": "code",
   "execution_count": 100,
   "metadata": {},
   "outputs": [
    {
     "name": "stdout",
     "output_type": "stream",
     "text": [
      "Stop listening...\n"
     ]
    }
   ],
   "source": [
    "balance.toggleRecord(False)"
   ]
  },
  {
   "cell_type": "code",
   "execution_count": 384,
   "metadata": {},
   "outputs": [
    {
     "name": "stdout",
     "output_type": "stream",
     "text": [
      "Connection opened to COM4\n",
      "Model: BRL1000-1\n",
      "Model(name='BRL1000', capacity=1000, home_position=30, max_position=443, tip_eject_position=-40, resolution=2.5, preset_speeds=PresetSpeeds(s1=150, s2=265, s3=410, s4=650, s5=945, s6=1120))\n"
     ]
    }
   ],
   "source": [
    "pipette.liquid.connect()"
   ]
  },
  {
   "cell_type": "code",
   "execution_count": 76,
   "metadata": {},
   "outputs": [
    {
     "data": {
      "text/html": [
       "<div>\n",
       "<style scoped>\n",
       "    .dataframe tbody tr th:only-of-type {\n",
       "        vertical-align: middle;\n",
       "    }\n",
       "\n",
       "    .dataframe tbody tr th {\n",
       "        vertical-align: top;\n",
       "    }\n",
       "\n",
       "    .dataframe thead th {\n",
       "        text-align: right;\n",
       "    }\n",
       "</style>\n",
       "<table border=\"1\" class=\"dataframe\">\n",
       "  <thead>\n",
       "    <tr style=\"text-align: right;\">\n",
       "      <th></th>\n",
       "      <th>Time</th>\n",
       "      <th>Value</th>\n",
       "      <th>Factor</th>\n",
       "      <th>Baseline</th>\n",
       "      <th>Mass</th>\n",
       "    </tr>\n",
       "  </thead>\n",
       "  <tbody>\n",
       "    <tr>\n",
       "      <th>1086</th>\n",
       "      <td>2023-05-03 15:54:16.340250</td>\n",
       "      <td>-258581</td>\n",
       "      <td>6.862879</td>\n",
       "      <td>228020.190803</td>\n",
       "      <td>-70903.357008</td>\n",
       "    </tr>\n",
       "  </tbody>\n",
       "</table>\n",
       "</div>"
      ],
      "text/plain": [
       "                           Time    Value    Factor       Baseline  \\\n",
       "1086 2023-05-03 15:54:16.340250  -258581  6.862879  228020.190803   \n",
       "\n",
       "              Mass  \n",
       "1086 -70903.357008  "
      ]
     },
     "execution_count": 76,
     "metadata": {},
     "output_type": "execute_result"
    }
   ],
   "source": [
    "balance.buffer_df.where(balance.buffer_df.Mass<-100).dropna()"
   ]
  },
  {
   "cell_type": "code",
   "execution_count": 289,
   "metadata": {},
   "outputs": [
    {
     "name": "stdout",
     "output_type": "stream",
     "text": [
      "SpeedFactor(100)\n",
      "receive: SpeedFactor(100)\n",
      "MovJ(300.000000,0.000000,200.000000,10.000000,0.000000,0.000000)\n",
      "Move time: 0.000s (1.000x)\n",
      "[3.00000000e+02 1.13686838e-13 2.00000000e+02], [10  0  0]\n",
      "SpeedFactor(50)\n",
      "receive: SpeedFactor(50)\n",
      "MovJ(206.843094,-146.682146,200.000000,10.000000,0.000000,0.000000)\n",
      "Move time: 2.934s (0.500x)\n",
      "[ 206.84309407 -146.68214574  200.        ], [10  0  0]\n",
      "SpeedFactor(100)\n",
      "receive: SpeedFactor(100)\n",
      "MovJ(206.843094,-146.682146,60.510000,10.000000,0.000000,0.000000)\n",
      "Move time: 1.395s (1.000x)\n",
      "[ 206.84309407 -146.68214574   60.51      ], [10  0  0]\n",
      "SpeedFactor(50)\n",
      "receive: SpeedFactor(50)\n",
      "Aspirating 1000.0 uL...\n",
      "Aspiration time: 2.4392868999857455s\n",
      "SpeedFactor(100)\n",
      "receive: SpeedFactor(100)\n",
      "MovJ(206.843094,-146.682146,200.000000,10.000000,0.000000,0.000000)\n",
      "Move time: 1.395s (1.000x)\n",
      "[ 206.84309407 -146.68214574  200.        ], [10  0  0]\n",
      "SpeedFactor(50)\n",
      "receive: SpeedFactor(50)\n",
      "MovJ(226.808719,-246.301992,200.000000,10.000000,0.000000,0.000000)\n",
      "Move time: 1.992s (0.500x)\n",
      "[ 226.8087188 -246.3019923  200.       ], [10  0  0]\n",
      "SpeedFactor(100)\n",
      "receive: SpeedFactor(100)\n",
      "MovJ(226.808719,-246.301992,119.900000,10.000000,0.000000,0.000000)\n",
      "Move time: 0.801s (1.000x)\n",
      "[ 226.8087188 -246.3019923  119.9      ], [10  0  0]\n",
      "SpeedFactor(50)\n",
      "receive: SpeedFactor(50)\n",
      "Listening...\n",
      "Zeroing... (5s)\n",
      "Stop listening...\n",
      "Zeroing complete.\n",
      "Listening...\n",
      "Dispensing 1000.0 uL...\n",
      "Dispense time: 2.439402399933897s\n",
      "Stop listening...\n",
      "SpeedFactor(100)\n",
      "receive: SpeedFactor(100)\n",
      "MovJ(226.808719,-246.301992,200.000000,10.000000,0.000000,0.000000)\n",
      "Move time: 0.801s (1.000x)\n",
      "[ 226.8087188 -246.3019923  200.       ], [10  0  0]\n",
      "SpeedFactor(50)\n",
      "receive: SpeedFactor(50)\n",
      "MovJ(206.843094,-146.682146,200.000000,10.000000,0.000000,0.000000)\n",
      "Move time: 1.992s (0.500x)\n",
      "[ 206.84309407 -146.68214574  200.        ], [10  0  0]\n",
      "SpeedFactor(100)\n",
      "receive: SpeedFactor(100)\n",
      "MovJ(206.843094,-146.682146,73.510000,10.000000,0.000000,0.000000)\n",
      "Move time: 1.265s (1.000x)\n",
      "[ 206.84309407 -146.68214574   73.51      ], [10  0  0]\n",
      "SpeedFactor(50)\n",
      "receive: SpeedFactor(50)\n",
      "14.824790661935406\n",
      "SpeedFactor(100)\n",
      "receive: SpeedFactor(100)\n",
      "MovJ(206.843094,-146.682146,200.000000,10.000000,0.000000,0.000000)\n",
      "Move time: 1.265s (1.000x)\n",
      "[ 206.84309407 -146.68214574  200.        ], [10  0  0]\n",
      "SpeedFactor(50)\n",
      "receive: SpeedFactor(50)\n",
      "MovJ(206.843094,-146.682146,200.000000,10.000000,0.000000,0.000000)\n",
      "Move time: 0.000s (0.500x)\n",
      "[ 206.84309407 -146.68214574  200.        ], [10  0  0]\n",
      "SpeedFactor(100)\n",
      "receive: SpeedFactor(100)\n",
      "MovJ(206.843094,-146.682146,59.334791,10.000000,0.000000,0.000000)\n",
      "Move time: 1.407s (1.000x)\n",
      "[ 206.84309407 -146.68214574   59.33479066], [10  0  0]\n",
      "SpeedFactor(50)\n",
      "receive: SpeedFactor(50)\n",
      "Aspirating 1000.0 uL...\n",
      "Aspiration time: 2.439623099984601s\n",
      "SpeedFactor(100)\n",
      "receive: SpeedFactor(100)\n",
      "MovJ(206.843094,-146.682146,200.000000,10.000000,0.000000,0.000000)\n",
      "Move time: 1.407s (1.000x)\n",
      "[ 206.84309407 -146.68214574  200.        ], [10  0  0]\n",
      "SpeedFactor(50)\n",
      "receive: SpeedFactor(50)\n",
      "MovJ(226.808719,-246.301992,200.000000,10.000000,0.000000,0.000000)\n",
      "Move time: 1.992s (0.500x)\n",
      "[ 226.8087188 -246.3019923  200.       ], [10  0  0]\n",
      "SpeedFactor(100)\n",
      "receive: SpeedFactor(100)\n",
      "MovJ(226.808719,-246.301992,119.900000,10.000000,0.000000,0.000000)\n",
      "Move time: 0.801s (1.000x)\n",
      "[ 226.8087188 -246.3019923  119.9      ], [10  0  0]\n",
      "SpeedFactor(50)\n",
      "receive: SpeedFactor(50)\n",
      "Listening...\n",
      "Zeroing... (5s)\n",
      "Stop listening...\n",
      "Zeroing complete.\n",
      "Listening...\n",
      "Dispensing 1000.0 uL...\n",
      "Dispense time: 2.439411399886012s\n",
      "Stop listening...\n",
      "SpeedFactor(100)\n",
      "receive: SpeedFactor(100)\n",
      "MovJ(226.808719,-246.301992,200.000000,10.000000,0.000000,0.000000)\n",
      "Move time: 0.801s (1.000x)\n",
      "[ 226.8087188 -246.3019923  200.       ], [10  0  0]\n",
      "SpeedFactor(50)\n",
      "receive: SpeedFactor(50)\n",
      "MovJ(206.843094,-146.682146,200.000000,10.000000,0.000000,0.000000)\n",
      "Move time: 1.992s (0.500x)\n",
      "[ 206.84309407 -146.68214574  200.        ], [10  0  0]\n",
      "SpeedFactor(100)\n",
      "receive: SpeedFactor(100)\n",
      "MovJ(206.843094,-146.682146,73.510000,10.000000,0.000000,0.000000)\n",
      "Move time: 1.265s (1.000x)\n",
      "[ 206.84309407 -146.68214574   73.51      ], [10  0  0]\n",
      "SpeedFactor(50)\n",
      "receive: SpeedFactor(50)\n",
      "13.654442257289181\n",
      "SpeedFactor(100)\n",
      "receive: SpeedFactor(100)\n",
      "MovJ(206.843094,-146.682146,200.000000,10.000000,0.000000,0.000000)\n",
      "Move time: 1.265s (1.000x)\n",
      "[ 206.84309407 -146.68214574  200.        ], [10  0  0]\n",
      "SpeedFactor(50)\n",
      "receive: SpeedFactor(50)\n",
      "MovJ(206.843094,-146.682146,200.000000,10.000000,0.000000,0.000000)\n",
      "Move time: 0.000s (0.500x)\n",
      "[ 206.84309407 -146.68214574  200.        ], [10  0  0]\n",
      "SpeedFactor(100)\n",
      "receive: SpeedFactor(100)\n",
      "MovJ(206.843094,-146.682146,58.164442,10.000000,0.000000,0.000000)\n",
      "Move time: 1.418s (1.000x)\n",
      "[ 206.84309407 -146.68214574   58.16444226], [10  0  0]\n",
      "SpeedFactor(50)\n",
      "receive: SpeedFactor(50)\n",
      "Aspirating 1000.0 uL...\n",
      "Aspiration time: 2.439711599959992s\n",
      "SpeedFactor(100)\n",
      "receive: SpeedFactor(100)\n",
      "MovJ(206.843094,-146.682146,200.000000,10.000000,0.000000,0.000000)\n",
      "Move time: 1.418s (1.000x)\n",
      "[ 206.84309407 -146.68214574  200.        ], [10  0  0]\n",
      "SpeedFactor(50)\n",
      "receive: SpeedFactor(50)\n",
      "MovJ(226.808719,-246.301992,200.000000,10.000000,0.000000,0.000000)\n",
      "Move time: 1.992s (0.500x)\n",
      "[ 226.8087188 -246.3019923  200.       ], [10  0  0]\n",
      "SpeedFactor(100)\n",
      "receive: SpeedFactor(100)\n",
      "MovJ(226.808719,-246.301992,119.900000,10.000000,0.000000,0.000000)\n",
      "Move time: 0.801s (1.000x)\n",
      "[ 226.8087188 -246.3019923  119.9      ], [10  0  0]\n",
      "SpeedFactor(50)\n",
      "receive: SpeedFactor(50)\n",
      "Listening...\n",
      "Zeroing... (5s)\n",
      "Stop listening...\n",
      "Zeroing complete.\n",
      "Listening...\n",
      "Dispensing 1000.0 uL...\n",
      "Dispense time: 2.4394201999530196s\n",
      "Stop listening...\n",
      "SpeedFactor(100)\n",
      "receive: SpeedFactor(100)\n",
      "MovJ(226.808719,-246.301992,200.000000,10.000000,0.000000,0.000000)\n",
      "Move time: 0.801s (1.000x)\n",
      "[ 226.8087188 -246.3019923  200.       ], [10  0  0]\n",
      "SpeedFactor(50)\n",
      "receive: SpeedFactor(50)\n",
      "MovJ(206.843094,-146.682146,200.000000,10.000000,0.000000,0.000000)\n",
      "Move time: 1.992s (0.500x)\n",
      "[ 206.84309407 -146.68214574  200.        ], [10  0  0]\n",
      "SpeedFactor(100)\n",
      "receive: SpeedFactor(100)\n",
      "MovJ(206.843094,-146.682146,73.510000,10.000000,0.000000,0.000000)\n",
      "Move time: 1.265s (1.000x)\n",
      "[ 206.84309407 -146.68214574   73.51      ], [10  0  0]\n",
      "SpeedFactor(50)\n",
      "receive: SpeedFactor(50)\n",
      "12.48393648429488\n",
      "SpeedFactor(100)\n",
      "receive: SpeedFactor(100)\n",
      "MovJ(206.843094,-146.682146,200.000000,10.000000,0.000000,0.000000)\n",
      "Move time: 1.265s (1.000x)\n",
      "[ 206.84309407 -146.68214574  200.        ], [10  0  0]\n",
      "SpeedFactor(50)\n",
      "receive: SpeedFactor(50)\n",
      "MovJ(206.843094,-146.682146,200.000000,10.000000,0.000000,0.000000)\n",
      "Move time: 0.000s (0.500x)\n",
      "[ 206.84309407 -146.68214574  200.        ], [10  0  0]\n",
      "SpeedFactor(100)\n",
      "receive: SpeedFactor(100)\n",
      "MovJ(206.843094,-146.682146,56.993936,10.000000,0.000000,0.000000)\n",
      "Move time: 1.430s (1.000x)\n",
      "[ 206.84309407 -146.68214574   56.99393648], [10  0  0]\n",
      "SpeedFactor(50)\n",
      "receive: SpeedFactor(50)\n",
      "Aspirating 1000.0 uL...\n",
      "Aspiration time: 2.4394145000260323s\n",
      "SpeedFactor(100)\n",
      "receive: SpeedFactor(100)\n",
      "MovJ(206.843094,-146.682146,200.000000,10.000000,0.000000,0.000000)\n",
      "Move time: 1.430s (1.000x)\n",
      "[ 206.84309407 -146.68214574  200.        ], [10  0  0]\n",
      "SpeedFactor(50)\n",
      "receive: SpeedFactor(50)\n",
      "MovJ(226.808719,-246.301992,200.000000,10.000000,0.000000,0.000000)\n",
      "Move time: 1.992s (0.500x)\n",
      "[ 226.8087188 -246.3019923  200.       ], [10  0  0]\n",
      "SpeedFactor(100)\n",
      "receive: SpeedFactor(100)\n",
      "MovJ(226.808719,-246.301992,119.900000,10.000000,0.000000,0.000000)\n",
      "Move time: 0.801s (1.000x)\n",
      "[ 226.8087188 -246.3019923  119.9      ], [10  0  0]\n",
      "SpeedFactor(50)\n",
      "receive: SpeedFactor(50)\n",
      "Listening...\n",
      "Zeroing... (5s)\n",
      "Stop listening...\n",
      "Zeroing complete.\n",
      "Listening...\n",
      "Dispensing 1000.0 uL...\n",
      "Dispense time: 2.439336200011894s\n",
      "Stop listening...\n",
      "SpeedFactor(100)\n",
      "receive: SpeedFactor(100)\n",
      "MovJ(226.808719,-246.301992,200.000000,10.000000,0.000000,0.000000)\n",
      "Move time: 0.801s (1.000x)\n",
      "[ 226.8087188 -246.3019923  200.       ], [10  0  0]\n",
      "SpeedFactor(50)\n",
      "receive: SpeedFactor(50)\n",
      "MovJ(206.843094,-146.682146,200.000000,10.000000,0.000000,0.000000)\n",
      "Move time: 1.992s (0.500x)\n",
      "[ 206.84309407 -146.68214574  200.        ], [10  0  0]\n",
      "SpeedFactor(100)\n",
      "receive: SpeedFactor(100)\n",
      "MovJ(206.843094,-146.682146,73.510000,10.000000,0.000000,0.000000)\n",
      "Move time: 1.265s (1.000x)\n",
      "[ 206.84309407 -146.68214574   73.51      ], [10  0  0]\n",
      "SpeedFactor(50)\n",
      "receive: SpeedFactor(50)\n",
      "11.31932328166745\n",
      "SpeedFactor(100)\n",
      "receive: SpeedFactor(100)\n",
      "MovJ(206.843094,-146.682146,200.000000,10.000000,0.000000,0.000000)\n",
      "Move time: 1.265s (1.000x)\n",
      "[ 206.84309407 -146.68214574  200.        ], [10  0  0]\n",
      "SpeedFactor(50)\n",
      "receive: SpeedFactor(50)\n",
      "MovJ(206.843094,-146.682146,200.000000,10.000000,0.000000,0.000000)\n",
      "Move time: 0.000s (0.500x)\n",
      "[ 206.84309407 -146.68214574  200.        ], [10  0  0]\n",
      "SpeedFactor(100)\n",
      "receive: SpeedFactor(100)\n",
      "MovJ(206.843094,-146.682146,55.829323,10.000000,0.000000,0.000000)\n",
      "Move time: 1.442s (1.000x)\n",
      "[ 206.84309407 -146.68214574   55.82932328], [10  0  0]\n",
      "SpeedFactor(50)\n",
      "receive: SpeedFactor(50)\n",
      "Aspirating 1000.0 uL...\n",
      "Aspiration time: 2.439243800006807s\n",
      "SpeedFactor(100)\n",
      "receive: SpeedFactor(100)\n",
      "MovJ(206.843094,-146.682146,200.000000,10.000000,0.000000,0.000000)\n",
      "Move time: 1.442s (1.000x)\n",
      "[ 206.84309407 -146.68214574  200.        ], [10  0  0]\n",
      "SpeedFactor(50)\n",
      "receive: SpeedFactor(50)\n",
      "MovJ(226.808719,-246.301992,200.000000,10.000000,0.000000,0.000000)\n",
      "Move time: 1.992s (0.500x)\n",
      "[ 226.8087188 -246.3019923  200.       ], [10  0  0]\n",
      "SpeedFactor(100)\n",
      "receive: SpeedFactor(100)\n",
      "MovJ(226.808719,-246.301992,119.900000,10.000000,0.000000,0.000000)\n",
      "Move time: 0.801s (1.000x)\n",
      "[ 226.8087188 -246.3019923  119.9      ], [10  0  0]\n",
      "SpeedFactor(50)\n",
      "receive: SpeedFactor(50)\n",
      "Listening...\n",
      "Zeroing... (5s)\n",
      "Stop listening...\n",
      "Zeroing complete.\n",
      "Listening...\n",
      "Dispensing 1000.0 uL...\n",
      "Dispense time: 2.439331499976106s\n",
      "Stop listening...\n",
      "SpeedFactor(100)\n",
      "receive: SpeedFactor(100)\n",
      "MovJ(226.808719,-246.301992,200.000000,10.000000,0.000000,0.000000)\n",
      "Move time: 0.801s (1.000x)\n",
      "[ 226.8087188 -246.3019923  200.       ], [10  0  0]\n",
      "SpeedFactor(50)\n",
      "receive: SpeedFactor(50)\n",
      "MovJ(206.843094,-146.682146,200.000000,10.000000,0.000000,0.000000)\n",
      "Move time: 1.992s (0.500x)\n",
      "[ 206.84309407 -146.68214574  200.        ], [10  0  0]\n",
      "SpeedFactor(100)\n",
      "receive: SpeedFactor(100)\n",
      "MovJ(206.843094,-146.682146,73.510000,10.000000,0.000000,0.000000)\n",
      "Move time: 1.265s (1.000x)\n",
      "[ 206.84309407 -146.68214574   73.51      ], [10  0  0]\n",
      "SpeedFactor(50)\n",
      "receive: SpeedFactor(50)\n",
      "10.147331252052425\n"
     ]
    },
    {
     "data": {
      "image/png": "[encoded data removed]",
      "text/plain": [
       "<Figure size 640x480 with 1 Axes>"
      ]
     },
     "metadata": {},
     "output_type": "display_data"
    },
    {
     "data": {
      "image/png": "[encoded data removed]",
      "text/plain": [
       "<Figure size 640x480 with 1 Axes>"
      ]
     },
     "metadata": {},
     "output_type": "display_data"
    },
    {
     "data": {
      "image/png": "[encoded data removed]",
      "text/plain": [
       "<Figure size 640x480 with 1 Axes>"
      ]
     },
     "metadata": {},
     "output_type": "display_data"
    },
    {
     "data": {
      "image/png": "[encoded data removed]",
      "text/plain": [
       "<Figure size 640x480 with 1 Axes>"
      ]
     },
     "metadata": {},
     "output_type": "display_data"
    },
    {
     "data": {
      "image/png": "[encoded data removed]",
      "text/plain": [
       "<Figure size 640x480 with 1 Axes>"
      ]
     },
     "metadata": {},
     "output_type": "display_data"
    }
   ],
   "source": [
    "tries = 1\n",
    "volume = 1000\n",
    "liquid_level = 16\n",
    "df = pd.DataFrame(columns=[\"Tries\", \"Mass Change\"])\n",
    "pipette.mover.setHandedness(False)\n",
    "\n",
    "while tries <= 5:\n",
    "    #Transfer start\n",
    "    start = time.time()\n",
    "\n",
    "    #Aspirate step\n",
    "    pipette.mover.safeMoveTo(source.wells['A1'].from_bottom((0,0,liquid_level-5)))\n",
    "    pipette.liquid.aspirate(volume)\n",
    "    time.sleep(5)\n",
    "\n",
    "    #Dispense step\n",
    "    pipette.mover.safeMoveTo(balance_deck.wells['A1'].from_top((0,0,-5)))\n",
    "\n",
    "    balance.tare()\n",
    "    balance.clearCache()\n",
    "    balance.toggleRecord(True)\n",
    "    time.sleep(5)\n",
    "    \n",
    "    pipette.liquid.dispense(volume)\n",
    "    time.sleep(5)\n",
    "    balance.toggleRecord(False)\n",
    "\n",
    "    #Transfer termination\n",
    "    finish = time.time()\n",
    "    time_m = finish - start\n",
    "\n",
    "    pipette.mover.safeMoveTo(source.wells['A1'].top)\n",
    "    time.sleep(5)\n",
    "\n",
    "    #define m\n",
    "    m = (balance.buffer_df.iloc[-10:,-1].mean()-balance.buffer_df.iloc[:10,-1].mean())/1000\n",
    "    \n",
    "    #update df\n",
    "    df.loc[len(df)] = [tries, m]\n",
    "\n",
    "    #update liquid level\n",
    "    liquid_level = liquid_level - 1.2*m\n",
    "    print(liquid_level)\n",
    "\n",
    "    balance.buffer_df.plot('Time','Mass')\n",
    "    \n",
    "    #Increment Tries\n",
    "    tries += 1\n"
   ]
  },
  {
   "cell_type": "code",
   "execution_count": 290,
   "metadata": {},
   "outputs": [
    {
     "name": "stdout",
     "output_type": "stream",
     "text": [
      "Tip capacitance: 272\n",
      "SetArmOrientation(1,1,1,1)\n",
      "receive: SetArmOrientation(1,1,1,1)\n",
      "MovJ(320.000000,-240.000000,73.510000,10.000000,0.000000,0.000000)\n",
      "Move time: 2.263s (0.500x)\n",
      "[ 320.   -240.     73.51], [10  0  0]\n",
      "SpeedFactor(20)\n",
      "receive: SpeedFactor(20)\n",
      "MovJ(320.000000,-240.000000,200.000000,10.000000,0.000000,0.000000)\n",
      "Move time: 6.325s (0.200x)\n",
      "[ 320. -240.  200.], [10  0  0]\n",
      "SpeedFactor(50)\n",
      "receive: SpeedFactor(50)\n",
      "MovJ(232.616399,194.960923,200.000000,10.000000,0.000000,0.000000)\n",
      "Move time: 8.699s (0.500x)\n",
      "[232.61639907 194.96092349 200.        ], [10  0  0]\n",
      "SpeedFactor(20)\n",
      "receive: SpeedFactor(20)\n",
      "MovJ(232.616399,194.960923,114.400000,10.000000,0.000000,0.000000)\n",
      "Move time: 4.280s (0.200x)\n",
      "[232.61639907 194.96092349 114.4       ], [10  0  0]\n",
      "SpeedFactor(50)\n",
      "receive: SpeedFactor(50)\n",
      "SpeedFactor(100)\n",
      "receive: SpeedFactor(100)\n",
      "MovJ(232.616399,194.960923,200.000000,10.000000,0.000000,0.000000)\n",
      "Move time: 0.856s (1.000x)\n",
      "[232.61639907 194.96092349 200.        ], [10  0  0]\n",
      "SpeedFactor(50)\n",
      "receive: SpeedFactor(50)\n",
      "MovJ(300.000000,0.000000,200.000000,10.000000,0.000000,0.000000)\n",
      "Move time: 3.899s (0.500x)\n",
      "[3.00000000e+02 1.13686838e-13 2.00000000e+02], [10  0  0]\n",
      "SpeedFactor(100)\n",
      "receive: SpeedFactor(100)\n",
      "MovJ(300.000000,0.000000,200.000000,10.000000,0.000000,0.000000)\n",
      "Move time: 0.000s (1.000x)\n",
      "[3.00000000e+02 1.13686838e-13 2.00000000e+02], [10  0  0]\n",
      "SpeedFactor(50)\n",
      "receive: SpeedFactor(50)\n",
      "Homed\n"
     ]
    },
    {
     "data": {
      "text/plain": [
       "True"
      ]
     },
     "execution_count": 290,
     "metadata": {},
     "output_type": "execute_result"
    }
   ],
   "source": [
    "pipette.ejectTipAt(bin.wells['A1'].top)\n",
    "pipette.mover.home()"
   ]
  },
  {
   "cell_type": "code",
   "execution_count": 294,
   "metadata": {},
   "outputs": [
    {
     "data": {
      "text/plain": [
       "1.1276906799679203"
      ]
     },
     "execution_count": 294,
     "metadata": {},
     "output_type": "execute_result"
    }
   ],
   "source": [
    "5.5/df['Mass Change'].sum()\n"
   ]
  },
  {
   "cell_type": "code",
   "execution_count": 278,
   "metadata": {},
   "outputs": [
    {
     "name": "stdout",
     "output_type": "stream",
     "text": [
      "Stop listening...\n"
     ]
    }
   ],
   "source": [
    "balance.toggleRecord(False)"
   ]
  },
  {
   "cell_type": "code",
   "execution_count": null,
   "metadata": {},
   "outputs": [],
   "source": []
  }
 ],
 "metadata": {
  "kernelspec": {
   "display_name": "Python 3 (ipykernel)",
   "language": "python",
   "name": "python3"
  },
  "language_info": {
   "codemirror_mode": {
    "name": "ipython",
    "version": 3
   },
   "file_extension": ".py",
   "mimetype": "text/x-python",
   "name": "python",
   "nbconvert_exporter": "python",
   "pygments_lexer": "ipython3",
   "version": "3.11.1"
  }
 },
 "nbformat": 4,
 "nbformat_minor": 2
}
