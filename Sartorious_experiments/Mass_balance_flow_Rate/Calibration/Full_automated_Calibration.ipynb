{
 "cells": [
  {
   "attachments": {},
   "cell_type": "markdown",
   "metadata": {},
   "source": [
    "# full_automated_calibration\n",
    "1. imports\n",
    "2. robot initialisation and checks\n",
    "3. finding flow_rate_aspirate\n",
    "3. loop pipetting using 5 point initialisation parameters\n"
   ]
  },
  {
   "attachments": {},
   "cell_type": "markdown",
   "metadata": {},
   "source": [
    "### Imports"
   ]
  },
  {
   "cell_type": "code",
   "execution_count": null,
   "metadata": {},
   "outputs": [],
   "source": [
    "#General Imports\n",
    "from datetime import datetime, date\n",
    "import os\n",
    "import time\n",
    "import pandas as pd\n",
    "import numpy as np\n",
    "import scipy\n",
    "from scipy import signal\n",
    "import re\n",
    "from sklearn.linear_model import LinearRegression\n",
    "\n",
    "# plotting dependencies\n",
    "import matplotlib\n",
    "from matplotlib import pyplot as plt\n",
    "%matplotlib inline\n",
    "\n",
    "SMALL_SIZE = 14\n",
    "MEDIUM_SIZE = 18\n",
    "BIGGER_SIZE = 20\n",
    "\n",
    "plt.rc('axes', titlesize=SMALL_SIZE)     # fontsize of the axes title\n",
    "plt.rc('axes', labelsize=MEDIUM_SIZE)    # fontsize of the x and y labels\n",
    "plt.rc('xtick', labelsize=SMALL_SIZE)    # fontsize of the tick labels\n",
    "plt.rc('ytick', labelsize=SMALL_SIZE)    # fontsize of the tick labels\n",
    "plt.rc('legend', fontsize=SMALL_SIZE)    # legend fontsize\n",
    "plt.rc('figure', titlesize=BIGGER_SIZE)  # fontsize of the figure title\n",
    "\n"
   ]
  },
  {
   "attachments": {},
   "cell_type": "markdown",
   "metadata": {},
   "source": [
    "### Robot initialisation and checks"
   ]
  },
  {
   "cell_type": "code",
   "execution_count": null,
   "metadata": {},
   "outputs": [],
   "source": [
    "#Import robot related packages and run setup\n",
    "import pandas as pd\n",
    "import time\n",
    "from matplotlib import pyplot as plt\n",
    "from pathlib import Path\n",
    "import sys\n",
    "REPOS = 'GitHub'\n",
    "ROOT = str(Path().absolute()).split(REPOS)[0]\n",
    "sys.path.append(f'{ROOT}{REPOS}')\n",
    "\n",
    "from polylectric.configs.SynthesisB1 import SETUP, LAYOUT_FILE\n",
    "\n",
    "from controllably import load_deck      # optional\n",
    "load_deck(SETUP.setup, LAYOUT_FILE)     # optional\n",
    "\n",
    "platform = SETUP\n",
    "platform.mover.verbose = False #askpablo"
   ]
  },
  {
   "cell_type": "code",
   "execution_count": null,
   "metadata": {},
   "outputs": [],
   "source": [
    "#Initialization of variables for platform objects\n",
    "pipette= platform.setup\n",
    "deck = platform.setup.deck\n",
    "balance = platform.balance\n",
    "balance_deck = deck.slots['1']\n",
    "source = deck.slots['2']\n",
    "tip_rack = deck.slots['3']\n",
    "bin = deck.slots['4']\n",
    "pipette.mover.setSpeed(50)\n",
    "print(balance_deck)\n",
    "print(source)\n",
    "print(tip_rack)\n",
    "print(bin)"
   ]
  },
  {
   "cell_type": "code",
   "execution_count": null,
   "metadata": {},
   "outputs": [],
   "source": [
    "#Check if balance is connected\n",
    "balance.zero() #to tare\n",
    "balance.toggleRecord(True) # turn on and record weight\n",
    "time.sleep(5) # do previous action for 5s\n",
    "print(balance.buffer_df.iloc[-1]) #iloc can take -1, loc needs to be 839 loc[839,[\"Time\",\"Value\",\"Factor\",\"Baseline\",\"Mass\"]]. -1 is last line. to find number of last line, print(balance.buffer_df)\n",
    "balance.toggleRecord(False) #turn off"
   ]
  },
  {
   "cell_type": "code",
   "execution_count": null,
   "metadata": {},
   "outputs": [],
   "source": [
    "#Liquid information\n",
    "liquid_name = \"Viscosity_std_505\"\n",
    "density = 0.8683\n"
   ]
  },
  {
   "cell_type": "code",
   "execution_count": null,
   "metadata": {},
   "outputs": [],
   "source": [
    "#Establish initial height of liquid on the source vial\n",
    "pipette_name = 'rLine1000'\n",
    "initial_liquid_level = 10 # in mm"
   ]
  },
  {
   "attachments": {},
   "cell_type": "markdown",
   "metadata": {},
   "source": [
    "### Finding flow_rate_aspirate"
   ]
  },
  {
   "cell_type": "code",
   "execution_count": null,
   "metadata": {},
   "outputs": [],
   "source": [
    "#%%This cell can be used to measure the mass change profiles when you aspirate a liquid at different speed rates.\n",
    "#The run is automatically stopped when the mass change derivative is close to 0\n",
    "#folder to save files in/get files from\n",
    "REPO = 'viscosity_liquid_transfer_Pablo'\n",
    "folder = os.getcwd().split(REPO)[0]+REPO+r'\\Sartorious_experiments\\Mass_balance_flow_Rate\\Calibration'\n",
    "\n",
    "#getting datetime info to save file as todays date\n",
    "today = date.today()\n",
    "today = today.strftime(\"%Y-%m-%d\")\n",
    "now = datetime.now(tz=None)\n",
    "now = now.strftime(\"%H-%M-%S\")\n",
    "if  not os.path.exists(folder+'\\\\'+today):\n",
    "    os.mkdir(folder+'\\\\'+today)\n",
    "folder = folder+'\\\\'+today\n",
    "\n",
    "# Setting starting parameters\n",
    "speed =  265\n",
    "volume=1000\n",
    "liquid_name = 'Viscosity_std_505'\n",
    "filename = folder + '/' +'/'+ today + \"_\" + now[:-3] + '_' +liquid_name+'_'+str(speed).replace('.','_') \n",
    "pipette.mover.setSpeed(50)\n",
    "pipette.mover.setHandedness(False)\n",
    "liquid_level = initial_liquid_level\n",
    "\n",
    "#attach pipette tip\n",
    "if pipette.liquid.isTipOn()== False:\n",
    "    pipette.attachTip()\n",
    "\n",
    "#Moving to balance to aspirate\n",
    "# if pipette.mover.getToolPosition()[0] != balance_deck.wells['A1'].from_top((0,0,-10)):\n",
    "#     \n",
    "pipette.mover.safeMoveTo(balance_deck.wells['A1'].from_bottom((0,0,liquid_level-5)),descent_speed_fraction=0.25)\n",
    "\n",
    "#Starting balance measurement\n",
    "time.sleep(5)\n",
    "balance.zero(wait=5)\n",
    "balance.clearCache()\n",
    "balance.toggleRecord(on=True)\n",
    "time.sleep(15)\n",
    "\n",
    "pipette.liquid.aspirate(volume, speed=speed)\n",
    "\n",
    "#Switching the balance off after change in mass is less than 0.05\n",
    "while True:\n",
    "    data = balance.buffer_df\n",
    "    data['Mass_smooth']= signal.savgol_filter(data['Mass'],91,1)\n",
    "    data['Mass_derivative_smooth']=data['Mass_smooth'].diff()\n",
    "    condition=data['Mass_derivative_smooth'].rolling(30).mean().iloc[-1]\n",
    "    if condition>-0.05:\n",
    "        break\n",
    "print('loop stopped')\n",
    "\n",
    "#dispensing liquid at the rate specified\n",
    "time.sleep(10)\n",
    "pipette.mover.setSpeed(50)\n",
    "pipette.mover.moveTo(balance_deck.wells['A1'].from_top((0,0,10)))\n",
    "pipette.liquid.dispense(1000, speed=20)\n",
    "time.sleep(10)\n",
    "#switching balance off and saving csv\n",
    "balance.toggleRecord(on=False)\n",
    "balance.buffer_df.to_csv(filename + '.csv')"
   ]
  },
  {
   "cell_type": "code",
   "execution_count": null,
   "metadata": {},
   "outputs": [],
   "source": []
  },
  {
   "cell_type": "code",
   "execution_count": null,
   "metadata": {},
   "outputs": [],
   "source": [
    "#using data from balance buffer_df above, calculate time in seconds and mass derivatives\n",
    "data['ts'] = data['Time'].astype('datetime64[ns]').values.astype('float') / 10 ** 9\n",
    "data['ts']= data['ts']-data['ts'][0]\n",
    "# data['Mass']=files_dict[key]['Mass']-files_dict[key]['Mass'][0]\n",
    "data['Mass_analysis_smooth']= signal.savgol_filter(data['Mass'],91,89)\n",
    "data['Mass_analysis_derivative_smooth']=data['Mass_analysis_smooth'].diff()\n",
    "filename = folder + '/' +'/'+ today + \"_\" + now[:-3] + '_' +liquid_name+'_'+str(speed).replace('.','_') \n",
    "data.to_csv(filename + '_complete_data.csv')"
   ]
  },
  {
   "cell_type": "code",
   "execution_count": null,
   "metadata": {},
   "outputs": [],
   "source": [
    "#Defining sigmoid function (to smooth out jagged curve and get a better derivative)\n",
    "from scipy.optimize import curve_fit\n",
    "def sigmoid(x, L ,x0, k, b):\n",
    "    y = L / (1 + np.exp(-k*(x-x0))) + b\n",
    "    return (y)\n",
    "\n",
    "#plotting time \n",
    "xdata = data.where(data['ts']>15).dropna()['ts']\n",
    "ydata = data.where(data['ts']>15).dropna()['Mass']\n",
    "\n",
    "p0 = [max(ydata)+30, np.median(xdata),1,min(ydata)] # this is an mandatory initial guess\n",
    "print(p0)\n",
    "\n",
    "popt, pcov = curve_fit(sigmoid, xdata, ydata,p0)\n",
    "\n",
    "yfit = sigmoid(xdata,popt[0],popt[1],popt[2],popt[3])\n",
    "\n",
    "    \n",
    "\n",
    "fig,axs = plt.subplots(2)\n",
    "axs[0].plot(xdata,ydata,color = 'red', label= liquid_name + ' raw data')\n",
    "axs[0].plot(xdata,yfit,color = 'blue', label= 'sigmoid fit')\n",
    "axs[0].legend()\n",
    "axs[1].plot(xdata,yfit.diff(),color = 'green', label= 'fit derivative')\n",
    "axs[1].plot(xdata,yfit.diff().rolling(4).mean(),color='red')\n",
    "axs[1].legend()"
   ]
  },
  {
   "cell_type": "code",
   "execution_count": null,
   "metadata": {},
   "outputs": [],
   "source": [
    "xdata = data.where(data['ts']>15).dropna()['ts']\n",
    "ydata = data.where(data['ts']>15).dropna()['Mass']\n",
    "\n",
    "p0 = [max(ydata)+30, np.median(xdata),1,min(ydata)] # this is an mandatory initial guess\n",
    "print(p0)\n",
    "\n",
    "popt, pcov = curve_fit(sigmoid, xdata, ydata,p0)\n",
    "\n",
    "yfit = sigmoid(xdata,popt[0],popt[1],popt[2],popt[3])\n",
    "\n",
    "diff_curve = yfit.diff().rolling(4).mean()\n",
    "\n",
    "#get the index of the minimum differentiated mass/time function\n",
    "min_index = np.where(diff_curve == diff_curve.min())[0][0]\n",
    "#using min index to get average of dM/dt at min\n",
    "initial_flow_rate_aspirate = - (diff_curve[min_index-5:min_index+5].mean() / density)\n",
    "\n"
   ]
  },
  {
   "attachments": {},
   "cell_type": "markdown",
   "metadata": {},
   "source": [
    "### Loop pipetting using 5 point initialisation parameters"
   ]
  },
  {
   "cell_type": "code",
   "execution_count": null,
   "metadata": {},
   "outputs": [],
   "source": [
    "initial_flow_rate_aspirate "
   ]
  },
  {
   "cell_type": "code",
   "execution_count": null,
   "metadata": {},
   "outputs": [],
   "source": [
    "#New dataframe\n",
    "df = pd.DataFrame(columns = ['liquid', 'pipette', 'volume', 'aspiration_rate', 'dispense_rate','blow_out', 'delay_aspirate', 'delay_dispense', 'delay_blow_out', 'density', 'time', 'm', '%error', 'Transfer_Observation', 'Comment'])\n",
    "df = df.astype({'liquid':str,'pipette':str,'blow_out':bool,'Transfer_Observation':str,'Comment':str})\n",
    "\n",
    "#load dataframe if experiment was done halfway previously\n",
    "# df = pd.read_csv(liquid_name+'.csv')"
   ]
  },
  {
   "cell_type": "code",
   "execution_count": null,
   "metadata": {},
   "outputs": [],
   "source": [
    "liquids_dict = {\n",
    "  liquid_name :{ # why so many dict #askpablo\n",
    "        \"rLine1000\": {\n",
    "            \"aspiration_rate\": initial_flow_rate_aspirate,\n",
    "            \"dispense_rate\": initial_flow_rate_aspirate,\n",
    "            \"blow_out\" : False,\n",
    "            \"delay_aspirate\" : 10, \n",
    "            \"delay_dispense\" : 10, \n",
    "            \"delay_blow_out\" : 0, \n",
    "            },\n",
    "    }\n",
    "\n",
    "}"
   ]
  },
  {
   "cell_type": "code",
   "execution_count": null,
   "metadata": {},
   "outputs": [],
   "source": [
    "#Check if new tip is required\n",
    "pipette.mover.setSpeed(50)\n",
    "pipette.mover.setHandedness(False)\n",
    "\n",
    "if pipette.liquid.isTipOn()== False:\n",
    "    pipette.attachTip()\n",
    "\n",
    "#setup for loops\n",
    "#TO BE CHANGED (sometimes)\n",
    "iterations = 5\n",
    "volumes_list = [1000, 500, 300]\n",
    "\n",
    "#NOT TO BE CHANGED\n",
    "liquid_level = initial_liquid_level\n",
    "counter = 5\n",
    "\n",
    "#while loop\n",
    "while counter <= iterations:\n",
    "\n",
    "    #hardcoding aspirate and dispense rates:\n",
    "    if counter == 1:\n",
    "        liquids_dict[liquid_name][pipette_name]['aspiration_rate'] = initial_flow_rate_aspirate\n",
    "        liquids_dict[liquid_name][pipette_name]['dispense_rate'] = initial_flow_rate_aspirate\n",
    "    if counter == 2:\n",
    "        liquids_dict[liquid_name][pipette_name]['aspiration_rate'] = 1.25 * initial_flow_rate_aspirate\n",
    "        liquids_dict[liquid_name][pipette_name]['dispense_rate'] = 1.25 * initial_flow_rate_aspirate\n",
    "    if counter == 3:\n",
    "        liquids_dict[liquid_name][pipette_name]['aspiration_rate'] = 1.25 * initial_flow_rate_aspirate\n",
    "        liquids_dict[liquid_name][pipette_name]['dispense_rate'] = 0.1 * initial_flow_rate_aspirate\n",
    "    if counter == 4:\n",
    "        liquids_dict[liquid_name][pipette_name]['aspiration_rate'] = 0.1 * initial_flow_rate_aspirate\n",
    "        liquids_dict[liquid_name][pipette_name]['dispense_rate'] = 1.25 * initial_flow_rate_aspirate\n",
    "    if counter == 5:\n",
    "        liquids_dict[liquid_name][pipette_name]['aspiration_rate'] = 0.1 * initial_flow_rate_aspirate\n",
    "        liquids_dict[liquid_name][pipette_name]['dispense_rate'] = 0.1 * initial_flow_rate_aspirate\n",
    "\n",
    "\n",
    "    #for loop\n",
    "    for volume in volumes_list:\n",
    "        #liquid transfer\n",
    "        #transfer start\n",
    "        start = time.time() \n",
    "\n",
    "        #aspirate step\n",
    "        pipette.mover.safeMoveTo(source.wells['A1'].from_bottom((0,0,liquid_level-5))) \n",
    "        pipette.liquid.aspirate(volume, speed=liquids_dict[liquid_name][pipette_name]['aspiration_rate'])\n",
    "        time.sleep(liquids_dict[liquid_name][pipette_name]['delay_aspirate'])\n",
    "\n",
    "        pipette.touchTip(source.wells['A1']) \n",
    "\n",
    "        #dispense step\n",
    "        pipette.mover.safeMoveTo(balance_deck.wells['A1'].from_top((0,0,-5))) \n",
    "        balance.tare() \n",
    "        balance.clearCache() \n",
    "        balance.toggleRecord(True) \n",
    "        time.sleep(5)\n",
    "        pipette.liquid.dispense(volume, speed=liquids_dict[liquid_name][pipette_name]['dispense_rate'])\n",
    "        time.sleep(liquids_dict[liquid_name][pipette_name]['delay_dispense'])\n",
    "\n",
    "        #blowout step\n",
    "        if liquids_dict[liquid_name][pipette_name]['blow_out'] == True: \n",
    "            pipette.liquid.blowout(home=False)\n",
    "            time.sleep(liquids_dict[liquid_name][pipette_name]['delay_blow_out']) \n",
    "\n",
    "        #transfer termination\n",
    "        finish = time.time() \n",
    "        time_m = finish - start\n",
    "\n",
    "        pipette.mover.safeMoveTo(source.wells['A1'].top) \n",
    "        time.sleep(5)\n",
    "        balance.toggleRecord(False) \n",
    "        if liquids_dict[liquid_name][pipette_name]['blow_out'] == True:\n",
    "            pipette.liquid.home() \n",
    "\n",
    "        #do blowout\n",
    "        pipette.liquid.blowout(home=False) \n",
    "        time.sleep(5)\n",
    "        pipette.touchTip(source.wells['A1'])\n",
    "        pipette.liquid.home()\n",
    "        time.sleep(5)\n",
    "        pipette.liquid.blowout(home=False)\n",
    "        time.sleep(5)\n",
    "        pipette.touchTip(source.wells['A1'])\n",
    "        pipette.liquid.home()\n",
    "        time.sleep(5)\n",
    "        pipette.liquid.blowout(home=False)\n",
    "        time.sleep(5)\n",
    "        pipette.touchTip(source.wells['A1'])\n",
    "        pipette.liquid.home()\n",
    "\n",
    "        #record transfer values \n",
    "        #calculating mass error functions\n",
    "        m = (balance.buffer_df.iloc[-10:,-1].mean()-balance.buffer_df.iloc[:10,-1].mean())/1000 \n",
    "        error = (m-density*volume/1000)/(density/1000*volume)*100\n",
    "\n",
    "        #making new dataframe + filling it in\n",
    "        df = pd.concat([df,pd.DataFrame(liquids_dict[liquid_name][pipette_name],index=[0])],ignore_index=True)\n",
    "        df.iloc[-1,-4] = time_m\n",
    "        df.iloc[-1,2] = volume\n",
    "        df.iloc[-1, 0] = liquid_name\n",
    "        df.iloc[-1, 1] = pipette_name\n",
    "        df.iloc[-1,-5] = density\n",
    "        df.iloc[-1, -3] = m\n",
    "        df.iloc[-1,-2]= error\n",
    "\n",
    "        #change liquid levels\n",
    "        liquid_level = liquid_level - 1.2*m/density   \n",
    "\n",
    "        #printing checks\n",
    "        print(\"LIQUID LEVEL: \" +str(liquid_level) + \"   LIQUID CHANGE: \" +str(1.2*m/density) + \"   ITERATION: \" + str(counter) + \", \" + \"VOLUME: \" + str(volume))    \n",
    "\n",
    "        #liquid level checks\n",
    "        if (1.2*m/density > 1.2) or (1.2*m/density < 0):\n",
    "            break\n",
    "        if (liquid_level > initial_liquid_level) or (liquid_level < 6):\n",
    "            break\n",
    "     #liquid level checks\n",
    "    if (1.2*m/density > 1.2) or (1.2*m/density < 0):\n",
    "        break\n",
    "    if (liquid_level > initial_liquid_level) or (liquid_level < 6):\n",
    "        break\n",
    "    \n",
    "    counter += 1\n",
    "\n"
   ]
  },
  {
   "cell_type": "code",
   "execution_count": null,
   "metadata": {},
   "outputs": [],
   "source": [
    "#To save the csv\n",
    "df.to_csv(liquid_name+'.csv', index = False)"
   ]
  },
  {
   "cell_type": "code",
   "execution_count": null,
   "metadata": {},
   "outputs": [],
   "source": [
    "pipette.mover.home()"
   ]
  },
  {
   "cell_type": "code",
   "execution_count": null,
   "metadata": {},
   "outputs": [],
   "source": [
    "df = df.drop(7)"
   ]
  },
  {
   "cell_type": "code",
   "execution_count": null,
   "metadata": {},
   "outputs": [],
   "source": [
    "balance.connect()"
   ]
  },
  {
   "cell_type": "code",
   "execution_count": null,
   "metadata": {},
   "outputs": [],
   "source": [
    "fig,axs = plt.subplots()\n",
    "\n",
    "axs.plot(balance.buffer_df['Time'],balance.buffer_df['Mass'])\n",
    "\n",
    "axs.set_xlabel('Time')\n",
    "axs.set_ylabel('Mass')\n",
    "\n",
    "plt.show()"
   ]
  },
  {
   "cell_type": "code",
   "execution_count": null,
   "metadata": {},
   "outputs": [],
   "source": [
    "pipette.ejectTipAt(bin.wells['A1'].top)\n",
    "pipette.mover.home()"
   ]
  },
  {
   "cell_type": "code",
   "execution_count": null,
   "metadata": {},
   "outputs": [],
   "source": []
  }
 ],
 "metadata": {
  "kernelspec": {
   "display_name": "base",
   "language": "python",
   "name": "python3"
  },
  "language_info": {
   "codemirror_mode": {
    "name": "ipython",
    "version": 3
   },
   "file_extension": ".py",
   "mimetype": "text/x-python",
   "name": "python",
   "nbconvert_exporter": "python",
   "pygments_lexer": "ipython3",
   "version": "3.11.1"
  },
  "orig_nbformat": 4
 },
 "nbformat": 4,
 "nbformat_minor": 2
}
