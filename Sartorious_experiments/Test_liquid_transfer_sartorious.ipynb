{
 "cells": [
  {
   "attachments": {},
   "cell_type": "markdown",
   "metadata": {},
   "source": [
    "# Test viscous liquid transfer\n",
    "\n",
    "The objective of this Jupyter notebook is to guide the user through the process of obtaining the liquid handling parameters that can accutately transfer volumes of viscous liquids using a rLine1000 automatic pipette. The process is based on a gravimetric method where the volume transfered with the autoamted pipette is compared with the expected mass for the transfer. The parameters are tuned to minimize the relative error calculated from the measured mass in comparison to the expected mass for each transfer. \n"
   ]
  },
  {
   "attachments": {},
   "cell_type": "markdown",
   "metadata": {},
   "source": [
    "## Initialization of automated plarform"
   ]
  },
  {
   "cell_type": "code",
   "execution_count": 1,
   "metadata": {},
   "outputs": [
    {
     "name": "stdout",
     "output_type": "stream",
     "text": [
      "Import: OK <controllably.misc.decorators>\n",
      "Import: OK <controllably.misc.misc_utils>\n",
      "Import: OK <controllably.misc.layout_utils>\n",
      "\n",
      "\n",
      "Import: OK <controllably.Compound.compound_utils>\n",
      "Import: OK <controllably.Compound.LiquidMover.liquidmover_utils>\n",
      "\n",
      "\n",
      "Import: OK <controllably.Move.mover_utils>\n",
      "Import: OK <controllably.Move.Jointed.jointed_utils>\n",
      "Import: OK <controllably.Move.Jointed.Dobot.dobot_attachments>\n",
      "Import: OK <controllably.Move.Jointed.Dobot.dobot_utils>\n",
      "ClearError()\n",
      "receive: ClearError()\n",
      "EnableRobot()\n",
      "receive: EnableRobot()\n",
      "User(0)\n",
      "receive: User(0)\n",
      "Tool(0)\n",
      "receive: Tool(0)\n",
      "Speed: 100\n",
      "SpeedFactor(100)\n",
      "receive: SpeedFactor(100)\n",
      "MovJ(300.000000,0.000000,200.000000,10.000000,0.000000,0.000000)\n",
      "Speed fraction: 1.0\n",
      "Move time: 3.5s (1.0)\n",
      "[300   0 200], [10  0  0]\n",
      "Homed\n",
      "SetArmOrientation(1,1,1,1)\n",
      "receive: SetArmOrientation(1,1,1,1)\n",
      "\n",
      "\n",
      "Import: OK <controllably.Transfer.Liquid.liquid_utils>\n",
      "Import: OK <controllably.Transfer.Liquid.Pumps.pump_utils>\n",
      "Import: OK <controllably.Transfer.Liquid.Pumps.TriContinent.tricontinent_lib>\n",
      "Import: OK <controllably.Transfer.Liquid.Pumps.TriContinent.tricontinent_utils>\n",
      "Import: OK <controllably.Transfer.Liquid.syringe_utils>\n",
      "Import: OK <controllably.Transfer.Liquid.Sartorius.sartorius_lib>\n",
      "Import: OK <controllably.Transfer.Liquid.Sartorius.sartorius_utils>\n",
      "Connection opened to COM4\n",
      "Model: BRL1000-1\n",
      "{'resolution': 2.5, 'home_position': 30, 'max_position': 443, 'tip_eject_position': -40, 'capacity': 1000, 'speed_codes': [0, 150, 265, 410, 650, 945, 1120]}\n",
      "Hardware / connection ok!\n",
      "MovJ(300.000000,0.000000,200.000000,10.000000,0.000000,0.000000)\n",
      "Speed fraction: 1.0\n",
      "Move time: 0.5s (1.0)\n",
      "[300   0 200], [10  0  0]\n",
      "Homed\n",
      "Ready!\n",
      "\n",
      "\n",
      "Import: OK <controllably.Measure.Physical.balance_utils>\n",
      "Connection opened to COM3\n",
      "\n",
      "\n",
      "Import: OK <controllably.View.image_utils>\n",
      "Import: OK <controllably.View.Classifiers.classifier_utils>\n",
      "Import: OK <controllably.View.view_utils>\n",
      "Import: OK <controllably.View.Optical.optical_utils>\n",
      "Objects created: setup, balance, camera, mover, liquid\n"
     ]
    }
   ],
   "source": [
    "#Import relevant python packages\n",
    "import pandas as pd\n",
    "import time\n",
    "\n",
    "\n",
    "from pathlib import Path\n",
    "import sys\n",
    "REPOS = 'GitHub'\n",
    "ROOT = str(Path().absolute()).split(REPOS)[0]\n",
    "sys.path.append(f'{ROOT}{REPOS}')\n",
    "\n",
    "from polylectric.configs.SynthesisB1 import SETUP, LAYOUT_FILE\n",
    "\n",
    "from controllably import load_deck      # optional\n",
    "load_deck(SETUP.setup, LAYOUT_FILE)     # optional\n",
    "\n",
    "platform = SETUP\n",
    "platform.mover.verbose = False\n"
   ]
  },
  {
   "cell_type": "code",
   "execution_count": 2,
   "metadata": {},
   "outputs": [
    {
     "name": "stdout",
     "output_type": "stream",
     "text": [
      "Mass_balance_plastic_jar 1 Well Plate 15000 uL at Slot 1\n",
      "Polyelectric 6 Well Plate 15000 ÂµL at Slot 2\n",
      "Eppendorf Motion 96 Tip Rack 1000 ÂµL at Slot 3\n",
      "Polyetric_bin at Slot 4\n"
     ]
    }
   ],
   "source": [
    "#Initialization of variables for platfomr objects\n",
    "pipette= platform.setup\n",
    "deck = platform.setup.deck\n",
    "balance = platform.balance\n",
    "balance_deck = deck.slots['1']\n",
    "source = deck.slots['2']\n",
    "tip_rack = deck.slots['3']\n",
    "bin = deck.slots['4']\n",
    "print(balance_deck)\n",
    "print(source)\n",
    "print(tip_rack)\n",
    "print(bin)\n",
    "\n",
    "\n"
   ]
  },
  {
   "cell_type": "code",
   "execution_count": 4,
   "metadata": {},
   "outputs": [],
   "source": [
    "#Stablish initial height of liquid on the source vial\n",
    "liquid_level = 30"
   ]
  },
  {
   "cell_type": "code",
   "execution_count": 5,
   "metadata": {},
   "outputs": [
    {
     "name": "stdout",
     "output_type": "stream",
     "text": [
      "Tip capacitance: 270\n",
      "Speed fraction: 1.0\n",
      "Speed fraction: 1.0\n",
      "Speed: 20\n",
      "SpeedFactor(20)\n",
      "receive: SpeedFactor(20)\n",
      "MovJ(300.000000,0.000000,200.000000,10.000000,0.000000,0.000000)\n",
      "Speed fraction: 0.2\n",
      "Move time: 0.5s (0.2)\n",
      "[300.   0. 200.], [10  0  0]\n",
      "Speed: 100\n",
      "SpeedFactor(100)\n",
      "receive: SpeedFactor(100)\n",
      "MovJ(198.894071,-3.942538,200.000000,10.000000,0.000000,0.000000)\n",
      "Speed fraction: 1.0\n",
      "Move time: 1.5110592877093922s (1.0)\n",
      "[198.89407123  -3.94253829 200.        ], [10  0  0]\n",
      "Speed: 20\n",
      "SpeedFactor(20)\n",
      "receive: SpeedFactor(20)\n",
      "MovJ(198.894071,-3.942538,72.400000,10.000000,0.000000,0.000000)\n",
      "Speed fraction: 0.2\n",
      "Move time: 6.88s (0.2)\n",
      "[198.89407123  -3.94253829  72.4       ], [10  0  0]\n",
      "Speed: 100\n",
      "SpeedFactor(100)\n",
      "receive: SpeedFactor(100)\n",
      "Speed fraction: 1.0\n",
      "Speed: 1\n",
      "SpeedFactor(1)\n",
      "receive: SpeedFactor(1)\n",
      "MovJ(198.894071,-3.942538,52.400000,10.000000,0.000000,0.000000)\n",
      "Speed fraction: 0.01\n",
      "Move time: 20.5s (0.01)\n",
      "[198.89407123  -3.94253829  52.4       ], [10  0  0]\n",
      "Speed: 100\n",
      "SpeedFactor(100)\n",
      "receive: SpeedFactor(100)\n",
      "Speed fraction: 1.0\n",
      "Speed: 20\n",
      "SpeedFactor(20)\n",
      "receive: SpeedFactor(20)\n",
      "MovJ(198.894071,-3.942538,169.300000,10.000000,0.000000,0.000000)\n",
      "Speed fraction: 0.2\n",
      "Move time: 6.345000000000001s (0.2)\n",
      "[198.89407123  -3.94253829 169.3       ], [10  0  0]\n",
      "Speed: 100\n",
      "SpeedFactor(100)\n",
      "receive: SpeedFactor(100)\n",
      "Tip capacitance: 270\n",
      "MovJ(300.000000,0.000000,200.000000,10.000000,0.000000,0.000000)\n",
      "Speed fraction: 1.0\n",
      "Move time: 1.5110592877093922s (1.0)\n",
      "[300   0 200], [10  0  0]\n",
      "Homed\n"
     ]
    },
    {
     "data": {
      "text/plain": [
       "True"
      ]
     },
     "execution_count": 5,
     "metadata": {},
     "output_type": "execute_result"
    }
   ],
   "source": [
    "#Initialize OT2 for pipetting\n",
    "\n",
    "pipette.attachTip()\n",
    "pipette.mover.home()"
   ]
  },
  {
   "cell_type": "markdown",
   "metadata": {},
   "source": [
    "## Viscous liquid protocol: Coarse approximation of pipetting parameters\n",
    "\n",
    "The first step is to obtain approximate values of aspiration and dispense rates that can be used to initia;ize the ;iqiid transfer such as aspiration and dispense rates. "
   ]
  },
  {
   "cell_type": "code",
   "execution_count": 14,
   "metadata": {},
   "outputs": [
    {
     "data": {
      "text/plain": [
       "((182.5, 70.5, 367.01), array([10,  0,  0]))"
      ]
     },
     "execution_count": 14,
     "metadata": {},
     "output_type": "execute_result"
    }
   ],
   "source": [
    "pipette.mover.getWorkspacePosition()"
   ]
  },
  {
   "cell_type": "code",
   "execution_count": 15,
   "metadata": {},
   "outputs": [
    {
     "name": "stdout",
     "output_type": "stream",
     "text": [
      "Speed fraction: 1.0\n",
      "MovJ(206.843094,-146.682146,200.000000,10.000000,0.000000,0.000000)\n",
      "Speed fraction: 1.0\n",
      "Move time: 1.6649000000000003s (1.0)\n",
      "[ 206.84309407 -146.68214574  200.        ], [10  0  0]\n",
      "MovJ(206.843094,-146.682146,200.000000,10.000000,0.000000,0.000000)\n",
      "Speed fraction: 1.0\n",
      "Move time: 0.5s (1.0)\n",
      "[ 206.84309407 -146.68214574  200.        ], [10  0  0]\n",
      "MovJ(206.843094,-146.682146,83.510000,10.000000,0.000000,0.000000)\n",
      "Speed fraction: 1.0\n",
      "Move time: 1.6649000000000003s (1.0)\n",
      "[ 206.84309407 -146.68214574   83.51      ], [10  0  0]\n",
      "Speed: 100\n",
      "SpeedFactor(100)\n",
      "receive: SpeedFactor(100)\n",
      "Speed Code: 2\n",
      "Aspirate 1000.0 uL\n",
      "Aspirate time: 5.825019836425781s\n"
     ]
    },
    {
     "data": {
      "text/plain": [
       "'ok'"
      ]
     },
     "execution_count": 15,
     "metadata": {},
     "output_type": "execute_result"
    }
   ],
   "source": [
    "#This commands will aspirate 1000ul liquid at standard flow_rate.aspirate of pippette. A timer well be started just before aspiration starts\n",
    "pipette.mover.safeMoveTo(source.wells['A1'].from_bottom((0,0,liquid_level-15)))\n",
    "start = time.time()\n",
    "pipette.liquid.aspirate(1000, speed = 265)"
   ]
  },
  {
   "cell_type": "code",
   "execution_count": 16,
   "metadata": {},
   "outputs": [
    {
     "data": {
      "text/plain": [
       "52.41162995002837"
      ]
     },
     "execution_count": 16,
     "metadata": {},
     "output_type": "execute_result"
    }
   ],
   "source": [
    "#Run this cell when no further flow of liquid into the pipette tip is observed. Calculates an approximate flow rate for \n",
    "#aspiration\n",
    "finish = time.time()\n",
    "t_aspirate = finish-start\n",
    "flow_rate_aspirate = 1000/t_aspirate\n",
    "flow_rate_aspirate"
   ]
  },
  {
   "cell_type": "code",
   "execution_count": 23,
   "metadata": {},
   "outputs": [
    {
     "name": "stdout",
     "output_type": "stream",
     "text": [
      "Speed fraction: 1.0\n",
      "MovJ(206.843094,-146.682146,200.000000,10.000000,0.000000,0.000000)\n",
      "Speed fraction: 1.0\n",
      "Move time: 1.5749000000000002s (1.0)\n",
      "[ 206.84309407 -146.68214574  200.        ], [10  0  0]\n",
      "MovJ(206.843094,-146.682146,200.000000,10.000000,0.000000,0.000000)\n",
      "Speed fraction: 1.0\n",
      "Move time: 0.5s (1.0)\n",
      "[ 206.84309407 -146.68214574  200.        ], [10  0  0]\n",
      "MovJ(206.843094,-146.682146,92.510000,10.000000,0.000000,0.000000)\n",
      "Speed fraction: 1.0\n",
      "Move time: 1.5749000000000002s (1.0)\n",
      "[ 206.84309407 -146.68214574   92.51      ], [10  0  0]\n",
      "Speed: 100\n",
      "SpeedFactor(100)\n",
      "receive: SpeedFactor(100)\n",
      "1000.0\n",
      "52.4\n",
      "Best parameters: {'delay': 1.0320887015992541, 'intervals': 17, 'standard': 650, 'step_size': 23}\n",
      "{'delay': 1.0320887015992541, 'intervals': 17, 'standard': 650, 'step_size': 23}\n",
      "Speed Code: 4\n",
      "Dispense 1000.0 uL\n",
      "Dispense time: 34.93710374832153s\n"
     ]
    },
    {
     "data": {
      "text/plain": [
       "'ok'"
      ]
     },
     "execution_count": 23,
     "metadata": {},
     "output_type": "execute_result"
    }
   ],
   "source": [
    "#This commands will dispense 900 ul of liquid at a flow rate equal to the approximation for aspiration obtained above.\n",
    "#User should observe the behaviour of the dispense to make an educated guess of initial dispense rate to be implemented.\n",
    "pipette.mover.safeMoveTo(source.wells['A1'].top)\n",
    "pipette.liquid.dispense(1000, speed = round(flow_rate_aspirate,1))\n"
   ]
  },
  {
   "cell_type": "code",
   "execution_count": 24,
   "metadata": {},
   "outputs": [],
   "source": [
    "liquid_level = liquid_level - 2*1000/1000"
   ]
  },
  {
   "cell_type": "code",
   "execution_count": 25,
   "metadata": {},
   "outputs": [],
   "source": [
    "#This command will clear out remaining liquid in the tip if the dispense was incomplete.\n",
    "# pipettes['p1000'].home_plunger()\n",
    "# protocol.delay(seconds=10)\n",
    "# pipettes['p1000'].blow_out(location = source.wells_by_name()['C4'].top())\n",
    "# pipettes['p1000'].touch_tip(location = source.wells_by_name()['C4'])\n",
    "\n",
    "# pipettes['p1000'].home_plunger()\n",
    "# protocol.delay(seconds=10)\n",
    "# pipettes['p1000'].blow_out(location = source.wells_by_name()['C4'].top())\n",
    "# pipettes['p1000'].touch_tip(location = source.wells_by_name()['C4'])\n",
    "\n",
    "# pipettes['p1000'].home_plunger()\n",
    "# protocol.delay(seconds=10)\n",
    "# pipettes['p1000'].blow_out(location = source.wells_by_name()['C4'].top())\n",
    "# pipettes['p1000'].touch_tip(location = source.wells_by_name()['C4'])\n",
    "# pipettes['p1000'].move_to(source.wells_by_name()['C4'].top())\n"
   ]
  },
  {
   "cell_type": "markdown",
   "metadata": {},
   "source": [
    "## Viscous liquid protocol: Gravimetric analysis for obtaining pipetting parameters to transfer a viscous liquid \n",
    "The following cells contain the code required to implemenet the gravimetric analysis of volume transfer of a specific viscousl iquid. User only needs to input the targetr volume, density of the liquid and mass of vials before and after a dispense."
   ]
  },
  {
   "cell_type": "markdown",
   "metadata": {},
   "source": [
    "First initialize or load a previous dataframe to record transfer parameters. Use only one of the next to cells. "
   ]
  },
  {
   "cell_type": "code",
   "execution_count": 26,
   "metadata": {},
   "outputs": [],
   "source": [
    "#New dataframe\n",
    "df = pd.DataFrame(columns = ['liquid', 'pipette', 'volume', 'aspiration_rate', 'dispense_rate','blow_out', 'delay_aspirate', 'delay_dispense', 'delay_blow_out', 'density', 'time', 'm', '%error', 'Transfer_Observation', 'Comment'])\n",
    "df = df.astype({'liquid':str,'pipette':str,'blow_out':bool,'Transfer_Observation':str,'Comment':str})"
   ]
  },
  {
   "cell_type": "code",
   "execution_count": 30,
   "metadata": {},
   "outputs": [],
   "source": [
    "#Load dataframe\n",
    "liquid_name = \"Viscosity_std_9884\"\n",
    "density = 0.8844\n",
    "pipette_name = 'rLine1000'\n"
   ]
  },
  {
   "cell_type": "markdown",
   "metadata": {},
   "source": [
    "Define liquid to be handeled and input initial aspiration and dispense rates"
   ]
  },
  {
   "cell_type": "code",
   "execution_count": 28,
   "metadata": {},
   "outputs": [],
   "source": [
    "liquids_dict = {\n",
    "  \"Viscosity_std_9884\" :{\n",
    "        \"rLine1000\": {\n",
    "            \"aspiration_rate\": 50 , \n",
    "            \"dispense_rate\": 50, \n",
    "            \"blow_out\" : False, \n",
    "            \"delay_aspirate\" : 3, \n",
    "            \"delay_dispense\" : 0, \n",
    "            \"delay_blow_out\" : 3, \n",
    "            },\n",
    "    }\n",
    "\n",
    "}\n"
   ]
  },
  {
   "cell_type": "markdown",
   "metadata": {},
   "source": [
    "Transfer viscous liquds, input pippette name (pipette), desired volume (volume) to be dispensed in ul, liquid dictonary key string (liquid), density (density) and initial vial mass (mi). The code will register the liquid handling parameters used into the dataframe  "
   ]
  },
  {
   "cell_type": "code",
   "execution_count": 36,
   "metadata": {},
   "outputs": [
    {
     "ename": "SyntaxError",
     "evalue": "closing parenthesis ']' does not match opening parenthesis '(' (2553838065.py, line 44)",
     "output_type": "error",
     "traceback": [
      "\u001b[1;36m  Cell \u001b[1;32mIn[36], line 44\u001b[1;36m\u001b[0m\n\u001b[1;33m    df = pd.concat([df,pd.DataFrame(liquids_dict[liquid_name][pipette_name]], ignore_index = True)\u001b[0m\n\u001b[1;37m                                                                           ^\u001b[0m\n\u001b[1;31mSyntaxError\u001b[0m\u001b[1;31m:\u001b[0m closing parenthesis ']' does not match opening parenthesis '('\n"
     ]
    }
   ],
   "source": [
    "volume=1000\n",
    "\n",
    "pipette.mover.setSpeed(50)\n",
    "\n",
    "if pipette.liquid.isTipOn()== False:\n",
    "    pipette.attachTip()\n",
    "\n",
    "start = time.time()\n",
    "\n",
    "pipette.aspirateAt(volume= volume, coordinates= source.wells['A1'].from_bottom((0,0,liquid_level)), speed = liquids_dict[liquid_name][pipette_name]['aspiration_rate'])\n",
    "time.sleep(liquids_dict[liquid_name][pipette_name]['delay_aspirate'])\n",
    "\n",
    "pipette.mover.moveTo(source.wells['A1'].top)\n",
    "pipette.mover.setSpeed(25)\n",
    "pipette.mover.moveTo(source.wells['A1'].from_top((17,0,0)))\n",
    "pipette.mover.moveTo(source.wells['A1'].from_top((-17,0,0)))\n",
    "pipette.mover.moveTo(source.wells['A1'].from_top((0,17,0)))\n",
    "pipette.mover.moveTo(source.wells['A1'].from_top((0,-17,0)))\n",
    "pipette.mover.setSpeed(50)\n",
    "\n",
    "# pipette.touch_tip()\n",
    "balance.zero()\n",
    "balance.clearCache()\n",
    "balance.toggleRecord(True)\n",
    "time.sleep(10)\n",
    "\n",
    "\n",
    "pipette.dispenseAt(volume=volume, coordinates=balance_deck.wells['A1'].from_top((0,0,-5)), speed = liquids_dict[liquid_name][pipette_name]['dispense_rate'])\n",
    "time.sleep(liquids_dict[liquid_name][pipette_name]['delay_dispense'])\n",
    "\n",
    "\n",
    "if liquids_dict[liquid_name][pipette_name]['blow_out'] == True:\n",
    "    pipette.liquid.blowout()\n",
    "    time.sleep.delay(seconds = liquids_dict[liquid_name][pipette_name]['delay_blow_out'])\n",
    "\n",
    "finish = time.time()\n",
    "time_m = finish - start\n",
    "\n",
    "pipette.mover.safeMoveTo(source.wells['A1'].top)\n",
    "time.sleep(10)\n",
    "balance.toggleRecord(False)\n",
    "\n",
    "\n",
    "df = pd.concat([df,pd.DataFrame(liquids_dict[liquid_name][pipette_name],index=[0])],ignore_index=True)"
   ]
  },
  {
   "cell_type": "markdown",
   "metadata": {},
   "source": [
    "Input mass of vial after transfer (mf). Code will calculate the relative error of transfer"
   ]
  },
  {
   "cell_type": "code",
   "execution_count": 57,
   "metadata": {},
   "outputs": [],
   "source": [
    "m = balance.buffer_df.loc[-10:,'Mass'].mean()\n",
    "error = (m-density*volume/1000)/(density/1000*volume)*100\n",
    "df.iloc[-1,-5] = time_m\n",
    "df.iloc[-1,2] = volume\n",
    "df.iloc[-1, 0] = liquid_name\n",
    "df.iloc[-1, 1] = pipette_name\n",
    "df.iloc[-1,-6] = density\n",
    "df.iloc[-1, -4] = m\n",
    "df.iloc[-1,-3]= error\n"
   ]
  },
  {
   "cell_type": "code",
   "execution_count": 58,
   "metadata": {},
   "outputs": [],
   "source": [
    "#Update liquid level\n",
    "liquid_level = liquid_level - 2*volume/1000"
   ]
  },
  {
   "cell_type": "code",
   "execution_count": 76,
   "metadata": {},
   "outputs": [
    {
     "data": {
      "text/html": [
       "<div>\n",
       "<style scoped>\n",
       "    .dataframe tbody tr th:only-of-type {\n",
       "        vertical-align: middle;\n",
       "    }\n",
       "\n",
       "    .dataframe tbody tr th {\n",
       "        vertical-align: top;\n",
       "    }\n",
       "\n",
       "    .dataframe thead th {\n",
       "        text-align: right;\n",
       "    }\n",
       "</style>\n",
       "<table border=\"1\" class=\"dataframe\">\n",
       "  <thead>\n",
       "    <tr style=\"text-align: right;\">\n",
       "      <th></th>\n",
       "      <th>liquid</th>\n",
       "      <th>pipette</th>\n",
       "      <th>volume</th>\n",
       "      <th>aspiration_rate</th>\n",
       "      <th>dispense_rate</th>\n",
       "      <th>blow_out</th>\n",
       "      <th>delay_aspirate</th>\n",
       "      <th>delay_dispense</th>\n",
       "      <th>delay_blow_out</th>\n",
       "      <th>density</th>\n",
       "      <th>time</th>\n",
       "      <th>m</th>\n",
       "      <th>%error</th>\n",
       "      <th>Transfer_Observation</th>\n",
       "      <th>Comment</th>\n",
       "    </tr>\n",
       "  </thead>\n",
       "  <tbody>\n",
       "    <tr>\n",
       "      <th>0</th>\n",
       "      <td>Viscosity_std_9884</td>\n",
       "      <td>rLine1000</td>\n",
       "      <td>1000</td>\n",
       "      <td>50</td>\n",
       "      <td>50</td>\n",
       "      <td>False</td>\n",
       "      <td>3</td>\n",
       "      <td>0</td>\n",
       "      <td>3</td>\n",
       "      <td>0.8844</td>\n",
       "      <td>362.389952</td>\n",
       "      <td>NaN</td>\n",
       "      <td>NaN</td>\n",
       "      <td>NaN</td>\n",
       "      <td>NaN</td>\n",
       "    </tr>\n",
       "  </tbody>\n",
       "</table>\n",
       "</div>"
      ],
      "text/plain": [
       "               liquid    pipette volume aspiration_rate dispense_rate   \n",
       "0  Viscosity_std_9884  rLine1000   1000              50            50  \\\n",
       "\n",
       "   blow_out delay_aspirate delay_dispense delay_blow_out density        time   \n",
       "0     False              3              0              3  0.8844  362.389952  \\\n",
       "\n",
       "     m %error Transfer_Observation Comment  \n",
       "0  NaN    NaN                  NaN     NaN  "
      ]
     },
     "execution_count": 76,
     "metadata": {},
     "output_type": "execute_result"
    }
   ],
   "source": [
    "#Observe error made\n",
    "df"
   ]
  },
  {
   "cell_type": "code",
   "execution_count": null,
   "metadata": {},
   "outputs": [],
   "source": [
    "#Assign category of observation of transfer such as Incomplete Dispense, Incomplete Aspiration, \n",
    "#Incomplete Aspiration and Dispense, Complete Transfer. \n",
    "#Comment if any unexpected exprimental mistakes or changes were performed that have to be taken into account.\n",
    "df.iloc[-1,-2]= 'Incomplete Dispense'\n",
    "df.iloc[-1,-1]= 'No comment'"
   ]
  },
  {
   "cell_type": "markdown",
   "metadata": {},
   "source": [
    "Save data, can be used at any time."
   ]
  },
  {
   "cell_type": "code",
   "execution_count": null,
   "metadata": {},
   "outputs": [],
   "source": [
    "df.to_csv(liquid_name+'.csv', index = False)"
   ]
  },
  {
   "cell_type": "markdown",
   "metadata": {},
   "source": [
    "## Auxiliary code"
   ]
  },
  {
   "cell_type": "code",
   "execution_count": 8,
   "metadata": {},
   "outputs": [
    {
     "name": "stdout",
     "output_type": "stream",
     "text": [
      "Import: OK <controllably.Control.GUI.gui_utils>\n",
      "Import: OK <controllably.Control.GUI.basic_panels>\n",
      "SetArmOrientation(0,1,1,1)\n",
      "receive: SetArmOrientation(0,1,1,1)\n",
      "MovJ(320.000000,-240.000000,92.510000,10.000000,0.000000,0.000000)\n",
      "Speed fraction: 1.0\n",
      "Move time: 1.6315690592568297s (1.0)\n",
      "[ 320.   -240.     92.51], [10  0  0]\n",
      "MovJ(206.688833,-156.680956,92.510000,10.000000,0.000000,0.000000)\n",
      "Speed fraction: 1.0\n",
      "Move time: 1.6331116745474725s (1.0)\n",
      "[ 206.68883255 -156.68095584   92.51      ], [10  0  0]\n",
      "MovJ(206.843094,-146.682146,92.510000,10.000000,0.000000,0.000000)\n",
      "Speed fraction: 1.0\n",
      "Move time: 0.5999881009823923s (1.0)\n",
      "[ 206.84309407 -146.68214574   92.51      ], [10  0  0]\n",
      "MovJ(206.688833,-156.680956,92.510000,10.000000,0.000000,0.000000)\n",
      "Speed fraction: 1.0\n",
      "Move time: 0.5999881009823923s (1.0)\n",
      "[ 206.68883255 -156.68095584   92.51      ], [10  0  0]\n",
      "MovJ(206.843094,-146.682146,92.510000,10.000000,0.000000,0.000000)\n",
      "Speed fraction: 1.0\n",
      "Move time: 0.5999881009823923s (1.0)\n",
      "[ 206.84309407 -146.68214574   92.51      ], [10  0  0]\n",
      "MovJ(206.688833,-156.680956,92.510000,10.000000,0.000000,0.000000)\n",
      "Speed fraction: 1.0\n",
      "Move time: 0.5999881009823923s (1.0)\n",
      "[ 206.68883255 -156.68095584   92.51      ], [10  0  0]\n",
      "MovJ(206.843094,-146.682146,92.510000,10.000000,0.000000,0.000000)\n",
      "Speed fraction: 1.0\n",
      "Move time: 0.5999881009823923s (1.0)\n",
      "[ 206.84309407 -146.68214574   92.51      ], [10  0  0]\n",
      "MovJ(300.000000,0.000000,200.000000,10.000000,0.000000,0.000000)\n",
      "Speed fraction: 1.0\n",
      "Move time: 1.9668214573873681s (1.0)\n",
      "[300   0 200], [10  0  0]\n",
      "Homed\n",
      "MovJ(300.000000,0.000000,200.000000,10.000000,0.000000,0.000000)\n",
      "Speed fraction: 1.0\n",
      "Move time: 0.5s (1.0)\n",
      "[300.   0. 200.], [10  0  0]\n",
      "MovJ(299.845738,-9.998810,200.000000,10.000000,0.000000,0.000000)\n",
      "Speed fraction: 1.0\n",
      "Move time: 0.5999881009823923s (1.0)\n",
      "[299.84573847  -9.9988101  200.        ], [10  0  0]\n",
      "MovJ(300.000000,0.000000,200.000000,10.000000,0.000000,0.000000)\n",
      "Speed fraction: 1.0\n",
      "Move time: 0.5999881009823923s (1.0)\n",
      "[300   0 200], [10  0  0]\n",
      "Homed\n",
      "MovJ(300.000000,0.000000,200.000000,10.000000,0.000000,0.000000)\n",
      "Speed fraction: 1.0\n",
      "Move time: 0.5s (1.0)\n",
      "[300.   0. 200.], [10  0  0]\n"
     ]
    }
   ],
   "source": [
    "mover = platform.setup.mover\n",
    "from controllably.Control.GUI import MoverPanel\n",
    "gui = MoverPanel(mover=mover, axes=['X','Y','Z','a'])\n",
    "gui.runGUI()\n"
   ]
  },
  {
   "cell_type": "code",
   "execution_count": null,
   "metadata": {},
   "outputs": [],
   "source": []
  }
 ],
 "metadata": {
  "kernelspec": {
   "display_name": "Python 3 (ipykernel)",
   "language": "python",
   "name": "python3"
  },
  "language_info": {
   "codemirror_mode": {
    "name": "ipython",
    "version": 3
   },
   "file_extension": ".py",
   "mimetype": "text/x-python",
   "name": "python",
   "nbconvert_exporter": "python",
   "pygments_lexer": "ipython3",
   "version": "3.11.1"
  }
 },
 "nbformat": 4,
 "nbformat_minor": 2
}
