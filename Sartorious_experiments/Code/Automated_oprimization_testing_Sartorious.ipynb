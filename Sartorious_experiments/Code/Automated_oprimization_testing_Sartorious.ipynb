{
 "cells": [
  {
   "attachments": {},
   "cell_type": "markdown",
   "metadata": {},
   "source": [
    "# Automated_optimization_testing_Sartorious"
   ]
  },
  {
   "attachments": {},
   "cell_type": "markdown",
   "metadata": {},
   "source": [
    "Importing relevant packages"
   ]
  },
  {
   "cell_type": "code",
   "execution_count": null,
   "metadata": {},
   "outputs": [],
   "source": [
    "#Import relevant python packages\n",
    "#%% General Imports\n",
    "import pandas as pd\n",
    "import numpy as np\n",
    "import os\n",
    "from matplotlib import pyplot as plt\n",
    "\n",
    "# plotting dependencies\n",
    "import matplotlib\n",
    "from matplotlib import pyplot as plt\n",
    "%matplotlib inline\n",
    "\n",
    "SMALL_SIZE = 14\n",
    "MEDIUM_SIZE = 18\n",
    "BIGGER_SIZE = 20\n",
    "\n",
    "plt.rc('axes', titlesize=SMALL_SIZE)     # fontsize of the axes title\n",
    "plt.rc('axes', labelsize=MEDIUM_SIZE)    # fontsize of the x and y labels\n",
    "plt.rc('xtick', labelsize=SMALL_SIZE)    # fontsize of the tick labels\n",
    "plt.rc('ytick', labelsize=SMALL_SIZE)    # fontsize of the tick labels\n",
    "plt.rc('legend', fontsize=SMALL_SIZE)    # legend fontsize\n",
    "plt.rc('figure', titlesize=BIGGER_SIZE)  # fontsize of the figure title"
   ]
  },
  {
   "cell_type": "code",
   "execution_count": null,
   "metadata": {},
   "outputs": [],
   "source": [
    "\"C:\\Users\\admin\\Documents\\GitHub\\viscosity_liquid_transfer_Pablo\\Sartorious_experiments\\Code\\Automated_oprimization_testing_Sartorious.ipynb\""
   ]
  },
  {
   "attachments": {},
   "cell_type": "markdown",
   "metadata": {},
   "source": [
    "Robot initialization and checks"
   ]
  },
  {
   "cell_type": "code",
   "execution_count": null,
   "metadata": {},
   "outputs": [],
   "source": [
    "#Import robot related packages and run setup\n",
    "import pandas as pd\n",
    "import time\n",
    "from matplotlib import pyplot as plt\n",
    "from pathlib import Path\n",
    "import sys\n",
    "REPOS = 'GitHub'\n",
    "ROOT = str(Path().absolute()).split(REPOS)[0]\n",
    "sys.path.append(f'{ROOT}{REPOS}')\n",
    "\n",
    "from polylectric.configs.SynthesisB1 import SETUP, LAYOUT_FILE\n",
    "\n",
    "from controllably import load_deck      # optional\n",
    "load_deck(SETUP.setup, LAYOUT_FILE)     # optional\n",
    "\n",
    "platform = SETUP\n",
    "platform.mover.verbose = False #askpablo"
   ]
  },
  {
   "cell_type": "code",
   "execution_count": null,
   "metadata": {},
   "outputs": [],
   "source": [
    "#Initialization of variables for platform objects\n",
    "pipette= platform.setup\n",
    "deck = platform.setup.deck\n",
    "balance = platform.balance\n",
    "balance_deck = deck.slots['1']\n",
    "source = deck.slots['2']\n",
    "tip_rack = deck.slots['3']\n",
    "bin = deck.slots['4']\n",
    "pipette.mover.setSpeed(50)\n",
    "print(balance_deck)\n",
    "print(source)\n",
    "print(tip_rack)\n",
    "print(bin)"
   ]
  },
  {
   "cell_type": "code",
   "execution_count": null,
   "metadata": {},
   "outputs": [],
   "source": [
    "#Check if balance is connected\n",
    "balance.zero() #to tare\n",
    "balance.toggleRecord(True) # turn on and record weight\n",
    "time.sleep(5) # do previous action for 5s\n",
    "print(balance.buffer_df.iloc[-1]) #iloc can take -1, loc needs to be 839 loc[839,[\"Time\",\"Value\",\"Factor\",\"Baseline\",\"Mass\"]]. -1 is last line. to find number of last line, print(balance.buffer_df)\n",
    "balance.toggleRecord(False) #turn off"
   ]
  },
  {
   "cell_type": "code",
   "execution_count": null,
   "metadata": {},
   "outputs": [],
   "source": [
    "#Establish initial height of liquid on the source vial\n",
    "pipette_name = 'rLine1000'\n",
    "initial_liquid_level = 12 # in mm\n"
   ]
  },
  {
   "attachments": {},
   "cell_type": "markdown",
   "metadata": {},
   "source": [
    "Importing files + getting parameters"
   ]
  },
  {
   "cell_type": "code",
   "execution_count": null,
   "metadata": {},
   "outputs": [],
   "source": [
    "# Change according to experiment\n",
    "std = \"1275\"\n",
    "liquid_name = 'Viscosity_std_' + std \n",
    "density = 0.8736\n",
    "# Import initialisation file?\n",
    "REPO = 'viscosity_liquid_transfer_Pablo'\n",
    "folder = os.getcwd().split(REPO)[0]+REPO+r'\\Sartorious_experiments' #folder that data is saved to\n",
    "# df_para = pd.read_csv(folder+r'\\Cleaned_Data\\Viscosity_std_'+std+'_modified.csv')\n",
    "df_para = pd.read_csv(folder+r'\\Cleaned_Data\\1275_test_df.csv') #importing data saved in folder\n",
    "\n",
    "#REPOS = 'GitHub'\n",
    "#ROOT = str(Path().absolute()).split(REPOS)[0] # this => sys.path = os.getcwd().split(REPO)[0]+REPO #askpablo\n",
    "#sys.path.append(f'{ROOT}{REPOS}') # diff between sys and os? #askpablo"
   ]
  },
  {
   "cell_type": "code",
   "execution_count": null,
   "metadata": {},
   "outputs": [],
   "source": [
    "df_para"
   ]
  },
  {
   "cell_type": "code",
   "execution_count": null,
   "metadata": {},
   "outputs": [],
   "source": [
    "liquids_dict = {\n",
    "  liquid_name :{ # why so many dict #askpablo\n",
    "        \"rLine1000\": {\n",
    "            \"aspiration_rate\": float(df_para.loc[1,['aspiration_rate']]), # take number from previous dataset and convert it into float (not integer, we want the decimal places)\n",
    "            \"dispense_rate\": float(df_para.loc[1,['dispense_rate']]), # take number from previous dataset and convert it into float (not integer, we want the decimal places)\n",
    "            \"blow_out\" : False, # parameters for new expt\n",
    "            \"delay_aspirate\" : 10, \n",
    "            \"delay_dispense\" : 10, \n",
    "            \"delay_blow_out\" : 0, \n",
    "            },\n",
    "    }\n",
    "\n",
    "}"
   ]
  },
  {
   "attachments": {},
   "cell_type": "markdown",
   "metadata": {},
   "source": [
    "Running the experiment"
   ]
  },
  {
   "cell_type": "code",
   "execution_count": null,
   "metadata": {},
   "outputs": [],
   "source": [
    "def loop_pipetting(iterations, volume, liquid_level, df):\n",
    "    import pandas as pd\n",
    "    counter = 1\n",
    "    pipette.mover.setHandedness(False) # to fix an arm setting\n",
    "\n",
    "    while counter <= iterations:\n",
    "        #Transfer start\n",
    "        start = time.time() # green time = package to handle time #yellow time = records the current PC time\n",
    "\n",
    "        #Aspirate step\n",
    "        pipette.mover.safeMoveTo(source.wells['A1'].from_bottom((0,0,liquid_level-5))) #source=2nd plate #from_ must have coordinates, x,y,z, liquid level -3 not as good as -5 (-5 to imemerse tip)\n",
    "        pipette.liquid.aspirate(volume, speed=liquids_dict[liquid_name][pipette_name]['aspiration_rate'])\n",
    "        time.sleep(liquids_dict[liquid_name][pipette_name]['delay_aspirate'])\n",
    "\n",
    "        pipette.touchTip(source.wells['A1']) #LRUPDOWN - happens after every aspiration and blow out\n",
    "\n",
    "        #Dispense step\n",
    "        pipette.mover.safeMoveTo(balance_deck.wells['A1'].from_top((0,0,-5))) #balance_deck= 1st plate #-5 goes abit more into the well\n",
    "\n",
    "        balance.tare() \n",
    "        balance.clearCache() #clear balance memory\n",
    "        balance.toggleRecord(True) #turn on the balance\n",
    "        time.sleep(5) #stabilise the balance for 5s\n",
    "\n",
    "\n",
    "        pipette.liquid.dispense(volume, speed=liquids_dict[liquid_name][pipette_name]['dispense_rate'])\n",
    "\n",
    "        time.sleep(liquids_dict[liquid_name][pipette_name]['delay_dispense'])\n",
    "\n",
    "        #Blowout step\n",
    "        if liquids_dict[liquid_name][pipette_name]['blow_out'] == True: #do only if blowout right after dispensing is true\n",
    "            pipette.liquid.blowout(home=False)\n",
    "            time.sleep(liquids_dict[liquid_name][pipette_name]['delay_blow_out']) #delay time after doing blowout right after dispensing\n",
    "\n",
    "        #Transfer termination\n",
    "        finish = time.time() #yellow time takes pc time, green time is the package\n",
    "        time_m = finish - start\n",
    "\n",
    "        pipette.mover.safeMoveTo(source.wells['A1'].top) #move pipette to sample retrieval position for next aspiration/blowout\n",
    "        time.sleep(5)\n",
    "        balance.toggleRecord(False) #only turns off the balance recording after pipette finished dispensing\n",
    "        if liquids_dict[liquid_name][pipette_name]['blow_out'] == True:\n",
    "            pipette.liquid.home() #pipette plunger totally not depressed :)\n",
    "\n",
    "        #Do blowout\n",
    "        pipette.liquid.blowout(home=False) #askpablo\n",
    "        time.sleep(5)\n",
    "        pipette.touchTip(source.wells['A1'])\n",
    "        pipette.liquid.home()\n",
    "        time.sleep(5)\n",
    "        pipette.liquid.blowout(home=False)\n",
    "        time.sleep(5)\n",
    "        pipette.touchTip(source.wells['A1'])\n",
    "        pipette.liquid.home()\n",
    "        time.sleep(5)\n",
    "        pipette.liquid.blowout(home=False)\n",
    "        time.sleep(5)\n",
    "        pipette.touchTip(source.wells['A1'])\n",
    "        pipette.liquid.home()\n",
    "\n",
    "        #Record transfer values \n",
    "        m = (balance.buffer_df.iloc[-10:,-1].mean()-balance.buffer_df.iloc[:10,-1].mean())/1000 #-1: mass column #-10: = last 10 rows #:10 = first 10 rows\n",
    "\n",
    "        #Update dataframe\n",
    "        df = pd.concat([df,pd.DataFrame(liquids_dict[liquid_name][pipette_name],index=[0])],ignore_index=True) #askpablo index[0], #ignoreindex is to avoid creating additional columns\n",
    "        error = (m-density*volume/1000)/(density/1000*volume)*100\n",
    "        df.iloc[-1,-3] = time_m #-1: last row, #-3: 3rd last\n",
    "        df.iloc[-1,2] = volume\n",
    "        df.iloc[-1, 0] = liquid_name\n",
    "        df.iloc[-1, 1] = pipette_name\n",
    "        df.iloc[-1,-4] = density\n",
    "        df.iloc[-1, -2] = m\n",
    "        df.iloc[-1,-1]= error\n",
    "\n",
    "        #Check liquid levels\n",
    "        liquid_level = liquid_level - 1.2*m/density\n",
    "        print(\"LIQUID LEVEL IS \" +str(liquid_level))\n",
    "        print(\"LIQUID CHANGE IS \" +str(1.2*m/density))\n",
    "        \n",
    "\n",
    "        #Liquid level checks\n",
    "        if (1.2*m/density > 1.2) or (1.2*m/density < 0):\n",
    "            break\n",
    "        if (liquid_level > initial_liquid_level) or (liquid_level < 6):\n",
    "            break\n",
    "\n",
    "        # Increment Tries\n",
    "        counter += 1\n",
    "\n",
    "    return df, liquid_level, 1.2*m/density"
   ]
  },
  {
   "cell_type": "code",
   "execution_count": null,
   "metadata": {},
   "outputs": [],
   "source": [
    "#Check if new tip is required\n",
    "pipette.mover.setSpeed(50)\n",
    "pipette.mover.setHandedness(False)\n",
    "\n",
    "if pipette.liquid.isTipOn()== False:\n",
    "    pipette.attachTip()\n",
    "\n",
    "#setup for for loop\n",
    "volumes_list = [1000, 500, 300]\n",
    "liquid_level = initial_liquid_level\n",
    "\n",
    "#New dataframe\n",
    "# df = pd.DataFrame(columns = ['liquid', 'pipette', 'volume', 'aspiration_rate', 'dispense_rate','blow_out', 'delay_aspirate', 'delay_dispense','delay_blow_out', 'density', 'time', 'm', '%error'])\n",
    "# df = df.astype({'liquid':str,'pipette':str,'blow_out':bool})\n",
    "\n",
    "# #Imported dataframe\n",
    "df = pd.read_csv(liquid_name+'_optimization_exp3.csv')\n",
    "\n",
    "for item in volumes_list:\n",
    "    #run liquid transfer function\n",
    "    df, final_ll, ll_change = loop_pipetting(iterations=6, volume=item, liquid_level=liquid_level, df=df)\n",
    "    print(df)\n",
    "    print(final_ll)\n",
    "    print(ll_change)\n",
    "    if (ll_change > 1.2) or (ll_change < 0):\n",
    "        break\n",
    "    if (final_ll > initial_liquid_level) or (final_ll < 6):\n",
    "        break\n",
    "\n",
    "\n"
   ]
  },
  {
   "cell_type": "code",
   "execution_count": null,
   "metadata": {},
   "outputs": [],
   "source": [
    "df"
   ]
  },
  {
   "cell_type": "code",
   "execution_count": null,
   "metadata": {},
   "outputs": [],
   "source": [
    "#save after each standard-experiment iteration\n",
    "df.to_csv(liquid_name+'_optimization_exp3.csv', index = False)"
   ]
  },
  {
   "cell_type": "code",
   "execution_count": null,
   "metadata": {},
   "outputs": [],
   "source": [
    "df = df.sort_index()"
   ]
  },
  {
   "cell_type": "code",
   "execution_count": null,
   "metadata": {},
   "outputs": [],
   "source": [
    "pipette.ejectTipAt(bin.wells['A1'].top)\n",
    "pipette.mover.home()"
   ]
  },
  {
   "cell_type": "code",
   "execution_count": null,
   "metadata": {},
   "outputs": [],
   "source": [
    "df"
   ]
  },
  {
   "cell_type": "code",
   "execution_count": null,
   "metadata": {},
   "outputs": [],
   "source": [
    "pipette.mover.home()"
   ]
  },
  {
   "cell_type": "code",
   "execution_count": null,
   "metadata": {},
   "outputs": [],
   "source": []
  },
  {
   "cell_type": "code",
   "execution_count": null,
   "metadata": {},
   "outputs": [],
   "source": []
  }
 ],
 "metadata": {
  "kernelspec": {
   "display_name": "Python 3",
   "language": "python",
   "name": "python3"
  },
  "language_info": {
   "codemirror_mode": {
    "name": "ipython",
    "version": 3
   },
   "file_extension": ".py",
   "mimetype": "text/x-python",
   "name": "python",
   "nbconvert_exporter": "python",
   "pygments_lexer": "ipython3",
   "version": "3.11.1"
  },
  "orig_nbformat": 4
 },
 "nbformat": 4,
 "nbformat_minor": 2
}
