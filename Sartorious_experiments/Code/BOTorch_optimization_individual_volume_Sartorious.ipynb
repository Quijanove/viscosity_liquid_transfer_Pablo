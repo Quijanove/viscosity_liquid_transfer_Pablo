{
 "cells": [
  {
   "attachments": {},
   "cell_type": "markdown",
   "metadata": {},
   "source": [
    "# Optimization of sartorious transfer paramters of viscous liquids guided by Baysesian Optimization"
   ]
  },
  {
   "attachments": {},
   "cell_type": "markdown",
   "metadata": {},
   "source": [
    "## Summary\n",
    "\n",
    "This notebook objective is to generate new suggestions of aspiration and dispense rates that will minimize the tansfer error while minimizing the time of transfer of a viscous liquid. The code in this notebook will aim to optimize the liquid transfer parameters for a specific volume to minimize the error in transfer and the time of transfer to dispense 1000 uL.\n",
    "The code is strucutred as follows:\n",
    "1.  Fisrt section is for importing the relevant packages to perform BO, inclduing Pytorch and BOtorch\n",
    "2.  Second section includes the definition of the BO_LiqTransfer class that includes the method optimized_suggestions() that generates BO optimized aspiration and dispense rate values for a particular data set.\n",
    "3. Third section includes the code to initialize the automated platform.\n",
    "4. Fourth section includes the code to run experiments using M1 robotic arm attached with electronic pipette, automated mass balance and BO optimization of a viscous liquid. The steps for the optimziation are:\n",
    "    i. Initilize a BO_LiTransfer objecet and load initilization data using data_from_csv() method\n",
    "\n",
    "    ii. Run optimized_suggestions() method\n",
    "\n",
    "    iii. Run liquid transfer gravimetric experiment using the best suggestion for aspiration and dispense rates\n",
    "\n",
    "    iv. Update latest %error obtained from the transfer using suggested aspiration and dispense rates.\n",
    "    \n",
    "    v. Iterate through steps ii-iV\n",
    " "
   ]
  },
  {
   "attachments": {},
   "cell_type": "markdown",
   "metadata": {},
   "source": [
    "## 1. Imports"
   ]
  },
  {
   "cell_type": "code",
   "execution_count": null,
   "metadata": {},
   "outputs": [],
   "source": [
    "# basic dependencies\n",
    "\n",
    "import numpy as np\n",
    "from numpy import loadtxt\n",
    "from numpy import savetxt\n",
    "\n",
    "import pandas as pd\n",
    "import math\n",
    "import time\n",
    "from datetime import date\n",
    "\n",
    "np.set_printoptions(formatter={'float': lambda x: \"{0:0.3f}\".format(x)})\n",
    "\n",
    "###########\n",
    "\n",
    "# torch dependencies\n",
    "import torch\n",
    "\n",
    "tkwargs = {\"dtype\": torch.double, # set as double to minimize zero error for cholesky decomposition error\n",
    "           \"device\": torch.device(\"cuda:0\" if torch.cuda.is_available() else \"cpu\")} # set tensors to GPU, if multiple GPUs please set cuda:x properly\n",
    "\n",
    "torch.set_printoptions(precision=3)\n",
    "\n",
    "###########\n",
    "\n",
    "# botorch dependencies\n",
    "import botorch\n",
    "\n",
    "# data related\n",
    "from botorch.utils.sampling import draw_sobol_samples\n",
    "from botorch.utils.transforms import unnormalize, normalize\n",
    "\n",
    "# surrogate model specific\n",
    "from botorch.models.gp_regression import SingleTaskGP\n",
    "from botorch.models.model_list_gp_regression import ModelListGP\n",
    "from botorch.models.transforms.outcome import Standardize\n",
    "from gpytorch.mlls.sum_marginal_log_likelihood import SumMarginalLogLikelihood\n",
    "from botorch import fit_gpytorch_model\n",
    "\n",
    "# qNEHVI specific\n",
    "from botorch.acquisition.multi_objective.objective import IdentityMCMultiOutputObjective\n",
    "from botorch.acquisition.multi_objective.monte_carlo import qNoisyExpectedHypervolumeImprovement\n",
    "\n",
    "# utilities\n",
    "from botorch.optim.optimize import optimize_acqf\n",
    "from botorch.sampling import SobolQMCNormalSampler\n",
    "from botorch.utils.multi_objective.pareto import is_non_dominated\n",
    "from botorch.utils.multi_objective.hypervolume import Hypervolume\n",
    "from typing import Optional\n",
    "from torch import Tensor\n",
    "from botorch.exceptions import BadInitialCandidatesWarning\n",
    "\n",
    "from gpytorch.constraints import GreaterThan\n",
    "from torch.optim import SGD\n",
    "from gpytorch.mlls import ExactMarginalLogLikelihood\n",
    "\n",
    "import warnings\n",
    "\n",
    "warnings.filterwarnings('ignore', category=BadInitialCandidatesWarning)\n",
    "warnings.filterwarnings('ignore', category=RuntimeWarning)\n",
    "\n",
    "# plotting dependencies\n",
    "import matplotlib\n",
    "from matplotlib import pyplot as plt\n",
    "%matplotlib inline\n",
    "\n",
    "SMALL_SIZE = 14\n",
    "MEDIUM_SIZE = 18\n",
    "BIGGER_SIZE = 20\n",
    "\n",
    "plt.rc('axes', titlesize=SMALL_SIZE)     # fontsize of the axes title\n",
    "plt.rc('axes', labelsize=MEDIUM_SIZE)    # fontsize of the x and y labels\n",
    "plt.rc('xtick', labelsize=SMALL_SIZE)    # fontsize of the tick labels\n",
    "plt.rc('ytick', labelsize=SMALL_SIZE)    # fontsize of the tick labels\n",
    "plt.rc('legend', fontsize=SMALL_SIZE)    # legend fontsize\n",
    "plt.rc('figure', titlesize=BIGGER_SIZE)  # fontsize of the figure title\n"
   ]
  },
  {
   "attachments": {},
   "cell_type": "markdown",
   "metadata": {},
   "source": [
    "## 2. BO_LiqTransfer class"
   ]
  },
  {
   "cell_type": "code",
   "execution_count": null,
   "metadata": {},
   "outputs": [],
   "source": [
    "class BO_LiqTransfer:\n",
    "\n",
    "    def __init__(self, liquid_name):\n",
    "        self.liquid_name = liquid_name\n",
    "        self._data = None\n",
    "        self.features = ['aspiration_rate','dispense_rate']\n",
    "        self.objectives = ['%error','time_asp_1000']\n",
    "        self.bmax = 1.25\n",
    "        self.bmin = 0.1\n",
    "        self._latest_suggestion = None\n",
    "        self._latest_volume = None\n",
    "        self._latest_acq_value = None\n",
    "    \n",
    "\n",
    "    def set_data(self,df):\n",
    "        df['time_asp_1000'] = 1000/df['aspiration_rate'] + 1000/df['dispense_rate'] + df['delay_aspirate'] + df['delay_dispense']\n",
    "        if 'acq_value' not in df.columns:\n",
    "            df['acq_value'] = None\n",
    "        self._data = df\n",
    "\n",
    "    def data_from_csv(self,file_name):\n",
    "        data = pd.read_csv(file_name)\n",
    "        self.set_data(data)\n",
    "\n",
    "\n",
    "    def update_data(self,df):\n",
    "        updated_data = pd.concat([self._data,df],ignore_index=True)\n",
    "        self.set_data(updated_data)\n",
    "        return self._data\n",
    "                                \n",
    "\n",
    "    def xy_split(self, volume=1000):\n",
    "        x_train = self._data[self.features].copy().where(self._data['volume']==volume).dropna(how='all') \n",
    "        y_train = self._data[self.objectives].copy().where(self._data['volume']==volume).dropna(how='all') \n",
    "        return x_train,y_train\n",
    "        \n",
    "\n",
    "    def set_bounds(self, x_train):\n",
    "        return torch.vstack([x_train[0]*self.bmin, x_train[0]*self.bmax])\n",
    "\n",
    "\n",
    "\n",
    "    def fit_surrogate(self, volume= 1000):\n",
    "        x_train, y_train = self.xy_split(volume=volume)\n",
    "        x_train = torch.tensor(x_train.to_numpy(dtype='float'), **tkwargs)\n",
    "        y_train = torch.tensor(y_train.to_numpy(dtype='float'), **tkwargs)\n",
    "        y_train[:,0] = -torch.absolute(y_train[:,0])\n",
    "        y_train[:,1] = -torch.absolute(y_train[:,1])\n",
    "\n",
    "        problem_bounds = self.set_bounds(x_train)\n",
    "        time_upper = 1000/problem_bounds[0][0] +1000/problem_bounds[0][1] + 20\n",
    "        error_upper = np.absolute(y_train[:,0].numpy()).min()*1.25\n",
    "        ref_point = torch.tensor([-error_upper,-time_upper], **tkwargs)\n",
    "\n",
    "        train_x_gp = normalize(x_train, problem_bounds)\n",
    "        models = []\n",
    "        for i in range(y_train.shape[-1]):\n",
    "            models.append(SingleTaskGP(train_x_gp, y_train[..., i : i + 1], outcome_transform=Standardize(m=1)))\n",
    "        model1 = ModelListGP(*models)\n",
    "        mll1 = SumMarginalLogLikelihood(model1.likelihood, model1)\n",
    "\n",
    "        fit_gpytorch_model(mll1)\n",
    "    \n",
    "        return model1, ref_point, train_x_gp, problem_bounds\n",
    "    \n",
    "    def optimized_suggestions(self, volume= 1000, random_state= 42):\n",
    "        self._latest_volume = volume\n",
    "        if random_state != None:\n",
    "            torch.manual_seed(random_state) \n",
    "        standard_bounds = torch.zeros(2, len(self.features), **tkwargs)\n",
    "        standard_bounds[1] = 1\n",
    "        model1, ref_point, train_x_gp, problem_bounds = self.fit_surrogate(volume=volume)\n",
    "        acq_func1 = qNoisyExpectedHypervolumeImprovement(\n",
    "        model=model1,\n",
    "        ref_point=ref_point, # for computing HV, must flip for BoTorch\n",
    "        X_baseline=train_x_gp, # feed total list of train_x for this current iteration\n",
    "        sampler=SobolQMCNormalSampler(sample_shape=512),  # determines how candidates are randomly proposed before selection\n",
    "        objective=IdentityMCMultiOutputObjective(outcomes=np.arange(len(self.objectives)).tolist()), # optimize first n_obj col \n",
    "        prune_baseline=True, cache_pending=True)  # options for improving qNEHVI, keep these on\n",
    "        sobol1 = draw_sobol_samples(bounds=standard_bounds,n=512, q=1).squeeze(1)\n",
    "        sobol2 = draw_sobol_samples(bounds=standard_bounds,n=512, q=1).squeeze(1)\n",
    "        sobol_all = torch.vstack([sobol1, sobol2])\n",
    "            \n",
    "        acq_value_list = []\n",
    "        for i in range(0, sobol_all.shape[0]):\n",
    "            with torch.no_grad():\n",
    "                acq_value = acq_func1(sobol_all[i].unsqueeze(dim=0))\n",
    "                acq_value_list.append(acq_value.item())\n",
    "                \n",
    "        # filter the best 12 QMC candidates first\n",
    "        sorted_x = sobol_all.cpu().numpy()[np.argsort((acq_value_list))]\n",
    "        qnehvi_x = torch.tensor(sorted_x[-12:], **tkwargs)  \n",
    "        # unormalize our training inputs back to original problem bounds\n",
    "        new_x =  unnormalize(qnehvi_x, bounds=problem_bounds)\n",
    "        new_x = pd.DataFrame(new_x.numpy(),columns=['aspiration_rate','dispense_rate'])\n",
    "        new_x['acq_value'] = sorted(acq_value_list, reverse=True)[:12]\n",
    "        self._latest_suggestion = new_x[['aspiration_rate','dispense_rate']].iloc[0]\n",
    "        self._latest_acq_value = new_x['acq_value'].iloc[0] \n",
    "        return new_x\n",
    "        \n",
    "\n",
    "\n",
    "\n",
    "\n",
    "\n",
    "        \n",
    "    \n",
    "    \n"
   ]
  },
  {
   "attachments": {},
   "cell_type": "markdown",
   "metadata": {},
   "source": [
    "## 3. Initialization of automated plarform"
   ]
  },
  {
   "cell_type": "code",
   "execution_count": null,
   "metadata": {},
   "outputs": [],
   "source": [
    "#Import relevant python packages\n",
    "import pandas as pd\n",
    "import time\n",
    "from matplotlib import pyplot as plt\n",
    "from pathlib import Path\n",
    "import sys\n",
    "REPOS = 'GitHub'\n",
    "ROOT = str(Path().absolute()).split(REPOS)[0]\n",
    "sys.path.append(f'{ROOT}{REPOS}')\n",
    "\n",
    "from polylectric.configs.SynthesisB1 import SETUP, LAYOUT_FILE\n",
    "\n",
    "from controllably import load_deck      # optional\n",
    "load_deck(SETUP.setup, LAYOUT_FILE)     # optional\n",
    "\n",
    "platform = SETUP\n",
    "platform.mover.verbose = False\n"
   ]
  },
  {
   "cell_type": "code",
   "execution_count": null,
   "metadata": {},
   "outputs": [],
   "source": [
    "#Initialization of variables for platfomr objects\n",
    "pipette= platform.setup\n",
    "deck = platform.setup.deck\n",
    "balance = platform.balance\n",
    "balance_deck = deck.slots['1']\n",
    "source = deck.slots['2']\n",
    "tip_rack = deck.slots['3']\n",
    "bin = deck.slots['4']\n",
    "pipette.mover.setSpeed(50)\n",
    "print(balance_deck)\n",
    "print(source)\n",
    "print(tip_rack)\n",
    "print(bin)\n"
   ]
  },
  {
   "cell_type": "code",
   "execution_count": null,
   "metadata": {},
   "outputs": [],
   "source": [
    "#Check if balance is connected\n",
    "balance.zero()\n",
    "balance.toggleRecord(True)\n",
    "time.sleep(5)\n",
    "print(balance.buffer_df.iloc[-1])\n",
    "balance.toggleRecord(False)"
   ]
  },
  {
   "cell_type": "code",
   "execution_count": null,
   "metadata": {},
   "outputs": [],
   "source": [
    "#Stablish initial height of liquid on the source vial\n",
    "pipette_name = 'rLine1000'\n",
    "liquid_level = 11"
   ]
  },
  {
   "attachments": {},
   "cell_type": "markdown",
   "metadata": {},
   "source": [
    "## 4. Guided BO optimization\n",
    "i.   Create BO_LiqTransfer object and load data set.\n",
    "\n",
    "Please set liquid name and volume to transfer according to the experiment."
   ]
  },
  {
   "cell_type": "code",
   "execution_count": null,
   "metadata": {},
   "outputs": [],
   "source": [
    "# Change according to experiment\n",
    "std = '1275'\n",
    "liquid_name = 'Viscosity_std_' + std \n",
    "density = 0.8736\n",
    "# Do not change\n",
    "liq = BO_LiqTransfer(liquid_name)\n",
    "folder = (r\"C:\\Users\\admin\\Documents\\GitHub\\viscosity_liquid_transfer_Pablo\\Sartorious_experiments\\Initialisation_Data\")\n",
    "liq.data_from_csv(folder+r'/'+'Initialisation_'+std+'.csv')\n",
    "liq._data"
   ]
  },
  {
   "cell_type": "code",
   "execution_count": null,
   "metadata": {},
   "outputs": [],
   "source": [
    "# Change according to experiment\n",
    "std = '1275'\n",
    "liquid_name = 'Viscosity_std_' + std \n",
    "density = 0.8736\n",
    "# Do not change\n",
    "liq = BO_LiqTransfer(liquid_name)\n",
    "liq.data_from_csv(liquid_name+'_BOTorch_exp2.csv')\n",
    "liq._data"
   ]
  },
  {
   "attachments": {},
   "cell_type": "markdown",
   "metadata": {},
   "source": [
    "\n",
    "ii.   Run BO_LiqTransfer.optimized_suggestions() method to obtain optimized aspiration and dispense rates.\n",
    "\n"
   ]
  },
  {
   "cell_type": "code",
   "execution_count": null,
   "metadata": {},
   "outputs": [],
   "source": [
    "volume = 300\n",
    "liq.optimized_suggestions(volume)\n"
   ]
  },
  {
   "cell_type": "code",
   "execution_count": null,
   "metadata": {},
   "outputs": [],
   "source": [
    "liquids_dict = {\n",
    "  liquid_name :{\n",
    "        \"rLine1000\": {\n",
    "            \"aspiration_rate\": liq._latest_suggestion['aspiration_rate'], \n",
    "            \"dispense_rate\": liq._latest_suggestion['dispense_rate'], \n",
    "            \"blow_out\" : False, \n",
    "            \"delay_aspirate\" : 10, \n",
    "            \"delay_dispense\" : 10, \n",
    "            \"delay_blow_out\" : 0, \n",
    "            },\n",
    "    }\n",
    "\n",
    "}"
   ]
  },
  {
   "attachments": {},
   "cell_type": "markdown",
   "metadata": {},
   "source": [
    "iii. Run liquid transfer using the best suggestion for aspiration and dispense rates in OT2 notebook.\n"
   ]
  },
  {
   "cell_type": "code",
   "execution_count": null,
   "metadata": {},
   "outputs": [],
   "source": [
    "pipette.mover.safeMoveTo(source.wells['A1'].top)"
   ]
  },
  {
   "cell_type": "code",
   "execution_count": null,
   "metadata": {},
   "outputs": [],
   "source": [
    "#Check if new tip is required\n",
    "pipette.mover.setSpeed(50)\n",
    "pipette.mover.setHandedness(False)\n",
    "\n",
    "if pipette.liquid.isTipOn()== False:\n",
    "    pipette.attachTip()\n",
    "\n",
    "#Transfer start\n",
    "start = time.time()\n",
    "\n",
    "#Aspirate step\n",
    "pipette.mover.safeMoveTo(source.wells['A1'].from_bottom((0,0,liquid_level-5)))\n",
    "pipette.liquid.aspirate(volume, speed=liquids_dict[liquid_name][pipette_name]['aspiration_rate'])\n",
    "time.sleep(liquids_dict[liquid_name][pipette_name]['delay_aspirate'])\n",
    "\n",
    "pipette.touchTip(source.wells['A1'])\n",
    "\n",
    "#Dispense step\n",
    "pipette.mover.safeMoveTo(balance_deck.wells['A1'].from_top((0,0,-5)))\n",
    "\n",
    "balance.tare()\n",
    "balance.clearCache()\n",
    "balance.toggleRecord(True)\n",
    "time.sleep(5)\n",
    "\n",
    "\n",
    "pipette.liquid.dispense(volume, speed=liquids_dict[liquid_name][pipette_name]['dispense_rate'])\n",
    "\n",
    "time.sleep(liquids_dict[liquid_name][pipette_name]['delay_dispense'])\n",
    "\n",
    "#Blowout step\n",
    "if liquids_dict[liquid_name][pipette_name]['blow_out'] == True:\n",
    "    pipette.liquid.blowout(home=False)\n",
    "    time.sleep(liquids_dict[liquid_name][pipette_name]['delay_blow_out'])\n",
    "\n",
    "#Transfer termination\n",
    "finish = time.time()\n",
    "time_m = finish - start\n",
    "\n",
    "pipette.mover.safeMoveTo(source.wells['A1'].top)\n",
    "time.sleep(5)\n",
    "balance.toggleRecord(False)\n",
    "if liquids_dict[liquid_name][pipette_name]['blow_out'] == True:\n",
    "    pipette.liquid.home()\n",
    "\n",
    "#Do blowout\n",
    "pipette.liquid.blowout(home=False)\n",
    "time.sleep(5)\n",
    "pipette.touchTip(source.wells['A1'])\n",
    "pipette.liquid.home()\n",
    "time.sleep(10)\n",
    "pipette.liquid.blowout(home=False)\n",
    "time.sleep(5)\n",
    "pipette.touchTip(source.wells['A1'])\n",
    "pipette.liquid.home()\n",
    "time.sleep(10)\n",
    "pipette.liquid.blowout(home=False)\n",
    "time.sleep(5)\n",
    "pipette.touchTip(source.wells['A1'])\n",
    "pipette.liquid.home()\n"
   ]
  },
  {
   "cell_type": "code",
   "execution_count": null,
   "metadata": {},
   "outputs": [],
   "source": [
    "#Graph plotting \n",
    "fig,axs = plt.subplots()\n",
    "\n",
    "axs.plot(balance.buffer_df['Time'],balance.buffer_df['Mass'])\n",
    "\n",
    "axs.set_xlabel('Time')\n",
    "axs.set_ylabel('Mass')\n",
    "\n",
    "plt.show()"
   ]
  },
  {
   "cell_type": "code",
   "execution_count": null,
   "metadata": {},
   "outputs": [],
   "source": [
    "#Record trasnfer values \n",
    "\n",
    "m = (balance.buffer_df.iloc[-10:,-1].mean()-balance.buffer_df.iloc[:10,-1].mean())/1000\n",
    "error = (m-density*volume/1000)/(density/1000*volume)*100\n",
    "\n",
    "#New dataframe\n",
    "df = pd.DataFrame(columns = ['liquid', 'pipette', 'volume', 'aspiration_rate', 'dispense_rate','blow_out', 'delay_aspirate', 'delay_dispense', 'delay_blow_out', 'density', 'time', 'm', '%error', 'acq_value', 'Transfer_Observation', 'Comment'])\n",
    "df = df.astype({'liquid':str,'pipette':str,'blow_out':bool,'Transfer_Observation':str,'Comment':str})\n",
    "df = pd.concat([df,pd.DataFrame(liquids_dict[liquid_name][pipette_name],index=[0])],ignore_index=True)\n",
    "df.iloc[-1,-6] = time_m\n",
    "df.iloc[-1,2] = volume\n",
    "df.iloc[-1, 0] = liquid_name\n",
    "df.iloc[-1, 1] = pipette_name\n",
    "df.iloc[-1,-7] = density\n",
    "df.iloc[-1, -5] = m\n",
    "df.iloc[-1,-4]= error\n",
    "df.iloc[-1, -3] = liq._latest_acq_value"
   ]
  },
  {
   "cell_type": "code",
   "execution_count": null,
   "metadata": {},
   "outputs": [],
   "source": [
    "#Update liquid level\n",
    "#liquid_level = liquid_level - 1*volume/1000\n",
    "liquid_level = liquid_level - 1.2*m/density"
   ]
  },
  {
   "cell_type": "code",
   "execution_count": null,
   "metadata": {},
   "outputs": [],
   "source": [
    "liquid_level "
   ]
  },
  {
   "cell_type": "code",
   "execution_count": null,
   "metadata": {},
   "outputs": [],
   "source": [
    "#Observe error made\n",
    "df.tail(20)"
   ]
  },
  {
   "cell_type": "code",
   "execution_count": null,
   "metadata": {},
   "outputs": [],
   "source": [
    "#Assign category of observation of transfer such as Incomplete Dispense, Incomplete Aspiration, \n",
    "#Incomplete Aspiration and Dispense, Complete Transfer. \n",
    "#Comment if any unexpected exprimental mistakes or changes were performed that have to be taken into account.\n",
    "df.iloc[-1,-2]= 'Incomplete Dispense'\n",
    "df.iloc[-1,-1]= 'Blowout before'"
   ]
  },
  {
   "attachments": {},
   "cell_type": "markdown",
   "metadata": {},
   "source": [
    "iv. Update latest %error obtained from the transfer using suggested aspiration and dispense rates."
   ]
  },
  {
   "cell_type": "code",
   "execution_count": null,
   "metadata": {},
   "outputs": [],
   "source": [
    "liq.update_data(df) \n"
   ]
  },
  {
   "attachments": {},
   "cell_type": "markdown",
   "metadata": {},
   "source": [
    "v. Iterate trhough last two code cells."
   ]
  },
  {
   "cell_type": "code",
   "execution_count": null,
   "metadata": {},
   "outputs": [],
   "source": [
    "#save after each standard-experiment iteration\n",
    "liq._data.to_csv(liquid_name+'_BOTorch_exp2.csv', index = False)"
   ]
  },
  {
   "cell_type": "code",
   "execution_count": null,
   "metadata": {},
   "outputs": [],
   "source": [
    "liq.xy_split(500)[1].to_numpy(dtype='float')"
   ]
  },
  {
   "cell_type": "code",
   "execution_count": null,
   "metadata": {},
   "outputs": [],
   "source": [
    "liq._data"
   ]
  },
  {
   "cell_type": "code",
   "execution_count": null,
   "metadata": {},
   "outputs": [],
   "source": [
    "pipette.mover.home()"
   ]
  },
  {
   "cell_type": "code",
   "execution_count": null,
   "metadata": {},
   "outputs": [],
   "source": [
    "liquid_level = 11"
   ]
  },
  {
   "cell_type": "code",
   "execution_count": null,
   "metadata": {},
   "outputs": [],
   "source": [
    "pipette.ejectTipAt(bin.wells['A1'].top)\n",
    "pipette.mover.home()"
   ]
  },
  {
   "cell_type": "code",
   "execution_count": null,
   "metadata": {},
   "outputs": [],
   "source": [
    "pipette.mover.connect()"
   ]
  },
  {
   "cell_type": "code",
   "execution_count": null,
   "metadata": {},
   "outputs": [],
   "source": [
    "pipette.liquid.eject()"
   ]
  },
  {
   "cell_type": "code",
   "execution_count": null,
   "metadata": {},
   "outputs": [],
   "source": [
    "pipette.mover.safeMoveTo(source.wells['A1'].top)"
   ]
  },
  {
   "cell_type": "code",
   "execution_count": null,
   "metadata": {},
   "outputs": [],
   "source": [
    "balance.toggleRecord(False)"
   ]
  },
  {
   "cell_type": "code",
   "execution_count": null,
   "metadata": {},
   "outputs": [],
   "source": []
  }
 ],
 "metadata": {
  "kernelspec": {
   "display_name": "base",
   "language": "python",
   "name": "python3"
  },
  "language_info": {
   "codemirror_mode": {
    "name": "ipython",
    "version": 3
   },
   "file_extension": ".py",
   "mimetype": "text/x-python",
   "name": "python",
   "nbconvert_exporter": "python",
   "pygments_lexer": "ipython3",
   "version": "3.11.1"
  },
  "orig_nbformat": 4
 },
 "nbformat": 4,
 "nbformat_minor": 2
}
