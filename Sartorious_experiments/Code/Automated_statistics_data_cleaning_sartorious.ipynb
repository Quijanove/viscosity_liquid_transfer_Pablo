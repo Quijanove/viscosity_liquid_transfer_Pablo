{
 "cells": [
  {
   "attachments": {},
   "cell_type": "markdown",
   "metadata": {},
   "source": [
    "# Automated_statistics_data_cleaning_sartorious\n",
    "Process: <br>\n",
    "1.import the automated optimization testing sartorious data file <br>\n",
    "2.Split it into 3 sub-dataframes (1000, 500, 300) <br>\n",
    "3.Clean the dataframe, drop unnecessary data <br>\n",
    "4.Make counter column and calculate mean, stdev, %CV, %D <br>\n",
    "5.Incorporate calcuated elements and export final dataframe <br>"
   ]
  },
  {
   "cell_type": "code",
   "execution_count": null,
   "metadata": {},
   "outputs": [],
   "source": [
    "#import the automated optimisation testing sartorious data file\n",
    "#General Imports\n",
    "import pandas as pd\n",
    "import numpy as np\n",
    "import os\n",
    "from matplotlib import pyplot as plt\n",
    "#Importing File (+ file information)\n",
    "std = \"204\"\n",
    "liquid_name = 'Viscosity_std_' + std\n",
    "exp = 'exp3'  \n",
    "REPO = 'viscosity_liquid_transfer_Pablo'\n",
    "folder = os.getcwd().split(REPO)[0]+REPO+r'\\Sartorious_experiments\\Code\\\\' #folder that data is saved to\n",
    "df_raw = pd.read_csv(folder+liquid_name+'_optimization_'+exp+'.csv')\n",
    "df_raw"
   ]
  },
  {
   "cell_type": "code",
   "execution_count": null,
   "metadata": {},
   "outputs": [],
   "source": [
    "#Split it into 3 sub-dataframes (1000, 500, 300)\n",
    "df_1000 = df_raw[df_raw['volume'] == 1000.0]\n",
    "df_500 = df_raw[df_raw['volume'] == 500.0]\n",
    "df_300 = df_raw[df_raw['volume'] == 300.0]"
   ]
  },
  {
   "cell_type": "code",
   "execution_count": null,
   "metadata": {},
   "outputs": [],
   "source": [
    "#Clean the dataframe, drop unnecessary data\n",
    "# df_1000 = df_1000.drop()\n",
    "# df_1000.reset_index(drop=True,inplace=True)\n",
    "df_1000\n",
    "# df_500 = df_500.drop(34)\n",
    "# df_500.reset_index(drop=True,inplace=True)\n",
    "# df_500\n",
    "# df_300 = df_300.drop(30)\n",
    "# df_300.reset_index(drop=True,inplace=True)\n",
    "# df_300"
   ]
  },
  {
   "cell_type": "code",
   "execution_count": null,
   "metadata": {},
   "outputs": [],
   "source": [
    "#Make counter column and calculate mean, stdev, %CV, %D\n",
    "\n",
    "#iteration column\n",
    "iteration_list = list(range(1,11))\n",
    "df_1000['iteration'] = iteration_list\n",
    "df_500['iteration'] = iteration_list\n",
    "df_300['iteration'] = iteration_list\n",
    "\n",
    "#actual_volume column\n",
    "df_1000['actual_volume'] = df_1000['m'] / df_1000['density'] * 1000\n",
    "df_500['actual_volume'] = df_500['m'] / df_500['density'] * 1000\n",
    "df_300['actual_volume'] = df_300['m'] / df_300['density'] * 1000\n",
    "\n",
    "\n",
    "#mean values calculation\n",
    "means_list = [df_1000['actual_volume'].mean(), df_500['actual_volume'].mean(), df_500['actual_volume'].mean()]\n",
    "\n",
    "#stdev values calculation"
   ]
  },
  {
   "cell_type": "code",
   "execution_count": null,
   "metadata": {},
   "outputs": [],
   "source": []
  },
  {
   "cell_type": "code",
   "execution_count": null,
   "metadata": {},
   "outputs": [],
   "source": []
  }
 ],
 "metadata": {
  "kernelspec": {
   "display_name": "Python 3",
   "language": "python",
   "name": "python3"
  },
  "language_info": {
   "codemirror_mode": {
    "name": "ipython",
    "version": 3
   },
   "file_extension": ".py",
   "mimetype": "text/x-python",
   "name": "python",
   "nbconvert_exporter": "python",
   "pygments_lexer": "ipython3",
   "version": "3.11.1"
  },
  "orig_nbformat": 4
 },
 "nbformat": 4,
 "nbformat_minor": 2
}
