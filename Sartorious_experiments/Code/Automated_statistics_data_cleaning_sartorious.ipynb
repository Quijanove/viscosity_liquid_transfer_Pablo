{
 "cells": [
  {
   "attachments": {},
   "cell_type": "markdown",
   "metadata": {},
   "source": [
    "# Automated_statistics_data_cleaning_sartorious\n",
    "Process: <br>\n",
    "1.import the automated optimization testing sartorious data file <br>\n",
    "2.Split it into 3 sub-dataframes (1000, 500, 300) and calculate actual volume<br>\n",
    "3.Clean the dataframe, drop unnecessary data <br>\n",
    "4.Make counter column and calculate mean, stdev, %CV, %D <br>\n",
    "5.Incorporate calcuated elements and export final dataframe <br>"
   ]
  },
  {
   "cell_type": "code",
   "execution_count": null,
   "metadata": {},
   "outputs": [],
   "source": [
    "#import the automated optimisation testing sartorious data file\n",
    "#General Imports\n",
    "import pandas as pd\n",
    "import numpy as np\n",
    "import os\n",
    "from matplotlib import pyplot as plt\n",
    "#Importing File (+ file information)\n",
    "std = \"1275\"\n",
    "liquid_name = 'Viscosity_std_' + std\n",
    "exp = 'exp3'  \n",
    "REPO = 'viscosity_liquid_transfer_Pablo'\n",
    "folder = os.getcwd().split(REPO)[0]+REPO+r'\\Sartorious_experiments\\Experimental_Data\\Best_parameters_data\\Manual_calibration\\\\'\n",
    "df_raw = pd.read_csv(folder+liquid_name+'_BP_mobo_l3.csv')\n",
    "df_raw"
   ]
  },
  {
   "cell_type": "code",
   "execution_count": null,
   "metadata": {},
   "outputs": [],
   "source": [
    "#Split it into 3 sub-dataframes (1000, 500, 300)\n",
    "df_1000 = df_raw[df_raw['volume'] == 1000.0]\n",
    "df_500 = df_raw[df_raw['volume'] == 500.0]\n",
    "df_300 = df_raw[df_raw['volume'] == 300.0]\n",
    "\n",
    "#actual_volume column\n",
    "df_1000['actual_volume'] = df_1000['m'] / df_1000['density'] * 1000\n",
    "df_500['actual_volume'] = df_500['m'] / df_500['density'] * 1000\n",
    "df_300['actual_volume'] = df_300['m'] / df_300['density'] * 1000"
   ]
  },
  {
   "cell_type": "code",
   "execution_count": null,
   "metadata": {},
   "outputs": [],
   "source": [
    "#Clean the dataframe, drop unnecessary data\n",
    "# df_1000 = df_1000.drop(5)\n",
    "# df_1000.reset_index(drop=True,inplace=True)\n",
    "# df_1000\n",
    "# df_500 = df_500.drop(11)\n",
    "# df_500.reset_index(drop=True,inplace=True)\n",
    "# df_500\n",
    "# df_300 = df_300.drop(22)\n",
    "df_300.reset_index(drop=True,inplace=True)\n",
    "df_300"
   ]
  },
  {
   "cell_type": "code",
   "execution_count": null,
   "metadata": {},
   "outputs": [],
   "source": [
    "#Calculate mean, stdev, %CV, %D\n",
    "\n",
    "#mean values calculation\n",
    "means_list = np.array([df_1000['actual_volume'].mean(), df_500['actual_volume'].mean(), df_300['actual_volume'].mean()])\n",
    "\n",
    "#stdev values calculation\n",
    "stdev_list = np.array([df_1000['actual_volume'].std(), df_500['actual_volume'].std(), df_300['actual_volume'].std()])\n",
    "\n",
    "#%cv calculation\n",
    "cv_list = stdev_list / (means_list / 100)\n",
    "\n",
    "#%d calculation\n",
    "d_1000 = ((df_1000['volume'].mean() - df_1000['actual_volume'].mean()) / df_1000['volume'].mean()) * 100\n",
    "d_500 = ((df_500['volume'].mean() - df_500['actual_volume'].mean()) / df_500['volume'].mean()) * 100\n",
    "d_300 = ((df_300['volume'].mean() - df_300['actual_volume'].mean()) / df_300['volume'].mean()) * 100\n",
    "d_list = [d_1000, d_500, d_300]"
   ]
  },
  {
   "cell_type": "code",
   "execution_count": null,
   "metadata": {},
   "outputs": [],
   "source": [
    "#Incorporate calcuated elements and export final dataframe\n",
    "#make new data frame\n",
    "df_stats =  pd.DataFrame(columns = [\"liquid\", \"test volume\", \"mean\", \"standard deviation\", \"%cv\", \"%d\"])\n",
    "#assign Values\n",
    "df_stats['test volume'] = [1000, 500, 300]\n",
    "df_stats['mean'] = means_list\n",
    "df_stats['standard deviation'] = stdev_list\n",
    "df_stats['%cv'] = cv_list\n",
    "df_stats['%d'] = d_list\n",
    "df_stats['liquid'] = liquid_name\n",
    "#view the dataframe\n",
    "df_stats\n"
   ]
  },
  {
   "cell_type": "code",
   "execution_count": null,
   "metadata": {},
   "outputs": [],
   "source": [
    "#export final dataframe\n",
    "folder = os.getcwd().split(REPO)[0]+REPO+r'\\Sartorious_experiments\\Finalised_Data\\\\Summary_statistics\\\\'\n",
    "df_stats.to_csv(folder+liquid_name+'_'+exp+'_l3_summary_stats.csv', index=False)"
   ]
  },
  {
   "cell_type": "code",
   "execution_count": null,
   "metadata": {},
   "outputs": [],
   "source": [
    "folder = os.getcwd().split(REPO)[0]+REPO+r'\\Sartorious_experiments\\Finalised_Data\\\\Summary_statistics\\\\' \n",
    "df_stats_B1 = pd.read_csv(folder+liquid_name+'_'+exp+'_summary_stats.csv')"
   ]
  },
  {
   "cell_type": "code",
   "execution_count": null,
   "metadata": {},
   "outputs": [],
   "source": [
    "df_stats"
   ]
  },
  {
   "cell_type": "code",
   "execution_count": null,
   "metadata": {},
   "outputs": [],
   "source": [
    "df_stats_B1"
   ]
  },
  {
   "cell_type": "code",
   "execution_count": null,
   "metadata": {},
   "outputs": [],
   "source": []
  }
 ],
 "metadata": {
  "kernelspec": {
   "display_name": "Python 3",
   "language": "python",
   "name": "python3"
  },
  "language_info": {
   "codemirror_mode": {
    "name": "ipython",
    "version": 3
   },
   "file_extension": ".py",
   "mimetype": "text/x-python",
   "name": "python",
   "nbconvert_exporter": "python",
   "pygments_lexer": "ipython3",
   "version": "3.11.1"
  },
  "orig_nbformat": 4
 },
 "nbformat": 4,
 "nbformat_minor": 2
}
