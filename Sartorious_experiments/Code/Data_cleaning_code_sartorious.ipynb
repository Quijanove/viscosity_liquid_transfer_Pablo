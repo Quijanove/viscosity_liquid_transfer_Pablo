{
 "cells": [
  {
   "attachments": {},
   "cell_type": "markdown",
   "metadata": {},
   "source": [
    "# Sartorious Experiments Data Cleaning Code"
   ]
  },
  {
   "cell_type": "code",
   "execution_count": null,
   "metadata": {},
   "outputs": [],
   "source": [
    "#Importing packages\n",
    "import matplotlib.pyplot as plt\n",
    "import pandas as pd\n",
    "import numpy as np\n",
    "import os \n",
    "\n",
    "# Importing files\n",
    "std = '204'\n",
    "folder = (r\"C:\\Users\\admin\\Documents\\GitHub\\viscosity_liquid_transfer_Pablo\\Sartorious_experiments\\Code\")\n",
    "\n",
    "df_raw = pd.read_csv(folder+r'/Viscosity_std_'+std+'.csv')\n",
    "\n",
    "df_raw"
   ]
  },
  {
   "cell_type": "code",
   "execution_count": null,
   "metadata": {},
   "outputs": [],
   "source": [
    "#Removing anomaly values (manual skim then df.drop())\n",
    "column_to_drop =\n",
    "df_raw = df_raw.drop(column_to_drop)\n",
    "df_raw"
   ]
  },
  {
   "cell_type": "code",
   "execution_count": null,
   "metadata": {},
   "outputs": [],
   "source": [
    "#Dropping duplicates\n",
    "df_raw.drop_duplicates(subset=['volume', 'aspiration_rate', 'dispense_rate', 'delay_aspirate', 'delay_dispense','delay_blow_out', 'Comment'], keep='first', inplace=True)\n",
    "df_raw"
   ]
  },
  {
   "cell_type": "code",
   "execution_count": null,
   "metadata": {},
   "outputs": [],
   "source": [
    "#Dropping values with no blowout before\n",
    "df_raw= df_raw.loc[~df_raw['Comment'].str.contains('No')]\n",
    "df_raw"
   ]
  },
  {
   "cell_type": "code",
   "execution_count": null,
   "metadata": {},
   "outputs": [],
   "source": [
    "#Resetting indexes to make manual iteration labelling easier\n",
    "df_raw.reset_index(drop=True, inplace=True)\n",
    "df_raw"
   ]
  },
  {
   "cell_type": "code",
   "execution_count": null,
   "metadata": {},
   "outputs": [],
   "source": [
    "#Making iteration column\n",
    "df_raw['iteration'] = 'nan'\n",
    "df_raw"
   ]
  },
  {
   "cell_type": "code",
   "execution_count": null,
   "metadata": {},
   "outputs": [],
   "source": [
    "#Manual iteration labelling (referring to the below table for easier reference)\n",
    "df_raw.loc[33:35, 'iteration'] = 12"
   ]
  },
  {
   "cell_type": "code",
   "execution_count": null,
   "metadata": {},
   "outputs": [],
   "source": [
    "#Filtered table for easier iteration manual labelling\n",
    "df_raw[['volume', 'aspiration_rate', 'dispense_rate', 'delay_aspirate', 'delay_dispense', 'delay_blow_out', 'iteration']]"
   ]
  },
  {
   "cell_type": "code",
   "execution_count": null,
   "metadata": {},
   "outputs": [],
   "source": [
    "#Viewing the table\n",
    "df_raw "
   ]
  },
  {
   "cell_type": "code",
   "execution_count": null,
   "metadata": {},
   "outputs": [],
   "source": [
    "#Making time for 100ul column\n",
    "df_raw['time_for_1000'] = 1000/df_raw[\"aspiration_rate\"] + 1000/df_raw[\"dispense_rate\"] + df_raw[\"delay_aspirate\"] + df_raw[\"delay_dispense\"] + df_raw[\"delay_blow_out\"]\n",
    "df_raw"
   ]
  },
  {
   "cell_type": "code",
   "execution_count": null,
   "metadata": {},
   "outputs": [],
   "source": [
    "#Saving the csv\n",
    "folder = (r\"C:\\Users\\admin\\Documents\\GitHub\\viscosity_liquid_transfer_Pablo\\Sartorious_experiments\\Cleaned_Data\")\n",
    "df_raw.to_csv(folder+r'/'+'Viscosity_std_'+std+'_modified.csv', index=False)"
   ]
  },
  {
   "cell_type": "code",
   "execution_count": null,
   "metadata": {},
   "outputs": [],
   "source": []
  }
 ],
 "metadata": {
  "kernelspec": {
   "display_name": "Python 3",
   "language": "python",
   "name": "python3"
  },
  "language_info": {
   "codemirror_mode": {
    "name": "ipython",
    "version": 3
   },
   "file_extension": ".py",
   "mimetype": "text/x-python",
   "name": "python",
   "nbconvert_exporter": "python",
   "pygments_lexer": "ipython3",
   "version": "3.11.1"
  },
  "orig_nbformat": 4
 },
 "nbformat": 4,
 "nbformat_minor": 2
}
