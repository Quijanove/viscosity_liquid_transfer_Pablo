{
 "cells": [
  {
   "attachments": {},
   "cell_type": "markdown",
   "metadata": {},
   "source": [
    "# Test viscous liquid transfer\n",
    "\n",
    "The objective of this Jupyter notebook is to guide the user through the process of obtaining the liquid handling parameters that can accutately transfer volumes of viscous liquids using a rLine1000 automatic pipette. The process is based on a gravimetric method where the volume transfered with the autoamted pipette is compared with the expected mass for the transfer. The parameters are tuned to minimize the relative error calculated from the measured mass in comparison to the expected mass for each transfer. \n"
   ]
  },
  {
   "attachments": {},
   "cell_type": "markdown",
   "metadata": {},
   "source": [
    "## Initialization of automated plarform"
   ]
  },
  {
   "cell_type": "code",
   "execution_count": 1,
   "metadata": {},
   "outputs": [
    {
     "name": "stdout",
     "output_type": "stream",
     "text": [
      "Import: OK <controllably.misc.decorators>\n",
      "Import: OK <controllably.misc.helper>\n",
      "Import: OK <controllably.misc.factory>\n",
      "Import: OK <controllably.misc.layout>\n",
      "Import: OK <controllably.misc.logger>\n",
      "Import: OK <controllably.misc.misc_utils>\n",
      "\n",
      "\n",
      "Import: OK <controllably.Compound.compound_utils>\n",
      "Import: OK <controllably.Compound.LiquidMover.liquidmover_utils>\n",
      "\n",
      "\n",
      "Import: OK <controllably.Move.move_utils>\n",
      "Import: OK <controllably.Move.Jointed.jointed_utils>\n",
      "Import: OK <controllably.Move.Jointed.Dobot.dobot_utils>\n",
      "Import: OK <controllably.Move.Jointed.Dobot.m1pro_utils>\n",
      "Import: OK <controllably.Move.Jointed.Dobot.mg400_utils>\n",
      "ClearError()\n",
      "receive: ClearError()\n",
      "EnableRobot()\n",
      "receive: EnableRobot()\n",
      "User(0)\n",
      "receive: User(0)\n",
      "Tool(0)\n",
      "receive: Tool(0)\n",
      "SetArmOrientation(1,1,1,1)\n",
      "receive: SetArmOrientation(1,1,1,1)\n",
      "Infeasible coordinates! (0.0, 0.0, 200.0)\n",
      "Infeasible coordinates! (300.0, 1.1368683772161603e-13, 0.0)\n",
      "MovJ(300.000000,0.000000,200.000000,10.000000,0.000000,0.000000)\n",
      "Move time: 3.000s (1.000x)\n",
      "[3.00000000e+02 1.13686838e-13 2.00000000e+02], [10  0  0]\n",
      "Homed\n",
      "\n",
      "\n",
      "Import: OK <controllably.Transfer.Liquid.liquid_utils>\n",
      "Import: OK <controllably.Transfer.Liquid.syringe_lib>\n",
      "Import: OK <controllably.Transfer.Liquid.syringe_utils>\n",
      "Import: OK <controllably.Transfer.Liquid.Sartorius.sartorius_lib>\n",
      "Import: OK <controllably.Transfer.Liquid.Sartorius.sartorius_utils>\n",
      "Any attached pipette tip may drop during initialisation.\n",
      "Connection opened to COM4\n",
      "Model: BRL1000-1\n",
      "Model(name='BRL1000', capacity=1000, home_position=30, max_position=443, tip_eject_position=-40, resolution=2.5, preset_speeds=PresetSpeeds(s1=150, s2=265, s3=410, s4=650, s5=945, s6=1120))\n",
      "\n",
      "\n",
      "Import: OK <controllably.Measure.instrument_utils>\n",
      "Import: OK <controllably.Measure.program_utils>\n",
      "Import: OK <controllably.Measure.measure_utils>\n",
      "Import: OK <controllably.Measure.Physical.balance_utils>\n",
      "Connection opened to COM5\n",
      "Listening...\n",
      "Zeroing... (5s)\n",
      "Stop listening...\n",
      "Zeroing complete.\n",
      "\n",
      "\n",
      "Import: OK <controllably.View.image_utils>\n",
      "Import: OK <controllably.View.view_utils>\n",
      "Import: OK <controllably.View.Optical.optical_utils>\n",
      "Objects created: setup, balance, camera, mover, liquid\n"
     ]
    }
   ],
   "source": [
    "#Import relevant python packages\n",
    "import pandas as pd\n",
    "import time\n",
    "from matplotlib import pyplot as plt\n",
    "from pathlib import Path\n",
    "import sys\n",
    "REPOS = 'GitHub'\n",
    "ROOT = str(Path().absolute()).split(REPOS)[0]\n",
    "sys.path.append(f'{ROOT}{REPOS}')\n",
    "\n",
    "from polylectric.configs.SynthesisB1 import SETUP, LAYOUT_FILE\n",
    "\n",
    "from controllably import load_deck      # optional\n",
    "load_deck(SETUP.setup, LAYOUT_FILE)     # optional\n",
    "\n",
    "platform = SETUP\n",
    "platform.mover.verbose = False\n"
   ]
  },
  {
   "cell_type": "code",
   "execution_count": 2,
   "metadata": {},
   "outputs": [
    {
     "name": "stdout",
     "output_type": "stream",
     "text": [
      "SpeedFactor(50)\n",
      "receive: SpeedFactor(50)\n",
      "Mass_balance_plastic_jar 1 Well Plate 15000 uL at Slot 1\n",
      "Polyelectric 6 Well Plate 15000 ÂµL at Slot 2\n",
      "Eppendorf Motion 96 Tip Rack 1000 ÂµL at Slot 3\n",
      "Polyetric_bin at Slot 4\n"
     ]
    }
   ],
   "source": [
    "#Initialization of variables for platfomr objects\n",
    "pipette= platform.setup\n",
    "deck = platform.setup.deck\n",
    "balance = platform.balance\n",
    "balance_deck = deck.slots['1']\n",
    "source = deck.slots['2']\n",
    "tip_rack = deck.slots['3']\n",
    "bin = deck.slots['4']\n",
    "pipette.mover.setSpeed(50)\n",
    "print(balance_deck)\n",
    "print(source)\n",
    "print(tip_rack)\n",
    "print(bin)\n",
    "\n",
    "\n"
   ]
  },
  {
   "cell_type": "code",
   "execution_count": 3,
   "metadata": {},
   "outputs": [
    {
     "name": "stdout",
     "output_type": "stream",
     "text": [
      "Listening...\n",
      "Zeroing... (5s)\n",
      "Stop listening...\n",
      "Zeroing complete.\n",
      "Listening...\n",
      "Time        2023-05-08 13:14:04.284044\n",
      "Value                           228929\n",
      "Factor                        6.862879\n",
      "Baseline                 228914.873418\n",
      "Mass                          2.058405\n",
      "Name: 24, dtype: object\n",
      "Stop listening...\n"
     ]
    }
   ],
   "source": [
    "#Check if balance is connected\n",
    "balance.zero()\n",
    "balance.toggleRecord(True)\n",
    "time.sleep(5)\n",
    "print(balance.buffer_df.iloc[-1])\n",
    "balance.toggleRecord(False)"
   ]
  },
  {
   "cell_type": "code",
   "execution_count": 217,
   "metadata": {},
   "outputs": [],
   "source": [
    "#Stablish initial height of liquid on the source vial\n",
    "liquid_level = 11"
   ]
  },
  {
   "cell_type": "code",
   "execution_count": 221,
   "metadata": {},
   "outputs": [
    {
     "name": "stdout",
     "output_type": "stream",
     "text": [
      "Tip capacitance: 267\n"
     ]
    },
    {
     "ename": "RuntimeError",
     "evalue": "Please eject current tip before attaching new tip.",
     "output_type": "error",
     "traceback": [
      "\u001b[1;31m---------------------------------------------------------------------------\u001b[0m",
      "\u001b[1;31mRuntimeError\u001b[0m                              Traceback (most recent call last)",
      "Cell \u001b[1;32mIn[221], line 2\u001b[0m\n\u001b[0;32m      1\u001b[0m \u001b[39m#Initialize OT2 for pipetting\u001b[39;00m\n\u001b[1;32m----> 2\u001b[0m pipette\u001b[39m.\u001b[39;49mattachTip()\n\u001b[0;32m      3\u001b[0m pipette\u001b[39m.\u001b[39mmover\u001b[39m.\u001b[39mhome()\n",
      "File \u001b[1;32m~\\AppData\\Roaming\\Python\\Python311\\site-packages\\controllably\\Compound\\LiquidMover\\liquidmover_utils.py:194\u001b[0m, in \u001b[0;36mLiquidMoverSetup.attachTip\u001b[1;34m(self, slot, start_tip, tip_length, channel)\u001b[0m\n\u001b[0;32m    192\u001b[0m     \u001b[39mraise\u001b[39;00m \u001b[39mAttributeError\u001b[39;00m(\u001b[39m\"\u001b[39m\u001b[39m`attachTip` and `attachTipAt` methods not available.\u001b[39m\u001b[39m\"\u001b[39m)\n\u001b[0;32m    193\u001b[0m \u001b[39mif\u001b[39;00m \u001b[39mself\u001b[39m\u001b[39m.\u001b[39mliquid\u001b[39m.\u001b[39misTipOn():\n\u001b[1;32m--> 194\u001b[0m     \u001b[39mraise\u001b[39;00m \u001b[39mRuntimeError\u001b[39;00m(\u001b[39m\"\u001b[39m\u001b[39mPlease eject current tip before attaching new tip.\u001b[39m\u001b[39m\"\u001b[39m)\n\u001b[0;32m    196\u001b[0m \u001b[39mif\u001b[39;00m start_tip \u001b[39mis\u001b[39;00m \u001b[39mnot\u001b[39;00m \u001b[39mNone\u001b[39;00m:\n\u001b[0;32m    197\u001b[0m     \u001b[39mself\u001b[39m\u001b[39m.\u001b[39mupdateStartTip(start_tip\u001b[39m=\u001b[39mstart_tip, slot\u001b[39m=\u001b[39mslot)\n",
      "\u001b[1;31mRuntimeError\u001b[0m: Please eject current tip before attaching new tip."
     ]
    }
   ],
   "source": [
    "#Initialize OT2 for pipetting\n",
    "pipette.attachTip()\n",
    "pipette.mover.home()"
   ]
  },
  {
   "cell_type": "markdown",
   "metadata": {},
   "source": [
    "## Viscous liquid protocol: Coarse approximation of pipetting parameters\n",
    "\n",
    "The first step is to obtain approximate values of aspiration and dispense rates that can be used to initia;ize the ;iqiid transfer such as aspiration and dispense rates. "
   ]
  },
  {
   "cell_type": "code",
   "execution_count": 128,
   "metadata": {},
   "outputs": [
    {
     "name": "stdout",
     "output_type": "stream",
     "text": [
      "SpeedFactor(100)\n",
      "receive: SpeedFactor(100)\n",
      "MovJ(206.843094,-146.682146,200.000000,10.000000,0.000000,0.000000)\n",
      "Move time: 1.265s (1.000x)\n",
      "[ 206.84309407 -146.68214574  200.        ], [10  0  0]\n",
      "SpeedFactor(50)\n",
      "receive: SpeedFactor(50)\n",
      "MovJ(206.843094,-146.682146,200.000000,10.000000,0.000000,0.000000)\n",
      "Move time: 0.000s (0.500x)\n",
      "[ 206.84309407 -146.68214574  200.        ], [10  0  0]\n",
      "SpeedFactor(100)\n",
      "receive: SpeedFactor(100)\n",
      "MovJ(206.843094,-146.682146,50.349865,10.000000,0.000000,0.000000)\n",
      "Move time: 1.497s (1.000x)\n",
      "[ 206.84309407 -146.68214574   50.34986543], [10  0  0]\n",
      "SpeedFactor(50)\n",
      "receive: SpeedFactor(50)\n",
      "Aspirating 1000.0 uL...\n",
      "Aspiration time: 2.4394105998799205s\n"
     ]
    },
    {
     "data": {
      "text/plain": [
       "'ok'"
      ]
     },
     "execution_count": 128,
     "metadata": {},
     "output_type": "execute_result"
    }
   ],
   "source": [
    "#This commands will aspirate 1000ul liquid at standard flow_rate.aspirate of pippette. A timer well be started just before aspiration starts\n",
    "pipette.mover.setHandedness(False)\n",
    "pipette.mover.safeMoveTo(source.wells['A1'].from_bottom((0,0,liquid_level-5)))\n",
    "start = time.time()\n",
    "pipette.liquid.aspirate(1000)"
   ]
  },
  {
   "cell_type": "code",
   "execution_count": 129,
   "metadata": {},
   "outputs": [
    {
     "data": {
      "text/plain": [
       "83.8718788134793"
      ]
     },
     "execution_count": 129,
     "metadata": {},
     "output_type": "execute_result"
    }
   ],
   "source": [
    "#Run this cell when no further flow of liquid into the pipette tip is observed. Calculates an approximate flow rate for \n",
    "#aspiration\n",
    "finish = time.time()\n",
    "t_aspirate = finish-start\n",
    "flow_rate_aspirate = 1000/t_aspirate\n",
    "flow_rate_aspirate"
   ]
  },
  {
   "cell_type": "code",
   "execution_count": 130,
   "metadata": {},
   "outputs": [
    {
     "name": "stdout",
     "output_type": "stream",
     "text": [
      "SpeedFactor(100)\n",
      "receive: SpeedFactor(100)\n",
      "MovJ(206.843094,-146.682146,200.000000,10.000000,0.000000,0.000000)\n",
      "Move time: 1.497s (1.000x)\n",
      "[ 206.84309407 -146.68214574  200.        ], [10  0  0]\n",
      "SpeedFactor(50)\n",
      "receive: SpeedFactor(50)\n",
      "MovJ(206.843094,-146.682146,200.000000,10.000000,0.000000,0.000000)\n",
      "Move time: 0.000s (0.500x)\n",
      "[ 206.84309407 -146.68214574  200.        ], [10  0  0]\n",
      "SpeedFactor(100)\n",
      "receive: SpeedFactor(100)\n",
      "MovJ(206.843094,-146.682146,73.510000,10.000000,0.000000,0.000000)\n",
      "Move time: 1.265s (1.000x)\n",
      "[ 206.84309407 -146.68214574   73.51      ], [10  0  0]\n",
      "SpeedFactor(50)\n",
      "receive: SpeedFactor(50)\n",
      "Dispensing 1000.0 uL...\n",
      "Target: 1000.0 uL at 83.9 uL/s...\n",
      "Best parameters: SpeedParameters(preset=650, intervals=10, step_size=40, delay=1.038048959383882)\n",
      "SpeedParameters(preset=650, intervals=10, step_size=40, delay=1.038048959383882)\n",
      "Speed 4: 650 uL/s\n",
      "Dispense time: 11.92373270005919s\n"
     ]
    },
    {
     "data": {
      "text/plain": [
       "'ok'"
      ]
     },
     "execution_count": 130,
     "metadata": {},
     "output_type": "execute_result"
    }
   ],
   "source": [
    "#This commands will dispense 900 ul of liquid at a flow rate equal to the approximation for aspiration obtained above.\n",
    "#User should observe the behaviour of the dispense to make an educated guess of initial dispense rate to be implemented.\n",
    "pipette.mover.safeMoveTo(source.wells['A1'].top)\n",
    "pipette.liquid.dispense(1000, speed = round(flow_rate_aspirate,1))\n"
   ]
  },
  {
   "cell_type": "code",
   "execution_count": 131,
   "metadata": {},
   "outputs": [
    {
     "name": "stdout",
     "output_type": "stream",
     "text": [
      "SpeedFactor(20)\n",
      "receive: SpeedFactor(20)\n",
      "MovJ(206.843094,-146.682146,63.510000,10.000000,0.000000,0.000000)\n",
      "Move time: 0.500s (0.200x)\n",
      "[ 206.84309407 -146.68214574   63.51      ], [10  0  0]\n",
      "SpeedFactor(50)\n",
      "receive: SpeedFactor(50)\n",
      "SpeedFactor(20)\n",
      "receive: SpeedFactor(20)\n",
      "MovJ(207.104567,-129.734163,63.510000,10.000000,0.000000,0.000000)\n",
      "Move time: 0.847s (0.200x)\n",
      "[ 207.10456737 -129.73416262   63.51      ], [10  0  0]\n",
      "SpeedFactor(50)\n",
      "receive: SpeedFactor(50)\n",
      "SpeedFactor(20)\n",
      "receive: SpeedFactor(20)\n",
      "MovJ(206.581621,-163.630129,63.510000,10.000000,0.000000,0.000000)\n",
      "Move time: 1.695s (0.200x)\n",
      "[ 206.58162078 -163.63012886   63.51      ], [10  0  0]\n",
      "SpeedFactor(50)\n",
      "receive: SpeedFactor(50)\n",
      "SpeedFactor(20)\n",
      "receive: SpeedFactor(20)\n",
      "MovJ(206.843094,-146.682146,63.510000,10.000000,0.000000,0.000000)\n",
      "Move time: 0.847s (0.200x)\n",
      "[ 206.84309407 -146.68214574   63.51      ], [10  0  0]\n",
      "SpeedFactor(50)\n",
      "receive: SpeedFactor(50)\n",
      "SpeedFactor(20)\n",
      "receive: SpeedFactor(20)\n",
      "MovJ(189.895111,-146.420672,63.510000,10.000000,0.000000,0.000000)\n",
      "Move time: 0.847s (0.200x)\n",
      "[ 189.89511096 -146.42067245   63.51      ], [10  0  0]\n",
      "SpeedFactor(50)\n",
      "receive: SpeedFactor(50)\n",
      "SpeedFactor(20)\n",
      "receive: SpeedFactor(20)\n",
      "MovJ(223.791077,-146.943619,63.510000,10.000000,0.000000,0.000000)\n",
      "Move time: 1.695s (0.200x)\n",
      "[ 223.79107719 -146.94361903   63.51      ], [10  0  0]\n",
      "SpeedFactor(50)\n",
      "receive: SpeedFactor(50)\n",
      "SpeedFactor(20)\n",
      "receive: SpeedFactor(20)\n",
      "MovJ(206.843094,-146.682146,63.510000,10.000000,0.000000,0.000000)\n",
      "Move time: 0.847s (0.200x)\n",
      "[ 206.84309407 -146.68214574   63.51      ], [10  0  0]\n",
      "SpeedFactor(50)\n",
      "receive: SpeedFactor(50)\n",
      "MovJ(206.843094,-146.682146,73.510000,10.000000,0.000000,0.000000)\n",
      "Move time: 0.200s (0.500x)\n",
      "[ 206.84309407 -146.68214574   73.51      ], [10  0  0]\n",
      "SpeedFactor(20)\n",
      "receive: SpeedFactor(20)\n",
      "MovJ(206.843094,-146.682146,63.510000,10.000000,0.000000,0.000000)\n",
      "Move time: 0.500s (0.200x)\n",
      "[ 206.84309407 -146.68214574   63.51      ], [10  0  0]\n",
      "SpeedFactor(50)\n",
      "receive: SpeedFactor(50)\n",
      "SpeedFactor(20)\n",
      "receive: SpeedFactor(20)\n",
      "MovJ(207.104567,-129.734163,63.510000,10.000000,0.000000,0.000000)\n",
      "Move time: 0.847s (0.200x)\n",
      "[ 207.10456737 -129.73416262   63.51      ], [10  0  0]\n",
      "SpeedFactor(50)\n",
      "receive: SpeedFactor(50)\n",
      "SpeedFactor(20)\n",
      "receive: SpeedFactor(20)\n",
      "MovJ(206.581621,-163.630129,63.510000,10.000000,0.000000,0.000000)\n",
      "Move time: 1.695s (0.200x)\n",
      "[ 206.58162078 -163.63012886   63.51      ], [10  0  0]\n",
      "SpeedFactor(50)\n",
      "receive: SpeedFactor(50)\n",
      "SpeedFactor(20)\n",
      "receive: SpeedFactor(20)\n",
      "MovJ(206.843094,-146.682146,63.510000,10.000000,0.000000,0.000000)\n",
      "Move time: 0.847s (0.200x)\n",
      "[ 206.84309407 -146.68214574   63.51      ], [10  0  0]\n",
      "SpeedFactor(50)\n",
      "receive: SpeedFactor(50)\n",
      "SpeedFactor(20)\n",
      "receive: SpeedFactor(20)\n",
      "MovJ(189.895111,-146.420672,63.510000,10.000000,0.000000,0.000000)\n",
      "Move time: 0.847s (0.200x)\n",
      "[ 189.89511096 -146.42067245   63.51      ], [10  0  0]\n",
      "SpeedFactor(50)\n",
      "receive: SpeedFactor(50)\n",
      "SpeedFactor(20)\n",
      "receive: SpeedFactor(20)\n",
      "MovJ(223.791077,-146.943619,63.510000,10.000000,0.000000,0.000000)\n",
      "Move time: 1.695s (0.200x)\n",
      "[ 223.79107719 -146.94361903   63.51      ], [10  0  0]\n",
      "SpeedFactor(50)\n",
      "receive: SpeedFactor(50)\n",
      "SpeedFactor(20)\n",
      "receive: SpeedFactor(20)\n",
      "MovJ(206.843094,-146.682146,63.510000,10.000000,0.000000,0.000000)\n",
      "Move time: 0.847s (0.200x)\n",
      "[ 206.84309407 -146.68214574   63.51      ], [10  0  0]\n",
      "SpeedFactor(50)\n",
      "receive: SpeedFactor(50)\n",
      "MovJ(206.843094,-146.682146,73.510000,10.000000,0.000000,0.000000)\n",
      "Move time: 0.200s (0.500x)\n",
      "[ 206.84309407 -146.68214574   73.51      ], [10  0  0]\n",
      "SpeedFactor(20)\n",
      "receive: SpeedFactor(20)\n",
      "MovJ(206.843094,-146.682146,63.510000,10.000000,0.000000,0.000000)\n",
      "Move time: 0.500s (0.200x)\n",
      "[ 206.84309407 -146.68214574   63.51      ], [10  0  0]\n",
      "SpeedFactor(50)\n",
      "receive: SpeedFactor(50)\n",
      "SpeedFactor(20)\n",
      "receive: SpeedFactor(20)\n",
      "MovJ(207.104567,-129.734163,63.510000,10.000000,0.000000,0.000000)\n",
      "Move time: 0.847s (0.200x)\n",
      "[ 207.10456737 -129.73416262   63.51      ], [10  0  0]\n",
      "SpeedFactor(50)\n",
      "receive: SpeedFactor(50)\n",
      "SpeedFactor(20)\n",
      "receive: SpeedFactor(20)\n",
      "MovJ(206.581621,-163.630129,63.510000,10.000000,0.000000,0.000000)\n",
      "Move time: 1.695s (0.200x)\n",
      "[ 206.58162078 -163.63012886   63.51      ], [10  0  0]\n",
      "SpeedFactor(50)\n",
      "receive: SpeedFactor(50)\n",
      "SpeedFactor(20)\n",
      "receive: SpeedFactor(20)\n",
      "MovJ(206.843094,-146.682146,63.510000,10.000000,0.000000,0.000000)\n",
      "Move time: 0.847s (0.200x)\n",
      "[ 206.84309407 -146.68214574   63.51      ], [10  0  0]\n",
      "SpeedFactor(50)\n",
      "receive: SpeedFactor(50)\n",
      "SpeedFactor(20)\n",
      "receive: SpeedFactor(20)\n",
      "MovJ(189.895111,-146.420672,63.510000,10.000000,0.000000,0.000000)\n",
      "Move time: 0.847s (0.200x)\n",
      "[ 189.89511096 -146.42067245   63.51      ], [10  0  0]\n",
      "SpeedFactor(50)\n",
      "receive: SpeedFactor(50)\n",
      "SpeedFactor(20)\n",
      "receive: SpeedFactor(20)\n",
      "MovJ(223.791077,-146.943619,63.510000,10.000000,0.000000,0.000000)\n",
      "Move time: 1.695s (0.200x)\n",
      "[ 223.79107719 -146.94361903   63.51      ], [10  0  0]\n",
      "SpeedFactor(50)\n",
      "receive: SpeedFactor(50)\n",
      "SpeedFactor(20)\n",
      "receive: SpeedFactor(20)\n",
      "MovJ(206.843094,-146.682146,63.510000,10.000000,0.000000,0.000000)\n",
      "Move time: 0.847s (0.200x)\n",
      "[ 206.84309407 -146.68214574   63.51      ], [10  0  0]\n",
      "SpeedFactor(50)\n",
      "receive: SpeedFactor(50)\n",
      "MovJ(206.843094,-146.682146,73.510000,10.000000,0.000000,0.000000)\n",
      "Move time: 0.200s (0.500x)\n",
      "[ 206.84309407 -146.68214574   73.51      ], [10  0  0]\n"
     ]
    },
    {
     "data": {
      "text/plain": [
       "'ok'"
      ]
     },
     "execution_count": 131,
     "metadata": {},
     "output_type": "execute_result"
    }
   ],
   "source": [
    "#This command will clear out remaining liquid in the tip if the dispense was incomplete.\n",
    "\n",
    "pipette.liquid.blowout(home=False)\n",
    "time.sleep(5)\n",
    "pipette.touchTip(source.wells['A1'])\n",
    "pipette.liquid.home()\n",
    "\n",
    "pipette.liquid.blowout(home=False)\n",
    "time.sleep(5)\n",
    "pipette.touchTip(source.wells['A1'])\n",
    "pipette.liquid.home()\n",
    "\n",
    "pipette.liquid.blowout(home=False)\n",
    "time.sleep(5)\n",
    "pipette.touchTip(source.wells['A1'])\n",
    "pipette.liquid.home()\n"
   ]
  },
  {
   "cell_type": "markdown",
   "metadata": {},
   "source": [
    "## Viscous liquid protocol: Gravimetric analysis for obtaining pipetting parameters to transfer a viscous liquid \n",
    "The following cells contain the code required to implemenet the gravimetric analysis of volume transfer of a specific viscousl iquid. User only needs to input the targetr volume, density of the liquid and mass of vials before and after a dispense."
   ]
  },
  {
   "cell_type": "markdown",
   "metadata": {},
   "source": [
    "Define liquid to be handeled and input initial aspiration and dispense rates"
   ]
  },
  {
   "cell_type": "code",
   "execution_count": 13,
   "metadata": {},
   "outputs": [],
   "source": [
    "#Load dataframe\n",
    "liquid_name = \"Viscosity_std_505\"\n",
    "density = 0.8683\n",
    "pipette_name = 'rLine1000'\n"
   ]
  },
  {
   "cell_type": "markdown",
   "metadata": {},
   "source": [
    "First initialize or load a previous dataframe to record transfer parameters. Use only one of the next to cells. "
   ]
  },
  {
   "cell_type": "code",
   "execution_count": 240,
   "metadata": {},
   "outputs": [],
   "source": [
    "#New dataframe\n",
    "df = pd.DataFrame(columns = ['liquid', 'pipette', 'volume', 'aspiration_rate', 'dispense_rate','blow_out', 'delay_aspirate', 'delay_dispense', 'delay_blow_out', 'density', 'time', 'm', '%error', 'Transfer_Observation', 'Comment'])\n",
    "df = df.astype({'liquid':str,'pipette':str,'blow_out':bool,'Transfer_Observation':str,'Comment':str})"
   ]
  },
  {
   "cell_type": "code",
   "execution_count": 14,
   "metadata": {},
   "outputs": [],
   "source": [
    "#load dataframe if experiment was done halfway previously\n",
    "df = pd.read_csv(liquid_name+'.csv')"
   ]
  },
  {
   "cell_type": "code",
   "execution_count": 13,
   "metadata": {},
   "outputs": [],
   "source": [
    "liquids_dict = {\n",
    "  liquid_name :{\n",
    "        \"rLine1000\": {\n",
    "            \"aspiration_rate\": flow_rate_aspirate, \n",
    "            \"dispense_rate\": flow_rate_aspirate, \n",
    "            \"blow_out\" : False, \n",
    "            \"delay_aspirate\" : 5, \n",
    "            \"delay_dispense\" : 5, \n",
    "            \"delay_blow_out\" : 0, \n",
    "            },\n",
    "    }\n",
    "\n",
    "}\n"
   ]
  },
  {
   "cell_type": "markdown",
   "metadata": {},
   "source": [
    "Transfer viscous liquds, input pippette name (pipette), desired volume (volume) to be dispensed in ul, liquid dictonary key string (liquid), density (density) and initial vial mass (mi). The code will register the liquid handling parameters used into the dataframe  "
   ]
  },
  {
   "cell_type": "code",
   "execution_count": 219,
   "metadata": {},
   "outputs": [
    {
     "name": "stdout",
     "output_type": "stream",
     "text": [
      "Connection opened to COM4\n",
      "Model: BRL1000-1\n",
      "Model(name='BRL1000', capacity=1000, home_position=30, max_position=443, tip_eject_position=-40, resolution=2.5, preset_speeds=PresetSpeeds(s1=150, s2=265, s3=410, s4=650, s5=945, s6=1120))\n"
     ]
    }
   ],
   "source": [
    "pipette.liquid.connect()"
   ]
  },
  {
   "cell_type": "code",
   "execution_count": 419,
   "metadata": {},
   "outputs": [
    {
     "name": "stdout",
     "output_type": "stream",
     "text": [
      "Tip capacitance: 272\n",
      "SpeedFactor(100)\n",
      "receive: SpeedFactor(100)\n",
      "MovJ(206.843094,-146.682146,200.000000,10.000000,0.000000,0.000000)\n",
      "Move time: 1.265s (1.000x)\n",
      "[ 206.84309407 -146.68214574  200.        ], [10  0  0]\n",
      "SpeedFactor(50)\n",
      "receive: SpeedFactor(50)\n",
      "MovJ(206.843094,-146.682146,200.000000,10.000000,0.000000,0.000000)\n",
      "Move time: 0.000s (0.500x)\n",
      "[ 206.84309407 -146.68214574  200.        ], [10  0  0]\n",
      "SpeedFactor(100)\n",
      "receive: SpeedFactor(100)\n",
      "MovJ(206.843094,-146.682146,50.055604,10.000000,0.000000,0.000000)\n",
      "Move time: 1.499s (1.000x)\n",
      "[ 206.84309407 -146.68214574   50.05560393], [10  0  0]\n",
      "SpeedFactor(50)\n",
      "receive: SpeedFactor(50)\n",
      "Aspirating 300.0 uL...\n",
      "Target: 300.0 uL at 60 uL/s...\n",
      "Best parameters: SpeedParameters(preset=410, intervals=4, step_size=30, delay=1.0670731707317074)\n",
      "SpeedParameters(preset=410, intervals=4, step_size=30, delay=1.0670731707317074)\n",
      "Speed 3: 410 uL/s\n",
      "Aspiration time: 5.001630200073123s\n",
      "SpeedFactor(20)\n",
      "receive: SpeedFactor(20)\n",
      "MovJ(206.843094,-146.682146,63.510000,10.000000,0.000000,0.000000)\n",
      "Move time: 0.673s (0.200x)\n",
      "[ 206.84309407 -146.68214574   63.51      ], [10  0  0]\n",
      "SpeedFactor(50)\n",
      "receive: SpeedFactor(50)\n",
      "SpeedFactor(20)\n",
      "receive: SpeedFactor(20)\n",
      "MovJ(207.104567,-129.734163,63.510000,10.000000,0.000000,0.000000)\n",
      "Move time: 0.847s (0.200x)\n",
      "[ 207.10456737 -129.73416262   63.51      ], [10  0  0]\n",
      "SpeedFactor(50)\n",
      "receive: SpeedFactor(50)\n",
      "SpeedFactor(20)\n",
      "receive: SpeedFactor(20)\n",
      "MovJ(206.581621,-163.630129,63.510000,10.000000,0.000000,0.000000)\n",
      "Move time: 1.695s (0.200x)\n",
      "[ 206.58162078 -163.63012886   63.51      ], [10  0  0]\n",
      "SpeedFactor(50)\n",
      "receive: SpeedFactor(50)\n",
      "SpeedFactor(20)\n",
      "receive: SpeedFactor(20)\n",
      "MovJ(206.843094,-146.682146,63.510000,10.000000,0.000000,0.000000)\n",
      "Move time: 0.847s (0.200x)\n",
      "[ 206.84309407 -146.68214574   63.51      ], [10  0  0]\n",
      "SpeedFactor(50)\n",
      "receive: SpeedFactor(50)\n",
      "SpeedFactor(20)\n",
      "receive: SpeedFactor(20)\n",
      "MovJ(189.895111,-146.420672,63.510000,10.000000,0.000000,0.000000)\n",
      "Move time: 0.847s (0.200x)\n",
      "[ 189.89511096 -146.42067245   63.51      ], [10  0  0]\n",
      "SpeedFactor(50)\n",
      "receive: SpeedFactor(50)\n",
      "SpeedFactor(20)\n",
      "receive: SpeedFactor(20)\n",
      "MovJ(223.791077,-146.943619,63.510000,10.000000,0.000000,0.000000)\n",
      "Move time: 1.695s (0.200x)\n",
      "[ 223.79107719 -146.94361903   63.51      ], [10  0  0]\n",
      "SpeedFactor(50)\n",
      "receive: SpeedFactor(50)\n",
      "SpeedFactor(20)\n",
      "receive: SpeedFactor(20)\n",
      "MovJ(206.843094,-146.682146,63.510000,10.000000,0.000000,0.000000)\n",
      "Move time: 0.847s (0.200x)\n",
      "[ 206.84309407 -146.68214574   63.51      ], [10  0  0]\n",
      "SpeedFactor(50)\n",
      "receive: SpeedFactor(50)\n",
      "MovJ(206.843094,-146.682146,73.510000,10.000000,0.000000,0.000000)\n",
      "Move time: 0.200s (0.500x)\n",
      "[ 206.84309407 -146.68214574   73.51      ], [10  0  0]\n",
      "SpeedFactor(100)\n",
      "receive: SpeedFactor(100)\n",
      "MovJ(206.843094,-146.682146,200.000000,10.000000,0.000000,0.000000)\n",
      "Move time: 1.265s (1.000x)\n",
      "[ 206.84309407 -146.68214574  200.        ], [10  0  0]\n",
      "SpeedFactor(50)\n",
      "receive: SpeedFactor(50)\n",
      "MovJ(226.808719,-246.301992,200.000000,10.000000,0.000000,0.000000)\n",
      "Move time: 1.992s (0.500x)\n",
      "[ 226.8087188 -246.3019923  200.       ], [10  0  0]\n",
      "SpeedFactor(100)\n",
      "receive: SpeedFactor(100)\n",
      "MovJ(226.808719,-246.301992,119.900000,10.000000,0.000000,0.000000)\n",
      "Move time: 0.801s (1.000x)\n",
      "[ 226.8087188 -246.3019923  119.9      ], [10  0  0]\n",
      "SpeedFactor(50)\n",
      "receive: SpeedFactor(50)\n",
      "Listening...\n",
      "Zeroing... (5s)\n",
      "Stop listening...\n",
      "Zeroing complete.\n",
      "Listening...\n",
      "Dispensing 300.0 uL...\n",
      "Target: 300.0 uL at 30 uL/s...\n",
      "Best parameters: SpeedParameters(preset=650, intervals=9, step_size=13, delay=1.0598290598290598)\n",
      "SpeedParameters(preset=650, intervals=9, step_size=13, delay=1.0598290598290598)\n",
      "Speed 4: 650 uL/s\n",
      "Dispense time: 10.003540199948475s\n",
      "SpeedFactor(100)\n",
      "receive: SpeedFactor(100)\n",
      "MovJ(226.808719,-246.301992,200.000000,10.000000,0.000000,0.000000)\n",
      "Move time: 0.801s (1.000x)\n",
      "[ 226.8087188 -246.3019923  200.       ], [10  0  0]\n",
      "SpeedFactor(50)\n",
      "receive: SpeedFactor(50)\n",
      "MovJ(206.843094,-146.682146,200.000000,10.000000,0.000000,0.000000)\n",
      "Move time: 1.992s (0.500x)\n",
      "[ 206.84309407 -146.68214574  200.        ], [10  0  0]\n",
      "SpeedFactor(100)\n",
      "receive: SpeedFactor(100)\n",
      "MovJ(206.843094,-146.682146,73.510000,10.000000,0.000000,0.000000)\n",
      "Move time: 1.265s (1.000x)\n",
      "[ 206.84309407 -146.68214574   73.51      ], [10  0  0]\n",
      "SpeedFactor(50)\n",
      "receive: SpeedFactor(50)\n",
      "Stop listening...\n"
     ]
    }
   ],
   "source": [
    "#Update target volume for transfer\n",
    "volume=300\n",
    "\n",
    "#Check if new tip is required\n",
    "pipette.mover.setSpeed(50)\n",
    "\n",
    "if pipette.liquid.isTipOn()== False:\n",
    "    pipette.attachTip()\n",
    "\n",
    "#Transfer start\n",
    "start = time.time()\n",
    "\n",
    "#Aspirate step\n",
    "pipette.mover.safeMoveTo(source.wells['A1'].from_bottom((0,0,liquid_level-5)))\n",
    "pipette.liquid.aspirate(volume, speed=liquids_dict[liquid_name][pipette_name]['aspiration_rate'])\n",
    "time.sleep(liquids_dict[liquid_name][pipette_name]['delay_aspirate'])\n",
    "\n",
    "pipette.touchTip(source.wells['A1'])\n",
    "\n",
    "#Dispense step\n",
    "pipette.mover.safeMoveTo(balance_deck.wells['A1'].from_top((0,0,-5)))\n",
    "\n",
    "balance.tare()\n",
    "balance.clearCache()\n",
    "balance.toggleRecord(True)\n",
    "time.sleep(5)\n",
    "\n",
    "\n",
    "pipette.liquid.dispense(volume, speed=liquids_dict[liquid_name][pipette_name]['dispense_rate'])\n",
    "\n",
    "time.sleep(liquids_dict[liquid_name][pipette_name]['delay_dispense'])\n",
    "\n",
    "#Blowout step\n",
    "if liquids_dict[liquid_name][pipette_name]['blow_out'] == True:\n",
    "    pipette.liquid.blowout(home=False)\n",
    "    time.sleep(liquids_dict[liquid_name][pipette_name]['delay_blow_out'])\n",
    "\n",
    "#Transfer termination\n",
    "finish = time.time()\n",
    "time_m = finish - start\n",
    "\n",
    "pipette.mover.safeMoveTo(source.wells['A1'].top)\n",
    "time.sleep(5)\n",
    "balance.toggleRecord(False)\n",
    "if liquids_dict[liquid_name][pipette_name]['blow_out'] == True:\n",
    "    pipette.liquid.home()\n",
    "\n"
   ]
  },
  {
   "cell_type": "code",
   "execution_count": 414,
   "metadata": {},
   "outputs": [
    {
     "data": {
      "image/png": "[encoded data removed]",
      "text/plain": [
       "<Figure size 640x480 with 1 Axes>"
      ]
     },
     "metadata": {},
     "output_type": "display_data"
    }
   ],
   "source": [
    "fig,axs = plt.subplots()\n",
    "\n",
    "axs.plot(balance.buffer_df['Time'],balance.buffer_df['Mass'])\n",
    "\n",
    "axs.set_xlabel('Time')\n",
    "axs.set_ylabel('Mass')\n",
    "\n",
    "plt.show()"
   ]
  },
  {
   "cell_type": "code",
   "execution_count": 415,
   "metadata": {},
   "outputs": [],
   "source": [
    "#Record trasnfer values \n",
    "\n",
    "m = (balance.buffer_df.iloc[-10:,-1].mean()-balance.buffer_df.iloc[:10,-1].mean())/1000\n",
    "\n",
    "df = pd.concat([df,pd.DataFrame(liquids_dict[liquid_name][pipette_name],index=[0])],ignore_index=True)\n",
    "error = (m-density*volume/1000)/(density/1000*volume)*100\n",
    "df.iloc[-1,-5] = time_m\n",
    "df.iloc[-1,2] = volume\n",
    "df.iloc[-1, 0] = liquid_name\n",
    "df.iloc[-1, 1] = pipette_name\n",
    "df.iloc[-1,-6] = density\n",
    "df.iloc[-1, -4] = m\n",
    "df.iloc[-1,-3]= error\n"
   ]
  },
  {
   "cell_type": "code",
   "execution_count": 416,
   "metadata": {},
   "outputs": [],
   "source": [
    "#Update liquid level\n",
    "#liquid_level = liquid_level - 1*volume/1000\n",
    "liquid_level = liquid_level - 1.2*m/density"
   ]
  },
  {
   "cell_type": "code",
   "execution_count": 417,
   "metadata": {},
   "outputs": [
    {
     "data": {
      "text/plain": [
       "5.545603925898475"
      ]
     },
     "execution_count": 417,
     "metadata": {},
     "output_type": "execute_result"
    }
   ],
   "source": [
    "liquid_level"
   ]
  },
  {
   "cell_type": "code",
   "execution_count": 418,
   "metadata": {},
   "outputs": [
    {
     "data": {
      "text/html": [
       "<div>\n",
       "<style scoped>\n",
       "    .dataframe tbody tr th:only-of-type {\n",
       "        vertical-align: middle;\n",
       "    }\n",
       "\n",
       "    .dataframe tbody tr th {\n",
       "        vertical-align: top;\n",
       "    }\n",
       "\n",
       "    .dataframe thead th {\n",
       "        text-align: right;\n",
       "    }\n",
       "</style>\n",
       "<table border=\"1\" class=\"dataframe\">\n",
       "  <thead>\n",
       "    <tr style=\"text-align: right;\">\n",
       "      <th></th>\n",
       "      <th>liquid</th>\n",
       "      <th>pipette</th>\n",
       "      <th>volume</th>\n",
       "      <th>aspiration_rate</th>\n",
       "      <th>dispense_rate</th>\n",
       "      <th>blow_out</th>\n",
       "      <th>delay_aspirate</th>\n",
       "      <th>delay_dispense</th>\n",
       "      <th>delay_blow_out</th>\n",
       "      <th>density</th>\n",
       "      <th>time</th>\n",
       "      <th>m</th>\n",
       "      <th>%error</th>\n",
       "      <th>Transfer_Observation</th>\n",
       "      <th>Comment</th>\n",
       "    </tr>\n",
       "  </thead>\n",
       "  <tbody>\n",
       "    <tr>\n",
       "      <th>0</th>\n",
       "      <td>Viscosity_std_505</td>\n",
       "      <td>rLine1000</td>\n",
       "      <td>1000.0</td>\n",
       "      <td>80.887052</td>\n",
       "      <td>80.887052</td>\n",
       "      <td>False</td>\n",
       "      <td>5</td>\n",
       "      <td>5</td>\n",
       "      <td>0</td>\n",
       "      <td>0.8683</td>\n",
       "      <td>77.919450</td>\n",
       "      <td>0.715123</td>\n",
       "      <td>-17.641072</td>\n",
       "      <td>Incomplete aspiration and dispense</td>\n",
       "      <td>No comment</td>\n",
       "    </tr>\n",
       "    <tr>\n",
       "      <th>1</th>\n",
       "      <td>Viscosity_std_505</td>\n",
       "      <td>rLine1000</td>\n",
       "      <td>500.0</td>\n",
       "      <td>80.887052</td>\n",
       "      <td>80.887052</td>\n",
       "      <td>False</td>\n",
       "      <td>5</td>\n",
       "      <td>5</td>\n",
       "      <td>0</td>\n",
       "      <td>0.8683</td>\n",
       "      <td>65.322878</td>\n",
       "      <td>0.396219</td>\n",
       "      <td>-8.736950</td>\n",
       "      <td>Incomplete aspiration and dispense</td>\n",
       "      <td>Unsure abaout mass reading repeated</td>\n",
       "    </tr>\n",
       "    <tr>\n",
       "      <th>2</th>\n",
       "      <td>Viscosity_std_505</td>\n",
       "      <td>rLine1000</td>\n",
       "      <td>100.0</td>\n",
       "      <td>80.887052</td>\n",
       "      <td>80.887052</td>\n",
       "      <td>False</td>\n",
       "      <td>5</td>\n",
       "      <td>5</td>\n",
       "      <td>0</td>\n",
       "      <td>0.8683</td>\n",
       "      <td>56.181768</td>\n",
       "      <td>0.064871</td>\n",
       "      <td>-25.289957</td>\n",
       "      <td>Incomplete aspiration and dispense</td>\n",
       "      <td>No comment</td>\n",
       "    </tr>\n",
       "    <tr>\n",
       "      <th>3</th>\n",
       "      <td>Viscosity_std_505</td>\n",
       "      <td>rLine1000</td>\n",
       "      <td>500.0</td>\n",
       "      <td>80.887052</td>\n",
       "      <td>80.887052</td>\n",
       "      <td>False</td>\n",
       "      <td>5</td>\n",
       "      <td>5</td>\n",
       "      <td>0</td>\n",
       "      <td>0.8683</td>\n",
       "      <td>65.341112</td>\n",
       "      <td>0.367149</td>\n",
       "      <td>-15.432662</td>\n",
       "      <td>Incomplete aspiration and dispense</td>\n",
       "      <td>No comment</td>\n",
       "    </tr>\n",
       "    <tr>\n",
       "      <th>4</th>\n",
       "      <td>Viscosity_std_505</td>\n",
       "      <td>rLine1000</td>\n",
       "      <td>1000.0</td>\n",
       "      <td>80.887052</td>\n",
       "      <td>75.000000</td>\n",
       "      <td>False</td>\n",
       "      <td>5</td>\n",
       "      <td>5</td>\n",
       "      <td>0</td>\n",
       "      <td>0.8683</td>\n",
       "      <td>78.712592</td>\n",
       "      <td>0.744498</td>\n",
       "      <td>-14.257976</td>\n",
       "      <td>Incomplete aspiration and dispense</td>\n",
       "      <td>Mass read -70000 once</td>\n",
       "    </tr>\n",
       "    <tr>\n",
       "      <th>...</th>\n",
       "      <td>...</td>\n",
       "      <td>...</td>\n",
       "      <td>...</td>\n",
       "      <td>...</td>\n",
       "      <td>...</td>\n",
       "      <td>...</td>\n",
       "      <td>...</td>\n",
       "      <td>...</td>\n",
       "      <td>...</td>\n",
       "      <td>...</td>\n",
       "      <td>...</td>\n",
       "      <td>...</td>\n",
       "      <td>...</td>\n",
       "      <td>...</td>\n",
       "      <td>...</td>\n",
       "    </tr>\n",
       "    <tr>\n",
       "      <th>117</th>\n",
       "      <td>Viscosity_std_505</td>\n",
       "      <td>rLine1000</td>\n",
       "      <td>500.0</td>\n",
       "      <td>60.000000</td>\n",
       "      <td>25.000000</td>\n",
       "      <td>False</td>\n",
       "      <td>10</td>\n",
       "      <td>10</td>\n",
       "      <td>0</td>\n",
       "      <td>0.8683</td>\n",
       "      <td>91.943517</td>\n",
       "      <td>0.427969</td>\n",
       "      <td>-1.423690</td>\n",
       "      <td>Complete Transfer</td>\n",
       "      <td>No comment</td>\n",
       "    </tr>\n",
       "    <tr>\n",
       "      <th>118</th>\n",
       "      <td>Viscosity_std_505</td>\n",
       "      <td>rLine1000</td>\n",
       "      <td>300.0</td>\n",
       "      <td>60.000000</td>\n",
       "      <td>25.000000</td>\n",
       "      <td>False</td>\n",
       "      <td>10</td>\n",
       "      <td>10</td>\n",
       "      <td>0</td>\n",
       "      <td>0.8683</td>\n",
       "      <td>80.435772</td>\n",
       "      <td>0.248657</td>\n",
       "      <td>-4.542761</td>\n",
       "      <td>NaN</td>\n",
       "      <td>NaN</td>\n",
       "    </tr>\n",
       "    <tr>\n",
       "      <th>119</th>\n",
       "      <td>Viscosity_std_505</td>\n",
       "      <td>rLine1000</td>\n",
       "      <td>1000.0</td>\n",
       "      <td>60.000000</td>\n",
       "      <td>30.000000</td>\n",
       "      <td>False</td>\n",
       "      <td>10</td>\n",
       "      <td>10</td>\n",
       "      <td>0</td>\n",
       "      <td>0.8683</td>\n",
       "      <td>113.616673</td>\n",
       "      <td>0.848478</td>\n",
       "      <td>-2.282889</td>\n",
       "      <td>NaN</td>\n",
       "      <td>NaN</td>\n",
       "    </tr>\n",
       "    <tr>\n",
       "      <th>120</th>\n",
       "      <td>Viscosity_std_505</td>\n",
       "      <td>rLine1000</td>\n",
       "      <td>500.0</td>\n",
       "      <td>60.000000</td>\n",
       "      <td>30.000000</td>\n",
       "      <td>False</td>\n",
       "      <td>10</td>\n",
       "      <td>10</td>\n",
       "      <td>0</td>\n",
       "      <td>0.8683</td>\n",
       "      <td>88.566546</td>\n",
       "      <td>0.428800</td>\n",
       "      <td>-1.232384</td>\n",
       "      <td>NaN</td>\n",
       "      <td>NaN</td>\n",
       "    </tr>\n",
       "    <tr>\n",
       "      <th>121</th>\n",
       "      <td>Viscosity_std_505</td>\n",
       "      <td>rLine1000</td>\n",
       "      <td>300.0</td>\n",
       "      <td>60.000000</td>\n",
       "      <td>30.000000</td>\n",
       "      <td>False</td>\n",
       "      <td>10</td>\n",
       "      <td>10</td>\n",
       "      <td>0</td>\n",
       "      <td>0.8683</td>\n",
       "      <td>78.501024</td>\n",
       "      <td>0.250026</td>\n",
       "      <td>-4.016949</td>\n",
       "      <td>NaN</td>\n",
       "      <td>NaN</td>\n",
       "    </tr>\n",
       "  </tbody>\n",
       "</table>\n",
       "<p>122 rows × 15 columns</p>\n",
       "</div>"
      ],
      "text/plain": [
       "                liquid    pipette  volume  aspiration_rate  dispense_rate  \\\n",
       "0    Viscosity_std_505  rLine1000  1000.0        80.887052      80.887052   \n",
       "1    Viscosity_std_505  rLine1000   500.0        80.887052      80.887052   \n",
       "2    Viscosity_std_505  rLine1000   100.0        80.887052      80.887052   \n",
       "3    Viscosity_std_505  rLine1000   500.0        80.887052      80.887052   \n",
       "4    Viscosity_std_505  rLine1000  1000.0        80.887052      75.000000   \n",
       "..                 ...        ...     ...              ...            ...   \n",
       "117  Viscosity_std_505  rLine1000   500.0        60.000000      25.000000   \n",
       "118  Viscosity_std_505  rLine1000   300.0        60.000000      25.000000   \n",
       "119  Viscosity_std_505  rLine1000  1000.0        60.000000      30.000000   \n",
       "120  Viscosity_std_505  rLine1000   500.0        60.000000      30.000000   \n",
       "121  Viscosity_std_505  rLine1000   300.0        60.000000      30.000000   \n",
       "\n",
       "     blow_out  delay_aspirate  delay_dispense  delay_blow_out  density  \\\n",
       "0       False               5               5               0   0.8683   \n",
       "1       False               5               5               0   0.8683   \n",
       "2       False               5               5               0   0.8683   \n",
       "3       False               5               5               0   0.8683   \n",
       "4       False               5               5               0   0.8683   \n",
       "..        ...             ...             ...             ...      ...   \n",
       "117     False              10              10               0   0.8683   \n",
       "118     False              10              10               0   0.8683   \n",
       "119     False              10              10               0   0.8683   \n",
       "120     False              10              10               0   0.8683   \n",
       "121     False              10              10               0   0.8683   \n",
       "\n",
       "           time         m     %error                Transfer_Observation  \\\n",
       "0     77.919450  0.715123 -17.641072  Incomplete aspiration and dispense   \n",
       "1     65.322878  0.396219  -8.736950  Incomplete aspiration and dispense   \n",
       "2     56.181768  0.064871 -25.289957  Incomplete aspiration and dispense   \n",
       "3     65.341112  0.367149 -15.432662  Incomplete aspiration and dispense   \n",
       "4     78.712592  0.744498 -14.257976  Incomplete aspiration and dispense   \n",
       "..          ...       ...        ...                                 ...   \n",
       "117   91.943517  0.427969  -1.423690                   Complete Transfer   \n",
       "118   80.435772  0.248657  -4.542761                                 NaN   \n",
       "119  113.616673  0.848478  -2.282889                                 NaN   \n",
       "120   88.566546  0.428800  -1.232384                                 NaN   \n",
       "121   78.501024  0.250026  -4.016949                                 NaN   \n",
       "\n",
       "                                 Comment  \n",
       "0                             No comment  \n",
       "1    Unsure abaout mass reading repeated  \n",
       "2                             No comment  \n",
       "3                             No comment  \n",
       "4                  Mass read -70000 once  \n",
       "..                                   ...  \n",
       "117                           No comment  \n",
       "118                                  NaN  \n",
       "119                                  NaN  \n",
       "120                                  NaN  \n",
       "121                                  NaN  \n",
       "\n",
       "[122 rows x 15 columns]"
      ]
     },
     "execution_count": 418,
     "metadata": {},
     "output_type": "execute_result"
    }
   ],
   "source": [
    "#Observe error made\n",
    "df"
   ]
  },
  {
   "cell_type": "code",
   "execution_count": 189,
   "metadata": {},
   "outputs": [
    {
     "data": {
      "text/plain": [
       "1.1531255231520707"
      ]
     },
     "execution_count": 189,
     "metadata": {},
     "output_type": "execute_result"
    }
   ],
   "source": [
    "5.5/(df.iloc[-5:]['m']/density).sum()"
   ]
  },
  {
   "cell_type": "code",
   "execution_count": 393,
   "metadata": {},
   "outputs": [],
   "source": [
    "#Assign category of observation of transfer such as Incomplete Dispense, Incomplete Aspiration, \n",
    "#Incomplete Aspiration and Dispense, Complete Transfer. \n",
    "#Comment if any unexpected exprimental mistakes or changes were performed that have to be taken into account.\n",
    "df.iloc[-1,-2]= 'Complete Transfer'\n",
    "df.iloc[-1,-1]= 'No comment'"
   ]
  },
  {
   "cell_type": "code",
   "execution_count": 109,
   "metadata": {},
   "outputs": [
    {
     "name": "stdout",
     "output_type": "stream",
     "text": [
      "Tip capacitance: 268\n",
      "SetArmOrientation(1,1,1,1)\n",
      "receive: SetArmOrientation(1,1,1,1)\n",
      "MovJ(320.000000,-240.000000,73.510000,10.000000,0.000000,0.000000)\n",
      "Move time: 2.263s (0.500x)\n",
      "[ 320.   -240.     73.51], [10  0  0]\n",
      "SpeedFactor(20)\n",
      "receive: SpeedFactor(20)\n",
      "MovJ(320.000000,-240.000000,200.000000,10.000000,0.000000,0.000000)\n",
      "Move time: 6.325s (0.200x)\n",
      "[ 320. -240.  200.], [10  0  0]\n",
      "SpeedFactor(50)\n",
      "receive: SpeedFactor(50)\n",
      "MovJ(232.616399,194.960923,200.000000,10.000000,0.000000,0.000000)\n",
      "Move time: 8.699s (0.500x)\n",
      "[232.61639907 194.96092349 200.        ], [10  0  0]\n",
      "SpeedFactor(20)\n",
      "receive: SpeedFactor(20)\n",
      "MovJ(232.616399,194.960923,114.400000,10.000000,0.000000,0.000000)\n",
      "Move time: 4.280s (0.200x)\n",
      "[232.61639907 194.96092349 114.4       ], [10  0  0]\n",
      "SpeedFactor(50)\n",
      "receive: SpeedFactor(50)\n"
     ]
    },
    {
     "data": {
      "text/plain": [
       "array([524.5,  50. ,  70. ])"
      ]
     },
     "execution_count": 109,
     "metadata": {},
     "output_type": "execute_result"
    }
   ],
   "source": [
    "pipette.ejectTipAt(bin.wells['A1'].top)"
   ]
  },
  {
   "attachments": {},
   "cell_type": "markdown",
   "metadata": {},
   "source": [
    "Update dictionary with new parameters until transfer error is within a -2.5-2.5% range "
   ]
  },
  {
   "cell_type": "code",
   "execution_count": 400,
   "metadata": {},
   "outputs": [],
   "source": [
    "liquids_dict = {\n",
    "  liquid_name :{\n",
    "        \"rLine1000\": {\n",
    "            \"aspiration_rate\": 60, \n",
    "            \"dispense_rate\": 30, \n",
    "            \"blow_out\" : False, \n",
    "            \"delay_aspirate\" : 10, \n",
    "            \"delay_dispense\" : 10, \n",
    "            \"delay_blow_out\" : 0, \n",
    "            },\n",
    "    }\n",
    "\n",
    "}\n"
   ]
  },
  {
   "cell_type": "markdown",
   "metadata": {},
   "source": [
    "Save data, can be used at any time."
   ]
  },
  {
   "cell_type": "code",
   "execution_count": 86,
   "metadata": {},
   "outputs": [],
   "source": [
    "df.to_csv(liquid_name+'.csv', index = False)"
   ]
  },
  {
   "cell_type": "markdown",
   "metadata": {},
   "source": [
    "## Auxiliary code"
   ]
  },
  {
   "cell_type": "code",
   "execution_count": null,
   "metadata": {},
   "outputs": [],
   "source": [
    "mover = platform.setup.mover\n",
    "from controllably.Control.GUI import MoverPanel\n",
    "gui = MoverPanel(mover=mover, axes=['X','Y','Z','a'])\n",
    "gui.runGUI()\n"
   ]
  },
  {
   "cell_type": "code",
   "execution_count": 246,
   "metadata": {},
   "outputs": [
    {
     "name": "stdout",
     "output_type": "stream",
     "text": [
      "SpeedFactor(100)\n",
      "receive: SpeedFactor(100)\n",
      "MovJ(206.843094,-146.682146,200.000000,10.000000,0.000000,0.000000)\n",
      "Move time: 1.265s (1.000x)\n",
      "[ 206.84309407 -146.68214574  200.        ], [10  0  0]\n",
      "SpeedFactor(50)\n",
      "receive: SpeedFactor(50)\n",
      "MovJ(300.000000,0.000000,200.000000,10.000000,0.000000,0.000000)\n",
      "Move time: 2.934s (0.500x)\n",
      "[3.00000000e+02 1.13686838e-13 2.00000000e+02], [10  0  0]\n",
      "SpeedFactor(100)\n",
      "receive: SpeedFactor(100)\n",
      "MovJ(300.000000,0.000000,200.000000,10.000000,0.000000,0.000000)\n",
      "Move time: 0.000s (1.000x)\n",
      "[3.00000000e+02 1.13686838e-13 2.00000000e+02], [10  0  0]\n",
      "SpeedFactor(50)\n",
      "receive: SpeedFactor(50)\n",
      "Homed\n"
     ]
    },
    {
     "data": {
      "text/plain": [
       "True"
      ]
     },
     "execution_count": 246,
     "metadata": {},
     "output_type": "execute_result"
    }
   ],
   "source": [
    "pipette.mover.home()"
   ]
  },
  {
   "cell_type": "code",
   "execution_count": null,
   "metadata": {},
   "outputs": [],
   "source": [
    "#This command will clear out remaining liquid in the tip if the dispense was incomplete.\n",
    "\n",
    "pipette.liquid.blowout(home=False)\n",
    "time.sleep(5)\n",
    "pipette.touchTip(source.wells['A1'])\n",
    "pipette.liquid.home()\n",
    "\n",
    "pipette.liquid.blowout(home=False)\n",
    "time.sleep(5)\n",
    "pipette.touchTip(source.wells['A1'])\n",
    "pipette.liquid.home()\n",
    "\n",
    "pipette.liquid.blowout(home=False)\n",
    "time.sleep(5)\n",
    "pipette.touchTip(source.wells['A1'])\n",
    "pipette.liquid.home()\n"
   ]
  },
  {
   "cell_type": "code",
   "execution_count": 112,
   "metadata": {},
   "outputs": [
    {
     "name": "stdout",
     "output_type": "stream",
     "text": [
      "COM4: USB Serial Port (COM4) [USB VID:PID=0403:6001 SER=FT4X2KJZA]\n",
      "COM5: USB-SERIAL CH340 (COM5) [USB VID:PID=1A86:7523 SER= LOCATION=1-4.4]\n"
     ]
    }
   ],
   "source": [
    "#Check for COM ports currently connected in case there are communcation issues\n",
    "import serial.tools.list_ports\n",
    "\n",
    "ports = serial.tools.list_ports.comports()\n",
    "for port, desc, hwid in sorted(ports):\n",
    "    print(\"{}: {} [{}]\".format(port, desc, hwid))"
   ]
  },
  {
   "cell_type": "code",
   "execution_count": 90,
   "metadata": {},
   "outputs": [],
   "source": [
    "m1 = int(balance.getMass())/balance.calibration_factor"
   ]
  },
  {
   "cell_type": "code",
   "execution_count": 91,
   "metadata": {},
   "outputs": [],
   "source": [
    "m2 = int(balance.getMass())/balance.calibration_factor"
   ]
  },
  {
   "cell_type": "code",
   "execution_count": 94,
   "metadata": {},
   "outputs": [
    {
     "name": "stdout",
     "output_type": "stream",
     "text": [
      "Help on method getMass in module controllably.Measure.Physical.balance_utils:\n",
      "\n",
      "getMass() -> str method of controllably.Measure.Physical.balance_utils.MassBalance instance\n",
      "    Get the mass of the sample by measuring the force response\n",
      "    \n",
      "    Returns:\n",
      "        str: device response\n",
      "\n"
     ]
    }
   ],
   "source": [
    "help(balance.getMass)"
   ]
  },
  {
   "cell_type": "code",
   "execution_count": 100,
   "metadata": {},
   "outputs": [
    {
     "name": "stdout",
     "output_type": "stream",
     "text": [
      "Stop listening...\n"
     ]
    }
   ],
   "source": [
    "balance.toggleRecord(False)"
   ]
  },
  {
   "cell_type": "code",
   "execution_count": 384,
   "metadata": {},
   "outputs": [
    {
     "name": "stdout",
     "output_type": "stream",
     "text": [
      "Connection opened to COM4\n",
      "Model: BRL1000-1\n",
      "Model(name='BRL1000', capacity=1000, home_position=30, max_position=443, tip_eject_position=-40, resolution=2.5, preset_speeds=PresetSpeeds(s1=150, s2=265, s3=410, s4=650, s5=945, s6=1120))\n"
     ]
    }
   ],
   "source": [
    "pipette.liquid.connect()"
   ]
  },
  {
   "cell_type": "code",
   "execution_count": 76,
   "metadata": {},
   "outputs": [
    {
     "data": {
      "text/html": [
       "<div>\n",
       "<style scoped>\n",
       "    .dataframe tbody tr th:only-of-type {\n",
       "        vertical-align: middle;\n",
       "    }\n",
       "\n",
       "    .dataframe tbody tr th {\n",
       "        vertical-align: top;\n",
       "    }\n",
       "\n",
       "    .dataframe thead th {\n",
       "        text-align: right;\n",
       "    }\n",
       "</style>\n",
       "<table border=\"1\" class=\"dataframe\">\n",
       "  <thead>\n",
       "    <tr style=\"text-align: right;\">\n",
       "      <th></th>\n",
       "      <th>Time</th>\n",
       "      <th>Value</th>\n",
       "      <th>Factor</th>\n",
       "      <th>Baseline</th>\n",
       "      <th>Mass</th>\n",
       "    </tr>\n",
       "  </thead>\n",
       "  <tbody>\n",
       "    <tr>\n",
       "      <th>1086</th>\n",
       "      <td>2023-05-03 15:54:16.340250</td>\n",
       "      <td>-258581</td>\n",
       "      <td>6.862879</td>\n",
       "      <td>228020.190803</td>\n",
       "      <td>-70903.357008</td>\n",
       "    </tr>\n",
       "  </tbody>\n",
       "</table>\n",
       "</div>"
      ],
      "text/plain": [
       "                           Time    Value    Factor       Baseline  \\\n",
       "1086 2023-05-03 15:54:16.340250  -258581  6.862879  228020.190803   \n",
       "\n",
       "              Mass  \n",
       "1086 -70903.357008  "
      ]
     },
     "execution_count": 76,
     "metadata": {},
     "output_type": "execute_result"
    }
   ],
   "source": [
    "balance.buffer_df.where(balance.buffer_df.Mass<-100).dropna()"
   ]
  },
  {
   "cell_type": "code",
   "execution_count": 289,
   "metadata": {},
   "outputs": [
    {
     "name": "stdout",
     "output_type": "stream",
     "text": [
      "SpeedFactor(100)\n",
      "receive: SpeedFactor(100)\n",
      "MovJ(300.000000,0.000000,200.000000,10.000000,0.000000,0.000000)\n",
      "Move time: 0.000s (1.000x)\n",
      "[3.00000000e+02 1.13686838e-13 2.00000000e+02], [10  0  0]\n",
      "SpeedFactor(50)\n",
      "receive: SpeedFactor(50)\n",
      "MovJ(206.843094,-146.682146,200.000000,10.000000,0.000000,0.000000)\n",
      "Move time: 2.934s (0.500x)\n",
      "[ 206.84309407 -146.68214574  200.        ], [10  0  0]\n",
      "SpeedFactor(100)\n",
      "receive: SpeedFactor(100)\n",
      "MovJ(206.843094,-146.682146,60.510000,10.000000,0.000000,0.000000)\n",
      "Move time: 1.395s (1.000x)\n",
      "[ 206.84309407 -146.68214574   60.51      ], [10  0  0]\n",
      "SpeedFactor(50)\n",
      "receive: SpeedFactor(50)\n",
      "Aspirating 1000.0 uL...\n",
      "Aspiration time: 2.4392868999857455s\n",
      "SpeedFactor(100)\n",
      "receive: SpeedFactor(100)\n",
      "MovJ(206.843094,-146.682146,200.000000,10.000000,0.000000,0.000000)\n",
      "Move time: 1.395s (1.000x)\n",
      "[ 206.84309407 -146.68214574  200.        ], [10  0  0]\n",
      "SpeedFactor(50)\n",
      "receive: SpeedFactor(50)\n",
      "MovJ(226.808719,-246.301992,200.000000,10.000000,0.000000,0.000000)\n",
      "Move time: 1.992s (0.500x)\n",
      "[ 226.8087188 -246.3019923  200.       ], [10  0  0]\n",
      "SpeedFactor(100)\n",
      "receive: SpeedFactor(100)\n",
      "MovJ(226.808719,-246.301992,119.900000,10.000000,0.000000,0.000000)\n",
      "Move time: 0.801s (1.000x)\n",
      "[ 226.8087188 -246.3019923  119.9      ], [10  0  0]\n",
      "SpeedFactor(50)\n",
      "receive: SpeedFactor(50)\n",
      "Listening...\n",
      "Zeroing... (5s)\n",
      "Stop listening...\n",
      "Zeroing complete.\n",
      "Listening...\n",
      "Dispensing 1000.0 uL...\n",
      "Dispense time: 2.439402399933897s\n",
      "Stop listening...\n",
      "SpeedFactor(100)\n",
      "receive: SpeedFactor(100)\n",
      "MovJ(226.808719,-246.301992,200.000000,10.000000,0.000000,0.000000)\n",
      "Move time: 0.801s (1.000x)\n",
      "[ 226.8087188 -246.3019923  200.       ], [10  0  0]\n",
      "SpeedFactor(50)\n",
      "receive: SpeedFactor(50)\n",
      "MovJ(206.843094,-146.682146,200.000000,10.000000,0.000000,0.000000)\n",
      "Move time: 1.992s (0.500x)\n",
      "[ 206.84309407 -146.68214574  200.        ], [10  0  0]\n",
      "SpeedFactor(100)\n",
      "receive: SpeedFactor(100)\n",
      "MovJ(206.843094,-146.682146,73.510000,10.000000,0.000000,0.000000)\n",
      "Move time: 1.265s (1.000x)\n",
      "[ 206.84309407 -146.68214574   73.51      ], [10  0  0]\n",
      "SpeedFactor(50)\n",
      "receive: SpeedFactor(50)\n",
      "14.824790661935406\n",
      "SpeedFactor(100)\n",
      "receive: SpeedFactor(100)\n",
      "MovJ(206.843094,-146.682146,200.000000,10.000000,0.000000,0.000000)\n",
      "Move time: 1.265s (1.000x)\n",
      "[ 206.84309407 -146.68214574  200.        ], [10  0  0]\n",
      "SpeedFactor(50)\n",
      "receive: SpeedFactor(50)\n",
      "MovJ(206.843094,-146.682146,200.000000,10.000000,0.000000,0.000000)\n",
      "Move time: 0.000s (0.500x)\n",
      "[ 206.84309407 -146.68214574  200.        ], [10  0  0]\n",
      "SpeedFactor(100)\n",
      "receive: SpeedFactor(100)\n",
      "MovJ(206.843094,-146.682146,59.334791,10.000000,0.000000,0.000000)\n",
      "Move time: 1.407s (1.000x)\n",
      "[ 206.84309407 -146.68214574   59.33479066], [10  0  0]\n",
      "SpeedFactor(50)\n",
      "receive: SpeedFactor(50)\n",
      "Aspirating 1000.0 uL...\n",
      "Aspiration time: 2.439623099984601s\n",
      "SpeedFactor(100)\n",
      "receive: SpeedFactor(100)\n",
      "MovJ(206.843094,-146.682146,200.000000,10.000000,0.000000,0.000000)\n",
      "Move time: 1.407s (1.000x)\n",
      "[ 206.84309407 -146.68214574  200.        ], [10  0  0]\n",
      "SpeedFactor(50)\n",
      "receive: SpeedFactor(50)\n",
      "MovJ(226.808719,-246.301992,200.000000,10.000000,0.000000,0.000000)\n",
      "Move time: 1.992s (0.500x)\n",
      "[ 226.8087188 -246.3019923  200.       ], [10  0  0]\n",
      "SpeedFactor(100)\n",
      "receive: SpeedFactor(100)\n",
      "MovJ(226.808719,-246.301992,119.900000,10.000000,0.000000,0.000000)\n",
      "Move time: 0.801s (1.000x)\n",
      "[ 226.8087188 -246.3019923  119.9      ], [10  0  0]\n",
      "SpeedFactor(50)\n",
      "receive: SpeedFactor(50)\n",
      "Listening...\n",
      "Zeroing... (5s)\n",
      "Stop listening...\n",
      "Zeroing complete.\n",
      "Listening...\n",
      "Dispensing 1000.0 uL...\n",
      "Dispense time: 2.439411399886012s\n",
      "Stop listening...\n",
      "SpeedFactor(100)\n",
      "receive: SpeedFactor(100)\n",
      "MovJ(226.808719,-246.301992,200.000000,10.000000,0.000000,0.000000)\n",
      "Move time: 0.801s (1.000x)\n",
      "[ 226.8087188 -246.3019923  200.       ], [10  0  0]\n",
      "SpeedFactor(50)\n",
      "receive: SpeedFactor(50)\n",
      "MovJ(206.843094,-146.682146,200.000000,10.000000,0.000000,0.000000)\n",
      "Move time: 1.992s (0.500x)\n",
      "[ 206.84309407 -146.68214574  200.        ], [10  0  0]\n",
      "SpeedFactor(100)\n",
      "receive: SpeedFactor(100)\n",
      "MovJ(206.843094,-146.682146,73.510000,10.000000,0.000000,0.000000)\n",
      "Move time: 1.265s (1.000x)\n",
      "[ 206.84309407 -146.68214574   73.51      ], [10  0  0]\n",
      "SpeedFactor(50)\n",
      "receive: SpeedFactor(50)\n",
      "13.654442257289181\n",
      "SpeedFactor(100)\n",
      "receive: SpeedFactor(100)\n",
      "MovJ(206.843094,-146.682146,200.000000,10.000000,0.000000,0.000000)\n",
      "Move time: 1.265s (1.000x)\n",
      "[ 206.84309407 -146.68214574  200.        ], [10  0  0]\n",
      "SpeedFactor(50)\n",
      "receive: SpeedFactor(50)\n",
      "MovJ(206.843094,-146.682146,200.000000,10.000000,0.000000,0.000000)\n",
      "Move time: 0.000s (0.500x)\n",
      "[ 206.84309407 -146.68214574  200.        ], [10  0  0]\n",
      "SpeedFactor(100)\n",
      "receive: SpeedFactor(100)\n",
      "MovJ(206.843094,-146.682146,58.164442,10.000000,0.000000,0.000000)\n",
      "Move time: 1.418s (1.000x)\n",
      "[ 206.84309407 -146.68214574   58.16444226], [10  0  0]\n",
      "SpeedFactor(50)\n",
      "receive: SpeedFactor(50)\n",
      "Aspirating 1000.0 uL...\n",
      "Aspiration time: 2.439711599959992s\n",
      "SpeedFactor(100)\n",
      "receive: SpeedFactor(100)\n",
      "MovJ(206.843094,-146.682146,200.000000,10.000000,0.000000,0.000000)\n",
      "Move time: 1.418s (1.000x)\n",
      "[ 206.84309407 -146.68214574  200.        ], [10  0  0]\n",
      "SpeedFactor(50)\n",
      "receive: SpeedFactor(50)\n",
      "MovJ(226.808719,-246.301992,200.000000,10.000000,0.000000,0.000000)\n",
      "Move time: 1.992s (0.500x)\n",
      "[ 226.8087188 -246.3019923  200.       ], [10  0  0]\n",
      "SpeedFactor(100)\n",
      "receive: SpeedFactor(100)\n",
      "MovJ(226.808719,-246.301992,119.900000,10.000000,0.000000,0.000000)\n",
      "Move time: 0.801s (1.000x)\n",
      "[ 226.8087188 -246.3019923  119.9      ], [10  0  0]\n",
      "SpeedFactor(50)\n",
      "receive: SpeedFactor(50)\n",
      "Listening...\n",
      "Zeroing... (5s)\n",
      "Stop listening...\n",
      "Zeroing complete.\n",
      "Listening...\n",
      "Dispensing 1000.0 uL...\n",
      "Dispense time: 2.4394201999530196s\n",
      "Stop listening...\n",
      "SpeedFactor(100)\n",
      "receive: SpeedFactor(100)\n",
      "MovJ(226.808719,-246.301992,200.000000,10.000000,0.000000,0.000000)\n",
      "Move time: 0.801s (1.000x)\n",
      "[ 226.8087188 -246.3019923  200.       ], [10  0  0]\n",
      "SpeedFactor(50)\n",
      "receive: SpeedFactor(50)\n",
      "MovJ(206.843094,-146.682146,200.000000,10.000000,0.000000,0.000000)\n",
      "Move time: 1.992s (0.500x)\n",
      "[ 206.84309407 -146.68214574  200.        ], [10  0  0]\n",
      "SpeedFactor(100)\n",
      "receive: SpeedFactor(100)\n",
      "MovJ(206.843094,-146.682146,73.510000,10.000000,0.000000,0.000000)\n",
      "Move time: 1.265s (1.000x)\n",
      "[ 206.84309407 -146.68214574   73.51      ], [10  0  0]\n",
      "SpeedFactor(50)\n",
      "receive: SpeedFactor(50)\n",
      "12.48393648429488\n",
      "SpeedFactor(100)\n",
      "receive: SpeedFactor(100)\n",
      "MovJ(206.843094,-146.682146,200.000000,10.000000,0.000000,0.000000)\n",
      "Move time: 1.265s (1.000x)\n",
      "[ 206.84309407 -146.68214574  200.        ], [10  0  0]\n",
      "SpeedFactor(50)\n",
      "receive: SpeedFactor(50)\n",
      "MovJ(206.843094,-146.682146,200.000000,10.000000,0.000000,0.000000)\n",
      "Move time: 0.000s (0.500x)\n",
      "[ 206.84309407 -146.68214574  200.        ], [10  0  0]\n",
      "SpeedFactor(100)\n",
      "receive: SpeedFactor(100)\n",
      "MovJ(206.843094,-146.682146,56.993936,10.000000,0.000000,0.000000)\n",
      "Move time: 1.430s (1.000x)\n",
      "[ 206.84309407 -146.68214574   56.99393648], [10  0  0]\n",
      "SpeedFactor(50)\n",
      "receive: SpeedFactor(50)\n",
      "Aspirating 1000.0 uL...\n",
      "Aspiration time: 2.4394145000260323s\n",
      "SpeedFactor(100)\n",
      "receive: SpeedFactor(100)\n",
      "MovJ(206.843094,-146.682146,200.000000,10.000000,0.000000,0.000000)\n",
      "Move time: 1.430s (1.000x)\n",
      "[ 206.84309407 -146.68214574  200.        ], [10  0  0]\n",
      "SpeedFactor(50)\n",
      "receive: SpeedFactor(50)\n",
      "MovJ(226.808719,-246.301992,200.000000,10.000000,0.000000,0.000000)\n",
      "Move time: 1.992s (0.500x)\n",
      "[ 226.8087188 -246.3019923  200.       ], [10  0  0]\n",
      "SpeedFactor(100)\n",
      "receive: SpeedFactor(100)\n",
      "MovJ(226.808719,-246.301992,119.900000,10.000000,0.000000,0.000000)\n",
      "Move time: 0.801s (1.000x)\n",
      "[ 226.8087188 -246.3019923  119.9      ], [10  0  0]\n",
      "SpeedFactor(50)\n",
      "receive: SpeedFactor(50)\n",
      "Listening...\n",
      "Zeroing... (5s)\n",
      "Stop listening...\n",
      "Zeroing complete.\n",
      "Listening...\n",
      "Dispensing 1000.0 uL...\n",
      "Dispense time: 2.439336200011894s\n",
      "Stop listening...\n",
      "SpeedFactor(100)\n",
      "receive: SpeedFactor(100)\n",
      "MovJ(226.808719,-246.301992,200.000000,10.000000,0.000000,0.000000)\n",
      "Move time: 0.801s (1.000x)\n",
      "[ 226.8087188 -246.3019923  200.       ], [10  0  0]\n",
      "SpeedFactor(50)\n",
      "receive: SpeedFactor(50)\n",
      "MovJ(206.843094,-146.682146,200.000000,10.000000,0.000000,0.000000)\n",
      "Move time: 1.992s (0.500x)\n",
      "[ 206.84309407 -146.68214574  200.        ], [10  0  0]\n",
      "SpeedFactor(100)\n",
      "receive: SpeedFactor(100)\n",
      "MovJ(206.843094,-146.682146,73.510000,10.000000,0.000000,0.000000)\n",
      "Move time: 1.265s (1.000x)\n",
      "[ 206.84309407 -146.68214574   73.51      ], [10  0  0]\n",
      "SpeedFactor(50)\n",
      "receive: SpeedFactor(50)\n",
      "11.31932328166745\n",
      "SpeedFactor(100)\n",
      "receive: SpeedFactor(100)\n",
      "MovJ(206.843094,-146.682146,200.000000,10.000000,0.000000,0.000000)\n",
      "Move time: 1.265s (1.000x)\n",
      "[ 206.84309407 -146.68214574  200.        ], [10  0  0]\n",
      "SpeedFactor(50)\n",
      "receive: SpeedFactor(50)\n",
      "MovJ(206.843094,-146.682146,200.000000,10.000000,0.000000,0.000000)\n",
      "Move time: 0.000s (0.500x)\n",
      "[ 206.84309407 -146.68214574  200.        ], [10  0  0]\n",
      "SpeedFactor(100)\n",
      "receive: SpeedFactor(100)\n",
      "MovJ(206.843094,-146.682146,55.829323,10.000000,0.000000,0.000000)\n",
      "Move time: 1.442s (1.000x)\n",
      "[ 206.84309407 -146.68214574   55.82932328], [10  0  0]\n",
      "SpeedFactor(50)\n",
      "receive: SpeedFactor(50)\n",
      "Aspirating 1000.0 uL...\n",
      "Aspiration time: 2.439243800006807s\n",
      "SpeedFactor(100)\n",
      "receive: SpeedFactor(100)\n",
      "MovJ(206.843094,-146.682146,200.000000,10.000000,0.000000,0.000000)\n",
      "Move time: 1.442s (1.000x)\n",
      "[ 206.84309407 -146.68214574  200.        ], [10  0  0]\n",
      "SpeedFactor(50)\n",
      "receive: SpeedFactor(50)\n",
      "MovJ(226.808719,-246.301992,200.000000,10.000000,0.000000,0.000000)\n",
      "Move time: 1.992s (0.500x)\n",
      "[ 226.8087188 -246.3019923  200.       ], [10  0  0]\n",
      "SpeedFactor(100)\n",
      "receive: SpeedFactor(100)\n",
      "MovJ(226.808719,-246.301992,119.900000,10.000000,0.000000,0.000000)\n",
      "Move time: 0.801s (1.000x)\n",
      "[ 226.8087188 -246.3019923  119.9      ], [10  0  0]\n",
      "SpeedFactor(50)\n",
      "receive: SpeedFactor(50)\n",
      "Listening...\n",
      "Zeroing... (5s)\n",
      "Stop listening...\n",
      "Zeroing complete.\n",
      "Listening...\n",
      "Dispensing 1000.0 uL...\n",
      "Dispense time: 2.439331499976106s\n",
      "Stop listening...\n",
      "SpeedFactor(100)\n",
      "receive: SpeedFactor(100)\n",
      "MovJ(226.808719,-246.301992,200.000000,10.000000,0.000000,0.000000)\n",
      "Move time: 0.801s (1.000x)\n",
      "[ 226.8087188 -246.3019923  200.       ], [10  0  0]\n",
      "SpeedFactor(50)\n",
      "receive: SpeedFactor(50)\n",
      "MovJ(206.843094,-146.682146,200.000000,10.000000,0.000000,0.000000)\n",
      "Move time: 1.992s (0.500x)\n",
      "[ 206.84309407 -146.68214574  200.        ], [10  0  0]\n",
      "SpeedFactor(100)\n",
      "receive: SpeedFactor(100)\n",
      "MovJ(206.843094,-146.682146,73.510000,10.000000,0.000000,0.000000)\n",
      "Move time: 1.265s (1.000x)\n",
      "[ 206.84309407 -146.68214574   73.51      ], [10  0  0]\n",
      "SpeedFactor(50)\n",
      "receive: SpeedFactor(50)\n",
      "10.147331252052425\n"
     ]
    },
    {
     "data": {
      "image/png": "[encoded data removed]",
      "text/plain": [
       "<Figure size 640x480 with 1 Axes>"
      ]
     },
     "metadata": {},
     "output_type": "display_data"
    },
    {
     "data": {
      "image/png": "[encoded data removed]",
      "text/plain": [
       "<Figure size 640x480 with 1 Axes>"
      ]
     },
     "metadata": {},
     "output_type": "display_data"
    },
    {
     "data": {
      "image/png": "[encoded data removed]",
      "text/plain": [
       "<Figure size 640x480 with 1 Axes>"
      ]
     },
     "metadata": {},
     "output_type": "display_data"
    },
    {
     "data": {
      "image/png": "[encoded data removed]",
      "text/plain": [
       "<Figure size 640x480 with 1 Axes>"
      ]
     },
     "metadata": {},
     "output_type": "display_data"
    },
    {
     "data": {
      "image/png": "[encoded data removed]",
      "text/plain": [
       "<Figure size 640x480 with 1 Axes>"
      ]
     },
     "metadata": {},
     "output_type": "display_data"
    }
   ],
   "source": [
    "tries = 1\n",
    "volume = 1000\n",
    "liquid_level = 16\n",
    "df = pd.DataFrame(columns=[\"Tries\", \"Mass Change\"])\n",
    "pipette.mover.setHandedness(False)\n",
    "\n",
    "while tries <= 5:\n",
    "    #Transfer start\n",
    "    start = time.time()\n",
    "\n",
    "    #Aspirate step\n",
    "    pipette.mover.safeMoveTo(source.wells['A1'].from_bottom((0,0,liquid_level-5)))\n",
    "    pipette.liquid.aspirate(volume)\n",
    "    time.sleep(5)\n",
    "\n",
    "    #Dispense step\n",
    "    pipette.mover.safeMoveTo(balance_deck.wells['A1'].from_top((0,0,-5)))\n",
    "\n",
    "    balance.tare()\n",
    "    balance.clearCache()\n",
    "    balance.toggleRecord(True)\n",
    "    time.sleep(5)\n",
    "    \n",
    "    pipette.liquid.dispense(volume)\n",
    "    time.sleep(5)\n",
    "    balance.toggleRecord(False)\n",
    "\n",
    "    #Transfer termination\n",
    "    finish = time.time()\n",
    "    time_m = finish - start\n",
    "\n",
    "    pipette.mover.safeMoveTo(source.wells['A1'].top)\n",
    "    time.sleep(5)\n",
    "\n",
    "    #define m\n",
    "    m = (balance.buffer_df.iloc[-10:,-1].mean()-balance.buffer_df.iloc[:10,-1].mean())/1000\n",
    "    \n",
    "    #update df\n",
    "    df.loc[len(df)] = [tries, m]\n",
    "\n",
    "    #update liquid level\n",
    "    liquid_level = liquid_level - 1.2*m\n",
    "    print(liquid_level)\n",
    "\n",
    "    balance.buffer_df.plot('Time','Mass')\n",
    "    \n",
    "    #Increment Tries\n",
    "    tries += 1\n"
   ]
  },
  {
   "cell_type": "code",
   "execution_count": 290,
   "metadata": {},
   "outputs": [
    {
     "name": "stdout",
     "output_type": "stream",
     "text": [
      "Tip capacitance: 272\n",
      "SetArmOrientation(1,1,1,1)\n",
      "receive: SetArmOrientation(1,1,1,1)\n",
      "MovJ(320.000000,-240.000000,73.510000,10.000000,0.000000,0.000000)\n",
      "Move time: 2.263s (0.500x)\n",
      "[ 320.   -240.     73.51], [10  0  0]\n",
      "SpeedFactor(20)\n",
      "receive: SpeedFactor(20)\n",
      "MovJ(320.000000,-240.000000,200.000000,10.000000,0.000000,0.000000)\n",
      "Move time: 6.325s (0.200x)\n",
      "[ 320. -240.  200.], [10  0  0]\n",
      "SpeedFactor(50)\n",
      "receive: SpeedFactor(50)\n",
      "MovJ(232.616399,194.960923,200.000000,10.000000,0.000000,0.000000)\n",
      "Move time: 8.699s (0.500x)\n",
      "[232.61639907 194.96092349 200.        ], [10  0  0]\n",
      "SpeedFactor(20)\n",
      "receive: SpeedFactor(20)\n",
      "MovJ(232.616399,194.960923,114.400000,10.000000,0.000000,0.000000)\n",
      "Move time: 4.280s (0.200x)\n",
      "[232.61639907 194.96092349 114.4       ], [10  0  0]\n",
      "SpeedFactor(50)\n",
      "receive: SpeedFactor(50)\n",
      "SpeedFactor(100)\n",
      "receive: SpeedFactor(100)\n",
      "MovJ(232.616399,194.960923,200.000000,10.000000,0.000000,0.000000)\n",
      "Move time: 0.856s (1.000x)\n",
      "[232.61639907 194.96092349 200.        ], [10  0  0]\n",
      "SpeedFactor(50)\n",
      "receive: SpeedFactor(50)\n",
      "MovJ(300.000000,0.000000,200.000000,10.000000,0.000000,0.000000)\n",
      "Move time: 3.899s (0.500x)\n",
      "[3.00000000e+02 1.13686838e-13 2.00000000e+02], [10  0  0]\n",
      "SpeedFactor(100)\n",
      "receive: SpeedFactor(100)\n",
      "MovJ(300.000000,0.000000,200.000000,10.000000,0.000000,0.000000)\n",
      "Move time: 0.000s (1.000x)\n",
      "[3.00000000e+02 1.13686838e-13 2.00000000e+02], [10  0  0]\n",
      "SpeedFactor(50)\n",
      "receive: SpeedFactor(50)\n",
      "Homed\n"
     ]
    },
    {
     "data": {
      "text/plain": [
       "True"
      ]
     },
     "execution_count": 290,
     "metadata": {},
     "output_type": "execute_result"
    }
   ],
   "source": [
    "pipette.ejectTipAt(bin.wells['A1'].top)\n",
    "pipette.mover.home()"
   ]
  },
  {
   "cell_type": "code",
   "execution_count": 294,
   "metadata": {},
   "outputs": [
    {
     "data": {
      "text/plain": [
       "1.1276906799679203"
      ]
     },
     "execution_count": 294,
     "metadata": {},
     "output_type": "execute_result"
    }
   ],
   "source": [
    "5.5/df['Mass Change'].sum()\n"
   ]
  },
  {
   "cell_type": "code",
   "execution_count": 278,
   "metadata": {},
   "outputs": [
    {
     "name": "stdout",
     "output_type": "stream",
     "text": [
      "Stop listening...\n"
     ]
    }
   ],
   "source": [
    "balance.toggleRecord(False)"
   ]
  },
  {
   "cell_type": "code",
   "execution_count": null,
   "metadata": {},
   "outputs": [],
   "source": []
  }
 ],
 "metadata": {
  "kernelspec": {
   "display_name": "Python 3 (ipykernel)",
   "language": "python",
   "name": "python3"
  },
  "language_info": {
   "codemirror_mode": {
    "name": "ipython",
    "version": 3
   },
   "file_extension": ".py",
   "mimetype": "text/x-python",
   "name": "python",
   "nbconvert_exporter": "python",
   "pygments_lexer": "ipython3",
   "version": "3.11.1"
  }
 },
 "nbformat": 4,
 "nbformat_minor": 2
}
