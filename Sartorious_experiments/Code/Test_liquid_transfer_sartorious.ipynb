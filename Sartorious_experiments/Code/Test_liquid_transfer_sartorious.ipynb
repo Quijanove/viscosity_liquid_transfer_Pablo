{
 "cells": [
  {
   "attachments": {},
   "cell_type": "markdown",
   "metadata": {},
   "source": [
    "# Test viscous liquid transfer\n",
    "\n",
    "The objective of this Jupyter notebook is to guide the user through the process of obtaining the liquid handling parameters that can accutately transfer volumes of viscous liquids using a rLine1000 automatic pipette. The process is based on a gravimetric method where the volume transfered with the autoamted pipette is compared with the expected mass for the transfer. The parameters are tuned to minimize the relative error calculated from the measured mass in comparison to the expected mass for each transfer. \n"
   ]
  },
  {
   "attachments": {},
   "cell_type": "markdown",
   "metadata": {},
   "source": [
    "## Initialization of automated plarform"
   ]
  },
  {
   "cell_type": "code",
   "execution_count": 2,
   "metadata": {},
   "outputs": [
    {
     "name": "stdout",
     "output_type": "stream",
     "text": [
      "\n",
      "\n",
      "\n",
      "\n",
      "ClearError()\n",
      "receive: ClearError()\n",
      "EnableRobot()\n",
      "receive: EnableRobot()\n",
      "User(0)\n",
      "receive: User(0)\n",
      "Tool(0)\n",
      "receive: Tool(0)\n",
      "SetArmOrientation(1,1,1,1)\n",
      "receive: SetArmOrientation(1,1,1,1)\n",
      "Infeasible coordinates! (0.0, 0.0, 200.0)\n",
      "Infeasible coordinates! (300.0, 1.1368683772161603e-13, 0.0)\n",
      "MovJ(300.000000,0.000000,200.000000,10.000000,0.000000,0.000000)\n",
      "Move time: 3.000s (1.000x)\n",
      "[3.00000000e+02 1.13686838e-13 2.00000000e+02], [10  0  0]\n",
      "Homed\n",
      "\n",
      "\n",
      "Import: OK <controllably.Transfer.Liquid.liquid_utils>\n",
      "Import: OK <controllably.Transfer.Liquid.syringe_lib>\n",
      "Import: OK <controllably.Transfer.Liquid.syringe_utils>\n",
      "Import: OK <controllably.Transfer.Liquid.Sartorius.sartorius_lib>\n",
      "Import: OK <controllably.Transfer.Liquid.Sartorius.sartorius_utils>\n",
      "Any attached pipette tip may drop during initialisation.\n",
      "Connection opened to COM8\n",
      "Model: BRL1000-1\n",
      "Model(name='BRL1000', capacity=1000, home_position=30, max_position=443, tip_eject_position=-40, resolution=2.5, preset_speeds=PresetSpeeds(s1=150, s2=265, s3=410, s4=650, s5=945, s6=1120))\n",
      "\n",
      "\n",
      "Import: OK <controllably.Measure.instrument_utils>\n",
      "Import: OK <controllably.Measure.program_utils>\n",
      "Import: OK <controllably.Measure.measure_utils>\n",
      "Import: OK <controllably.Measure.Physical.balance_utils>\n",
      "Connection opened to COM22\n",
      "Listening...Zeroing... (5s)\n",
      "\n",
      "Stop listening...\n",
      "Zeroing complete.\n",
      "\n",
      "\n",
      "Import: OK <controllably.View.image_utils>\n",
      "Import: OK <controllably.View.view_utils>\n",
      "Import: OK <controllably.View.Optical.optical_utils>\n",
      "Objects created: setup, balance, camera, mover, liquid\n"
     ]
    }
   ],
   "source": [
    "#Import relevant python packages\n",
    "import pandas as pd\n",
    "import time\n",
    "from matplotlib import pyplot as plt\n",
    "from pathlib import Path\n",
    "import sys\n",
    "REPOS = 'GitHub'\n",
    "ROOT = str(Path().absolute()).split(REPOS)[0]\n",
    "sys.path.append(f'{ROOT}{REPOS}')\n",
    "\n",
    "from polylectric.configs.SynthesisB1 import SETUP, LAYOUT_FILE\n",
    "\n",
    "from controllably import load_deck      # optional\n",
    "load_deck(SETUP.setup, LAYOUT_FILE)     # optional\n",
    "\n",
    "platform = SETUP\n",
    "platform.mover.verbose = False\n"
   ]
  },
  {
   "cell_type": "code",
   "execution_count": 3,
   "metadata": {},
   "outputs": [
    {
     "name": "stdout",
     "output_type": "stream",
     "text": [
      "SpeedFactor(50)\n",
      "receive: SpeedFactor(50)\n",
      "Mass_balance_plastic_jar 1 Well Plate 15000 uL at Slot 1\n",
      "Polyelectric 6 Well Plate 15000 µL at Slot 2\n",
      "Eppendorf Motion 96 Tip Rack 1000 µL at Slot 3\n",
      "Polyetric_bin at Slot 4\n"
     ]
    }
   ],
   "source": [
    "#Initialization of variables for platfomr objects\n",
    "pipette= platform.setup\n",
    "deck = platform.setup.deck\n",
    "balance = platform.balance\n",
    "balance_deck = deck.slots['1']\n",
    "source = deck.slots['2']\n",
    "tip_rack = deck.slots['3']\n",
    "bin = deck.slots['4']\n",
    "pipette.mover.setSpeed(50)\n",
    "print(balance_deck)\n",
    "print(source)\n",
    "print(tip_rack)\n",
    "print(bin)\n",
    "\n",
    "\n"
   ]
  },
  {
   "cell_type": "code",
   "execution_count": 4,
   "metadata": {},
   "outputs": [
    {
     "name": "stdout",
     "output_type": "stream",
     "text": [
      "Listening...Zeroing... (5s)\n",
      "\n",
      "Stop listening...\n",
      "Zeroing complete.\n",
      "Listening...\n",
      "Time        2023-05-17 11:05:15.090349\n",
      "Value                           226170\n",
      "Factor                        6.862879\n",
      "Baseline                 226160.648148\n",
      "Mass                          1.362672\n",
      "Name: 24, dtype: object\n",
      "Stop listening...\n"
     ]
    }
   ],
   "source": [
    "#Check if balance is connected\n",
    "balance.zero()\n",
    "balance.toggleRecord(True)\n",
    "time.sleep(5)\n",
    "print(balance.buffer_df.iloc[-1])\n",
    "balance.toggleRecord(False)"
   ]
  },
  {
   "cell_type": "code",
   "execution_count": 455,
   "metadata": {},
   "outputs": [],
   "source": [
    "#Stablish initial height of liquid on the source vial\n",
    "liquid_level = 14.5"
   ]
  },
  {
   "cell_type": "code",
   "execution_count": 454,
   "metadata": {},
   "outputs": [
    {
     "name": "stdout",
     "output_type": "stream",
     "text": [
      "Tip capacitance: 265\n",
      "B1\n",
      "Tip capacitance: 268\n",
      "SpeedFactor(20)\n",
      "receive: SpeedFactor(20)\n",
      "MovJ(300.000000,0.000000,200.000000,10.000000,0.000000,0.000000)\n",
      "Move time: 0.000s (0.200x)\n",
      "[3.00000000e+02 1.13686838e-13 2.00000000e+02], [10  0  0]\n",
      "SpeedFactor(50)\n",
      "receive: SpeedFactor(50)\n",
      "MovJ(207.893000,-4.081374,200.000000,10.000000,0.000000,0.000000)\n",
      "Move time: 1.842s (0.500x)\n",
      "[207.89300032  -4.08137366 200.        ], [10  0  0]\n",
      "SpeedFactor(20)\n",
      "receive: SpeedFactor(20)\n",
      "MovJ(207.893000,-4.081374,65.400000,10.000000,0.000000,0.000000)\n",
      "Move time: 6.730s (0.200x)\n",
      "[207.89300032  -4.08137366  65.4       ], [10  0  0]\n",
      "SpeedFactor(50)\n",
      "receive: SpeedFactor(50)\n",
      "SpeedFactor(1)\n",
      "receive: SpeedFactor(1)\n",
      "MovJ(207.893000,-4.081374,45.400000,10.000000,0.000000,0.000000)\n",
      "Move time: 20.000s (0.010x)\n",
      "[207.89300032  -4.08137366  45.4       ], [10  0  0]\n",
      "SpeedFactor(50)\n",
      "receive: SpeedFactor(50)\n",
      "SpeedFactor(20)\n",
      "receive: SpeedFactor(20)\n",
      "MovJ(207.893000,-4.081374,162.300000,10.000000,0.000000,0.000000)\n",
      "Move time: 5.845s (0.200x)\n",
      "[207.89300032  -4.08137366 162.3       ], [10  0  0]\n",
      "SpeedFactor(50)\n",
      "receive: SpeedFactor(50)\n",
      "Tip capacitance: 260\n",
      "SpeedFactor(100)\n",
      "receive: SpeedFactor(100)\n",
      "MovJ(207.893000,-4.081374,200.000000,10.000000,0.000000,0.000000)\n",
      "Move time: 0.377s (1.000x)\n",
      "[207.89300032  -4.08137366 200.        ], [10  0  0]\n",
      "SpeedFactor(50)\n",
      "receive: SpeedFactor(50)\n",
      "MovJ(300.000000,0.000000,200.000000,10.000000,0.000000,0.000000)\n",
      "Move time: 1.842s (0.500x)\n",
      "[3.00000000e+02 1.13686838e-13 2.00000000e+02], [10  0  0]\n",
      "SpeedFactor(100)\n",
      "receive: SpeedFactor(100)\n",
      "MovJ(300.000000,0.000000,200.000000,10.000000,0.000000,0.000000)\n",
      "Move time: 0.000s (1.000x)\n",
      "[3.00000000e+02 1.13686838e-13 2.00000000e+02], [10  0  0]\n",
      "SpeedFactor(50)\n",
      "receive: SpeedFactor(50)\n",
      "Homed\n"
     ]
    },
    {
     "data": {
      "text/plain": [
       "True"
      ]
     },
     "execution_count": 454,
     "metadata": {},
     "output_type": "execute_result"
    }
   ],
   "source": [
    "#Initialize OT2 for pipetting\n",
    "pipette.attachTip()\n",
    "pipette.mover.home()"
   ]
  },
  {
   "attachments": {},
   "cell_type": "markdown",
   "metadata": {},
   "source": [
    "## Viscous liquid protocol: Coarse approximation of pipetting parameters\n",
    "\n",
    "The first step is to obtain approximate values of aspiration and dispense rates that can be used to initia;ize the ;iqiid transfer such as aspiration and dispense rates. "
   ]
  },
  {
   "cell_type": "code",
   "execution_count": 459,
   "metadata": {},
   "outputs": [
    {
     "name": "stdout",
     "output_type": "stream",
     "text": [
      "SpeedFactor(100)\n",
      "receive: SpeedFactor(100)\n",
      "MovJ(206.843094,-146.682146,200.000000,10.000000,0.000000,0.000000)\n",
      "Move time: 1.265s (1.000x)\n",
      "[ 206.84309407 -146.68214574  200.        ], [10  0  0]\n",
      "SpeedFactor(50)\n",
      "receive: SpeedFactor(50)\n",
      "MovJ(206.843094,-146.682146,200.000000,10.000000,0.000000,0.000000)\n",
      "Move time: 0.000s (0.500x)\n",
      "[ 206.84309407 -146.68214574  200.        ], [10  0  0]\n",
      "SpeedFactor(100)\n",
      "receive: SpeedFactor(100)\n",
      "MovJ(206.843094,-146.682146,59.010000,10.000000,0.000000,0.000000)\n",
      "Move time: 1.410s (1.000x)\n",
      "[ 206.84309407 -146.68214574   59.01      ], [10  0  0]\n",
      "SpeedFactor(50)\n",
      "receive: SpeedFactor(50)\n",
      "Aspirating 1000.0 uL...\n",
      "Aspiration time: 2.453621900000144s\n"
     ]
    },
    {
     "data": {
      "text/plain": [
       "'ok'"
      ]
     },
     "execution_count": 459,
     "metadata": {},
     "output_type": "execute_result"
    }
   ],
   "source": [
    "#This commands will aspirate 1000ul liquid at standard flow_rate.aspirate of pippette. A timer well be started just before aspiration starts\n",
    "pipette.mover.setHandedness(False)\n",
    "pipette.mover.safeMoveTo(source.wells['A1'].from_bottom((0,0,liquid_level-5)))\n",
    "start = time.time()\n",
    "pipette.liquid.aspirate(1000)"
   ]
  },
  {
   "cell_type": "code",
   "execution_count": 460,
   "metadata": {},
   "outputs": [
    {
     "data": {
      "text/plain": [
       "28.915134062499387"
      ]
     },
     "execution_count": 460,
     "metadata": {},
     "output_type": "execute_result"
    }
   ],
   "source": [
    "#Run this cell when no further flow of liquid into the pipette tip is observed. Calculates an approximate flow rate for \n",
    "#aspiration\n",
    "finish = time.time()\n",
    "t_aspirate = finish-start\n",
    "flow_rate_aspirate = 1000/t_aspirate\n",
    "flow_rate_aspirate"
   ]
  },
  {
   "cell_type": "code",
   "execution_count": 461,
   "metadata": {},
   "outputs": [
    {
     "name": "stdout",
     "output_type": "stream",
     "text": [
      "SpeedFactor(100)\n",
      "receive: SpeedFactor(100)\n",
      "MovJ(206.843094,-146.682146,200.000000,10.000000,0.000000,0.000000)\n",
      "Move time: 1.410s (1.000x)\n",
      "[ 206.84309407 -146.68214574  200.        ], [10  0  0]\n",
      "SpeedFactor(50)\n",
      "receive: SpeedFactor(50)\n",
      "MovJ(206.843094,-146.682146,200.000000,10.000000,0.000000,0.000000)\n",
      "Move time: 0.000s (0.500x)\n",
      "[ 206.84309407 -146.68214574  200.        ], [10  0  0]\n",
      "SpeedFactor(100)\n",
      "receive: SpeedFactor(100)\n",
      "MovJ(206.843094,-146.682146,73.510000,10.000000,0.000000,0.000000)\n",
      "Move time: 1.265s (1.000x)\n",
      "[ 206.84309407 -146.68214574   73.51      ], [10  0  0]\n",
      "SpeedFactor(50)\n",
      "receive: SpeedFactor(50)\n",
      "Dispensing 1000.0 uL...\n",
      "Target: 1000.0 uL at 28.9 uL/s...\n",
      "Best parameters: SpeedParameters(preset=650, intervals=32, step_size=12, delay=1.0332379558158107)\n",
      "SpeedParameters(preset=650, intervals=32, step_size=12, delay=1.0332379558158107)\n",
      "Speed 4: 650 uL/s\n",
      "Dispense time: 34.830794599998626s\n"
     ]
    },
    {
     "data": {
      "text/plain": [
       "'ok'"
      ]
     },
     "execution_count": 461,
     "metadata": {},
     "output_type": "execute_result"
    }
   ],
   "source": [
    "#This commands will dispense 900 ul of liquid at a flow rate equal to the approximation for aspiration obtained above.\n",
    "#User should observe the behaviour of the dispense to make an educated guess of initial dispense rate to be implemented.\n",
    "pipette.mover.safeMoveTo(source.wells['A1'].top)\n",
    "pipette.liquid.dispense(1000, speed = round(flow_rate_aspirate,1))\n"
   ]
  },
  {
   "cell_type": "code",
   "execution_count": 572,
   "metadata": {},
   "outputs": [
    {
     "name": "stdout",
     "output_type": "stream",
     "text": [
      "SpeedFactor(20)\n",
      "receive: SpeedFactor(20)\n",
      "MovJ(206.843094,-146.682146,63.510000,10.000000,0.000000,0.000000)\n",
      "Move time: 0.500s (0.200x)\n",
      "[ 206.84309407 -146.68214574   63.51      ], [10  0  0]\n",
      "SpeedFactor(50)\n",
      "receive: SpeedFactor(50)\n",
      "SpeedFactor(20)\n",
      "receive: SpeedFactor(20)\n",
      "MovJ(207.104567,-129.734163,63.510000,10.000000,0.000000,0.000000)\n",
      "Move time: 0.847s (0.200x)\n",
      "[ 207.10456737 -129.73416262   63.51      ], [10  0  0]\n",
      "SpeedFactor(50)\n",
      "receive: SpeedFactor(50)\n",
      "SpeedFactor(20)\n",
      "receive: SpeedFactor(20)\n",
      "MovJ(206.581621,-163.630129,63.510000,10.000000,0.000000,0.000000)\n",
      "Move time: 1.695s (0.200x)\n",
      "[ 206.58162078 -163.63012886   63.51      ], [10  0  0]\n",
      "SpeedFactor(50)\n",
      "receive: SpeedFactor(50)\n",
      "SpeedFactor(20)\n",
      "receive: SpeedFactor(20)\n",
      "MovJ(206.843094,-146.682146,63.510000,10.000000,0.000000,0.000000)\n",
      "Move time: 0.847s (0.200x)\n",
      "[ 206.84309407 -146.68214574   63.51      ], [10  0  0]\n",
      "SpeedFactor(50)\n",
      "receive: SpeedFactor(50)\n",
      "SpeedFactor(20)\n",
      "receive: SpeedFactor(20)\n",
      "MovJ(189.895111,-146.420672,63.510000,10.000000,0.000000,0.000000)\n",
      "Move time: 0.847s (0.200x)\n",
      "[ 189.89511096 -146.42067245   63.51      ], [10  0  0]\n",
      "SpeedFactor(50)\n",
      "receive: SpeedFactor(50)\n",
      "SpeedFactor(20)\n",
      "receive: SpeedFactor(20)\n",
      "MovJ(223.791077,-146.943619,63.510000,10.000000,0.000000,0.000000)\n",
      "Move time: 1.695s (0.200x)\n",
      "[ 223.79107719 -146.94361903   63.51      ], [10  0  0]\n",
      "SpeedFactor(50)\n",
      "receive: SpeedFactor(50)\n",
      "SpeedFactor(20)\n",
      "receive: SpeedFactor(20)\n",
      "MovJ(206.843094,-146.682146,63.510000,10.000000,0.000000,0.000000)\n",
      "Move time: 0.847s (0.200x)\n",
      "[ 206.84309407 -146.68214574   63.51      ], [10  0  0]\n",
      "SpeedFactor(50)\n",
      "receive: SpeedFactor(50)\n",
      "MovJ(206.843094,-146.682146,73.510000,10.000000,0.000000,0.000000)\n",
      "Move time: 0.200s (0.500x)\n",
      "[ 206.84309407 -146.68214574   73.51      ], [10  0  0]\n",
      "SpeedFactor(20)\n",
      "receive: SpeedFactor(20)\n",
      "MovJ(206.843094,-146.682146,63.510000,10.000000,0.000000,0.000000)\n",
      "Move time: 0.500s (0.200x)\n",
      "[ 206.84309407 -146.68214574   63.51      ], [10  0  0]\n",
      "SpeedFactor(50)\n",
      "receive: SpeedFactor(50)\n",
      "SpeedFactor(20)\n",
      "receive: SpeedFactor(20)\n",
      "MovJ(207.104567,-129.734163,63.510000,10.000000,0.000000,0.000000)\n",
      "Move time: 0.847s (0.200x)\n",
      "[ 207.10456737 -129.73416262   63.51      ], [10  0  0]\n",
      "SpeedFactor(50)\n",
      "receive: SpeedFactor(50)\n",
      "SpeedFactor(20)\n",
      "receive: SpeedFactor(20)\n",
      "MovJ(206.581621,-163.630129,63.510000,10.000000,0.000000,0.000000)\n",
      "Move time: 1.695s (0.200x)\n",
      "[ 206.58162078 -163.63012886   63.51      ], [10  0  0]\n",
      "SpeedFactor(50)\n",
      "receive: SpeedFactor(50)\n",
      "SpeedFactor(20)\n",
      "receive: SpeedFactor(20)\n",
      "MovJ(206.843094,-146.682146,63.510000,10.000000,0.000000,0.000000)\n",
      "Move time: 0.847s (0.200x)\n",
      "[ 206.84309407 -146.68214574   63.51      ], [10  0  0]\n",
      "SpeedFactor(50)\n",
      "receive: SpeedFactor(50)\n",
      "SpeedFactor(20)\n",
      "receive: SpeedFactor(20)\n",
      "MovJ(189.895111,-146.420672,63.510000,10.000000,0.000000,0.000000)\n",
      "Move time: 0.847s (0.200x)\n",
      "[ 189.89511096 -146.42067245   63.51      ], [10  0  0]\n",
      "SpeedFactor(50)\n",
      "receive: SpeedFactor(50)\n",
      "SpeedFactor(20)\n",
      "receive: SpeedFactor(20)\n",
      "MovJ(223.791077,-146.943619,63.510000,10.000000,0.000000,0.000000)\n",
      "Move time: 1.695s (0.200x)\n",
      "[ 223.79107719 -146.94361903   63.51      ], [10  0  0]\n",
      "SpeedFactor(50)\n",
      "receive: SpeedFactor(50)\n",
      "SpeedFactor(20)\n",
      "receive: SpeedFactor(20)\n",
      "MovJ(206.843094,-146.682146,63.510000,10.000000,0.000000,0.000000)\n",
      "Move time: 0.847s (0.200x)\n",
      "[ 206.84309407 -146.68214574   63.51      ], [10  0  0]\n",
      "SpeedFactor(50)\n",
      "receive: SpeedFactor(50)\n",
      "MovJ(206.843094,-146.682146,73.510000,10.000000,0.000000,0.000000)\n",
      "Move time: 0.200s (0.500x)\n",
      "[ 206.84309407 -146.68214574   73.51      ], [10  0  0]\n",
      "SpeedFactor(20)\n",
      "receive: SpeedFactor(20)\n",
      "MovJ(206.843094,-146.682146,63.510000,10.000000,0.000000,0.000000)\n",
      "Move time: 0.500s (0.200x)\n",
      "[ 206.84309407 -146.68214574   63.51      ], [10  0  0]\n",
      "SpeedFactor(50)\n",
      "receive: SpeedFactor(50)\n",
      "SpeedFactor(20)\n",
      "receive: SpeedFactor(20)\n",
      "MovJ(207.104567,-129.734163,63.510000,10.000000,0.000000,0.000000)\n",
      "Move time: 0.847s (0.200x)\n",
      "[ 207.10456737 -129.73416262   63.51      ], [10  0  0]\n",
      "SpeedFactor(50)\n",
      "receive: SpeedFactor(50)\n",
      "SpeedFactor(20)\n",
      "receive: SpeedFactor(20)\n",
      "MovJ(206.581621,-163.630129,63.510000,10.000000,0.000000,0.000000)\n",
      "Move time: 1.695s (0.200x)\n",
      "[ 206.58162078 -163.63012886   63.51      ], [10  0  0]\n",
      "SpeedFactor(50)\n",
      "receive: SpeedFactor(50)\n",
      "SpeedFactor(20)\n",
      "receive: SpeedFactor(20)\n",
      "MovJ(206.843094,-146.682146,63.510000,10.000000,0.000000,0.000000)\n",
      "Move time: 0.847s (0.200x)\n",
      "[ 206.84309407 -146.68214574   63.51      ], [10  0  0]\n",
      "SpeedFactor(50)\n",
      "receive: SpeedFactor(50)\n",
      "SpeedFactor(20)\n",
      "receive: SpeedFactor(20)\n",
      "MovJ(189.895111,-146.420672,63.510000,10.000000,0.000000,0.000000)\n",
      "Move time: 0.847s (0.200x)\n",
      "[ 189.89511096 -146.42067245   63.51      ], [10  0  0]\n",
      "SpeedFactor(50)\n",
      "receive: SpeedFactor(50)\n",
      "SpeedFactor(20)\n",
      "receive: SpeedFactor(20)\n",
      "MovJ(223.791077,-146.943619,63.510000,10.000000,0.000000,0.000000)\n",
      "Move time: 1.695s (0.200x)\n",
      "[ 223.79107719 -146.94361903   63.51      ], [10  0  0]\n",
      "SpeedFactor(50)\n",
      "receive: SpeedFactor(50)\n",
      "SpeedFactor(20)\n",
      "receive: SpeedFactor(20)\n",
      "MovJ(206.843094,-146.682146,63.510000,10.000000,0.000000,0.000000)\n",
      "Move time: 0.847s (0.200x)\n",
      "[ 206.84309407 -146.68214574   63.51      ], [10  0  0]\n",
      "SpeedFactor(50)\n",
      "receive: SpeedFactor(50)\n",
      "MovJ(206.843094,-146.682146,73.510000,10.000000,0.000000,0.000000)\n",
      "Move time: 0.200s (0.500x)\n",
      "[ 206.84309407 -146.68214574   73.51      ], [10  0  0]\n"
     ]
    },
    {
     "data": {
      "text/plain": [
       "'ok'"
      ]
     },
     "execution_count": 572,
     "metadata": {},
     "output_type": "execute_result"
    }
   ],
   "source": [
    "#This command will clear out remaining liquid in the tip if the dispense was incomplete.\n",
    "\n",
    "pipette.liquid.blowout(home=False)\n",
    "time.sleep(5)\n",
    "pipette.touchTip(source.wells['A1'])\n",
    "pipette.liquid.home()\n",
    "time.sleep(10)\n",
    "pipette.liquid.blowout(home=False)\n",
    "time.sleep(5)\n",
    "pipette.touchTip(source.wells['A1'])\n",
    "pipette.liquid.home()\n",
    "time.sleep(10)\n",
    "pipette.liquid.blowout(home=False)\n",
    "time.sleep(5)\n",
    "pipette.touchTip(source.wells['A1'])\n",
    "pipette.liquid.home()\n"
   ]
  },
  {
   "cell_type": "code",
   "execution_count": 289,
   "metadata": {},
   "outputs": [
    {
     "name": "stdout",
     "output_type": "stream",
     "text": [
      "SpeedFactor(100)\n",
      "receive: SpeedFactor(100)\n",
      "MovJ(206.843094,-146.682146,200.000000,10.000000,0.000000,0.000000)\n",
      "Move time: 1.265s (1.000x)\n",
      "[ 206.84309407 -146.68214574  200.        ], [10  0  0]\n",
      "SpeedFactor(50)\n",
      "receive: SpeedFactor(50)\n",
      "MovJ(300.000000,0.000000,200.000000,10.000000,0.000000,0.000000)\n",
      "Move time: 2.934s (0.500x)\n",
      "[3.00000000e+02 1.13686838e-13 2.00000000e+02], [10  0  0]\n",
      "SpeedFactor(100)\n",
      "receive: SpeedFactor(100)\n",
      "MovJ(300.000000,0.000000,200.000000,10.000000,0.000000,0.000000)\n",
      "Move time: 0.000s (1.000x)\n",
      "[3.00000000e+02 1.13686838e-13 2.00000000e+02], [10  0  0]\n",
      "SpeedFactor(50)\n",
      "receive: SpeedFactor(50)\n",
      "Homed\n"
     ]
    },
    {
     "data": {
      "text/plain": [
       "True"
      ]
     },
     "execution_count": 289,
     "metadata": {},
     "output_type": "execute_result"
    }
   ],
   "source": [
    "pipette.mover.home()"
   ]
  },
  {
   "attachments": {},
   "cell_type": "markdown",
   "metadata": {},
   "source": [
    "## Viscous liquid protocol: Gravimetric analysis for obtaining pipetting parameters to transfer a viscous liquid \n",
    "The following cells contain the code required to implemenet the gravimetric analysis of volume transfer of a specific viscousl iquid. User only needs to input the targetr volume, density of the liquid and mass of vials before and after a dispense."
   ]
  },
  {
   "attachments": {},
   "cell_type": "markdown",
   "metadata": {},
   "source": [
    "Define liquid to be handeled and input initial aspiration and dispense rates"
   ]
  },
  {
   "cell_type": "code",
   "execution_count": 463,
   "metadata": {},
   "outputs": [],
   "source": [
    "#Load dataframe\n",
    "liquid_name = \"Viscosity_std_1275\"\n",
    "density = 0.8736\n",
    "pipette_name = 'rLine1000'\n"
   ]
  },
  {
   "attachments": {},
   "cell_type": "markdown",
   "metadata": {},
   "source": [
    "First initialize or load a previous dataframe to record transfer parameters. Use only one of the next to cells. "
   ]
  },
  {
   "cell_type": "code",
   "execution_count": 464,
   "metadata": {},
   "outputs": [],
   "source": [
    "#New dataframe\n",
    "df = pd.DataFrame(columns = ['liquid', 'pipette', 'volume', 'aspiration_rate', 'dispense_rate','blow_out', 'delay_aspirate', 'delay_dispense', 'delay_blow_out', 'density', 'time', 'm', '%error', 'Transfer_Observation', 'Comment'])\n",
    "df = df.astype({'liquid':str,'pipette':str,'blow_out':bool,'Transfer_Observation':str,'Comment':str})"
   ]
  },
  {
   "cell_type": "code",
   "execution_count": 12,
   "metadata": {},
   "outputs": [],
   "source": [
    "#load dataframe if experiment was done halfway previously\n",
    "df = pd.read_csv(liquid_name+'.csv')"
   ]
  },
  {
   "cell_type": "code",
   "execution_count": 522,
   "metadata": {},
   "outputs": [],
   "source": [
    "liquids_dict = {\n",
    "  liquid_name :{\n",
    "        \"rLine1000\": {\n",
    "            \"aspiration_rate\": 1.25 * flow_rate_aspirate, \n",
    "            \"dispense_rate\": 1.25 * flow_rate_aspirate, \n",
    "            \"blow_out\" : False, \n",
    "            \"delay_aspirate\" : 10, \n",
    "            \"delay_dispense\" : 10, \n",
    "            \"delay_blow_out\" : 0, \n",
    "            },\n",
    "    }\n",
    "\n",
    "}\n"
   ]
  },
  {
   "attachments": {},
   "cell_type": "markdown",
   "metadata": {},
   "source": [
    "Transfer viscous liquds, input pippette name (pipette), desired volume (volume) to be dispensed in ul, liquid dictonary key string (liquid), density (density) and initial vial mass (mi). The code will register the liquid handling parameters used into the dataframe  "
   ]
  },
  {
   "cell_type": "code",
   "execution_count": 377,
   "metadata": {},
   "outputs": [
    {
     "name": "stdout",
     "output_type": "stream",
     "text": [
      "SpeedFactor(100)\n",
      "receive: SpeedFactor(100)\n",
      "MovJ(207.104567,-129.734163,200.000000,10.000000,0.000000,0.000000)\n",
      "Move time: 1.365s (1.000x)\n",
      "[ 207.10456737 -129.73416262  200.        ], [10  0  0]\n",
      "SpeedFactor(20)\n",
      "receive: SpeedFactor(20)\n",
      "MovJ(300.000000,0.000000,200.000000,10.000000,0.000000,0.000000)\n",
      "Move time: 6.487s (0.200x)\n",
      "[3.00000000e+02 1.13686838e-13 2.00000000e+02], [10  0  0]\n",
      "SpeedFactor(100)\n",
      "receive: SpeedFactor(100)\n",
      "MovJ(300.000000,0.000000,200.000000,10.000000,0.000000,0.000000)\n",
      "Move time: 0.000s (1.000x)\n",
      "[3.00000000e+02 1.13686838e-13 2.00000000e+02], [10  0  0]\n",
      "SpeedFactor(20)\n",
      "receive: SpeedFactor(20)\n",
      "Homed\n"
     ]
    },
    {
     "data": {
      "text/plain": [
       "True"
      ]
     },
     "execution_count": 377,
     "metadata": {},
     "output_type": "execute_result"
    }
   ],
   "source": [
    "pipette.mover.home()"
   ]
  },
  {
   "cell_type": "code",
   "execution_count": 564,
   "metadata": {},
   "outputs": [
    {
     "name": "stdout",
     "output_type": "stream",
     "text": [
      "Tip capacitance: 271\n",
      "SpeedFactor(100)\n",
      "receive: SpeedFactor(100)\n",
      "MovJ(206.843094,-146.682146,200.000000,10.000000,0.000000,0.000000)\n",
      "Move time: 1.265s (1.000x)\n",
      "[ 206.84309407 -146.68214574  200.        ], [10  0  0]\n",
      "SpeedFactor(50)\n",
      "receive: SpeedFactor(50)\n",
      "MovJ(206.843094,-146.682146,200.000000,10.000000,0.000000,0.000000)\n",
      "Move time: 0.000s (0.500x)\n",
      "[ 206.84309407 -146.68214574  200.        ], [10  0  0]\n",
      "SpeedFactor(100)\n",
      "receive: SpeedFactor(100)\n",
      "MovJ(206.843094,-146.682146,52.057503,10.000000,0.000000,0.000000)\n",
      "Move time: 1.479s (1.000x)\n",
      "[ 206.84309407 -146.68214574   52.05750305], [10  0  0]\n",
      "SpeedFactor(50)\n",
      "receive: SpeedFactor(50)\n",
      "Aspirating 300.0 uL...\n",
      "Target: 300.0 uL at 36.14391757812423 uL/s...\n",
      "Best parameters: SpeedParameters(preset=150, intervals=6, step_size=20, delay=1.0500252882639567)\n",
      "SpeedParameters(preset=150, intervals=6, step_size=20, delay=1.0500252882639567)\n",
      "Speed 1: 150 uL/s\n",
      "Aspiration time: 8.366245899997011s\n",
      "SpeedFactor(20)\n",
      "receive: SpeedFactor(20)\n",
      "MovJ(206.843094,-146.682146,63.510000,10.000000,0.000000,0.000000)\n",
      "Move time: 0.573s (0.200x)\n",
      "[ 206.84309407 -146.68214574   63.51      ], [10  0  0]\n",
      "SpeedFactor(50)\n",
      "receive: SpeedFactor(50)\n",
      "SpeedFactor(20)\n",
      "receive: SpeedFactor(20)\n",
      "MovJ(207.104567,-129.734163,63.510000,10.000000,0.000000,0.000000)\n",
      "Move time: 0.847s (0.200x)\n",
      "[ 207.10456737 -129.73416262   63.51      ], [10  0  0]\n",
      "SpeedFactor(50)\n",
      "receive: SpeedFactor(50)\n",
      "SpeedFactor(20)\n",
      "receive: SpeedFactor(20)\n",
      "MovJ(206.581621,-163.630129,63.510000,10.000000,0.000000,0.000000)\n",
      "Move time: 1.695s (0.200x)\n",
      "[ 206.58162078 -163.63012886   63.51      ], [10  0  0]\n",
      "SpeedFactor(50)\n",
      "receive: SpeedFactor(50)\n",
      "SpeedFactor(20)\n",
      "receive: SpeedFactor(20)\n",
      "MovJ(206.843094,-146.682146,63.510000,10.000000,0.000000,0.000000)\n",
      "Move time: 0.847s (0.200x)\n",
      "[ 206.84309407 -146.68214574   63.51      ], [10  0  0]\n",
      "SpeedFactor(50)\n",
      "receive: SpeedFactor(50)\n",
      "SpeedFactor(20)\n",
      "receive: SpeedFactor(20)\n",
      "MovJ(189.895111,-146.420672,63.510000,10.000000,0.000000,0.000000)\n",
      "Move time: 0.847s (0.200x)\n",
      "[ 189.89511096 -146.42067245   63.51      ], [10  0  0]\n",
      "SpeedFactor(50)\n",
      "receive: SpeedFactor(50)\n",
      "SpeedFactor(20)\n",
      "receive: SpeedFactor(20)\n",
      "MovJ(223.791077,-146.943619,63.510000,10.000000,0.000000,0.000000)\n",
      "Move time: 1.695s (0.200x)\n",
      "[ 223.79107719 -146.94361903   63.51      ], [10  0  0]\n",
      "SpeedFactor(50)\n",
      "receive: SpeedFactor(50)\n",
      "SpeedFactor(20)\n",
      "receive: SpeedFactor(20)\n",
      "MovJ(206.843094,-146.682146,63.510000,10.000000,0.000000,0.000000)\n",
      "Move time: 0.847s (0.200x)\n",
      "[ 206.84309407 -146.68214574   63.51      ], [10  0  0]\n",
      "SpeedFactor(50)\n",
      "receive: SpeedFactor(50)\n",
      "MovJ(206.843094,-146.682146,73.510000,10.000000,0.000000,0.000000)\n",
      "Move time: 0.200s (0.500x)\n",
      "[ 206.84309407 -146.68214574   73.51      ], [10  0  0]\n",
      "SpeedFactor(100)\n",
      "receive: SpeedFactor(100)\n",
      "MovJ(206.843094,-146.682146,200.000000,10.000000,0.000000,0.000000)\n",
      "Move time: 1.265s (1.000x)\n",
      "[ 206.84309407 -146.68214574  200.        ], [10  0  0]\n",
      "SpeedFactor(50)\n",
      "receive: SpeedFactor(50)\n",
      "MovJ(226.808719,-246.301992,200.000000,10.000000,0.000000,0.000000)\n",
      "Move time: 1.992s (0.500x)\n",
      "[ 226.8087188 -246.3019923  200.       ], [10  0  0]\n",
      "SpeedFactor(100)\n",
      "receive: SpeedFactor(100)\n",
      "MovJ(226.808719,-246.301992,119.900000,10.000000,0.000000,0.000000)\n",
      "Move time: 0.801s (1.000x)\n",
      "[ 226.8087188 -246.3019923  119.9      ], [10  0  0]\n",
      "SpeedFactor(50)\n",
      "receive: SpeedFactor(50)\n",
      "Listening...\n",
      "Zeroing... (5s)\n",
      "Stop listening...\n",
      "Zeroing complete.\n",
      "Listening...\n",
      "Dispensing 300.0 uL...\n",
      "Target: 300.0 uL at 36.14391757812423 uL/s...\n",
      "Best parameters: SpeedParameters(preset=150, intervals=6, step_size=20, delay=1.0500252882639567)\n",
      "SpeedParameters(preset=150, intervals=6, step_size=20, delay=1.0500252882639567)\n",
      "Speed 1: 150 uL/s\n",
      "Dispense time: 8.383257600002253s\n",
      "SpeedFactor(100)\n",
      "receive: SpeedFactor(100)\n",
      "MovJ(226.808719,-246.301992,200.000000,10.000000,0.000000,0.000000)\n",
      "Move time: 0.801s (1.000x)\n",
      "[ 226.8087188 -246.3019923  200.       ], [10  0  0]\n",
      "SpeedFactor(50)\n",
      "receive: SpeedFactor(50)\n",
      "MovJ(206.843094,-146.682146,200.000000,10.000000,0.000000,0.000000)\n",
      "Move time: 1.992s (0.500x)\n",
      "[ 206.84309407 -146.68214574  200.        ], [10  0  0]\n",
      "SpeedFactor(100)\n",
      "receive: SpeedFactor(100)\n",
      "MovJ(206.843094,-146.682146,73.510000,10.000000,0.000000,0.000000)\n",
      "Move time: 1.265s (1.000x)\n",
      "[ 206.84309407 -146.68214574   73.51      ], [10  0  0]\n",
      "SpeedFactor(50)\n",
      "receive: SpeedFactor(50)\n",
      "Stop listening...\n"
     ]
    }
   ],
   "source": [
    "#Update target volume for transfer\n",
    "volume= 300\n",
    "\n",
    "#Check if new tip is required\n",
    "pipette.mover.setSpeed(50)\n",
    "\n",
    "if pipette.liquid.isTipOn()== False:\n",
    "    pipette.attachTip()\n",
    "\n",
    "#Transfer start\n",
    "start = time.time()\n",
    "\n",
    "#Aspirate step\n",
    "pipette.mover.safeMoveTo(source.wells['A1'].from_bottom((0,0,liquid_level-5)))\n",
    "pipette.liquid.aspirate(volume, speed=liquids_dict[liquid_name][pipette_name]['aspiration_rate'])\n",
    "time.sleep(liquids_dict[liquid_name][pipette_name]['delay_aspirate'])\n",
    "\n",
    "pipette.touchTip(source.wells['A1'])\n",
    "\n",
    "#Dispense step\n",
    "pipette.mover.safeMoveTo(balance_deck.wells['A1'].from_top((0,0,-5)))\n",
    "\n",
    "balance.tare()\n",
    "balance.clearCache()\n",
    "balance.toggleRecord(True)\n",
    "time.sleep(5)\n",
    "\n",
    "\n",
    "pipette.liquid.dispense(volume, speed=liquids_dict[liquid_name][pipette_name]['dispense_rate'])\n",
    "\n",
    "time.sleep(liquids_dict[liquid_name][pipette_name]['delay_dispense'])\n",
    "\n",
    "#Blowout step\n",
    "if liquids_dict[liquid_name][pipette_name]['blow_out'] == True:\n",
    "    pipette.liquid.blowout(home=False)\n",
    "    time.sleep(liquids_dict[liquid_name][pipette_name]['delay_blow_out'])\n",
    "\n",
    "#Transfer termination\n",
    "finish = time.time()\n",
    "time_m = finish - start\n",
    "\n",
    "pipette.mover.safeMoveTo(source.wells['A1'].top)\n",
    "time.sleep(5)\n",
    "balance.toggleRecord(False)\n",
    "if liquids_dict[liquid_name][pipette_name]['blow_out'] == True:\n",
    "    pipette.liquid.home()\n",
    "\n"
   ]
  },
  {
   "cell_type": "code",
   "execution_count": 565,
   "metadata": {},
   "outputs": [
    {
     "data": {
      "image/png": "[encoded data removed]",
      "text/plain": [
       "<Figure size 432x288 with 1 Axes>"
      ]
     },
     "metadata": {
      "needs_background": "light"
     },
     "output_type": "display_data"
    }
   ],
   "source": [
    "fig,axs = plt.subplots()\n",
    "\n",
    "axs.plot(balance.buffer_df['Time'],balance.buffer_df['Mass'])\n",
    "\n",
    "axs.set_xlabel('Time')\n",
    "axs.set_ylabel('Mass')\n",
    "\n",
    "plt.show()"
   ]
  },
  {
   "cell_type": "code",
   "execution_count": 566,
   "metadata": {},
   "outputs": [],
   "source": [
    "#Record trasnfer values \n",
    "\n",
    "m = (balance.buffer_df.iloc[-10:,-1].mean()-balance.buffer_df.iloc[:10,-1].mean())/1000\n",
    "\n",
    "df = pd.concat([df,pd.DataFrame(liquids_dict[liquid_name][pipette_name],index=[0])],ignore_index=True)\n",
    "error = (m-density*volume/1000)/(density/1000*volume)*100\n",
    "df.iloc[-1,-5] = time_m\n",
    "df.iloc[-1,2] = volume\n",
    "df.iloc[-1, 0] = liquid_name\n",
    "df.iloc[-1, 1] = pipette_name\n",
    "df.iloc[-1,-6] = density\n",
    "df.iloc[-1, -4] = m\n",
    "df.iloc[-1,-3]= error\n"
   ]
  },
  {
   "cell_type": "code",
   "execution_count": 567,
   "metadata": {},
   "outputs": [],
   "source": [
    "#Update liquid level\n",
    "#liquid_level = liquid_level - 1*volume/1000\n",
    "liquid_level = liquid_level - 1.2*m/density"
   ]
  },
  {
   "cell_type": "code",
   "execution_count": 568,
   "metadata": {},
   "outputs": [
    {
     "data": {
      "text/plain": [
       "7.268569734640574"
      ]
     },
     "execution_count": 568,
     "metadata": {},
     "output_type": "execute_result"
    }
   ],
   "source": [
    "liquid_level "
   ]
  },
  {
   "cell_type": "code",
   "execution_count": 569,
   "metadata": {},
   "outputs": [
    {
     "data": {
      "text/html": [
       "<div>\n",
       "<style scoped>\n",
       "    .dataframe tbody tr th:only-of-type {\n",
       "        vertical-align: middle;\n",
       "    }\n",
       "\n",
       "    .dataframe tbody tr th {\n",
       "        vertical-align: top;\n",
       "    }\n",
       "\n",
       "    .dataframe thead th {\n",
       "        text-align: right;\n",
       "    }\n",
       "</style>\n",
       "<table border=\"1\" class=\"dataframe\">\n",
       "  <thead>\n",
       "    <tr style=\"text-align: right;\">\n",
       "      <th></th>\n",
       "      <th>liquid</th>\n",
       "      <th>pipette</th>\n",
       "      <th>volume</th>\n",
       "      <th>aspiration_rate</th>\n",
       "      <th>dispense_rate</th>\n",
       "      <th>blow_out</th>\n",
       "      <th>delay_aspirate</th>\n",
       "      <th>delay_dispense</th>\n",
       "      <th>delay_blow_out</th>\n",
       "      <th>density</th>\n",
       "      <th>time</th>\n",
       "      <th>m</th>\n",
       "      <th>%error</th>\n",
       "      <th>Transfer_Observation</th>\n",
       "      <th>Comment</th>\n",
       "    </tr>\n",
       "  </thead>\n",
       "  <tbody>\n",
       "    <tr>\n",
       "      <th>0</th>\n",
       "      <td>Viscosity_std_1275</td>\n",
       "      <td>rLine1000</td>\n",
       "      <td>1000</td>\n",
       "      <td>28.915134</td>\n",
       "      <td>28.915134</td>\n",
       "      <td>False</td>\n",
       "      <td>10</td>\n",
       "      <td>10</td>\n",
       "      <td>0</td>\n",
       "      <td>0.8736</td>\n",
       "      <td>132.773934</td>\n",
       "      <td>0.788634</td>\n",
       "      <td>-9.725963</td>\n",
       "      <td>Incomplete Aspiration and Dispense</td>\n",
       "      <td>Blowout before</td>\n",
       "    </tr>\n",
       "    <tr>\n",
       "      <th>1</th>\n",
       "      <td>Viscosity_std_1275</td>\n",
       "      <td>rLine1000</td>\n",
       "      <td>1000</td>\n",
       "      <td>28.915134</td>\n",
       "      <td>28.915134</td>\n",
       "      <td>False</td>\n",
       "      <td>10</td>\n",
       "      <td>10</td>\n",
       "      <td>0</td>\n",
       "      <td>0.8736</td>\n",
       "      <td>132.933803</td>\n",
       "      <td>0.800815</td>\n",
       "      <td>-8.331563</td>\n",
       "      <td>Incomplete Aspiration and Dispense</td>\n",
       "      <td>No blowout before</td>\n",
       "    </tr>\n",
       "    <tr>\n",
       "      <th>2</th>\n",
       "      <td>Viscosity_std_1275</td>\n",
       "      <td>rLine1000</td>\n",
       "      <td>500</td>\n",
       "      <td>28.915134</td>\n",
       "      <td>28.915134</td>\n",
       "      <td>False</td>\n",
       "      <td>10</td>\n",
       "      <td>10</td>\n",
       "      <td>0</td>\n",
       "      <td>0.8736</td>\n",
       "      <td>97.980054</td>\n",
       "      <td>0.365575</td>\n",
       "      <td>-16.305995</td>\n",
       "      <td>Incomplete Aspiration and Dispense</td>\n",
       "      <td>Blowout before</td>\n",
       "    </tr>\n",
       "    <tr>\n",
       "      <th>3</th>\n",
       "      <td>Viscosity_std_1275</td>\n",
       "      <td>rLine1000</td>\n",
       "      <td>500</td>\n",
       "      <td>28.915134</td>\n",
       "      <td>28.915134</td>\n",
       "      <td>False</td>\n",
       "      <td>10</td>\n",
       "      <td>10</td>\n",
       "      <td>0</td>\n",
       "      <td>0.8736</td>\n",
       "      <td>98.023398</td>\n",
       "      <td>0.369</td>\n",
       "      <td>-15.522062</td>\n",
       "      <td>Incomplete Aspiration and Dispense</td>\n",
       "      <td>No blowout before</td>\n",
       "    </tr>\n",
       "    <tr>\n",
       "      <th>4</th>\n",
       "      <td>Viscosity_std_1275</td>\n",
       "      <td>rLine1000</td>\n",
       "      <td>300</td>\n",
       "      <td>28.915134</td>\n",
       "      <td>28.915134</td>\n",
       "      <td>False</td>\n",
       "      <td>10</td>\n",
       "      <td>10</td>\n",
       "      <td>0</td>\n",
       "      <td>0.8736</td>\n",
       "      <td>84.26467</td>\n",
       "      <td>0.202553</td>\n",
       "      <td>-22.713117</td>\n",
       "      <td>Incomplete Aspiration and Dispense</td>\n",
       "      <td>Blowout before</td>\n",
       "    </tr>\n",
       "    <tr>\n",
       "      <th>5</th>\n",
       "      <td>Viscosity_std_1275</td>\n",
       "      <td>rLine1000</td>\n",
       "      <td>300</td>\n",
       "      <td>28.915134</td>\n",
       "      <td>28.915134</td>\n",
       "      <td>False</td>\n",
       "      <td>10</td>\n",
       "      <td>10</td>\n",
       "      <td>0</td>\n",
       "      <td>0.8736</td>\n",
       "      <td>84.615646</td>\n",
       "      <td>0.210713</td>\n",
       "      <td>-19.599625</td>\n",
       "      <td>Incomplete Aspiration and Dispense</td>\n",
       "      <td>No blowout before</td>\n",
       "    </tr>\n",
       "    <tr>\n",
       "      <th>6</th>\n",
       "      <td>Viscosity_std_1275</td>\n",
       "      <td>rLine1000</td>\n",
       "      <td>1000</td>\n",
       "      <td>36.143918</td>\n",
       "      <td>36.143918</td>\n",
       "      <td>False</td>\n",
       "      <td>10</td>\n",
       "      <td>10</td>\n",
       "      <td>0</td>\n",
       "      <td>0.8736</td>\n",
       "      <td>119.593486</td>\n",
       "      <td>0.612891</td>\n",
       "      <td>-29.843014</td>\n",
       "      <td>Incomplete Aspiration and Dispense</td>\n",
       "      <td>Blowout before</td>\n",
       "    </tr>\n",
       "    <tr>\n",
       "      <th>7</th>\n",
       "      <td>Viscosity_std_1275</td>\n",
       "      <td>rLine1000</td>\n",
       "      <td>1000</td>\n",
       "      <td>36.143918</td>\n",
       "      <td>36.143918</td>\n",
       "      <td>False</td>\n",
       "      <td>10</td>\n",
       "      <td>10</td>\n",
       "      <td>0</td>\n",
       "      <td>0.8736</td>\n",
       "      <td>119.078552</td>\n",
       "      <td>0.761954</td>\n",
       "      <td>-12.779965</td>\n",
       "      <td>Incomplete Aspiration and Dispense</td>\n",
       "      <td>No blowout before</td>\n",
       "    </tr>\n",
       "    <tr>\n",
       "      <th>8</th>\n",
       "      <td>Viscosity_std_1275</td>\n",
       "      <td>rLine1000</td>\n",
       "      <td>500</td>\n",
       "      <td>36.143918</td>\n",
       "      <td>36.143918</td>\n",
       "      <td>False</td>\n",
       "      <td>10</td>\n",
       "      <td>10</td>\n",
       "      <td>0</td>\n",
       "      <td>0.8736</td>\n",
       "      <td>91.498749</td>\n",
       "      <td>0.369757</td>\n",
       "      <td>-15.348596</td>\n",
       "      <td>Incomplete Aspiration and Dispense</td>\n",
       "      <td>Blowout before</td>\n",
       "    </tr>\n",
       "    <tr>\n",
       "      <th>9</th>\n",
       "      <td>Viscosity_std_1275</td>\n",
       "      <td>rLine1000</td>\n",
       "      <td>500</td>\n",
       "      <td>36.143918</td>\n",
       "      <td>36.143918</td>\n",
       "      <td>False</td>\n",
       "      <td>10</td>\n",
       "      <td>10</td>\n",
       "      <td>0</td>\n",
       "      <td>0.8736</td>\n",
       "      <td>92.365803</td>\n",
       "      <td>0.379214</td>\n",
       "      <td>-13.183607</td>\n",
       "      <td>Incomplete Aspiration and Dispense</td>\n",
       "      <td>No blowout before</td>\n",
       "    </tr>\n",
       "    <tr>\n",
       "      <th>10</th>\n",
       "      <td>Viscosity_std_1275</td>\n",
       "      <td>rLine1000</td>\n",
       "      <td>300</td>\n",
       "      <td>36.143918</td>\n",
       "      <td>36.143918</td>\n",
       "      <td>False</td>\n",
       "      <td>10</td>\n",
       "      <td>10</td>\n",
       "      <td>0</td>\n",
       "      <td>0.8736</td>\n",
       "      <td>80.366316</td>\n",
       "      <td>0.20031</td>\n",
       "      <td>-23.569327</td>\n",
       "      <td>Incomplete Aspiration and Dispense</td>\n",
       "      <td>Blowout before</td>\n",
       "    </tr>\n",
       "    <tr>\n",
       "      <th>11</th>\n",
       "      <td>Viscosity_std_1275</td>\n",
       "      <td>rLine1000</td>\n",
       "      <td>300</td>\n",
       "      <td>36.143918</td>\n",
       "      <td>36.143918</td>\n",
       "      <td>False</td>\n",
       "      <td>10</td>\n",
       "      <td>10</td>\n",
       "      <td>0</td>\n",
       "      <td>0.8736</td>\n",
       "      <td>80.249076</td>\n",
       "      <td>0.203063</td>\n",
       "      <td>-22.518524</td>\n",
       "      <td>NaN</td>\n",
       "      <td>NaN</td>\n",
       "    </tr>\n",
       "  </tbody>\n",
       "</table>\n",
       "</div>"
      ],
      "text/plain": [
       "                liquid    pipette volume  aspiration_rate  dispense_rate  \\\n",
       "0   Viscosity_std_1275  rLine1000   1000        28.915134      28.915134   \n",
       "1   Viscosity_std_1275  rLine1000   1000        28.915134      28.915134   \n",
       "2   Viscosity_std_1275  rLine1000    500        28.915134      28.915134   \n",
       "3   Viscosity_std_1275  rLine1000    500        28.915134      28.915134   \n",
       "4   Viscosity_std_1275  rLine1000    300        28.915134      28.915134   \n",
       "5   Viscosity_std_1275  rLine1000    300        28.915134      28.915134   \n",
       "6   Viscosity_std_1275  rLine1000   1000        36.143918      36.143918   \n",
       "7   Viscosity_std_1275  rLine1000   1000        36.143918      36.143918   \n",
       "8   Viscosity_std_1275  rLine1000    500        36.143918      36.143918   \n",
       "9   Viscosity_std_1275  rLine1000    500        36.143918      36.143918   \n",
       "10  Viscosity_std_1275  rLine1000    300        36.143918      36.143918   \n",
       "11  Viscosity_std_1275  rLine1000    300        36.143918      36.143918   \n",
       "\n",
       "    blow_out delay_aspirate delay_dispense delay_blow_out density        time  \\\n",
       "0      False             10             10              0  0.8736  132.773934   \n",
       "1      False             10             10              0  0.8736  132.933803   \n",
       "2      False             10             10              0  0.8736   97.980054   \n",
       "3      False             10             10              0  0.8736   98.023398   \n",
       "4      False             10             10              0  0.8736    84.26467   \n",
       "5      False             10             10              0  0.8736   84.615646   \n",
       "6      False             10             10              0  0.8736  119.593486   \n",
       "7      False             10             10              0  0.8736  119.078552   \n",
       "8      False             10             10              0  0.8736   91.498749   \n",
       "9      False             10             10              0  0.8736   92.365803   \n",
       "10     False             10             10              0  0.8736   80.366316   \n",
       "11     False             10             10              0  0.8736   80.249076   \n",
       "\n",
       "           m     %error                Transfer_Observation            Comment  \n",
       "0   0.788634  -9.725963  Incomplete Aspiration and Dispense     Blowout before  \n",
       "1   0.800815  -8.331563  Incomplete Aspiration and Dispense  No blowout before  \n",
       "2   0.365575 -16.305995  Incomplete Aspiration and Dispense     Blowout before  \n",
       "3      0.369 -15.522062  Incomplete Aspiration and Dispense  No blowout before  \n",
       "4   0.202553 -22.713117  Incomplete Aspiration and Dispense     Blowout before  \n",
       "5   0.210713 -19.599625  Incomplete Aspiration and Dispense  No blowout before  \n",
       "6   0.612891 -29.843014  Incomplete Aspiration and Dispense     Blowout before  \n",
       "7   0.761954 -12.779965  Incomplete Aspiration and Dispense  No blowout before  \n",
       "8   0.369757 -15.348596  Incomplete Aspiration and Dispense     Blowout before  \n",
       "9   0.379214 -13.183607  Incomplete Aspiration and Dispense  No blowout before  \n",
       "10   0.20031 -23.569327  Incomplete Aspiration and Dispense     Blowout before  \n",
       "11  0.203063 -22.518524                                 NaN                NaN  "
      ]
     },
     "execution_count": 569,
     "metadata": {},
     "output_type": "execute_result"
    }
   ],
   "source": [
    "#Observe error made\n",
    "df.tail(20)"
   ]
  },
  {
   "cell_type": "code",
   "execution_count": 570,
   "metadata": {},
   "outputs": [],
   "source": [
    "#Assign category of observation of transfer such as Incomplete Dispense, Incomplete Aspiration, \n",
    "#Incomplete Aspiration and Dispense, Complete Transfer. \n",
    "#Comment if any unexpected exprimental mistakes or changes were performed that have to be taken into account.\n",
    "df.iloc[-1,-2]= 'Incomplete Aspiration and Dispense'\n",
    "df.iloc[-1,-1]= 'No blowout before'"
   ]
  },
  {
   "cell_type": "code",
   "execution_count": 574,
   "metadata": {},
   "outputs": [],
   "source": [
    "df.to_csv(liquid_name+'.csv', index = False)"
   ]
  },
  {
   "cell_type": "code",
   "execution_count": 573,
   "metadata": {},
   "outputs": [
    {
     "name": "stdout",
     "output_type": "stream",
     "text": [
      "Tip capacitance: 267\n",
      "SetArmOrientation(1,1,1,1)\n",
      "receive: SetArmOrientation(1,1,1,1)\n",
      "MovJ(320.000000,-240.000000,73.510000,10.000000,0.000000,0.000000)\n",
      "Move time: 2.263s (0.500x)\n",
      "[ 320.   -240.     73.51], [10  0  0]\n",
      "SpeedFactor(20)\n",
      "receive: SpeedFactor(20)\n",
      "MovJ(320.000000,-240.000000,200.000000,10.000000,0.000000,0.000000)\n",
      "Move time: 6.325s (0.200x)\n",
      "[ 320. -240.  200.], [10  0  0]\n",
      "SpeedFactor(50)\n",
      "receive: SpeedFactor(50)\n",
      "MovJ(232.616399,194.960923,200.000000,10.000000,0.000000,0.000000)\n",
      "Move time: 8.699s (0.500x)\n",
      "[232.61639907 194.96092349 200.        ], [10  0  0]\n",
      "SpeedFactor(20)\n",
      "receive: SpeedFactor(20)\n",
      "MovJ(232.616399,194.960923,114.400000,10.000000,0.000000,0.000000)\n",
      "Move time: 4.280s (0.200x)\n",
      "[232.61639907 194.96092349 114.4       ], [10  0  0]\n",
      "SpeedFactor(50)\n",
      "receive: SpeedFactor(50)\n",
      "SpeedFactor(100)\n",
      "receive: SpeedFactor(100)\n",
      "MovJ(232.616399,194.960923,200.000000,10.000000,0.000000,0.000000)\n",
      "Move time: 0.856s (1.000x)\n",
      "[232.61639907 194.96092349 200.        ], [10  0  0]\n",
      "SpeedFactor(50)\n",
      "receive: SpeedFactor(50)\n",
      "MovJ(300.000000,0.000000,200.000000,10.000000,0.000000,0.000000)\n",
      "Move time: 3.899s (0.500x)\n",
      "[3.00000000e+02 1.13686838e-13 2.00000000e+02], [10  0  0]\n",
      "SpeedFactor(100)\n",
      "receive: SpeedFactor(100)\n",
      "MovJ(300.000000,0.000000,200.000000,10.000000,0.000000,0.000000)\n",
      "Move time: 0.000s (1.000x)\n",
      "[3.00000000e+02 1.13686838e-13 2.00000000e+02], [10  0  0]\n",
      "SpeedFactor(50)\n",
      "receive: SpeedFactor(50)\n",
      "Homed\n"
     ]
    },
    {
     "data": {
      "text/plain": [
       "True"
      ]
     },
     "execution_count": 573,
     "metadata": {},
     "output_type": "execute_result"
    }
   ],
   "source": [
    "pipette.ejectTipAt(bin.wells['A1'].top)\n",
    "pipette.mover.home()"
   ]
  },
  {
   "attachments": {},
   "cell_type": "markdown",
   "metadata": {},
   "source": [
    "Update dictionary with new parameters until transfer error is within a -2.5-2.5% range "
   ]
  },
  {
   "cell_type": "code",
   "execution_count": 394,
   "metadata": {},
   "outputs": [],
   "source": [
    "liquids_dict = {\n",
    "  liquid_name :{\n",
    "        \"rLine1000\": {\n",
    "            \"aspiration_rate\": 190, \n",
    "            \"dispense_rate\": 18, \n",
    "            \"blow_out\" : False, \n",
    "            \"delay_aspirate\" : 10, \n",
    "            \"delay_dispense\" : 10, \n",
    "            \"delay_blow_out\" : 0, \n",
    "            },\n",
    "    }\n",
    "\n",
    "}\n"
   ]
  },
  {
   "attachments": {},
   "cell_type": "markdown",
   "metadata": {},
   "source": [
    "Save data, can be used at any time."
   ]
  },
  {
   "cell_type": "code",
   "execution_count": 86,
   "metadata": {},
   "outputs": [],
   "source": [
    "df.to_csv(liquid_name+'.csv', index = False)"
   ]
  },
  {
   "attachments": {},
   "cell_type": "markdown",
   "metadata": {},
   "source": [
    "## Auxiliary code"
   ]
  },
  {
   "cell_type": "code",
   "execution_count": null,
   "metadata": {},
   "outputs": [],
   "source": [
    "mover = platform.setup.mover\n",
    "from controllably.Control.GUI import MoverPanel\n",
    "gui = MoverPanel(mover=mover, axes=['X','Y','Z','a'])\n",
    "gui.runGUI()\n"
   ]
  },
  {
   "cell_type": "code",
   "execution_count": 220,
   "metadata": {},
   "outputs": [
    {
     "name": "stdout",
     "output_type": "stream",
     "text": [
      "SpeedFactor(100)\n",
      "receive: SpeedFactor(100)\n",
      "MovJ(206.843094,-146.682146,200.000000,10.000000,0.000000,0.000000)\n",
      "Move time: 1.265s (1.000x)\n",
      "[ 206.84309407 -146.68214574  200.        ], [10  0  0]\n",
      "SpeedFactor(50)\n",
      "receive: SpeedFactor(50)\n",
      "MovJ(300.000000,0.000000,200.000000,10.000000,0.000000,0.000000)\n",
      "Move time: 2.934s (0.500x)\n",
      "[3.00000000e+02 1.13686838e-13 2.00000000e+02], [10  0  0]\n",
      "SpeedFactor(100)\n",
      "receive: SpeedFactor(100)\n",
      "MovJ(300.000000,0.000000,200.000000,10.000000,0.000000,0.000000)\n",
      "Move time: 0.000s (1.000x)\n",
      "[3.00000000e+02 1.13686838e-13 2.00000000e+02], [10  0  0]\n",
      "SpeedFactor(50)\n",
      "receive: SpeedFactor(50)\n",
      "Homed\n"
     ]
    },
    {
     "data": {
      "text/plain": [
       "True"
      ]
     },
     "execution_count": 220,
     "metadata": {},
     "output_type": "execute_result"
    }
   ],
   "source": [
    "pipette.mover.home()"
   ]
  },
  {
   "cell_type": "code",
   "execution_count": null,
   "metadata": {},
   "outputs": [],
   "source": [
    "#This command will clear out remaining liquid in the tip if the dispense was incomplete.\n",
    "\n",
    "pipette.liquid.blowout(home=False)\n",
    "time.sleep(5)\n",
    "pipette.touchTip(source.wells['A1'])\n",
    "pipette.liquid.home()\n",
    "\n",
    "pipette.liquid.blowout(home=False)\n",
    "time.sleep(5)\n",
    "pipette.touchTip(source.wells['A1'])\n",
    "pipette.liquid.home()\n",
    "\n",
    "pipette.liquid.blowout(home=False)\n",
    "time.sleep(5)\n",
    "pipette.touchTip(source.wells['A1'])\n",
    "pipette.liquid.home()\n"
   ]
  },
  {
   "cell_type": "code",
   "execution_count": 12,
   "metadata": {},
   "outputs": [
    {
     "name": "stdout",
     "output_type": "stream",
     "text": [
      "COM3: Standard Serial over Bluetooth link (COM3) [BTHENUM\\{00001101-0000-1000-8000-00805F9B34FB}_VID&0001004C_PID&2006\\7&2EC60C50&0&DCD3A2BD3C34_C00000000]\n",
      "COM4: Standard Serial over Bluetooth link (COM4) [BTHENUM\\{00001101-0000-1000-8000-00805F9B34FB}_LOCALMFG&0000\\7&2EC60C50&0&000000000000_00000000]\n",
      "COM8: USB Serial Port (COM8) [USB VID:PID=0403:6001 SER=FT4X2KJZA]\n",
      "COM22: USB-SERIAL CH340 (COM22) [USB VID:PID=1A86:7523 SER= LOCATION=1-3.4]\n"
     ]
    }
   ],
   "source": [
    "#Check for COM ports currently connected in case there are communcation issues\n",
    "import serial.tools.list_ports\n",
    "\n",
    "ports = serial.tools.list_ports.comports()\n",
    "for port, desc, hwid in sorted(ports):\n",
    "    print(\"{}: {} [{}]\".format(port, desc, hwid))"
   ]
  },
  {
   "cell_type": "code",
   "execution_count": 11,
   "metadata": {},
   "outputs": [
    {
     "name": "stdout",
     "output_type": "stream",
     "text": [
      "Stop listening...\n"
     ]
    }
   ],
   "source": [
    "balance.toggleRecord(False)"
   ]
  },
  {
   "cell_type": "code",
   "execution_count": 484,
   "metadata": {},
   "outputs": [
    {
     "data": {
      "text/plain": [
       "'ok'"
      ]
     },
     "execution_count": 484,
     "metadata": {},
     "output_type": "execute_result"
    }
   ],
   "source": [
    "pipette.liquid.eject()"
   ]
  },
  {
   "cell_type": "code",
   "execution_count": 290,
   "metadata": {},
   "outputs": [
    {
     "name": "stdout",
     "output_type": "stream",
     "text": [
      "Tip capacitance: 272\n",
      "SetArmOrientation(1,1,1,1)\n",
      "receive: SetArmOrientation(1,1,1,1)\n",
      "MovJ(320.000000,-240.000000,73.510000,10.000000,0.000000,0.000000)\n",
      "Move time: 2.263s (0.500x)\n",
      "[ 320.   -240.     73.51], [10  0  0]\n",
      "SpeedFactor(20)\n",
      "receive: SpeedFactor(20)\n",
      "MovJ(320.000000,-240.000000,200.000000,10.000000,0.000000,0.000000)\n",
      "Move time: 6.325s (0.200x)\n",
      "[ 320. -240.  200.], [10  0  0]\n",
      "SpeedFactor(50)\n",
      "receive: SpeedFactor(50)\n",
      "MovJ(232.616399,194.960923,200.000000,10.000000,0.000000,0.000000)\n",
      "Move time: 8.699s (0.500x)\n",
      "[232.61639907 194.96092349 200.        ], [10  0  0]\n",
      "SpeedFactor(20)\n",
      "receive: SpeedFactor(20)\n",
      "MovJ(232.616399,194.960923,114.400000,10.000000,0.000000,0.000000)\n",
      "Move time: 4.280s (0.200x)\n",
      "[232.61639907 194.96092349 114.4       ], [10  0  0]\n",
      "SpeedFactor(50)\n",
      "receive: SpeedFactor(50)\n",
      "SpeedFactor(100)\n",
      "receive: SpeedFactor(100)\n",
      "MovJ(232.616399,194.960923,200.000000,10.000000,0.000000,0.000000)\n",
      "Move time: 0.856s (1.000x)\n",
      "[232.61639907 194.96092349 200.        ], [10  0  0]\n",
      "SpeedFactor(50)\n",
      "receive: SpeedFactor(50)\n",
      "MovJ(300.000000,0.000000,200.000000,10.000000,0.000000,0.000000)\n",
      "Move time: 3.899s (0.500x)\n",
      "[3.00000000e+02 1.13686838e-13 2.00000000e+02], [10  0  0]\n",
      "SpeedFactor(100)\n",
      "receive: SpeedFactor(100)\n",
      "MovJ(300.000000,0.000000,200.000000,10.000000,0.000000,0.000000)\n",
      "Move time: 0.000s (1.000x)\n",
      "[3.00000000e+02 1.13686838e-13 2.00000000e+02], [10  0  0]\n",
      "SpeedFactor(50)\n",
      "receive: SpeedFactor(50)\n",
      "Homed\n"
     ]
    },
    {
     "data": {
      "text/plain": [
       "True"
      ]
     },
     "execution_count": 290,
     "metadata": {},
     "output_type": "execute_result"
    }
   ],
   "source": [
    "pipette.ejectTipAt(bin.wells['A1'].top)\n",
    "pipette.mover.home()"
   ]
  }
 ],
 "metadata": {
  "kernelspec": {
   "display_name": "Python 3 (ipykernel)",
   "language": "python",
   "name": "python3"
  },
  "language_info": {
   "codemirror_mode": {
    "name": "ipython",
    "version": 3
   },
   "file_extension": ".py",
   "mimetype": "text/x-python",
   "name": "python",
   "nbconvert_exporter": "python",
   "pygments_lexer": "ipython3",
   "version": "3.9.7"
  }
 },
 "nbformat": 4,
 "nbformat_minor": 2
}
