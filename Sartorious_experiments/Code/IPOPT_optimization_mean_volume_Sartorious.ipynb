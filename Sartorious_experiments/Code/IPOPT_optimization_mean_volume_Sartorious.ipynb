{
 "cells": [
  {
   "attachments": {},
   "cell_type": "markdown",
   "metadata": {},
   "source": [
    "# Optimization of sartorious transfer paramters of viscous liquids guided by IPOPT optimization"
   ]
  },
  {
   "attachments": {},
   "cell_type": "markdown",
   "metadata": {},
   "source": [
    "## Summary\n",
    "\n",
    "This notebook objective is to generate new suggestions of aspiration and dispense rates that will minimize the tansfer error while minimizing the time of transfer of a viscous liquid. The code in this notebook will aim to optimize the liquid transfer parameters  to minimize the mean error from three volumes (default 300, 500, 1000) and the time of transfer to dispense 1000 uL.\n",
    "The code is strucutred as follows:\n",
    "1.  Fisrt section is for importing the relevant packages to perform IPOPT, inclduing Scikit-learn and Pyomo\n",
    "2.  Second section includes the definition of the IPOPT_LiqTransfer class that includes the method optimized_suggestions() that generates IPOPT optimized aspiration and dispense rate values for a particular data set.\n",
    "3. Third section includes the code to initialize the automated platform.\n",
    "4. Fourth section includes the code to run experiments using M1 robotic arm attached with electronic pipette, automated mass balance and IPOPT optimization of a viscous liquid. The steps for the optimziation are:\n",
    "    i. Initilize a IPOPT_LiqTransfer objecet and load initilization data using data_from_csv() method\n",
    "\n",
    "    ii. Run optimized_suggestions() method\n",
    "\n",
    "    iii. Run liquid transfer gravimetric experiment using the best suggestion for aspiration and dispense rates\n",
    "\n",
    "    iv. Update latest %error obtained from the transfer using suggested aspiration and dispense rates.\n",
    "    \n",
    "    v. Iterate through steps ii-iV"
   ]
  },
  {
   "attachments": {},
   "cell_type": "markdown",
   "metadata": {},
   "source": [
    "## 1. Imports"
   ]
  },
  {
   "cell_type": "code",
   "execution_count": null,
   "metadata": {},
   "outputs": [],
   "source": [
    "#%% General Imports\n",
    "import pandas as pd\n",
    "import numpy as np\n",
    "import os\n",
    "from matplotlib import pyplot as plt\n",
    "\n",
    "#sklearn imports\n",
    "import sklearn.linear_model as linear_model\n",
    "\n",
    "#pyomo\n",
    "from pyomo.environ import *\n",
    "\n",
    "# plotting dependencies\n",
    "import matplotlib\n",
    "from matplotlib import pyplot as plt\n",
    "%matplotlib inline\n",
    "\n",
    "SMALL_SIZE = 14\n",
    "MEDIUM_SIZE = 18\n",
    "BIGGER_SIZE = 20\n",
    "\n",
    "plt.rc('axes', titlesize=SMALL_SIZE)     # fontsize of the axes title\n",
    "plt.rc('axes', labelsize=MEDIUM_SIZE)    # fontsize of the x and y labels\n",
    "plt.rc('xtick', labelsize=SMALL_SIZE)    # fontsize of the tick labels\n",
    "plt.rc('ytick', labelsize=SMALL_SIZE)    # fontsize of the tick labels\n",
    "plt.rc('legend', fontsize=SMALL_SIZE)    # legend fontsize\n",
    "plt.rc('figure', titlesize=BIGGER_SIZE)  # fontsize of the figure title\n"
   ]
  },
  {
   "cell_type": "code",
   "execution_count": null,
   "metadata": {},
   "outputs": [],
   "source": [
    "#paths\n",
    "REPO = 'viscosity_liquid_transfer_Pablo'\n",
    "parent_path = os.getcwd().split(REPO)[0]"
   ]
  },
  {
   "attachments": {},
   "cell_type": "markdown",
   "metadata": {},
   "source": [
    "# 2. IPOPT_LiqTransfer class"
   ]
  },
  {
   "cell_type": "code",
   "execution_count": null,
   "metadata": {},
   "outputs": [],
   "source": [
    "class IPOPT_LiqTransfer:\n",
    "\n",
    "    def __init__(self, liquid_name):\n",
    "        self.liquid_name = liquid_name\n",
    "        self._data = None\n",
    "        self.features = ['aspiration_rate','dispense_rate']\n",
    "        self.objectives = ['%error']\n",
    "        self.bmax = 1.25\n",
    "        self.bmin = 0.1\n",
    "        self._latest_suggestion = None\n",
    "        self._latest_volume = None\n",
    "        self.mean_volumes = [100,500,1000]\n",
    "    \n",
    "    def set_data(self,df):\n",
    "        df['time_asp_1000'] = 1000/df['aspiration_rate'] + 1000/df['dispense_rate'] + df['delay_aspirate'] + df['delay_dispense']\n",
    "\n",
    "        if df.loc[:,self.features].duplicated().sum()==0:\n",
    "            df_mean = df\n",
    "\n",
    "        else:\n",
    "            df_duplicates = df.where(df.duplicated(self.features,keep=False)==True).dropna(how='all')\n",
    "            df_incomplete = df.where(df.duplicated(self.features,keep=False)==False).dropna(how='all')\n",
    "            df_mean = pd.DataFrame(columns= df.columns)\n",
    "            for index,values in df_duplicates.drop_duplicates(self.features).iterrows():\n",
    "                if len(df_duplicates.loc[index:index+2]) == len(self.mean_volumes):\n",
    "                    mean_error =df_duplicates.loc[index:index+2,'%error'].mean()\n",
    "                    df_duplicates.loc[index,'%error'] = mean_error\n",
    "                    df_duplicates.loc[index, 'volume'] ='mean'+str(self.mean_volumes)\n",
    "                    df_mean = pd.concat([df_mean,df.loc[index:index+2],df_duplicates.loc[[index]]])\n",
    "                else:\n",
    "                    df_incomplete = pd.concat([df_incomplete,df_duplicates.loc[index:index+2]]).drop_duplicates()\n",
    "            df_mean = pd.concat([df_mean,df_incomplete])\n",
    "            df_mean = df_mean.reset_index(drop=True)    \n",
    "        self._data = df_mean\n",
    "\n",
    "    \n",
    "    def data_from_csv(self,file_name):\n",
    "        data = pd.read_csv(file_name)\n",
    "        data = data.loc[:,['liquid','pipette','volume','aspiration_rate','dispense_rate','blow_out','delay_aspirate','delay_dispense','delay_blow_out','%error']]\n",
    "        self.set_data(data)\n",
    "\n",
    "    def update_data(self,error,volume= 1000):\n",
    "        self._latest_volume = volume\n",
    "        updated_data = pd.concat([self._data,self._data.iloc[[-1]]],ignore_index=True)\n",
    "        updated_data.loc[updated_data.last_valid_index(),'volume'] = self._latest_volume\n",
    "        updated_data.loc[updated_data.last_valid_index(),'aspiration_rate']  = self._latest_suggestion['aspiration_rate'][0]\n",
    "        updated_data.loc[updated_data.last_valid_index(),'dispense_rate']  = self._latest_suggestion['dispense_rate'][0]\n",
    "        updated_data.loc[updated_data.last_valid_index(),'%error'] = error\n",
    "        self.set_data(updated_data)\n",
    "        return self._data\n",
    "                                \n",
    "    def xy_split(self):\n",
    "        df_train = self._data.where(self._data['volume']=='mean'+str(self.mean_volumes)).dropna(how='all')\n",
    "        x_train = df_train[self.features]\n",
    "        y_train = df_train[self.objectives]\n",
    "        return x_train,y_train\n",
    "\n",
    "    def set_bounds(self, x_train):\n",
    "        return x_train.iloc[0,0]*self.bmin, x_train.iloc[0,0]*self.bmax\n",
    "\n",
    "    def fit_lin(self):\n",
    "        lin_model = linear_model.LinearRegression()\n",
    "        x_train,y_train = self.xy_split()\n",
    "        \n",
    "        min,max = self.set_bounds(x_train)\n",
    "\n",
    "        lin_model.fit(x_train,y_train)\n",
    "\n",
    "\n",
    "        m1,m2 = lin_model.coef_.tolist()[0]\n",
    "        b= lin_model.intercept_.tolist()[0]\n",
    "\n",
    "        return m1,m2,b,min,max\n",
    "    \n",
    "\n",
    "    \n",
    "    \n",
    "\n",
    "    \n",
    "    def optimized_suggestions(self):\n",
    "        model = ConcreteModel()\n",
    "        m1,m2,b,min,max = self.fit_lin()\n",
    "\n",
    "        def obj_time_for_1000(m):\n",
    "    \n",
    "            return 1000/m.x1 + 1000/m.x2 + 10\n",
    "        # # Define decision variables\n",
    "\n",
    "        model.x1 = Var(initialize= (min+max)/2, bounds = (min,max))\n",
    "        model.x2 = Var(initialize= (min+max)/2, bounds = (min,max))\n",
    "\n",
    "        model.obj = Objective(rule= obj_time_for_1000, sense=minimize)\n",
    "        \n",
    "        # Define constraints\n",
    "        model.constraints = ConstraintList()\n",
    "        model.constraints.add(expr= m1 * model.x1 + m2 * model.x2 + b <= 2.5)\n",
    "        model.constraints.add(expr= m1 * model.x1 + m2 * model.x2 + b >= -2.5)\n",
    "        model.constraints.add(expr= model.obj >= 10)\n",
    "\n",
    "        solver = SolverFactory('ipopt')\n",
    "        solver.solve(model)\n",
    "        \n",
    "        self._latest_suggestion = pd.DataFrame({'aspiration_rate':model.x1.value,'dispense_rate':model.x2.value}, index=[0])\n",
    "        \n",
    "        return self._latest_suggestion\n",
    "        \n",
    "\n",
    "        "
   ]
  },
  {
   "attachments": {},
   "cell_type": "markdown",
   "metadata": {},
   "source": [
    "## 3. Initialization of automated plarform"
   ]
  },
  {
   "cell_type": "code",
   "execution_count": null,
   "metadata": {},
   "outputs": [],
   "source": [
    "#Import relevant python packages\n",
    "import pandas as pd\n",
    "import time\n",
    "from matplotlib import pyplot as plt\n",
    "from pathlib import Path\n",
    "import sys\n",
    "REPOS = 'GitHub'\n",
    "ROOT = str(Path().absolute()).split(REPOS)[0]\n",
    "sys.path.append(f'{ROOT}{REPOS}')\n",
    "\n",
    "from polylectric.configs.SynthesisB1 import SETUP, LAYOUT_FILE\n",
    "\n",
    "from controllably import load_deck      # optional\n",
    "load_deck(SETUP.setup, LAYOUT_FILE)     # optional\n",
    "\n",
    "platform = SETUP\n",
    "platform.mover.verbose = False\n"
   ]
  },
  {
   "cell_type": "code",
   "execution_count": null,
   "metadata": {},
   "outputs": [],
   "source": [
    "#Initialization of variables for platfomr objects\n",
    "pipette= platform.setup\n",
    "deck = platform.setup.deck\n",
    "balance = platform.balance\n",
    "balance_deck = deck.slots['1']\n",
    "source = deck.slots['2']\n",
    "tip_rack = deck.slots['3']\n",
    "bin = deck.slots['4']\n",
    "pipette.mover.setSpeed(50)\n",
    "print(balance_deck)\n",
    "print(source)\n",
    "print(tip_rack)\n",
    "print(bin)"
   ]
  },
  {
   "cell_type": "code",
   "execution_count": null,
   "metadata": {},
   "outputs": [],
   "source": [
    "#Check if balance is connected\n",
    "balance.zero()\n",
    "balance.toggleRecord(True)\n",
    "time.sleep(5)\n",
    "print(balance.buffer_df.iloc[-1])\n",
    "balance.toggleRecord(False)"
   ]
  },
  {
   "cell_type": "code",
   "execution_count": null,
   "metadata": {},
   "outputs": [],
   "source": [
    "#Stablish initial height of liquid on the source vial\n",
    "pipette_name = 'rLine1000'\n",
    "liquid_level = 8"
   ]
  },
  {
   "attachments": {},
   "cell_type": "markdown",
   "metadata": {},
   "source": [
    "## 4. Guided IPOPT optimization\n",
    "i.   Create IPOPT_LiqTransfer object and load data set.\n",
    "\n",
    "Please set liquid name and volume to transfer according to the experiment."
   ]
  },
  {
   "cell_type": "code",
   "execution_count": null,
   "metadata": {},
   "outputs": [],
   "source": [
    "# Change according to experiment\n",
    "std = \"1275\"\n",
    "liquid_name = 'Viscosity_std_' + std \n",
    "density = 0.8466\n",
    "\n",
    "# Do not change\n",
    "liq = IPOPT_LiqTransfer(liquid_name)\n",
    "liq.data_from_csv(liquid_name+'_IPOPT_exp3.csv')\n",
    "liq._data"
   ]
  },
  {
   "cell_type": "code",
   "execution_count": null,
   "metadata": {},
   "outputs": [],
   "source": [
    "# Change according to experiment\n",
    "std = \"817\"\n",
    "liquid_name = 'Viscosity_std_' + std \n",
    "density = 0.8466\n",
    "\n",
    "# Do not change\n",
    "liq = IPOPT_LiqTransfer(liquid_name)\n",
    "liq.data_from_csv(parent_path+REPO+'\\Sartorious_experiments\\Initialisation_Data\\Initialisation_' + std +'.csv')\n",
    "liq._data"
   ]
  },
  {
   "attachments": {},
   "cell_type": "markdown",
   "metadata": {},
   "source": [
    "ii.   Run IPOPT_LiqTransfer.optimized_suggestions() method to obtain optimized aspiration and dispense rates."
   ]
  },
  {
   "cell_type": "code",
   "execution_count": null,
   "metadata": {},
   "outputs": [],
   "source": [
    "liq.optimized_suggestions()"
   ]
  },
  {
   "cell_type": "code",
   "execution_count": null,
   "metadata": {},
   "outputs": [],
   "source": [
    "liquids_dict = {\n",
    "  liquid_name :{\n",
    "        \"rLine1000\": {\n",
    "            \"aspiration_rate\": liq._latest_suggestion['aspiration_rate'][0], \n",
    "            \"dispense_rate\": liq._latest_suggestion['dispense_rate'][0], \n",
    "            \"blow_out\" : False, \n",
    "            \"delay_aspirate\" : 10, \n",
    "            \"delay_dispense\" : 10, \n",
    "            \"delay_blow_out\" : 0, \n",
    "            },\n",
    "    }\n",
    "\n",
    "}"
   ]
  },
  {
   "attachments": {},
   "cell_type": "markdown",
   "metadata": {},
   "source": [
    "iii. Run liquid transfer using the best suggestion for aspiration and dispense rates in OT2 notebook."
   ]
  },
  {
   "cell_type": "code",
   "execution_count": null,
   "metadata": {},
   "outputs": [],
   "source": [
    "volume = 300\n",
    "\n",
    "#Check if new tip is required\n",
    "pipette.mover.setSpeed(50)\n",
    "pipette.mover.setHandedness(False)\n",
    "\n",
    "if pipette.liquid.isTipOn()== False:\n",
    "    pipette.attachTip()\n",
    "\n",
    "#Transfer start\n",
    "start = time.time()\n",
    "\n",
    "#Aspirate step\n",
    "pipette.mover.safeMoveTo(source.wells['A1'].from_bottom((0,0,liquid_level-5)))\n",
    "pipette.liquid.aspirate(volume, speed=liquids_dict[liquid_name][pipette_name]['aspiration_rate'])\n",
    "time.sleep(liquids_dict[liquid_name][pipette_name]['delay_aspirate'])\n",
    "\n",
    "pipette.touchTip(source.wells['A1'])\n",
    "\n",
    "#Dispense step\n",
    "pipette.mover.safeMoveTo(balance_deck.wells['A1'].from_top((0,0,-5)))\n",
    "\n",
    "balance.tare()\n",
    "balance.clearCache()\n",
    "balance.toggleRecord(True)\n",
    "time.sleep(5)\n",
    "\n",
    "\n",
    "pipette.liquid.dispense(volume, speed=liquids_dict[liquid_name][pipette_name]['dispense_rate'])\n",
    "\n",
    "time.sleep(liquids_dict[liquid_name][pipette_name]['delay_dispense'])\n",
    "\n",
    "#Blowout step\n",
    "if liquids_dict[liquid_name][pipette_name]['blow_out'] == True:\n",
    "    pipette.liquid.blowout(home=False)\n",
    "    time.sleep(liquids_dict[liquid_name][pipette_name]['delay_blow_out'])\n",
    "\n",
    "#Transfer termination\n",
    "finish = time.time()\n",
    "time_m = finish - start\n",
    "\n",
    "pipette.mover.safeMoveTo(source.wells['A1'].top)\n",
    "time.sleep(5)\n",
    "balance.toggleRecord(False)\n",
    "if liquids_dict[liquid_name][pipette_name]['blow_out'] == True:\n",
    "    pipette.liquid.home()\n",
    "\n",
    "#Do blowout\n",
    "pipette.liquid.blowout(home=False)\n",
    "time.sleep(5)\n",
    "pipette.touchTip(source.wells['A1'])\n",
    "pipette.liquid.home()\n",
    "time.sleep(10)\n",
    "pipette.liquid.blowout(home=False)\n",
    "time.sleep(5)\n",
    "pipette.touchTip(source.wells['A1'])\n",
    "pipette.liquid.home()\n",
    "time.sleep(10)\n",
    "pipette.liquid.blowout(home=False)\n",
    "time.sleep(5)\n",
    "pipette.touchTip(source.wells['A1'])\n",
    "pipette.liquid.home()"
   ]
  },
  {
   "cell_type": "code",
   "execution_count": null,
   "metadata": {},
   "outputs": [],
   "source": [
    "#Graph plotting \n",
    "fig,axs = plt.subplots()\n",
    "\n",
    "axs.plot(balance.buffer_df['Time'],balance.buffer_df['Mass'])\n",
    "\n",
    "axs.set_xlabel('Time')\n",
    "axs.set_ylabel('Mass')\n",
    "\n",
    "plt.show()"
   ]
  },
  {
   "cell_type": "code",
   "execution_count": null,
   "metadata": {},
   "outputs": [],
   "source": [
    "#Record trasnfer values \n",
    "\n",
    "m = (balance.buffer_df.iloc[-10:,-1].mean()-balance.buffer_df.iloc[:10,-1].mean())/1000\n",
    "error = (m-density*volume/1000)/(density/1000*volume)*100\n",
    "\n",
    "#New dataframe\n",
    "df = pd.DataFrame(columns = ['liquid', 'pipette', 'volume', 'aspiration_rate', 'dispense_rate','blow_out', 'delay_aspirate', 'delay_dispense', 'delay_blow_out', 'density', 'time', 'm', '%error', 'Transfer_Observation', 'Comment'])\n",
    "df = df.astype({'liquid':str,'pipette':str,'blow_out':bool,'Transfer_Observation':str,'Comment':str})\n",
    "df = pd.concat([df,pd.DataFrame(liquids_dict[liquid_name][pipette_name],index=[0])],ignore_index=True)\n",
    "df.iloc[-1,-5] = time_m\n",
    "df.iloc[-1,2] = volume\n",
    "df.iloc[-1, 0] = liquid_name\n",
    "df.iloc[-1, 1] = pipette_name\n",
    "df.iloc[-1,-6] = density\n",
    "df.iloc[-1, -4] = m\n",
    "df.iloc[-1,-3]= error"
   ]
  },
  {
   "cell_type": "code",
   "execution_count": null,
   "metadata": {},
   "outputs": [],
   "source": [
    "#Update liquid level\n",
    "#liquid_level = liquid_level - 1*volume/1000\n",
    "liquid_level = liquid_level - 1.2*m/density"
   ]
  },
  {
   "cell_type": "code",
   "execution_count": null,
   "metadata": {},
   "outputs": [],
   "source": [
    "liquid_level "
   ]
  },
  {
   "cell_type": "code",
   "execution_count": null,
   "metadata": {},
   "outputs": [],
   "source": [
    "#Observe error made\n",
    "df.tail(20)"
   ]
  },
  {
   "cell_type": "code",
   "execution_count": null,
   "metadata": {},
   "outputs": [],
   "source": [
    "#Assign category of observation of transfer such as Incomplete Dispense, Incomplete Aspiration, \n",
    "#Incomplete Aspiration and Dispense, Complete Transfer. \n",
    "#Comment if any unexpected exprimental mistakes or changes were performed that have to be taken into account.\n",
    "df.iloc[-1,-2]= 'Complete Transfer'\n",
    "df.iloc[-1,-1]= 'Blowout before'"
   ]
  },
  {
   "attachments": {},
   "cell_type": "markdown",
   "metadata": {},
   "source": [
    "iv. Update latest %error obtained from the transfer using suggested aspiration and dispense rates."
   ]
  },
  {
   "cell_type": "code",
   "execution_count": null,
   "metadata": {},
   "outputs": [],
   "source": [
    "liq.update_data(error,volume)"
   ]
  },
  {
   "attachments": {},
   "cell_type": "markdown",
   "metadata": {},
   "source": [
    "v. Iterate through last two code cells."
   ]
  },
  {
   "cell_type": "code",
   "execution_count": null,
   "metadata": {},
   "outputs": [],
   "source": [
    "#save after each standard-experiment iteration\n",
    "liq._data.to_csv(liquid_name+'_IPOPT_exp3v1.csv', index = False)"
   ]
  },
  {
   "cell_type": "code",
   "execution_count": null,
   "metadata": {},
   "outputs": [],
   "source": [
    "pipette.ejectTipAt(bin.wells['A1'].top)\n",
    "pipette.mover.home()"
   ]
  },
  {
   "cell_type": "code",
   "execution_count": null,
   "metadata": {},
   "outputs": [],
   "source": [
    "pipette.liquid.eject()"
   ]
  },
  {
   "cell_type": "code",
   "execution_count": null,
   "metadata": {},
   "outputs": [],
   "source": [
    "pipette.mover.home()"
   ]
  },
  {
   "cell_type": "code",
   "execution_count": null,
   "metadata": {},
   "outputs": [],
   "source": [
    "pipette.mover.connect()"
   ]
  },
  {
   "cell_type": "code",
   "execution_count": null,
   "metadata": {},
   "outputs": [],
   "source": [
    "pipette.liquid.connect()"
   ]
  },
  {
   "cell_type": "code",
   "execution_count": null,
   "metadata": {},
   "outputs": [],
   "source": [
    "balance.connect()"
   ]
  },
  {
   "cell_type": "code",
   "execution_count": null,
   "metadata": {},
   "outputs": [],
   "source": []
  }
 ],
 "metadata": {
  "kernelspec": {
   "display_name": "base",
   "language": "python",
   "name": "python3"
  },
  "language_info": {
   "codemirror_mode": {
    "name": "ipython",
    "version": 3
   },
   "file_extension": ".py",
   "mimetype": "text/x-python",
   "name": "python",
   "nbconvert_exporter": "python",
   "pygments_lexer": "ipython3",
   "version": "3.11.1"
  },
  "orig_nbformat": 4
 },
 "nbformat": 4,
 "nbformat_minor": 2
}
