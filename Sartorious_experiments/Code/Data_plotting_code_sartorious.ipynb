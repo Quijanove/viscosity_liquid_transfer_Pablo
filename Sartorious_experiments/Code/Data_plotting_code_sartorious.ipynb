{
 "cells": [
  {
   "attachments": {},
   "cell_type": "markdown",
   "metadata": {},
   "source": [
    "# Sartorious experiments data-plotting code"
   ]
  },
  {
   "cell_type": "code",
   "execution_count": null,
   "metadata": {},
   "outputs": [],
   "source": [
    "# Importing python packages\n",
    "import matplotlib.pyplot as plt\n",
    "import pandas as pd\n",
    "import numpy as np\n",
    "import os \n",
    "\n",
    "# Importing files\n",
    "std = '204'\n",
    "folder = (r\"C:\\Users\\admin\\Documents\\GitHub\\viscosity_liquid_transfer_Pablo\\Sartorious_experiments\\Cleaned_Data\")\n",
    "\n",
    "df_cal = pd.read_csv(folder+r'/Viscosity_std_'+std+'_modified.csv')\n",
    "\n",
    "df_cal\n"
   ]
  },
  {
   "attachments": {},
   "cell_type": "markdown",
   "metadata": {},
   "source": [
    "#### Making a scatterplot"
   ]
  },
  {
   "cell_type": "code",
   "execution_count": null,
   "metadata": {},
   "outputs": [],
   "source": [
    "# Making subplots (2 rows, 1 column)\n",
    "fig,axs = plt.subplots(2,1)\n",
    "\n",
    "# Dropping NAN rows\n",
    "df_cal_1000 = df_cal.where(df_cal.volume==1000).dropna(how='all')\n",
    "df_cal_500 = df_cal.where(df_cal.volume==500).dropna(how='all')\n",
    "df_cal_300 = df_cal.where(df_cal.volume==300).dropna(how='all')\n",
    "df_cal_100 = df_cal.where(df_cal.volume==100).dropna(how='all')\n",
    "\n",
    "# Plotting graph 1: Iteration against error\n",
    "axs[0].scatter(df_cal_1000['iteration'],df_cal_1000['%error'], marker= 'x', label = '1000', c = 'red')\n",
    "axs[0].scatter(df_cal_500['iteration'],df_cal_500['%error'], marker= 'x', label = '500', c = 'green')\n",
    "axs[0].scatter(df_cal_300['iteration'],df_cal_300['%error'], marker= 'x', label = '300', c = 'blue')\n",
    "axs[0].scatter(df_cal_100['iteration'],df_cal_100['%error'], marker= 'x', label = '100', c = 'grey')\n",
    "\n",
    "# Setting graph 1 labels\n",
    "axs[0].set_xlabel('Iteration')\n",
    "axs[0].set_ylabel('Error [%]')\n",
    "\n",
    "# Plotting graph 2: Iteration against Time\n",
    "axs[1].scatter(df_cal_1000['iteration'],df_cal_1000['time_for_1000'], marker= 'x', c = 'red')\n",
    "\n",
    "# Setting graph 2 labels\n",
    "axs[1].set_xlabel('Iteration')\n",
    "axs[1].set_ylabel('Time for 1000ul (s)')\n",
    "\n",
    "#Formatting subplots\n",
    "fig.set_size_inches(15, 8)\n",
    "fig.suptitle('Viscosity_std_'+std+'_'+'random_initialisation')\n",
    "axs[0].legend(bbox_to_anchor=(1.1, 1.05))\n",
    "fig.tight_layout()\n",
    "\n",
    "folder = folder = (r\"C:\\Users\\admin\\Documents\\GitHub\\viscosity_liquid_transfer_Pablo\\Sartorious_experiments\\Finalised_Data\")\n",
    "fig.savefig(folder+r'/'+'Viscosity_std_'+std+'_scatter.png')\n",
    "\n"
   ]
  },
  {
   "cell_type": "code",
   "execution_count": null,
   "metadata": {},
   "outputs": [],
   "source": [
    "#Making subplots (2 rows, 1 column)\n",
    "fig,axs = plt.subplots(2,1)\n",
    "\n",
    "# Dropping NAN rows\n",
    "df_cal_1000 = df_cal.where(df_cal.volume==1000).dropna(how='all')\n",
    "df_cal_500 = df_cal.where(df_cal.volume==500).dropna(how='all')\n",
    "df_cal_300 = df_cal.where(df_cal.volume==300).dropna(how='all')\n",
    "df_cal_100 = df_cal.where(df_cal.volume==100).dropna(how='all')\n",
    "\n",
    "# Plotting graph 1: Iteration against error\n",
    "axs[0].plot(df_cal_1000['iteration'],df_cal_1000['%error'], marker= 'x', label = '1000', c = 'red')\n",
    "axs[0].plot(df_cal_500['iteration'],df_cal_500['%error'], marker= 'x', label = '500', c = 'green')\n",
    "axs[0].plot(df_cal_300['iteration'],df_cal_300['%error'], marker= 'x', label = '300', c = 'blue')\n",
    "axs[0].plot(df_cal_100['iteration'],df_cal_100['%error'], marker= 'x', label = '100', c = 'grey')\n",
    "\n",
    "axs[0].set_xlabel('Iteration')\n",
    "axs[0].set_ylabel('Error [%]')\n",
    "\n",
    "axs[1].plot(df_cal_1000['iteration'],df_cal_1000['time_for_1000'], marker= 'x', c = 'red')\n",
    "\n",
    "axs[1].set_xlabel('Iteration')\n",
    "axs[1].set_ylabel('Time for 1000ul (s)')\n",
    "\n",
    "fig.set_size_inches(15, 8)\n",
    "fig.suptitle('Viscosity_std_'+std+'_'+'random_initialisation')\n",
    "axs[0].legend(bbox_to_anchor=(1.1, 1.05))\n",
    "fig.tight_layout()\n",
    "\n",
    "folder = folder = (r\"C:\\Users\\admin\\Documents\\GitHub\\viscosity_liquid_transfer_Pablo\\Sartorious_experiments\\Finalised_Data\")\n",
    "fig.savefig(folder+r'/'+'Viscosity_std_'+std+'_line.png')\n"
   ]
  },
  {
   "cell_type": "code",
   "execution_count": null,
   "metadata": {},
   "outputs": [],
   "source": []
  }
 ],
 "metadata": {
  "kernelspec": {
   "display_name": "Python 3",
   "language": "python",
   "name": "python3"
  },
  "language_info": {
   "codemirror_mode": {
    "name": "ipython",
    "version": 3
   },
   "file_extension": ".py",
   "mimetype": "text/x-python",
   "name": "python",
   "nbconvert_exporter": "python",
   "pygments_lexer": "ipython3",
   "version": "3.11.1"
  },
  "orig_nbformat": 4
 },
 "nbformat": 4,
 "nbformat_minor": 2
}
