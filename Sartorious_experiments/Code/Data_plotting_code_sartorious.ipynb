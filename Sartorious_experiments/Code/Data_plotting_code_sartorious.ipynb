{
 "cells": [
  {
   "attachments": {},
   "cell_type": "markdown",
   "metadata": {},
   "source": [
    "# Sartorious experiments data-plotting code"
   ]
  },
  {
   "cell_type": "code",
   "execution_count": null,
   "metadata": {},
   "outputs": [],
   "source": [
    "# Importing python packages\n",
    "import matplotlib.pyplot as plt\n",
    "import pandas as pd\n",
    "import numpy as np\n",
    "import os \n",
    "\n",
    "# Importing files\n",
    "std = '204'\n",
    "\n",
    "folder1 = (r\"C:\\Users\\admin\\Documents\\GitHub\\viscosity_liquid_transfer_Pablo\\Sartorious_experiments\\Cleaned_Data\")\n",
    "df_man = pd.read_csv(folder1+r'/Viscosity_std_'+std+'_modified.csv')\n",
    "\n",
    "df_exp2 = pd.read_csv(folder1+r'/Viscosity_std_'+std+'_exp2_modified.csv')\n",
    "\n",
    "df_exp3 = pd.read_csv(folder1+r'/Viscosity_std_'+std+'_exp3_modified.csv')\n"
   ]
  },
  {
   "attachments": {},
   "cell_type": "markdown",
   "metadata": {},
   "source": [
    "#### Line plot for manual calibration alone"
   ]
  },
  {
   "cell_type": "code",
   "execution_count": null,
   "metadata": {},
   "outputs": [],
   "source": [
    "#Making subplots (2 rows, 1 column)\n",
    "fig,axs = plt.subplots(2,1)\n",
    "\n",
    "# Dropping NAN rows\n",
    "df_man_1000 = df_man.where(df_man.volume==1000).dropna(how='all')\n",
    "df_man_500 = df_man.where(df_man.volume==500).dropna(how='all')\n",
    "df_man_300 = df_man.where(df_man.volume==300).dropna(how='all')\n",
    "df_man_100 = df_man.where(df_man.volume==100).dropna(how='all')\n",
    "\n",
    "# Plotting graph 1: Iteration against error\n",
    "if len(df_man_1000) != 0:\n",
    "    axs[0].scatter(df_man_1000['iteration'],df_man_1000['%error'], marker= 'x', label = '1000', c = 'red')\n",
    "if len(df_man_500) != 0:\n",
    "    axs[0].scatter(df_man_500['iteration'],df_man_500['%error'], marker= 'x', label = '500', c = 'green')\n",
    "if len(df_man_300) != 0:\n",
    "    axs[0].scatter(df_man_300['iteration'],df_man_300['%error'], marker= 'x', label = '300', c = 'blue')\n",
    "if len(df_man_100) != 0:\n",
    "    axs[0].scatter(df_man_100['iteration'],df_man_100['%error'], marker= 'x', label = '100', c = 'grey')\n",
    "\n",
    "if len(df_man_1000) != 0:\n",
    "    axs[0].plot(df_man_1000['iteration'],df_man_1000['%error'], label = 'Manual Calibration', c = 'magenta')\n",
    "if len(df_man_500) != 0:\n",
    "    axs[0].plot(df_man_500['iteration'],df_man_500['%error'], c = 'magenta')\n",
    "if len(df_man_300) != 0:\n",
    "    axs[0].plot(df_man_300['iteration'],df_man_300['%error'], c = 'magenta')\n",
    "if len(df_man_100) != 0:\n",
    "    axs[0].plot(df_man_100['iteration'],df_man_100['%error'], c = 'magenta')\n",
    "\n",
    "axs[0].axhline(y=0, ls = '--', color = 'black', linewidth=0.5)\n",
    "axs[0].axhline(y=5, ls = '--', color = 'black', linewidth=0.5)\n",
    "axs[0].axhline(y=-5, ls = '--', color = 'black', linewidth=0.5)\n",
    "\n",
    "axs[0].set_xlabel('Iteration')\n",
    "axs[0].set_ylabel('Error [%]')\n",
    "\n",
    "axs[1].plot(df_man_1000['iteration'],df_man_1000['time_for_1000'], marker= 'x', label = 'Human Driven ', c = 'magenta')\n",
    "\n",
    "axs[1].set_xlabel('Iteration')\n",
    "axs[1].set_ylabel('Time for 1000ul (s)')\n",
    "\n",
    "fig.set_size_inches(15, 8)\n",
    "fig.suptitle('Viscosity_std_'+std+'_'+'random_initialisation')\n",
    "axs[0].legend(bbox_to_anchor=(1.1, 1.05))\n",
    "fig.tight_layout()\n",
    "\n",
    "folder = folder = (r\"C:\\Users\\admin\\Documents\\GitHub\\viscosity_liquid_transfer_Pablo\\Sartorious_experiments\\Finalised_Data\")\n",
    "fig.savefig(folder+r'/'+'Viscosity_std_'+std+'_line.png')\n"
   ]
  },
  {
   "attachments": {},
   "cell_type": "markdown",
   "metadata": {},
   "source": [
    "#### Line plot for manual calibration + BOTorch experiment 2 (no mean)"
   ]
  },
  {
   "cell_type": "code",
   "execution_count": null,
   "metadata": {},
   "outputs": [],
   "source": []
  },
  {
   "attachments": {},
   "cell_type": "markdown",
   "metadata": {},
   "source": [
    "#### Line plot for manual calibration + BOTorch experiment 3 (mean)"
   ]
  },
  {
   "cell_type": "code",
   "execution_count": null,
   "metadata": {},
   "outputs": [],
   "source": []
  }
 ],
 "metadata": {
  "kernelspec": {
   "display_name": "Python 3",
   "language": "python",
   "name": "python3"
  },
  "language_info": {
   "codemirror_mode": {
    "name": "ipython",
    "version": 3
   },
   "file_extension": ".py",
   "mimetype": "text/x-python",
   "name": "python",
   "nbconvert_exporter": "python",
   "pygments_lexer": "ipython3",
   "version": "3.11.1"
  },
  "orig_nbformat": 4
 },
 "nbformat": 4,
 "nbformat_minor": 2
}
