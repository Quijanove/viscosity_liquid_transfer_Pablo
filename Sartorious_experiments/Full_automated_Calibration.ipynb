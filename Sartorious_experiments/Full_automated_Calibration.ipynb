{
 "cells": [
  {
   "cell_type": "code",
   "execution_count": null,
   "metadata": {},
   "outputs": [],
   "source": [
    "from datetime import datetime, date\n",
    "import os\n",
    "import time\n",
    "import pandas as pd\n",
    "from scipy import signal\n",
    "from matplotlib import pyplot as plt\n",
    "\n"
   ]
  },
  {
   "cell_type": "code",
   "execution_count": null,
   "metadata": {},
   "outputs": [],
   "source": [
    "#%%This cell can be used to measure the mass change profiles when you aspirate a liquid at different speed rates.\n",
    "#The run is automatically stopped when the mass change derivative is close to 0\n",
    "folder = r'C:\\Users\\quijanovelascop\\OneDrive - A STAR\\Documents\\Viscous_liquids\\Sartorious\\Mass_balance_flow_Rate\\Calibration'\n",
    "today = date.today()\n",
    "today = today.strftime(\"%Y-%m-%d\")\n",
    "now = datetime.now(tz=None)\n",
    "now = now.strftime(\"%H-%M-%S\")\n",
    "if  not os.path.exists(folder+'\\\\'+today):\n",
    "    os.mkdir(folder+'\\\\'+today)\n",
    "folder = folder+'\\\\'+today\n",
    "\n",
    "speed =  265\n",
    "volume=1000\n",
    "liquid_name = 'Viscosity_std_505'\n",
    "filename = folder + '/' +'/'+ today + \"_\" + now[:-3] + '_' +liquid_name+'_'+str(speed).replace('.','_') + \".csv\"\n",
    "\n",
    "if mover.getToolPosition()[0] != balance_deck.wells['A1'].from_top((0,0,-10)):\n",
    "    mover.safeMoveTo(balance_deck.wells['A1'].from_top((0,0,-10)),descent_speed_fraction=0.25)\n",
    "\n",
    "time.sleep(5)\n",
    "balance.zero(wait=5)\n",
    "balance.clearCache()\n",
    "balance.toggleRecord(on=True)\n",
    "time.sleep(15)\n",
    "liquid.aspirate(volume, speed=speed)\n",
    "while True:\n",
    "    data = balance.buffer_df\n",
    "    data['Mass_smooth']= signal.savgol_filter(data['Mass'],91,1)\n",
    "    data['Mass_derivative_smooth']=data['Mass_smooth'].diff()\n",
    "    condition=data['Mass_derivative_smooth'].rolling(30).mean().iloc[-1]\n",
    "    if condition>-0.05:\n",
    "        break\n",
    "print('loop stopped')\n",
    "time.sleep(10)\n",
    "mover.setSpeed(50)\n",
    "mover.moveTo(balance_deck.wells['A1'].from_top((0,0,10)))\n",
    "liquid.dispense(1000, speed=20)\n",
    "time.sleep(10)\n",
    "balance.toggleRecord(on=False)\n",
    "balance.buffer_df.to_csv(filename)"
   ]
  },
  {
   "cell_type": "code",
   "execution_count": null,
   "metadata": {},
   "outputs": [],
   "source": [
    "from scipy.optimize import curve_fit\n",
    "def sigmoid(x, L ,x0, k, b):\n",
    "    y = L / (1 + np.exp(-k*(x-x0))) + b\n",
    "    return (y)\n",
    "\n",
    "for file in files_dict.keys():\n",
    "\n",
    "    xdata = files_dict[file].where(files_dict[file]['ts']>15).dropna()['ts']\n",
    "    ydata = files_dict[file].where(files_dict[file]['ts']>15).dropna()['Mass']\n",
    "\n",
    "    p0 = [max(ydata)+30, np.median(xdata),1,min(ydata)] # this is an mandatory initial guess\n",
    "    print(p0)\n",
    "\n",
    "    popt, pcov = curve_fit(sigmoid, xdata, ydata,p0)\n",
    "\n",
    "    yfit = sigmoid(xdata,popt[0],popt[1],popt[2],popt[3])\n",
    "\n",
    "    fig,axs = plt.subplots(2)\n",
    "    axs[0].plot(xdata,ydata,color = 'red', label=file.split('_265')[0][17:])\n",
    "    axs[0].plot(xdata,yfit,color = 'blue', label= 'sigmoid fit')\n",
    "    axs[0].legend()\n",
    "    axs[1].plot(xdata,yfit.diff(),color = 'green', label= 'fit derivative')\n",
    "    axs[1].legend()"
   ]
  }
 ],
 "metadata": {
  "kernelspec": {
   "display_name": "base",
   "language": "python",
   "name": "python3"
  },
  "language_info": {
   "name": "python",
   "version": "3.9.7"
  },
  "orig_nbformat": 4
 },
 "nbformat": 4,
 "nbformat_minor": 2
}
